{
 "cells": [
  {
   "cell_type": "code",
   "execution_count": 9,
   "metadata": {},
   "outputs": [],
   "source": [
    "import pandas as pd\n",
    "import numpy as np\n",
    "from statsmodels.tsa.vector_ar.var_model import VAR\n",
    "from statsmodels.tools.eval_measures import rmse\n",
    "from sklearn.metrics import mean_absolute_percentage_error\n",
    "import matplotlib.pyplot as plt\n",
    "from pmdarima import auto_arima"
   ]
  },
  {
   "cell_type": "code",
   "execution_count": 10,
   "metadata": {},
   "outputs": [
    {
     "name": "stdout",
     "output_type": "stream",
     "text": [
      "\n",
      "Data types in 'gdp' dataframe:\n",
      "Time     datetime64[ns]\n",
      "Value           float64\n",
      "dtype: object\n"
     ]
    }
   ],
   "source": [
    "# Run the stored data from the Data_Preparation.ipynb\n",
    "%run ..//Data_Preparation.ipynb"
   ]
  },
  {
   "cell_type": "code",
   "execution_count": 11,
   "metadata": {},
   "outputs": [],
   "source": [
    "#Using the period 1990-2019 for training and 2020-2023 for testing\n",
    "gdp_train = gdp[(gdp['Time'] >= '1990-01-01') & (gdp['Time'] < '2020-01-01')]\n",
    "\n",
    "gdp_test = gdp[(gdp['Time'] >= '2020-01-01') & (gdp['Time'] < '2024-01-01')]"
   ]
  },
  {
   "cell_type": "code",
   "execution_count": 12,
   "metadata": {},
   "outputs": [
    {
     "name": "stdout",
     "output_type": "stream",
     "text": [
      "          Time  Value\n",
      "0   1990-01-01  210.2\n",
      "1   1990-04-01  218.1\n",
      "2   1990-07-01  209.5\n",
      "3   1990-10-01  217.8\n",
      "4   1991-01-01  220.2\n",
      "..         ...    ...\n",
      "115 2018-10-01  585.2\n",
      "116 2019-01-01  555.8\n",
      "117 2019-04-01  583.2\n",
      "118 2019-07-01  574.4\n",
      "119 2019-10-01  597.6\n",
      "\n",
      "[120 rows x 2 columns]\n"
     ]
    }
   ],
   "source": [
    "print(gdp_train)\n"
   ]
  },
  {
   "cell_type": "code",
   "execution_count": 13,
   "metadata": {},
   "outputs": [
    {
     "name": "stdout",
     "output_type": "stream",
     "text": [
      "Performing stepwise search to minimize aic\n",
      " ARIMA(1,1,1)(0,0,0)[0] intercept   : AIC=818.127, Time=0.09 sec\n",
      " ARIMA(0,1,0)(0,0,0)[0] intercept   : AIC=997.679, Time=0.01 sec\n",
      " ARIMA(1,1,0)(0,0,0)[0] intercept   : AIC=869.547, Time=0.03 sec\n",
      " ARIMA(0,1,1)(0,0,0)[0] intercept   : AIC=917.729, Time=0.05 sec\n",
      " ARIMA(0,1,0)(0,0,0)[0]             : AIC=1000.663, Time=0.01 sec\n",
      " ARIMA(2,1,1)(0,0,0)[0] intercept   : AIC=819.998, Time=0.14 sec\n",
      " ARIMA(1,1,2)(0,0,0)[0] intercept   : AIC=818.089, Time=0.12 sec\n",
      " ARIMA(0,1,2)(0,0,0)[0] intercept   : AIC=900.845, Time=0.07 sec\n",
      " ARIMA(2,1,2)(0,0,0)[0] intercept   : AIC=812.889, Time=0.18 sec\n",
      " ARIMA(3,1,2)(0,0,0)[0] intercept   : AIC=775.668, Time=0.19 sec\n",
      " ARIMA(3,1,1)(0,0,0)[0] intercept   : AIC=778.577, Time=0.19 sec\n",
      " ARIMA(3,1,3)(0,0,0)[0] intercept   : AIC=755.206, Time=0.37 sec\n",
      " ARIMA(2,1,3)(0,0,0)[0] intercept   : AIC=795.986, Time=0.23 sec\n",
      " ARIMA(3,1,3)(0,0,0)[0]             : AIC=795.047, Time=0.36 sec\n",
      "\n",
      "Best model:  ARIMA(3,1,3)(0,0,0)[0] intercept\n",
      "Total fit time: 2.073 seconds\n"
     ]
    },
    {
     "data": {
      "text/html": [
       "<table class=\"simpletable\">\n",
       "<caption>SARIMAX Results</caption>\n",
       "<tr>\n",
       "  <th>Dep. Variable:</th>           <td>y</td>        <th>  No. Observations:  </th>    <td>120</td>  \n",
       "</tr>\n",
       "<tr>\n",
       "  <th>Model:</th>           <td>SARIMAX(3, 1, 3)</td> <th>  Log Likelihood     </th> <td>-369.603</td>\n",
       "</tr>\n",
       "<tr>\n",
       "  <th>Date:</th>            <td>Mon, 06 May 2024</td> <th>  AIC                </th>  <td>755.206</td>\n",
       "</tr>\n",
       "<tr>\n",
       "  <th>Time:</th>                <td>16:06:50</td>     <th>  BIC                </th>  <td>777.439</td>\n",
       "</tr>\n",
       "<tr>\n",
       "  <th>Sample:</th>                  <td>0</td>        <th>  HQIC               </th>  <td>764.234</td>\n",
       "</tr>\n",
       "<tr>\n",
       "  <th></th>                      <td> - 120</td>      <th>                     </th>     <td> </td>   \n",
       "</tr>\n",
       "<tr>\n",
       "  <th>Covariance Type:</th>        <td>opg</td>       <th>                     </th>     <td> </td>   \n",
       "</tr>\n",
       "</table>\n",
       "<table class=\"simpletable\">\n",
       "<tr>\n",
       "      <td></td>         <th>coef</th>     <th>std err</th>      <th>z</th>      <th>P>|z|</th>  <th>[0.025</th>    <th>0.975]</th>  \n",
       "</tr>\n",
       "<tr>\n",
       "  <th>intercept</th> <td>   12.7135</td> <td>    1.870</td> <td>    6.799</td> <td> 0.000</td> <td>    9.049</td> <td>   16.378</td>\n",
       "</tr>\n",
       "<tr>\n",
       "  <th>ar.L1</th>     <td>   -1.0387</td> <td>    0.025</td> <td>  -41.535</td> <td> 0.000</td> <td>   -1.088</td> <td>   -0.990</td>\n",
       "</tr>\n",
       "<tr>\n",
       "  <th>ar.L2</th>     <td>   -1.0193</td> <td>    0.033</td> <td>  -31.166</td> <td> 0.000</td> <td>   -1.083</td> <td>   -0.955</td>\n",
       "</tr>\n",
       "<tr>\n",
       "  <th>ar.L3</th>     <td>   -0.9771</td> <td>    0.025</td> <td>  -39.824</td> <td> 0.000</td> <td>   -1.025</td> <td>   -0.929</td>\n",
       "</tr>\n",
       "<tr>\n",
       "  <th>ma.L1</th>     <td>    0.8979</td> <td>    0.095</td> <td>    9.452</td> <td> 0.000</td> <td>    0.712</td> <td>    1.084</td>\n",
       "</tr>\n",
       "<tr>\n",
       "  <th>ma.L2</th>     <td>    0.8918</td> <td>    0.095</td> <td>    9.378</td> <td> 0.000</td> <td>    0.705</td> <td>    1.078</td>\n",
       "</tr>\n",
       "<tr>\n",
       "  <th>ma.L3</th>     <td>    0.6534</td> <td>    0.086</td> <td>    7.571</td> <td> 0.000</td> <td>    0.484</td> <td>    0.823</td>\n",
       "</tr>\n",
       "<tr>\n",
       "  <th>sigma2</th>    <td>   27.7391</td> <td>    3.332</td> <td>    8.326</td> <td> 0.000</td> <td>   21.209</td> <td>   34.269</td>\n",
       "</tr>\n",
       "</table>\n",
       "<table class=\"simpletable\">\n",
       "<tr>\n",
       "  <th>Ljung-Box (L1) (Q):</th>     <td>0.05</td> <th>  Jarque-Bera (JB):  </th> <td>16.61</td>\n",
       "</tr>\n",
       "<tr>\n",
       "  <th>Prob(Q):</th>                <td>0.82</td> <th>  Prob(JB):          </th> <td>0.00</td> \n",
       "</tr>\n",
       "<tr>\n",
       "  <th>Heteroskedasticity (H):</th> <td>1.29</td> <th>  Skew:              </th> <td>-0.63</td>\n",
       "</tr>\n",
       "<tr>\n",
       "  <th>Prob(H) (two-sided):</th>    <td>0.43</td> <th>  Kurtosis:          </th> <td>4.32</td> \n",
       "</tr>\n",
       "</table><br/><br/>Warnings:<br/>[1] Covariance matrix calculated using the outer product of gradients (complex-step)."
      ],
      "text/latex": [
       "\\begin{center}\n",
       "\\begin{tabular}{lclc}\n",
       "\\toprule\n",
       "\\textbf{Dep. Variable:}          &        y         & \\textbf{  No. Observations:  } &    120      \\\\\n",
       "\\textbf{Model:}                  & SARIMAX(3, 1, 3) & \\textbf{  Log Likelihood     } &  -369.603   \\\\\n",
       "\\textbf{Date:}                   & Mon, 06 May 2024 & \\textbf{  AIC                } &  755.206    \\\\\n",
       "\\textbf{Time:}                   &     16:06:50     & \\textbf{  BIC                } &  777.439    \\\\\n",
       "\\textbf{Sample:}                 &        0         & \\textbf{  HQIC               } &  764.234    \\\\\n",
       "\\textbf{}                        &       - 120      & \\textbf{                     } &             \\\\\n",
       "\\textbf{Covariance Type:}        &       opg        & \\textbf{                     } &             \\\\\n",
       "\\bottomrule\n",
       "\\end{tabular}\n",
       "\\begin{tabular}{lcccccc}\n",
       "                   & \\textbf{coef} & \\textbf{std err} & \\textbf{z} & \\textbf{P$> |$z$|$} & \\textbf{[0.025} & \\textbf{0.975]}  \\\\\n",
       "\\midrule\n",
       "\\textbf{intercept} &      12.7135  &        1.870     &     6.799  &         0.000        &        9.049    &       16.378     \\\\\n",
       "\\textbf{ar.L1}     &      -1.0387  &        0.025     &   -41.535  &         0.000        &       -1.088    &       -0.990     \\\\\n",
       "\\textbf{ar.L2}     &      -1.0193  &        0.033     &   -31.166  &         0.000        &       -1.083    &       -0.955     \\\\\n",
       "\\textbf{ar.L3}     &      -0.9771  &        0.025     &   -39.824  &         0.000        &       -1.025    &       -0.929     \\\\\n",
       "\\textbf{ma.L1}     &       0.8979  &        0.095     &     9.452  &         0.000        &        0.712    &        1.084     \\\\\n",
       "\\textbf{ma.L2}     &       0.8918  &        0.095     &     9.378  &         0.000        &        0.705    &        1.078     \\\\\n",
       "\\textbf{ma.L3}     &       0.6534  &        0.086     &     7.571  &         0.000        &        0.484    &        0.823     \\\\\n",
       "\\textbf{sigma2}    &      27.7391  &        3.332     &     8.326  &         0.000        &       21.209    &       34.269     \\\\\n",
       "\\bottomrule\n",
       "\\end{tabular}\n",
       "\\begin{tabular}{lclc}\n",
       "\\textbf{Ljung-Box (L1) (Q):}     & 0.05 & \\textbf{  Jarque-Bera (JB):  } & 16.61  \\\\\n",
       "\\textbf{Prob(Q):}                & 0.82 & \\textbf{  Prob(JB):          } &  0.00  \\\\\n",
       "\\textbf{Heteroskedasticity (H):} & 1.29 & \\textbf{  Skew:              } & -0.63  \\\\\n",
       "\\textbf{Prob(H) (two-sided):}    & 0.43 & \\textbf{  Kurtosis:          } &  4.32  \\\\\n",
       "\\bottomrule\n",
       "\\end{tabular}\n",
       "%\\caption{SARIMAX Results}\n",
       "\\end{center}\n",
       "\n",
       "Warnings: \\newline\n",
       " [1] Covariance matrix calculated using the outer product of gradients (complex-step)."
      ],
      "text/plain": [
       "<class 'statsmodels.iolib.summary.Summary'>\n",
       "\"\"\"\n",
       "                               SARIMAX Results                                \n",
       "==============================================================================\n",
       "Dep. Variable:                      y   No. Observations:                  120\n",
       "Model:               SARIMAX(3, 1, 3)   Log Likelihood                -369.603\n",
       "Date:                Mon, 06 May 2024   AIC                            755.206\n",
       "Time:                        16:06:50   BIC                            777.439\n",
       "Sample:                             0   HQIC                           764.234\n",
       "                                - 120                                         \n",
       "Covariance Type:                  opg                                         \n",
       "==============================================================================\n",
       "                 coef    std err          z      P>|z|      [0.025      0.975]\n",
       "------------------------------------------------------------------------------\n",
       "intercept     12.7135      1.870      6.799      0.000       9.049      16.378\n",
       "ar.L1         -1.0387      0.025    -41.535      0.000      -1.088      -0.990\n",
       "ar.L2         -1.0193      0.033    -31.166      0.000      -1.083      -0.955\n",
       "ar.L3         -0.9771      0.025    -39.824      0.000      -1.025      -0.929\n",
       "ma.L1          0.8979      0.095      9.452      0.000       0.712       1.084\n",
       "ma.L2          0.8918      0.095      9.378      0.000       0.705       1.078\n",
       "ma.L3          0.6534      0.086      7.571      0.000       0.484       0.823\n",
       "sigma2        27.7391      3.332      8.326      0.000      21.209      34.269\n",
       "===================================================================================\n",
       "Ljung-Box (L1) (Q):                   0.05   Jarque-Bera (JB):                16.61\n",
       "Prob(Q):                              0.82   Prob(JB):                         0.00\n",
       "Heteroskedasticity (H):               1.29   Skew:                            -0.63\n",
       "Prob(H) (two-sided):                  0.43   Kurtosis:                         4.32\n",
       "===================================================================================\n",
       "\n",
       "Warnings:\n",
       "[1] Covariance matrix calculated using the outer product of gradients (complex-step).\n",
       "\"\"\""
      ]
     },
     "execution_count": 13,
     "metadata": {},
     "output_type": "execute_result"
    }
   ],
   "source": [
    "#Resetting the index\n",
    "gdp_train.reset_index(drop=True, inplace=True)\n",
    "\n",
    "#Fit auto_arima function to the data\n",
    "arimax_model = auto_arima(gdp_train['Value'], \n",
    "                          start_p=1, start_q=1,\n",
    "                          max_p=3, max_q=3, \n",
    "                          seasonal=False,\n",
    "                          trace=True, error_action='ignore', suppress_warnings=True, stepwise=True)\n",
    "\n",
    "# Print the summary of the model\n",
    "arimax_model.summary()"
   ]
  },
  {
   "cell_type": "code",
   "execution_count": 14,
   "metadata": {},
   "outputs": [
    {
     "data": {
      "image/png": "[encoded data removed]",
      "text/plain": [
       "<Figure size 1440x720 with 1 Axes>"
      ]
     },
     "metadata": {
      "needs_background": "light"
     },
     "output_type": "display_data"
    }
   ],
   "source": [
    "# Forecast the GDP values\n",
    "forecast = arimax_model.predict(n_periods=16)\n",
    "\n",
    "# Get the forecasted values\n",
    "forecast_values = forecast.tolist()\n",
    "\n",
    "# Plotting historic GDP and forecasted GDP\n",
    "plt.figure(figsize=(20,10))\n",
    "plt.plot(gdp_train['Time'].to_numpy(), gdp_train['Value'].to_numpy(), label='Train GDP')\n",
    "plt.plot(gdp_test['Time'].to_numpy(), forecast_values, color='red', label='Forecasted GDP')\n",
    "plt.plot(gdp_test['Time'].to_numpy(), gdp_test['Value'].to_numpy(), label='Actual GDP')\n",
    "\n",
    "# Set the title and labels\n",
    "plt.title('Historic and Forecasted GDP')\n",
    "plt.xlabel('Time')\n",
    "plt.ylabel('GDP')\n",
    "\n",
    "# Add a legend\n",
    "plt.legend()\n",
    "\n",
    "# Display the plot\n",
    "plt.show()"
   ]
  },
  {
   "cell_type": "code",
   "execution_count": 15,
   "metadata": {},
   "outputs": [
    {
     "name": "stdout",
     "output_type": "stream",
     "text": [
      "The RMSE is 61.80483239377497\n",
      "The MAPE is 7.389131631641938\n"
     ]
    }
   ],
   "source": [
    "#Comparing the forecasted values with the actual values trough RMSE and MAPE\n",
    "# Calculate the RMSE\n",
    "rmse_value = rmse(gdp_test['Value'], forecast_values)\n",
    "#Calculate the MAPE\n",
    "mape_value = mean_absolute_percentage_error(gdp_test['Value'], forecast_values) * 100 #Multiplying by 100 to get the percentage\n",
    "\n",
    "# Print the RMSE\n",
    "print(\"The RMSE is\", rmse_value)\n",
    "# Print the MAPE\n",
    "print(\"The MAPE is\", mape_value)\n"
   ]
  },
  {
   "cell_type": "code",
   "execution_count": 16,
   "metadata": {},
   "outputs": [],
   "source": [
    "import os\n",
    "import json\n",
    "\n",
    "#Define the evaluation metric name for this model\n",
    "metric_name = \"Multi_UniVar_Post_ARIMAX\"\n",
    "\n",
    "# Create a dictionary with the MAPE value\n",
    "\n",
    "# Get the current directory\n",
    "current_dir = os.getcwd()\n",
    "\n",
    "# Navigate to the directory where mape_values.json is located\n",
    "json_dir = os.path.abspath(os.path.join(current_dir, '..', '..', '..', 'mape_values.json'))\n",
    "\n",
    "# Check if the file exists and is not empty\n",
    "if os.path.exists(json_dir) and os.path.getsize(json_dir) > 0:\n",
    "    # Load the .json file that stores the MAPE results\n",
    "    with open(json_dir, 'r') as file:\n",
    "        data = json.load(file)\n",
    "else:\n",
    "    data = {}\n",
    "\n",
    "# Add the MAPE value to the dictionary with a corresponding key\n",
    "data[metric_name] = mape_value\n",
    "\n",
    "# Write the MAPE value to the .json file\n",
    "with open(json_dir, 'w') as file:\n",
    "    json.dump(data, file, indent=4)\n",
    "\n",
    "# Create a dictionary with the RMSE value\n",
    "\n",
    "# Navigate to the directory where rsme_values.json is located\n",
    "json_dir = os.path.abspath(os.path.join(current_dir, '..', '..', '..', 'rsme_values.json'))\n",
    "\n",
    "# Check if the file exists and is not empty\n",
    "if os.path.exists(json_dir) and os.path.getsize(json_dir) > 0:\n",
    "    # Load the .json file that stores the RMSE results\n",
    "    with open(json_dir, 'r') as file:\n",
    "        data = json.load(file)\n",
    "else:\n",
    "    data = {}\n",
    "\n",
    "# Add the RMSE value to the dictionary with a corresponding key\n",
    "data[metric_name] = rmse_value\n",
    "\n",
    "# Write the RMSE value to the .json file\n",
    "with open(json_dir, 'w') as file:\n",
    "    json.dump(data, file, indent=4)"
   ]
  }
 ],
 "metadata": {
  "kernelspec": {
   "display_name": "myenv",
   "language": "python",
   "name": "python3"
  },
  "language_info": {
   "codemirror_mode": {
    "name": "ipython",
    "version": 3
   },
   "file_extension": ".py",
   "mimetype": "text/x-python",
   "name": "python",
   "nbconvert_exporter": "python",
   "pygments_lexer": "ipython3",
   "version": "3.10.12"
  }
 },
 "nbformat": 4,
 "nbformat_minor": 2
}
