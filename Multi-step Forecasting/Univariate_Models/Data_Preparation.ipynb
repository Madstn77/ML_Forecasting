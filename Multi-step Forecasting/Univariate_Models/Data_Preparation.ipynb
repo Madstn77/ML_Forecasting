{
 "cells": [
  {
   "cell_type": "code",
   "execution_count": 13,
   "metadata": {},
   "outputs": [],
   "source": [
    "import pandas as pd\n",
    "import numpy as np\n",
    "import matplotlib.pyplot as plt\n",
    "import warnings\n",
    "\n",
    "warnings.filterwarnings(\"ignore\")\n",
    "\n",
    "# Importing the Quarterly data from OECD on Danish GDP 1990-2023\n",
    "gdp = pd.read_csv(\"..//QGDP.csv\", sep=';', header=None)"
   ]
  },
  {
   "cell_type": "code",
   "execution_count": 14,
   "metadata": {},
   "outputs": [],
   "source": [
    "#Selecting the relevant columns\n",
    "gdp = gdp[[2, 3]]\n",
    "\n"
   ]
  },
  {
   "cell_type": "code",
   "execution_count": 15,
   "metadata": {},
   "outputs": [
    {
     "name": "stdout",
     "output_type": "stream",
     "text": [
      "Data types in 'indu' dataframe:\n",
      "Time       datetime64[ns]\n",
      "indu_Q1           float64\n",
      "indu_Q2           float64\n",
      "indu_Q3           float64\n",
      "indu_Q4           float64\n",
      "indu_Q5           float64\n",
      "indu_Q6           float64\n",
      "indu_Q7           float64\n",
      "dtype: object\n",
      "\n",
      "Data types in 'cons' dataframe:\n",
      "Time        datetime64[ns]\n",
      "cons_Q1            float64\n",
      "cons_Q2            float64\n",
      "cons_Q3            float64\n",
      "cons_Q4            float64\n",
      "cons_Q5            float64\n",
      "cons_Q6            float64\n",
      "cons_Q7            float64\n",
      "cons_Q8            float64\n",
      "cons_Q9            float64\n",
      "cons_Q10           float64\n",
      "cons_Q11           float64\n",
      "cons_Q12           float64\n",
      "dtype: object\n",
      "\n",
      "Data types in 'gdp' dataframe:\n",
      "Time     datetime64[ns]\n",
      "Value           float64\n",
      "dtype: object\n"
     ]
    }
   ],
   "source": [
    "# Renaming the columns\n",
    "gdp_columns = {2: 'Time', 3: 'Value'}\n",
    "gdp = gdp.rename(columns=gdp_columns)\n",
    "\n",
    "\n",
    "\n",
    "# Converting the Time column to datetime\n",
    "gdp['Time'] = pd.to_datetime(gdp['Time'])\n",
    "\n",
    "#Checking the data types\n",
    "print(\"\\nData types in 'gdp' dataframe:\")\n",
    "print(gdp.dtypes)\n",
    "\n",
    "\n"
   ]
  },
  {
   "cell_type": "code",
   "execution_count": 18,
   "metadata": {},
   "outputs": [],
   "source": [
    "#Cleanup\n",
    "\n",
    "del gdp_columns"
   ]
  }
 ],
 "metadata": {
  "kernelspec": {
   "display_name": "myenv",
   "language": "python",
   "name": "python3"
  },
  "language_info": {
   "codemirror_mode": {
    "name": "ipython",
    "version": 3
   },
   "file_extension": ".py",
   "mimetype": "text/x-python",
   "name": "python",
   "nbconvert_exporter": "python",
   "pygments_lexer": "ipython3",
   "version": "3.10.13"
  }
 },
 "nbformat": 4,
 "nbformat_minor": 2
}
