{
 "cells": [
  {
   "cell_type": "code",
   "execution_count": 1,
   "metadata": {},
   "outputs": [
    {
     "name": "stderr",
     "output_type": "stream",
     "text": [
      "/usr/lib/python3/dist-packages/scipy/__init__.py:146: UserWarning: A NumPy version >=1.17.3 and <1.25.0 is required for this version of SciPy (detected version 1.26.4\n",
      "  warnings.warn(f\"A NumPy version >={np_minversion} and <{np_maxversion}\"\n"
     ]
    }
   ],
   "source": [
    "import pandas as pd\n",
    "import numpy as np\n",
    "from statsmodels.tools.eval_measures import rmse\n",
    "from sklearn.metrics import mean_absolute_percentage_error\n",
    "import matplotlib.pyplot as plt\n",
    "from pmdarima import auto_arima"
   ]
  },
  {
   "cell_type": "code",
   "execution_count": 2,
   "metadata": {},
   "outputs": [
    {
     "name": "stdout",
     "output_type": "stream",
     "text": [
      "Data types in 'indu' dataframe:\n",
      "Time     datetime64[ns]\n",
      "Value           float64\n",
      "dtype: object\n",
      "\n",
      "Data types in 'cons' dataframe:\n",
      "Time     datetime64[ns]\n",
      "Value           float64\n",
      "dtype: object\n",
      "\n",
      "Data types in 'gdp' dataframe:\n",
      "Time     datetime64[ns]\n",
      "Value           float64\n",
      "dtype: object\n",
      "Value           float64\n",
      "Time     datetime64[ns]\n",
      "dtype: object\n",
      "Value           float64\n",
      "Time     datetime64[ns]\n",
      "dtype: object\n"
     ]
    }
   ],
   "source": [
    "# Run the stored data from the Data_Preparation.ipynb\n",
    "%run ..//Data_Preparation.ipynb"
   ]
  },
  {
   "cell_type": "code",
   "execution_count": 3,
   "metadata": {},
   "outputs": [
    {
     "name": "stdout",
     "output_type": "stream",
     "text": [
      "indu lenght:  120  cons lenght:  120  gdp lenght:  120\n",
      "indu lenght:  16  cons lenght:  16  gdp lenght:  16\n"
     ]
    }
   ],
   "source": [
    "#Using the period 1990-2020 for training and 2021-2023 for testing\n",
    "indu_train = indu[(indu['Time'] >= '1990-01-01') & (indu['Time'] < '2020-01-01')]\n",
    "cons_train = cons[(cons['Time'] >= '1990-01-01') & (cons['Time'] < '2020-01-01')]\n",
    "gdp_train = gdp[(gdp['Time'] >= '1990-01-01') & (gdp['Time'] < '2020-01-01')]\n",
    "\n",
    "indu_test = indu[(indu['Time'] >= '2020-01-01') & (indu['Time'] < '2024-01-01')]\n",
    "cons_test = cons[(cons['Time'] >= '2020-01-01') & (cons['Time'] < '2024-01-01')]\n",
    "gdp_test = gdp[(gdp['Time'] >= '2020-01-01') & (gdp['Time'] < '2024-01-01')]\n",
    "\n",
    "#Printing the length of the training and testing data\n",
    "print(\"indu lenght: \", len(indu_train), \" cons lenght: \", len(cons_train),\" gdp lenght: \", len(gdp_train))\n",
    "print(\"indu lenght: \", len(indu_test), \" cons lenght: \", len(cons_test),\" gdp lenght: \", len(gdp_test))"
   ]
  },
  {
   "cell_type": "code",
   "execution_count": 4,
   "metadata": {},
   "outputs": [
    {
     "name": "stdout",
     "output_type": "stream",
     "text": [
      "          Time  Value\n",
      "0   1990-01-01  210.2\n",
      "1   1990-04-01  218.1\n",
      "2   1990-07-01  209.5\n",
      "3   1990-10-01  217.8\n",
      "4   1991-01-01  220.2\n",
      "..         ...    ...\n",
      "115 2018-10-01  585.2\n",
      "116 2019-01-01  555.8\n",
      "117 2019-04-01  583.2\n",
      "118 2019-07-01  574.4\n",
      "119 2019-10-01  597.6\n",
      "\n",
      "[120 rows x 2 columns]\n",
      "        Value       Time\n",
      "0   -3.633333 1990-01-01\n",
      "1   -3.700000 1990-04-01\n",
      "2   -5.533333 1990-07-01\n",
      "3   -5.533333 1990-10-01\n",
      "4   -1.833333 1991-01-01\n",
      "..        ...        ...\n",
      "115  3.500000 2018-10-01\n",
      "116  3.466667 2019-01-01\n",
      "117  5.866667 2019-04-01\n",
      "118  3.866667 2019-07-01\n",
      "119  2.800000 2019-10-01\n",
      "\n",
      "[120 rows x 2 columns]\n",
      "         Value       Time\n",
      "0   -11.000000 1990-01-01\n",
      "1   -13.000000 1990-04-01\n",
      "2   -14.000000 1990-07-01\n",
      "3   -12.000000 1990-10-01\n",
      "4   -19.000000 1991-01-01\n",
      "..         ...        ...\n",
      "115  -5.000000 2018-10-01\n",
      "116  -4.666667 2019-01-01\n",
      "117  -3.333333 2019-04-01\n",
      "118  -7.000000 2019-07-01\n",
      "119 -10.000000 2019-10-01\n",
      "\n",
      "[120 rows x 2 columns]\n"
     ]
    }
   ],
   "source": [
    "print(gdp_train)\n",
    "print(cons_train)\n",
    "print(indu_train)\n"
   ]
  },
  {
   "cell_type": "code",
   "execution_count": 5,
   "metadata": {},
   "outputs": [
    {
     "name": "stdout",
     "output_type": "stream",
     "text": [
      "Performing stepwise search to minimize aic\n",
      " ARIMA(1,0,1)(1,1,1)[4] intercept   : AIC=734.437, Time=0.21 sec\n",
      " ARIMA(0,0,0)(0,1,0)[4] intercept   : AIC=847.250, Time=0.01 sec\n",
      " ARIMA(1,0,0)(1,1,0)[4] intercept   : AIC=734.631, Time=0.10 sec\n",
      " ARIMA(0,0,1)(0,1,1)[4] intercept   : AIC=774.525, Time=0.08 sec\n",
      " ARIMA(0,0,0)(0,1,0)[4]             : AIC=967.659, Time=0.01 sec\n",
      " ARIMA(1,0,1)(0,1,1)[4] intercept   : AIC=732.869, Time=0.11 sec\n",
      " ARIMA(1,0,1)(0,1,0)[4] intercept   : AIC=756.107, Time=0.06 sec\n",
      " ARIMA(1,0,1)(0,1,2)[4] intercept   : AIC=734.499, Time=0.18 sec\n",
      " ARIMA(1,0,1)(1,1,0)[4] intercept   : AIC=736.239, Time=0.13 sec\n",
      " ARIMA(1,0,1)(1,1,2)[4] intercept   : AIC=735.998, Time=0.52 sec\n",
      " ARIMA(1,0,0)(0,1,1)[4] intercept   : AIC=731.213, Time=0.10 sec\n",
      " ARIMA(1,0,0)(0,1,0)[4] intercept   : AIC=760.386, Time=0.04 sec\n",
      " ARIMA(1,0,0)(1,1,1)[4] intercept   : AIC=732.628, Time=0.16 sec\n",
      " ARIMA(1,0,0)(0,1,2)[4] intercept   : AIC=732.722, Time=0.23 sec\n",
      " ARIMA(1,0,0)(1,1,2)[4] intercept   : AIC=inf, Time=0.46 sec\n",
      " ARIMA(0,0,0)(0,1,1)[4] intercept   : AIC=843.359, Time=0.06 sec\n",
      " ARIMA(2,0,0)(0,1,1)[4] intercept   : AIC=732.714, Time=0.12 sec\n",
      " ARIMA(2,0,1)(0,1,1)[4] intercept   : AIC=732.361, Time=0.24 sec\n",
      " ARIMA(1,0,0)(0,1,1)[4]             : AIC=740.804, Time=0.07 sec\n",
      "\n",
      "Best model:  ARIMA(1,0,0)(0,1,1)[4] intercept\n",
      "Total fit time: 2.940 seconds\n"
     ]
    },
    {
     "data": {
      "text/html": [
       "<table class=\"simpletable\">\n",
       "<caption>SARIMAX Results</caption>\n",
       "<tr>\n",
       "  <th>Dep. Variable:</th>                  <td>y</td>                <th>  No. Observations:  </th>    <td>120</td>  \n",
       "</tr>\n",
       "<tr>\n",
       "  <th>Model:</th>           <td>SARIMAX(1, 0, 0)x(0, 1, [1], 4)</td> <th>  Log Likelihood     </th> <td>-361.607</td>\n",
       "</tr>\n",
       "<tr>\n",
       "  <th>Date:</th>                   <td>Tue, 30 Apr 2024</td>         <th>  AIC                </th>  <td>731.213</td>\n",
       "</tr>\n",
       "<tr>\n",
       "  <th>Time:</th>                       <td>19:21:14</td>             <th>  BIC                </th>  <td>742.228</td>\n",
       "</tr>\n",
       "<tr>\n",
       "  <th>Sample:</th>                         <td>0</td>                <th>  HQIC               </th>  <td>735.685</td>\n",
       "</tr>\n",
       "<tr>\n",
       "  <th></th>                             <td> - 120</td>              <th>                     </th>     <td> </td>   \n",
       "</tr>\n",
       "<tr>\n",
       "  <th>Covariance Type:</th>               <td>opg</td>               <th>                     </th>     <td> </td>   \n",
       "</tr>\n",
       "</table>\n",
       "<table class=\"simpletable\">\n",
       "<tr>\n",
       "      <td></td>         <th>coef</th>     <th>std err</th>      <th>z</th>      <th>P>|z|</th>  <th>[0.025</th>    <th>0.975]</th>  \n",
       "</tr>\n",
       "<tr>\n",
       "  <th>intercept</th> <td>    2.3145</td> <td>    0.673</td> <td>    3.438</td> <td> 0.001</td> <td>    0.995</td> <td>    3.634</td>\n",
       "</tr>\n",
       "<tr>\n",
       "  <th>ar.L1</th>     <td>    0.8159</td> <td>    0.050</td> <td>   16.197</td> <td> 0.000</td> <td>    0.717</td> <td>    0.915</td>\n",
       "</tr>\n",
       "<tr>\n",
       "  <th>ma.S.L4</th>   <td>   -0.5412</td> <td>    0.083</td> <td>   -6.493</td> <td> 0.000</td> <td>   -0.705</td> <td>   -0.378</td>\n",
       "</tr>\n",
       "<tr>\n",
       "  <th>sigma2</th>    <td>   29.3720</td> <td>    3.375</td> <td>    8.702</td> <td> 0.000</td> <td>   22.756</td> <td>   35.988</td>\n",
       "</tr>\n",
       "</table>\n",
       "<table class=\"simpletable\">\n",
       "<tr>\n",
       "  <th>Ljung-Box (L1) (Q):</th>     <td>0.36</td> <th>  Jarque-Bera (JB):  </th> <td>17.04</td>\n",
       "</tr>\n",
       "<tr>\n",
       "  <th>Prob(Q):</th>                <td>0.55</td> <th>  Prob(JB):          </th> <td>0.00</td> \n",
       "</tr>\n",
       "<tr>\n",
       "  <th>Heteroskedasticity (H):</th> <td>1.27</td> <th>  Skew:              </th> <td>-0.53</td>\n",
       "</tr>\n",
       "<tr>\n",
       "  <th>Prob(H) (two-sided):</th>    <td>0.46</td> <th>  Kurtosis:          </th> <td>4.55</td> \n",
       "</tr>\n",
       "</table><br/><br/>Warnings:<br/>[1] Covariance matrix calculated using the outer product of gradients (complex-step)."
      ],
      "text/latex": [
       "\\begin{center}\n",
       "\\begin{tabular}{lclc}\n",
       "\\toprule\n",
       "\\textbf{Dep. Variable:}          &                y                & \\textbf{  No. Observations:  } &    120      \\\\\n",
       "\\textbf{Model:}                  & SARIMAX(1, 0, 0)x(0, 1, [1], 4) & \\textbf{  Log Likelihood     } &  -361.607   \\\\\n",
       "\\textbf{Date:}                   &         Tue, 30 Apr 2024        & \\textbf{  AIC                } &  731.213    \\\\\n",
       "\\textbf{Time:}                   &             19:21:14            & \\textbf{  BIC                } &  742.228    \\\\\n",
       "\\textbf{Sample:}                 &                0                & \\textbf{  HQIC               } &  735.685    \\\\\n",
       "\\textbf{}                        &               - 120             & \\textbf{                     } &             \\\\\n",
       "\\textbf{Covariance Type:}        &               opg               & \\textbf{                     } &             \\\\\n",
       "\\bottomrule\n",
       "\\end{tabular}\n",
       "\\begin{tabular}{lcccccc}\n",
       "                   & \\textbf{coef} & \\textbf{std err} & \\textbf{z} & \\textbf{P$> |$z$|$} & \\textbf{[0.025} & \\textbf{0.975]}  \\\\\n",
       "\\midrule\n",
       "\\textbf{intercept} &       2.3145  &        0.673     &     3.438  &         0.001        &        0.995    &        3.634     \\\\\n",
       "\\textbf{ar.L1}     &       0.8159  &        0.050     &    16.197  &         0.000        &        0.717    &        0.915     \\\\\n",
       "\\textbf{ma.S.L4}   &      -0.5412  &        0.083     &    -6.493  &         0.000        &       -0.705    &       -0.378     \\\\\n",
       "\\textbf{sigma2}    &      29.3720  &        3.375     &     8.702  &         0.000        &       22.756    &       35.988     \\\\\n",
       "\\bottomrule\n",
       "\\end{tabular}\n",
       "\\begin{tabular}{lclc}\n",
       "\\textbf{Ljung-Box (L1) (Q):}     & 0.36 & \\textbf{  Jarque-Bera (JB):  } & 17.04  \\\\\n",
       "\\textbf{Prob(Q):}                & 0.55 & \\textbf{  Prob(JB):          } &  0.00  \\\\\n",
       "\\textbf{Heteroskedasticity (H):} & 1.27 & \\textbf{  Skew:              } & -0.53  \\\\\n",
       "\\textbf{Prob(H) (two-sided):}    & 0.46 & \\textbf{  Kurtosis:          } &  4.55  \\\\\n",
       "\\bottomrule\n",
       "\\end{tabular}\n",
       "%\\caption{SARIMAX Results}\n",
       "\\end{center}\n",
       "\n",
       "Warnings: \\newline\n",
       " [1] Covariance matrix calculated using the outer product of gradients (complex-step)."
      ],
      "text/plain": [
       "<class 'statsmodels.iolib.summary.Summary'>\n",
       "\"\"\"\n",
       "                                      SARIMAX Results                                      \n",
       "===========================================================================================\n",
       "Dep. Variable:                                   y   No. Observations:                  120\n",
       "Model:             SARIMAX(1, 0, 0)x(0, 1, [1], 4)   Log Likelihood                -361.607\n",
       "Date:                             Tue, 30 Apr 2024   AIC                            731.213\n",
       "Time:                                     19:21:14   BIC                            742.228\n",
       "Sample:                                          0   HQIC                           735.685\n",
       "                                             - 120                                         \n",
       "Covariance Type:                               opg                                         \n",
       "==============================================================================\n",
       "                 coef    std err          z      P>|z|      [0.025      0.975]\n",
       "------------------------------------------------------------------------------\n",
       "intercept      2.3145      0.673      3.438      0.001       0.995       3.634\n",
       "ar.L1          0.8159      0.050     16.197      0.000       0.717       0.915\n",
       "ma.S.L4       -0.5412      0.083     -6.493      0.000      -0.705      -0.378\n",
       "sigma2        29.3720      3.375      8.702      0.000      22.756      35.988\n",
       "===================================================================================\n",
       "Ljung-Box (L1) (Q):                   0.36   Jarque-Bera (JB):                17.04\n",
       "Prob(Q):                              0.55   Prob(JB):                         0.00\n",
       "Heteroskedasticity (H):               1.27   Skew:                            -0.53\n",
       "Prob(H) (two-sided):                  0.46   Kurtosis:                         4.55\n",
       "===================================================================================\n",
       "\n",
       "Warnings:\n",
       "[1] Covariance matrix calculated using the outer product of gradients (complex-step).\n",
       "\"\"\""
      ]
     },
     "execution_count": 5,
     "metadata": {},
     "output_type": "execute_result"
    }
   ],
   "source": [
    "#Resetting the index\n",
    "gdp_train.reset_index(drop=True, inplace=True)\n",
    "indu_train.reset_index(drop=True, inplace=True)\n",
    "cons_train.reset_index(drop=True, inplace=True)\n",
    "\n",
    "# Combine the explanatory variables into a single DataFrame\n",
    "exog = pd.concat([indu_train, cons_train], axis=1)\n",
    "\n",
    "#Remove the Time column\n",
    "exog.drop('Time', axis=1, inplace=True)\n",
    "\n",
    "#Fit auto_arima function to the data\n",
    "arimax_model = auto_arima(gdp_train['Value'], exogenous=exog, \n",
    "                          start_p=1, start_q=1,\n",
    "                          max_p=3, max_q=3, \n",
    "                          m=4, seasonal=True,\n",
    "                          trace=True, error_action='ignore', suppress_warnings=True, stepwise=True)\n",
    "\n",
    "# Print the summary of the model\n",
    "arimax_model.summary()"
   ]
  },
  {
   "cell_type": "code",
   "execution_count": 6,
   "metadata": {},
   "outputs": [
    {
     "data": {
      "image/png": "[encoded data removed]",
      "text/plain": [
       "<Figure size 1440x720 with 1 Axes>"
      ]
     },
     "metadata": {
      "needs_background": "light"
     },
     "output_type": "display_data"
    }
   ],
   "source": [
    "# Forecast 16 quarters ahead based on test indu and cons\n",
    "exog_test = pd.concat([indu_test, cons_test], axis=1)\n",
    "\n",
    "# Remove the Time column\n",
    "exog_test.drop('Time', axis=1, inplace=True)\n",
    "\n",
    "# Forecast the GDP values\n",
    "forecast = arimax_model.predict(n_periods=16, exogenous=exog_test)\n",
    "\n",
    "# Get the forecasted values\n",
    "forecast_values = forecast.tolist()\n",
    "\n",
    "# Plotting historic GDP and forecasted GDP\n",
    "plt.figure(figsize=(20,10))\n",
    "plt.plot(gdp_train['Time'].to_numpy(), gdp_train['Value'].to_numpy(), label='Train GDP')\n",
    "plt.plot(gdp_test['Time'].to_numpy(), forecast_values, color='red', label='Forecasted GDP')\n",
    "plt.plot(gdp_test['Time'].to_numpy(), gdp_test['Value'].to_numpy(), label='Actual GDP')\n",
    "\n",
    "# Set the title and labels\n",
    "plt.title('Historic and Forecasted GDP')\n",
    "plt.xlabel('Time')\n",
    "plt.ylabel('GDP')\n",
    "\n",
    "# Add a legend\n",
    "plt.legend()\n",
    "\n",
    "# Display the plot\n",
    "plt.show()"
   ]
  },
  {
   "cell_type": "code",
   "execution_count": 7,
   "metadata": {},
   "outputs": [
    {
     "name": "stdout",
     "output_type": "stream",
     "text": [
      "The RMSE is 63.24256685222354\n",
      "The MAPE is 7.584910695964753\n"
     ]
    }
   ],
   "source": [
    "#Comparing the forecasted values with the actual values trough RMSE and MAPE\n",
    "# Calculate the RMSE\n",
    "rmse_value = rmse(gdp_test['Value'], forecast_values)\n",
    "#Calculate the MAPE\n",
    "mape_value = mean_absolute_percentage_error(gdp_test['Value'], forecast_values) * 100 #Multiplying by 100 to get the percentage\n",
    "\n",
    "# Print the RMSE\n",
    "print(\"The RMSE is\", rmse_value)\n",
    "# Print the MAPE\n",
    "print(\"The MAPE is\", mape_value)\n",
    "\n",
    "#The RMSE is 63, which is quite high. This is likely due to the fact that the model is not very good at predicting the GDP in the period 2020 - 2023. This is likely due to the COVID-19 pandemic, which has caused a lot of uncertainty in the economy. The model is not able to capture this uncertainty, and therefore the forecast is not very accurate.\n",
    "#The MAPE is 7,6%."
   ]
  },
  {
   "cell_type": "code",
   "execution_count": 8,
   "metadata": {},
   "outputs": [],
   "source": [
    "import os\n",
    "import json\n",
    "\n",
    "#Define the evaluation metric name for this model\n",
    "metric_name = \"Multi_Single_Post_SARIMAX\"\n",
    "\n",
    "# Create a dictionary with the MAPE value\n",
    "\n",
    "# Get the current directory\n",
    "current_dir = os.getcwd()\n",
    "\n",
    "# Navigate to the directory where mape_values.json is located\n",
    "json_dir = os.path.abspath(os.path.join(current_dir, '..', '..', '..', 'mape_values.json'))\n",
    "\n",
    "# Check if the file exists and is not empty\n",
    "if os.path.exists(json_dir) and os.path.getsize(json_dir) > 0:\n",
    "    # Load the .json file that stores the MAPE results\n",
    "    with open(json_dir, 'r') as file:\n",
    "        data = json.load(file)\n",
    "else:\n",
    "    data = {}\n",
    "\n",
    "# Add the MAPE value to the dictionary with a corresponding key\n",
    "data[metric_name] = mape_value\n",
    "\n",
    "# Write the MAPE value to the .json file\n",
    "with open(json_dir, 'w') as file:\n",
    "    json.dump(data, file, indent=4)\n",
    "\n",
    "# Create a dictionary with the RMSE value\n",
    "\n",
    "# Navigate to the directory where rsme_values.json is located\n",
    "json_dir = os.path.abspath(os.path.join(current_dir, '..', '..', '..', 'rsme_values.json'))\n",
    "\n",
    "# Check if the file exists and is not empty\n",
    "if os.path.exists(json_dir) and os.path.getsize(json_dir) > 0:\n",
    "    # Load the .json file that stores the RMSE results\n",
    "    with open(json_dir, 'r') as file:\n",
    "        data = json.load(file)\n",
    "else:\n",
    "    data = {}\n",
    "\n",
    "# Add the RMSE value to the dictionary with a corresponding key\n",
    "data[metric_name] = rmse_value\n",
    "\n",
    "# Write the RMSE value to the .json file\n",
    "with open(json_dir, 'w') as file:\n",
    "    json.dump(data, file, indent=4)"
   ]
  }
 ],
 "metadata": {
  "kernelspec": {
   "display_name": "myenv",
   "language": "python",
   "name": "python3"
  },
  "language_info": {
   "codemirror_mode": {
    "name": "ipython",
    "version": 3
   },
   "file_extension": ".py",
   "mimetype": "text/x-python",
   "name": "python",
   "nbconvert_exporter": "python",
   "pygments_lexer": "ipython3",
   "version": "3.10.12"
  }
 },
 "nbformat": 4,
 "nbformat_minor": 2
}
