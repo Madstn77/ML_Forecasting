{
 "cells": [
  {
   "cell_type": "code",
   "execution_count": null,
   "metadata": {},
   "outputs": [],
   "source": [
    "import pandas as pd\n",
    "import numpy as np\n",
    "import matplotlib.pyplot as plt\n",
    "import warnings\n",
    "\n",
    "warnings.filterwarnings(\"ignore\")\n",
    "\n",
    "# Importing the Quarterly data from OECD on Danish GDP 1990-2023\n",
    "gdp = pd.read_csv(\"..//QGDP.csv\", sep=';', header=None)\n",
    "cons = pd.read_csv(\"..//Consumer.csv\", sep=';')\n",
    "indu = pd.read_csv(\"..//Industry.csv\", sep=';')"
   ]
  },
  {
   "cell_type": "code",
   "execution_count": null,
   "metadata": {},
   "outputs": [],
   "source": [
    "#Selecting the relevant columns\n",
    "gdp = gdp[[2, 3]]\n",
    "\n",
    "## There is 13 questions the consumers have answered in the survey:\n",
    "## - COF\tConfidence Indicator (Q1 + Q2 + Q4 + Q9) / 4 (CONS.DK.TOT.COF.B.M)\n",
    "## - 1\tFinancial situation over last 12 months (CONS.DK.TOT.1.B.M)\n",
    "## - 2\tFinancial situation over next 12 months (CONS.DK.TOT.2.B.M)\n",
    "## - 3\tGeneral economic situation over last 12 months (CONS.DK.TOT.3.B.M)\n",
    "## - 4\tGeneral economic situation over next 12 months (CONS.DK.TOT.4.B.M)\n",
    "## - 5\tPrice trends over last 12 months (CONS.DK.TOT.5.B.M)\n",
    "## - 6\tPrice trends over next 12 months (CONS.DK.TOT.6.B.M)\n",
    "## - 7\tUnemployment expectations over next 12 months (CONS.DK.TOT.7.B.M)\n",
    "## - 8\tMajor purchases at present (CONS.DK.TOT.8.B.M)\n",
    "## - 9\tMajor purchases over next 12 months (CONS.DK.TOT.9.B.M)\n",
    "## - 10\tSavings at present (CONS.DK.TOT.10.B.M)\n",
    "## - 11\tSavings over next 12 months (CONS.DK.TOT.11.B.M)\n",
    "## - 12\tStatement on financial situation of household (CONS.DK.TOT.12.B.M)\n",
    "\n",
    "##Selecting COF\n",
    "cons = cons[['Time', 'CONS.DK.TOT.COF.B.M']]\n",
    "\n",
    "##There is 8 relevant questions in the industry survey:\n",
    "## - COF\tConfidence Indicator (Q2 - Q4 + Q5) / 3 (INDU.DK.TOT.COF.B.M)\n",
    "## - 1\tProduction trend observed in recent months (INDU.DK.TOT.1.B.M)\n",
    "## - 2\tAssessment of order-book levels (INDU.DK.TOT.2.B.M)\n",
    "## - 3\tAssessment of export order-book levels (INDU.DK.TOT.3.B.M)\n",
    "## - 4\tAssessment of stocks of finished products (INDU.DK.TOT.4.B.M)\n",
    "## - 5\tProduction expectations for the months ahead (INDU.DK.TOT.5.B.M)\n",
    "## - 6\tSelling price expectations for the months ahead (INDU.DK.TOT.6.B.M)\n",
    "## - 7\tEmployment expectations for the months ahead (INDU.DK.TOT.7.B.M)\n",
    "\n",
    "## Selecting COF\n",
    "indu = indu[['Time', 'INDU.DK.TOT.COF.B.M']]"
   ]
  },
  {
   "cell_type": "code",
   "execution_count": null,
   "metadata": {},
   "outputs": [
    {
     "name": "stdout",
     "output_type": "stream",
     "text": [
      "Data types in 'indu' dataframe:\n",
      "Time       datetime64[ns]\n",
      "indu_Q1           float64\n",
      "indu_Q2           float64\n",
      "indu_Q3           float64\n",
      "indu_Q4           float64\n",
      "indu_Q5           float64\n",
      "indu_Q6           float64\n",
      "indu_Q7           float64\n",
      "dtype: object\n",
      "\n",
      "Data types in 'cons' dataframe:\n",
      "Time        datetime64[ns]\n",
      "cons_Q1            float64\n",
      "cons_Q2            float64\n",
      "cons_Q3            float64\n",
      "cons_Q4            float64\n",
      "cons_Q5            float64\n",
      "cons_Q6            float64\n",
      "cons_Q7            float64\n",
      "cons_Q8            float64\n",
      "cons_Q9            float64\n",
      "cons_Q10           float64\n",
      "cons_Q11           float64\n",
      "cons_Q12           float64\n",
      "dtype: object\n",
      "\n",
      "Data types in 'gdp' dataframe:\n",
      "Time     datetime64[ns]\n",
      "Value           float64\n",
      "dtype: object\n"
     ]
    }
   ],
   "source": [
    "#Renaming the columns\n",
    "gdp = gdp.rename(columns={2: 'Time', 3: 'Value'})\n",
    "cons = cons.rename(columns={'CONS.DK.TOT.COF.B.M': 'Value'})\n",
    "indu = indu.rename(columns={'INDU.DK.TOT.COF.B.M': 'Value'})\n",
    "\n",
    "#Converting the Time column to datetime\n",
    "cons['Time'] = pd.to_datetime(cons['Time'], format='%d-%m-%Y')\n",
    "indu['Time'] = pd.to_datetime(indu['Time'], format='%d-%m-%Y')\n",
    "gdp['Time'] = pd.to_datetime(gdp['Time'])\n",
    "\n",
    "# Converting the Value column to float64 in indu and cons\n",
    "indu['Value'] = pd.to_numeric(indu['Value'], errors='coerce').astype('float64')\n",
    "\n",
    "cons['Value'] = pd.to_numeric(cons['Value'], errors='coerce').astype('float64')\n",
    "\n",
    "\n",
    "#Checking the data types\n",
    "print(\"Data types in 'indu' dataframe:\")\n",
    "print(indu.dtypes)\n",
    "\n",
    "print(\"\\nData types in 'cons' dataframe:\")\n",
    "print(cons.dtypes)\n",
    "\n",
    "print(\"\\nData types in 'gdp' dataframe:\")\n",
    "print(gdp.dtypes)"
   ]
  },
  {
   "cell_type": "code",
   "execution_count": null,
   "metadata": {},
   "outputs": [
    {
     "name": "stdout",
     "output_type": "stream",
     "text": [
      "indu_Q1           float64\n",
      "indu_Q2           float64\n",
      "indu_Q3           float64\n",
      "indu_Q4           float64\n",
      "indu_Q5           float64\n",
      "indu_Q6           float64\n",
      "indu_Q7           float64\n",
      "Time       datetime64[ns]\n",
      "dtype: object\n",
      "cons_Q1            float64\n",
      "cons_Q2            float64\n",
      "cons_Q3            float64\n",
      "cons_Q4            float64\n",
      "cons_Q5            float64\n",
      "cons_Q6            float64\n",
      "cons_Q7            float64\n",
      "cons_Q8            float64\n",
      "cons_Q9            float64\n",
      "cons_Q10           float64\n",
      "cons_Q11           float64\n",
      "cons_Q12           float64\n",
      "Time        datetime64[ns]\n",
      "dtype: object\n"
     ]
    }
   ],
   "source": [
    "# Resample indu and cons to quarterly frequency, using the mean value per quarter\n",
    "indu_quarterly = indu.resample('QE', on='Time').mean()\n",
    "cons_quarterly = cons.resample('QE', on='Time').mean()\n",
    "\n",
    "# Adjust the datetime to the first day of the quarter\n",
    "indu_quarterly['Time'] = indu_quarterly.index.to_period('Q').asfreq('Q-DEC', 'start').to_timestamp()\n",
    "cons_quarterly['Time'] = cons_quarterly.index.to_period('Q').asfreq('Q-DEC', 'start').to_timestamp()\n",
    "\n",
    "#Resetting the index of the new dataframes\n",
    "indu_quarterly.reset_index(drop=True, inplace=True)\n",
    "cons_quarterly.reset_index(drop=True, inplace=True)\n",
    "\n",
    "#Checking the data types\n",
    "print(indu_quarterly.dtypes)\n",
    "print(cons_quarterly.dtypes)"
   ]
  },
  {
   "cell_type": "code",
   "execution_count": null,
   "metadata": {},
   "outputs": [],
   "source": [
    "#Filtering the data to only include the years 1990-2023, as this is the limitation in gdp dataset\n",
    "indu_quarterly = indu_quarterly[(indu_quarterly['Time'] >= '1990-01-01') & (indu_quarterly['Time'] < '2024-01-01')]\n",
    "cons_quarterly = cons_quarterly[(cons_quarterly['Time'] >= '1990-01-01') & (cons_quarterly['Time'] < '2024-01-01')]"
   ]
  },
  {
   "cell_type": "code",
   "execution_count": null,
   "metadata": {},
   "outputs": [],
   "source": [
    "#Cleanup\n",
    "cons = cons_quarterly\n",
    "indu = indu_quarterly\n",
    "\n",
    "cons.reset_index(drop=True, inplace=True)\n",
    "indu.reset_index(drop=True, inplace=True)\n",
    "\n",
    "del cons_quarterly, indu_quarterly"
   ]
  }
 ],
 "metadata": {
  "kernelspec": {
   "display_name": "myenv",
   "language": "python",
   "name": "python3"
  },
  "language_info": {
   "codemirror_mode": {
    "name": "ipython",
    "version": 3
   },
   "file_extension": ".py",
   "mimetype": "text/x-python",
   "name": "python",
   "nbconvert_exporter": "python",
   "pygments_lexer": "ipython3",
   "version": "3.10.13"
  }
 },
 "nbformat": 4,
 "nbformat_minor": 2
}
