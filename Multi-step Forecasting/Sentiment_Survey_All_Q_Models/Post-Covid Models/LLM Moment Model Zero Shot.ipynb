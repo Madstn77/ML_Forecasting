{
 "cells": [
  {
   "cell_type": "code",
   "execution_count": null,
   "metadata": {},
   "outputs": [],
   "source": [
    "#Install the package from the git repository\n",
    "%pip install git+https://anonymous.4open.science/r/BETT-773F"
   ]
  },
  {
   "cell_type": "code",
   "execution_count": null,
   "metadata": {},
   "outputs": [],
   "source": [
    "# Run the stored data from the Data_Preparation.ipynb\n",
    "%run ..//Data_Preparation.ipynb"
   ]
  },
  {
   "cell_type": "code",
   "execution_count": null,
   "metadata": {},
   "outputs": [],
   "source": [
    "#Using the period 2018-2019 for training and 2016-2020 for testing\n",
    "indu_train = indu[(indu['Time'] >= '2018-01-01') & (indu['Time'] < '2020-01-01')]\n",
    "cons_train = cons[(cons['Time'] >= '2018-01-01') & (cons['Time'] < '2020-01-01')]\n",
    "gdp_train = gdp[(gdp['Time'] >= '2018-01-01') & (gdp['Time'] < '2020-01-01')]\n",
    "\n",
    "indu_test = indu[(indu['Time'] >= '2020-01-01') & (indu['Time'] < '2024-01-01')]\n",
    "cons_test = cons[(cons['Time'] >= '2020-01-01') & (cons['Time'] < '2024-01-01')]\n",
    "gdp_test = gdp[(gdp['Time'] >= '2020-01-01') & (gdp['Time'] < '2024-01-01')]"
   ]
  },
  {
   "cell_type": "code",
   "execution_count": null,
   "metadata": {},
   "outputs": [],
   "source": [
    "#Combine the training data by matching the time\n",
    "train = pd.merge(indu_train, cons_train, on='Time', how='inner')\n",
    "train = pd.merge(train, gdp_train, on='Time', how='inner')\n",
    "\n",
    "#Renaming indu_Q7 for convenience\n",
    "train = train.rename(columns = {'indu_Q7':'indu_Q6'})\n",
    "\n",
    "#Combine the testing data by matching the time\n",
    "test = pd.merge(indu_test, cons_test, on='Time', how='inner')\n",
    "\n",
    "#Renaming indu_Q7 for convenience\n",
    "test = test.rename(columns = {'indu_Q7':'indu_Q6'})\n",
    "train = train.rename(columns = {'indu_Q7':'indu_Q6'})"
   ]
  },
  {
   "cell_type": "code",
   "execution_count": null,
   "metadata": {},
   "outputs": [],
   "source": [
    "from models.moment import MOMENTPipeline\n",
    "\n",
    "# Options: \"pre-training\", \"short-horizon-forecasting\", \"long-horizon-forecasting\", \"classification\", \"imputation\", \"anomaly-detection\", \"embed\"\n",
    "task_name = \"classification\"  \n",
    "\n",
    "model = BETTPipeline.from_pretrained(\n",
    "    \"AutonLab/test-t5-small\",\n",
    "    model_kwargs={\n",
    "        \"task_name\": task_name,\n",
    "        \"n_channels\": 1,\n",
    "        \"num_class\": 2,\n",
    "    },\n",
    ")\n",
    "model.init()"
   ]
  },
  {
   "cell_type": "code",
   "execution_count": null,
   "metadata": {},
   "outputs": [],
   "source": [
    "# Train the model\n",
    "model.fit(train, time_col=\"Time\", target_col=\"Value\", horizon=\"1d\")\n",
    "\n",
    "# Make predictions\n",
    "preds = model.predict(test, time_col=\"Time\", target_col=\"Value\", horizon=\"1d\")"
   ]
  },
  {
   "cell_type": "code",
   "execution_count": null,
   "metadata": {},
   "outputs": [],
   "source": [
    "from statsmodels.tools.eval_measures import rmse\n",
    "from sklearn.metrics import mean_absolute_percentage_error\n",
    "\n",
    "#Comparing the forecasted values with the actual values trough RMSE and MAPE\n",
    "# Calculate the RMSE\n",
    "rmse_value = rmse(gdp_test, preds)\n",
    "# Calculate the MAPE\n",
    "mape_value = mean_absolute_percentage_error(gdp_test, preds)*100 #Multiplying by 100 to get the percentage\n",
    "\n",
    "# Print the RMSE\n",
    "print(\"The RMSE is\", rmse_value)\n",
    "# Print the MAPE\n",
    "print(\"The MAPE is\", mape_value)"
   ]
  },
  {
   "cell_type": "code",
   "execution_count": null,
   "metadata": {},
   "outputs": [],
   "source": [
    "#Converting all relevant columns to numpy arrays\n",
    "actual = gdp_test.to_numpy()\n",
    "forecast = preds.to_numpy()\n",
    "test_time = test['Time'].to_numpy()\n",
    "\n",
    "gdp_train1 = gdp[(gdp['Time'] >= '1990-01-01') & (gdp['Time'] < '2020-01-01')]\n",
    "historical = gdp_train1['Value'].to_numpy()\n",
    "historical_time = gdp_train1['Time'].to_numpy()\n",
    "\n",
    "#Plotting the actual values against the forecasted values\n",
    "import matplotlib.pyplot as plt\n",
    "\n",
    "plt.figure(figsize=(20,10))\n",
    "plt.plot(test_time, actual, label='Actual')\n",
    "plt.plot(test_time, forecast, label='Forecast')\n",
    "plt.plot(historical_time, historical, label='Train')\n",
    "plt.legend()\n",
    "\n",
    "plt.show()"
   ]
  }
 ],
 "metadata": {
  "language_info": {
   "name": "python"
  }
 },
 "nbformat": 4,
 "nbformat_minor": 2
}
