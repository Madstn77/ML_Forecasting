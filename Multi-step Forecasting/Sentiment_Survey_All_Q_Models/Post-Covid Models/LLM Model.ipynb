{
 "cells": [
  {
   "cell_type": "code",
   "execution_count": 11,
   "metadata": {},
   "outputs": [
    {
     "name": "stdout",
     "output_type": "stream",
     "text": [
      "Data types in 'indu' dataframe:\n",
      "Time       datetime64[ns]\n",
      "indu_Q1           float64\n",
      "indu_Q2           float64\n",
      "indu_Q3           float64\n",
      "indu_Q4           float64\n",
      "indu_Q5           float64\n",
      "indu_Q7           float64\n",
      "dtype: object\n",
      "\n",
      "Data types in 'cons' dataframe:\n",
      "Time        datetime64[ns]\n",
      "cons_Q1            float64\n",
      "cons_Q2            float64\n",
      "cons_Q3            float64\n",
      "cons_Q4            float64\n",
      "cons_Q5            float64\n",
      "cons_Q6            float64\n",
      "cons_Q7            float64\n",
      "cons_Q8            float64\n",
      "cons_Q9            float64\n",
      "cons_Q10           float64\n",
      "cons_Q11           float64\n",
      "cons_Q12           float64\n",
      "dtype: object\n",
      "\n",
      "Data types in 'gdp' dataframe:\n",
      "Time     datetime64[ns]\n",
      "Value           float64\n",
      "dtype: object\n",
      "indu_Q1           float64\n",
      "indu_Q2           float64\n",
      "indu_Q3           float64\n",
      "indu_Q4           float64\n",
      "indu_Q5           float64\n",
      "indu_Q7           float64\n",
      "Time       datetime64[ns]\n",
      "dtype: object\n",
      "cons_Q1            float64\n",
      "cons_Q2            float64\n",
      "cons_Q3            float64\n",
      "cons_Q4            float64\n",
      "cons_Q5            float64\n",
      "cons_Q6            float64\n",
      "cons_Q7            float64\n",
      "cons_Q8            float64\n",
      "cons_Q9            float64\n",
      "cons_Q10           float64\n",
      "cons_Q11           float64\n",
      "cons_Q12           float64\n",
      "Time        datetime64[ns]\n",
      "dtype: object\n"
     ]
    }
   ],
   "source": [
    "# Run the stored data from the Data_Preparation.ipynb\n",
    "%run ..//Data_Preparation.ipynb"
   ]
  },
  {
   "cell_type": "code",
   "execution_count": 12,
   "metadata": {},
   "outputs": [],
   "source": [
    "#Split the data into training and testing data\n",
    "indu_train = indu[(indu['Time'] >= '1990-01-01') & (indu['Time'] < '2020-01-01')]\n",
    "cons_train = cons[(cons['Time'] >= '1990-01-01') & (cons['Time'] < '2020-01-01')]\n",
    "gdp_train = gdp[(gdp['Time'] >= '1990-01-01') & (gdp['Time'] < '2020-01-01')]\n",
    "\n",
    "indu_test = indu[(indu['Time'] >= '2020-01-01') & (indu['Time'] < '2024-01-01')]\n",
    "cons_test = cons[(cons['Time'] >= '2020-01-01') & (cons['Time'] < '2024-01-01')]\n",
    "gdp_test = gdp[(gdp['Time'] >= '2020-01-01') & (gdp['Time'] < '2024-01-01')]"
   ]
  },
  {
   "cell_type": "code",
   "execution_count": 13,
   "metadata": {},
   "outputs": [],
   "source": [
    "#Importing the packages enabling the Large Language Model\n",
    "import torch\n",
    "from transformers import AutoModelForCausalLM, AutoTokenizer, GenerationConfig, pipeline\n"
   ]
  },
  {
   "cell_type": "code",
   "execution_count": 14,
   "metadata": {},
   "outputs": [
    {
     "name": "stderr",
     "output_type": "stream",
     "text": [
      "Loading checkpoint shards: 100%|██████████| 2/2 [00:47<00:00, 23.57s/it]\n"
     ]
    }
   ],
   "source": [
    "model_name = \"mistralai/Mistral-7B-v0.1\"\n",
    "\n",
    "#Defining what device to use\n",
    "device = torch.device(\"cpu\")\n",
    "\n",
    "model = AutoModelForCausalLM.from_pretrained(model_name, torchscript=True, torch_dtype=torch.bfloat16)\n",
    "tokenizer = AutoTokenizer.from_pretrained(model_name)\n",
    "generation_config = GenerationConfig.from_pretrained(model_name)"
   ]
  },
  {
   "cell_type": "code",
   "execution_count": 15,
   "metadata": {},
   "outputs": [],
   "source": [
    "#Setting specific configs\n",
    "generation_config.temperature = 0.0001 #Making the model deterministic"
   ]
  },
  {
   "cell_type": "code",
   "execution_count": 16,
   "metadata": {},
   "outputs": [
    {
     "name": "stdout",
     "output_type": "stream",
     "text": [
      "\n",
      "You are a time series forecasting model designed to predict the Danish GDP based on historical data. \n",
      "Your task is to forecast the GDP from 2020Q1 until 2023Q4, using the provided GDP training data.\n",
      "\n",
      "The provided GDP training data is as follows:\n",
      "      Time  Value\n",
      "1990-01-01  210.2\n",
      "1990-04-01  218.1\n",
      "1990-07-01  209.5\n",
      "1990-10-01  217.8\n",
      "1991-01-01  220.2\n",
      "1991-04-01  226.1\n",
      "1991-07-01  219.6\n",
      "1991-10-01  224.6\n",
      "1992-01-01  228.1\n",
      "1992-04-01  231.1\n",
      "1992-07-01  227.1\n",
      "1992-10-01  236.7\n",
      "1993-01-01  227.8\n",
      "1993-04-01  232.7\n",
      "1993-07-01  227.8\n",
      "1993-10-01  240.2\n",
      "1994-01-01  238.3\n",
      "1994-04-01  252.4\n",
      "1994-07-01  242.8\n",
      "1994-10-01  259.8\n",
      "1995-01-01  254.3\n",
      "1995-04-01  261.5\n",
      "1995-07-01  252.8\n",
      "1995-10-01  267.8\n",
      "1996-01-01  260.8\n",
      "1996-04-01  275.2\n",
      "1996-07-01  269.6\n",
      "1996-10-01  282.5\n",
      "1997-01-01  273.9\n",
      "1997-04-01  291.8\n",
      "1997-07-01  281.8\n",
      "1997-10-01  298.6\n",
      "1998-01-01  288.4\n",
      "1998-04-01  294.3\n",
      "1998-07-01  293.8\n",
      "1998-10-01  309.5\n",
      "1999-01-01  296.3\n",
      "1999-04-01  310.0\n",
      "1999-07-01  306.6\n",
      "1999-10-01  328.6\n",
      "2000-01-01  316.9\n",
      "2000-04-01  330.4\n",
      "2000-07-01  327.4\n",
      "2000-10-01  352.2\n",
      "2001-01-01  329.5\n",
      "2001-04-01  342.1\n",
      "2001-07-01  340.5\n",
      "2001-10-01  359.5\n",
      "2002-01-01  337.8\n",
      "2002-04-01  355.0\n",
      "2002-07-01  350.0\n",
      "2002-10-01  367.4\n",
      "2003-01-01  347.3\n",
      "2003-04-01  356.8\n",
      "2003-07-01  354.6\n",
      "2003-10-01  378.1\n",
      "2004-01-01  360.6\n",
      "2004-04-01  375.3\n",
      "2004-07-01  373.2\n",
      "2004-10-01  397.0\n",
      "2005-01-01  372.7\n",
      "2005-04-01  401.1\n",
      "2005-07-01  395.8\n",
      "2005-10-01  416.5\n",
      "2006-01-01  399.6\n",
      "2006-04-01  427.5\n",
      "2006-07-01  421.5\n",
      "2006-10-01  433.7\n",
      "2007-01-01  416.1\n",
      "2007-04-01  431.8\n",
      "2007-07-01  432.7\n",
      "2007-10-01  458.3\n",
      "2008-01-01  432.8\n",
      "2008-04-01  456.7\n",
      "2008-07-01  454.3\n",
      "2008-10-01  457.7\n",
      "2009-01-01  420.8\n",
      "2009-04-01  426.6\n",
      "2009-07-01  429.2\n",
      "2009-10-01  445.5\n",
      "2010-01-01  430.5\n",
      "2010-04-01  454.6\n",
      "2010-07-01  455.8\n",
      "2010-10-01  470.0\n",
      "2011-01-01  449.7\n",
      "2011-04-01  466.6\n",
      "2011-07-01  456.5\n",
      "2011-10-01  474.0\n",
      "2012-01-01  457.6\n",
      "2012-04-01  477.7\n",
      "2012-07-01  474.1\n",
      "2012-10-01  485.6\n",
      "2013-01-01  464.3\n",
      "2013-04-01  487.5\n",
      "2013-07-01  482.2\n",
      "2013-10-01  495.7\n",
      "2014-01-01  479.6\n",
      "2014-04-01  495.2\n",
      "2014-07-01  493.7\n",
      "2014-10-01  512.7\n",
      "2015-01-01  495.9\n",
      "2015-04-01  513.5\n",
      "2015-07-01  505.9\n",
      "2015-10-01  521.1\n",
      "2016-01-01  504.8\n",
      "2016-04-01  534.1\n",
      "2016-07-01  521.5\n",
      "2016-10-01  547.4\n",
      "2017-01-01  530.6\n",
      "2017-04-01  558.4\n",
      "2017-07-01  541.1\n",
      "2017-10-01  562.9\n",
      "2018-01-01  538.6\n",
      "2018-04-01  569.3\n",
      "2018-07-01  560.2\n",
      "2018-10-01  585.2\n",
      "2019-01-01  555.8\n",
      "2019-04-01  583.2\n",
      "2019-07-01  574.4\n",
      "2019-10-01  597.6\n",
      "\n",
      "Please analyze the provided data, which represents the GDP values over time, and generate predictions for the GDP for the specified timeframe. Your output should be a list of predicted GDP values for each quarter from 2020Q1 to 2023Q4.\n",
      "\n",
      "Note: Your predictions should consider the underlying patterns in the data and provide realistic forecasts.\n",
      "\n"
     ]
    }
   ],
   "source": [
    "# Format the training data as a string\n",
    "gdp_train_str = gdp_train.to_string(index=False)\n",
    "\n",
    "# Inserting gdp_train into the prompt string\n",
    "prompt = f\"\"\"\n",
    "You are a time series forecasting model designed to predict the Danish GDP based on historical data. \n",
    "Your task is to forecast the GDP from 2020Q1 until 2023Q4, using the provided GDP training data.\n",
    "\n",
    "The provided GDP training data is as follows:\n",
    "{gdp_train_str}\n",
    "\n",
    "Please analyze the provided data, which represents the GDP values over time, and generate predictions for the GDP for the specified timeframe. Your output should be a list of predicted GDP values for each quarter from 2020Q1 to 2023Q4.\n",
    "\n",
    "Note: Your predictions should consider the underlying patterns in the data and provide realistic forecasts.\n",
    "\"\"\"\n",
    "\n",
    "print(prompt)"
   ]
  },
  {
   "cell_type": "code",
   "execution_count": 17,
   "metadata": {},
   "outputs": [
    {
     "name": "stdout",
     "output_type": "stream",
     "text": [
      "\n",
      "You are a time series forecasting model designed to predict the Danish GDP based on historical data. \n",
      "Your task is to forecast the GDP for specified quarters, using the provided GDP training data.\n",
      "\n",
      "The provided GDP training data includes historical GDP values from 1990 to 2019:\n",
      "      Time  Value\n",
      "1990-01-01  210.2\n",
      "1990-04-01  218.1\n",
      "1990-07-01  209.5\n",
      "1990-10-01  217.8\n",
      "1991-01-01  220.2\n",
      "1991-04-01  226.1\n",
      "1991-07-01  219.6\n",
      "1991-10-01  224.6\n",
      "1992-01-01  228.1\n",
      "1992-04-01  231.1\n",
      "1992-07-01  227.1\n",
      "1992-10-01  236.7\n",
      "1993-01-01  227.8\n",
      "1993-04-01  232.7\n",
      "1993-07-01  227.8\n",
      "1993-10-01  240.2\n",
      "1994-01-01  238.3\n",
      "1994-04-01  252.4\n",
      "1994-07-01  242.8\n",
      "1994-10-01  259.8\n",
      "1995-01-01  254.3\n",
      "1995-04-01  261.5\n",
      "1995-07-01  252.8\n",
      "1995-10-01  267.8\n",
      "1996-01-01  260.8\n",
      "1996-04-01  275.2\n",
      "1996-07-01  269.6\n",
      "1996-10-01  282.5\n",
      "1997-01-01  273.9\n",
      "1997-04-01  291.8\n",
      "1997-07-01  281.8\n",
      "1997-10-01  298.6\n",
      "1998-01-01  288.4\n",
      "1998-04-01  294.3\n",
      "1998-07-01  293.8\n",
      "1998-10-01  309.5\n",
      "1999-01-01  296.3\n",
      "1999-04-01  310.0\n",
      "1999-07-01  306.6\n",
      "1999-10-01  328.6\n",
      "2000-01-01  316.9\n",
      "2000-04-01  330.4\n",
      "2000-07-01  327.4\n",
      "2000-10-01  352.2\n",
      "2001-01-01  329.5\n",
      "2001-04-01  342.1\n",
      "2001-07-01  340.5\n",
      "2001-10-01  359.5\n",
      "2002-01-01  337.8\n",
      "2002-04-01  355.0\n",
      "2002-07-01  350.0\n",
      "2002-10-01  367.4\n",
      "2003-01-01  347.3\n",
      "2003-04-01  356.8\n",
      "2003-07-01  354.6\n",
      "2003-10-01  378.1\n",
      "2004-01-01  360.6\n",
      "2004-04-01  375.3\n",
      "2004-07-01  373.2\n",
      "2004-10-01  397.0\n",
      "2005-01-01  372.7\n",
      "2005-04-01  401.1\n",
      "2005-07-01  395.8\n",
      "2005-10-01  416.5\n",
      "2006-01-01  399.6\n",
      "2006-04-01  427.5\n",
      "2006-07-01  421.5\n",
      "2006-10-01  433.7\n",
      "2007-01-01  416.1\n",
      "2007-04-01  431.8\n",
      "2007-07-01  432.7\n",
      "2007-10-01  458.3\n",
      "2008-01-01  432.8\n",
      "2008-04-01  456.7\n",
      "2008-07-01  454.3\n",
      "2008-10-01  457.7\n",
      "2009-01-01  420.8\n",
      "2009-04-01  426.6\n",
      "2009-07-01  429.2\n",
      "2009-10-01  445.5\n",
      "2010-01-01  430.5\n",
      "2010-04-01  454.6\n",
      "2010-07-01  455.8\n",
      "2010-10-01  470.0\n",
      "2011-01-01  449.7\n",
      "2011-04-01  466.6\n",
      "2011-07-01  456.5\n",
      "2011-10-01  474.0\n",
      "2012-01-01  457.6\n",
      "2012-04-01  477.7\n",
      "2012-07-01  474.1\n",
      "2012-10-01  485.6\n",
      "2013-01-01  464.3\n",
      "2013-04-01  487.5\n",
      "2013-07-01  482.2\n",
      "2013-10-01  495.7\n",
      "2014-01-01  479.6\n",
      "2014-04-01  495.2\n",
      "2014-07-01  493.7\n",
      "2014-10-01  512.7\n",
      "2015-01-01  495.9\n",
      "2015-04-01  513.5\n",
      "2015-07-01  505.9\n",
      "2015-10-01  521.1\n",
      "2016-01-01  504.8\n",
      "2016-04-01  534.1\n",
      "2016-07-01  521.5\n",
      "2016-10-01  547.4\n",
      "2017-01-01  530.6\n",
      "2017-04-01  558.4\n",
      "2017-07-01  541.1\n",
      "2017-10-01  562.9\n",
      "2018-01-01  538.6\n",
      "2018-04-01  569.3\n",
      "2018-07-01  560.2\n",
      "2018-10-01  585.2\n",
      "2019-01-01  555.8\n",
      "2019-04-01  583.2\n",
      "2019-07-01  574.4\n",
      "2019-10-01  597.6\n",
      "\n",
      "Please analyze the provided data, which represents the GDP values over time, and generate predictions for the specified quarters. Your output should be a list of predicted GDP values for each specified quarter.\n",
      "\n",
      "Note: Your predictions should consider the underlying patterns in the data and provide realistic forecasts.\n",
      "\n"
     ]
    }
   ],
   "source": [
    "pre_prompt = f\"\"\"\n",
    "You are a time series forecasting model designed to predict the Danish GDP based on historical data. \n",
    "Your task is to forecast the GDP for specified quarters, using the provided GDP training data.\n",
    "\n",
    "The provided GDP training data includes historical GDP values from 1990 to 2019:\n",
    "{gdp_train_str}\n",
    "\n",
    "Please analyze the provided data, which represents the GDP values over time, and generate predictions for the specified quarters. Your output should be a list of predicted GDP values for each specified quarter.\n",
    "\n",
    "Note: Your predictions should consider the underlying patterns in the data and provide realistic forecasts.\n",
    "\"\"\"\n",
    "\n",
    "print(pre_prompt)"
   ]
  },
  {
   "cell_type": "code",
   "execution_count": 18,
   "metadata": {},
   "outputs": [
    {
     "name": "stdout",
     "output_type": "stream",
     "text": [
      "\n",
      "You are tasked with predicting the Danish GDP for the period of {}.\n",
      "\n",
      "Please analyze the historical GDP data and generate a prediction for the GDP value for this period.\n",
      "\n",
      "Note: Provide a single predicted GDP value for the specified period.\n",
      "\n"
     ]
    }
   ],
   "source": [
    "#Creating a invididual prompt for each quarter\n",
    "period_prompt = \"\"\"\n",
    "You are tasked with predicting the Danish GDP for the period of {}.\n",
    "\n",
    "Please analyze the historical GDP data and generate a prediction for the GDP value for this period.\n",
    "\n",
    "Note: Provide a single predicted GDP value for the specified period.\n",
    "\"\"\"\n",
    "\n",
    "print(period_prompt)"
   ]
  },
  {
   "cell_type": "code",
   "execution_count": 19,
   "metadata": {},
   "outputs": [],
   "source": [
    "#Creating the pipeline for the model with the given model, tokenizer and generation config\n",
    "predictions = pipeline(\"text-generation\", \n",
    "                       model=model, \n",
    "                       tokenizer=tokenizer, \n",
    "                       config=generation_config, \n",
    "                       device=device\n",
    "                       )"
   ]
  },
  {
   "cell_type": "code",
   "execution_count": 20,
   "metadata": {},
   "outputs": [
    {
     "name": "stderr",
     "output_type": "stream",
     "text": [
      "Truncation was not explicitly activated but `max_length` is provided a specific value, please use `truncation=True` to explicitly truncate examples to max length. Defaulting to 'longest_first' truncation strategy. If you encode pairs of sequences (GLUE-style) with the tokenizer you can select this strategy more precisely by providing a specific strategy to `truncation`.\n",
      "Setting `pad_token_id` to `eos_token_id`:2 for open-end generation.\n"
     ]
    },
    {
     "name": "stderr",
     "output_type": "stream",
     "text": [
      "Setting `pad_token_id` to `eos_token_id`:2 for open-end generation.\n"
     ]
    },
    {
     "name": "stdout",
     "output_type": "stream",
     "text": [
      "Predictions for 2020Q1:\n"
     ]
    },
    {
     "name": "stderr",
     "output_type": "stream",
     "text": [
      "Setting `pad_token_id` to `eos_token_id`:2 for open-end generation.\n"
     ]
    },
    {
     "name": "stdout",
     "output_type": "stream",
     "text": [
      "Predictions for 2020Q2:\n"
     ]
    },
    {
     "name": "stderr",
     "output_type": "stream",
     "text": [
      "Setting `pad_token_id` to `eos_token_id`:2 for open-end generation.\n"
     ]
    },
    {
     "name": "stdout",
     "output_type": "stream",
     "text": [
      "Predictions for 2020Q3:\n"
     ]
    },
    {
     "name": "stderr",
     "output_type": "stream",
     "text": [
      "Setting `pad_token_id` to `eos_token_id`:2 for open-end generation.\n"
     ]
    },
    {
     "name": "stdout",
     "output_type": "stream",
     "text": [
      "Predictions for 2020Q4:\n"
     ]
    },
    {
     "name": "stderr",
     "output_type": "stream",
     "text": [
      "Setting `pad_token_id` to `eos_token_id`:2 for open-end generation.\n"
     ]
    },
    {
     "name": "stdout",
     "output_type": "stream",
     "text": [
      "Predictions for 2021Q1:\n"
     ]
    },
    {
     "name": "stderr",
     "output_type": "stream",
     "text": [
      "Setting `pad_token_id` to `eos_token_id`:2 for open-end generation.\n"
     ]
    },
    {
     "name": "stdout",
     "output_type": "stream",
     "text": [
      "Predictions for 2021Q2:\n"
     ]
    },
    {
     "name": "stderr",
     "output_type": "stream",
     "text": [
      "Setting `pad_token_id` to `eos_token_id`:2 for open-end generation.\n"
     ]
    },
    {
     "name": "stdout",
     "output_type": "stream",
     "text": [
      "Predictions for 2021Q3:\n"
     ]
    },
    {
     "name": "stderr",
     "output_type": "stream",
     "text": [
      "Setting `pad_token_id` to `eos_token_id`:2 for open-end generation.\n"
     ]
    },
    {
     "name": "stdout",
     "output_type": "stream",
     "text": [
      "Predictions for 2021Q4:\n"
     ]
    },
    {
     "name": "stderr",
     "output_type": "stream",
     "text": [
      "Setting `pad_token_id` to `eos_token_id`:2 for open-end generation.\n"
     ]
    },
    {
     "name": "stdout",
     "output_type": "stream",
     "text": [
      "Predictions for 2022Q1:\n"
     ]
    },
    {
     "name": "stderr",
     "output_type": "stream",
     "text": [
      "Setting `pad_token_id` to `eos_token_id`:2 for open-end generation.\n"
     ]
    },
    {
     "name": "stdout",
     "output_type": "stream",
     "text": [
      "Predictions for 2022Q2:\n"
     ]
    },
    {
     "name": "stderr",
     "output_type": "stream",
     "text": [
      "Setting `pad_token_id` to `eos_token_id`:2 for open-end generation.\n"
     ]
    },
    {
     "name": "stdout",
     "output_type": "stream",
     "text": [
      "Predictions for 2022Q3:\n"
     ]
    },
    {
     "name": "stderr",
     "output_type": "stream",
     "text": [
      "Setting `pad_token_id` to `eos_token_id`:2 for open-end generation.\n"
     ]
    },
    {
     "name": "stdout",
     "output_type": "stream",
     "text": [
      "Predictions for 2022Q4:\n"
     ]
    },
    {
     "name": "stderr",
     "output_type": "stream",
     "text": [
      "Setting `pad_token_id` to `eos_token_id`:2 for open-end generation.\n"
     ]
    },
    {
     "name": "stdout",
     "output_type": "stream",
     "text": [
      "Predictions for 2023Q1:\n"
     ]
    },
    {
     "name": "stderr",
     "output_type": "stream",
     "text": [
      "Setting `pad_token_id` to `eos_token_id`:2 for open-end generation.\n"
     ]
    },
    {
     "name": "stdout",
     "output_type": "stream",
     "text": [
      "Predictions for 2023Q2:\n"
     ]
    },
    {
     "name": "stderr",
     "output_type": "stream",
     "text": [
      "Setting `pad_token_id` to `eos_token_id`:2 for open-end generation.\n"
     ]
    },
    {
     "name": "stdout",
     "output_type": "stream",
     "text": [
      "Predictions for 2023Q3:\n",
      "Predictions for 2023Q4:\n",
      "Predictions for 2020Q1:\n",
      "[{'generated_text': '\\nYou are a time series forecasting model designed to predict the Danish GDP based on historical data. \\nYour task is to forecast the GDP for specified quarters, using the provided GDP training data.\\n\\nThe provided GDP training data includes historical GDP values from 1990 to 2019:\\n      Time  Value\\n1990-01-01  210.2\\n1990-04-01  218.1\\n1990-07-01  209.5\\n1990-10-01  217.8\\n1991-01-01  220.2\\n1991-04-01  226.1\\n1991-07-01  219.6\\n1991-10-01  224.6\\n1992-01-01  228.1\\n1992-04-01  231.1\\n1992-07-01  227.1\\n1992-10-01  236.7\\n1993-01-01  227.8\\n1993-04-01  232.7\\n1993-07-01  227.8\\n1993-10-01  240.2\\n1994-01-01  238.3\\n1994-04-01  252.4\\n1994-07-01  242.8\\n1994-10-01  259.8\\n1995-01-01  254.3\\n1995-04-01  261.5\\n1995-07-01  252.8\\n1995-10-01  267.8\\n1996-01-01  260.8\\n1996-04-01  275.2\\n1996-07-01  269.6\\n1996-10-01  282.5\\n1997-01-01  273.9\\n1997-04-01  291.8\\n1997-07-01  281.8\\n1997-10-01  298.6\\n1998-01-01  288.4\\n1998-04-01  294.3\\n1998-07-01  293.8\\n1998-10-01  309.5\\n1999-01-01  296.3\\n1999-04-01  310.0\\n1999-07-01  306.6\\n1999-10-01  328.6\\n2000-01-01  316.9\\n2000-04-01  330.4\\n2000-07-01  327.4\\n2000-10-01  352.2\\n2001-01-01  329.5\\n2001-04-01  342.1\\n2001-07-01  340.5\\n2001-10-01  359.5\\n2002-01-01  337.8\\n2002-04-01  355.0\\n2002-07-01  350.0\\n2002-10-01  367.4\\n2003-01-01  347.3\\n2003-04-01  356.8\\n2003-07-01  354.6\\n2003-10-01  378.1\\n2004-01-01  360.6\\n2004-04-01  375.3\\n2004-07-01  373.2\\n2004-10-01  397.0\\n2005-01-01  372.7\\n2005-04-01  401.1\\n2005-07-01  395.8\\n2005-10-01  416.5\\n2006-01-01  399.6\\n2006-04-01  427.5\\n2006-07-01  421.5\\n2006-10-01  433.7\\n2007-01-01  416.1\\n2007-04-01  431.8\\n2007-07-01  432.7\\n2007-10-01  458.3\\n2008-01-01  432.8\\n2008-04-01  456.7\\n2008-07-01  454.3\\n2008-10-01  457.7\\n2009-01-01  420.8\\n2009-04-01  426.6\\n2009-07-01  429.2\\n2009-10-01  445.5\\n2010-01-01  430.5\\n2010-04-01  454.6\\n2010-07-01  455.8\\n2010-10-01  470.0\\n2011-01-01  449.7\\n2011-04-01  466.6\\n2011-07-01  456.5\\n2011-10-01  474.0\\n2012-01-01  457.6\\n2012-04-01  477.7\\n2012-07-01  474.1\\n2012-10-01  485.6\\n2013-01-01  464.3\\n2013-04-01  487.5\\n2013-07-01  482.2\\n2013-10-01  495.7\\n2014-01-01  479.6\\n2014-04-01  495.2\\n2014-07-01  493.7\\n2014-10-01  512.7\\n2015-01-01  495.9\\n2015-04-01  513.5\\n2015-07-01  505.9\\n2015-10-01  521.1\\n2016-01-01  504.8\\n2016-04-01  534.1\\n2016-07-01  521.5\\n2016-10-01  547.4\\n2017-01-01  530.6\\n2017-04-01  558.4\\n2017-07-01  541.1\\n2017-10-01  562.9\\n2018-01-01  538.6\\n2018-04-01  569.3\\n2018-07-01  560.2\\n2018-10-01  585.2\\n2019-01-01  555.8\\n2019-04-01  583.2\\n2019-07-01  574.4\\n2019-10-01  597.6\\n\\nPlease analyze the provided data, which represents the GDP values over time, and generate predictions for the specified quarters. Your output should be a list of predicted GDP values for each specified quarter.\\n\\nNote: Your predictions should consider the underlying patterns in the data and provide realistic forecasts.\\n\\nYou are tasked with predicting the Danish GDP for the period of 2020Q1.\\n\\nPlease analyze the historical GDP data and generate a prediction for the GDP value for this period.\\n\\nNote: Provide a single predicted GDP value for the specified period.\\n2'}]\n",
      "Predictions for 2020Q2:\n",
      "[{'generated_text': '\\nYou are a time series forecasting model designed to predict the Danish GDP based on historical data. \\nYour task is to forecast the GDP for specified quarters, using the provided GDP training data.\\n\\nThe provided GDP training data includes historical GDP values from 1990 to 2019:\\n      Time  Value\\n1990-01-01  210.2\\n1990-04-01  218.1\\n1990-07-01  209.5\\n1990-10-01  217.8\\n1991-01-01  220.2\\n1991-04-01  226.1\\n1991-07-01  219.6\\n1991-10-01  224.6\\n1992-01-01  228.1\\n1992-04-01  231.1\\n1992-07-01  227.1\\n1992-10-01  236.7\\n1993-01-01  227.8\\n1993-04-01  232.7\\n1993-07-01  227.8\\n1993-10-01  240.2\\n1994-01-01  238.3\\n1994-04-01  252.4\\n1994-07-01  242.8\\n1994-10-01  259.8\\n1995-01-01  254.3\\n1995-04-01  261.5\\n1995-07-01  252.8\\n1995-10-01  267.8\\n1996-01-01  260.8\\n1996-04-01  275.2\\n1996-07-01  269.6\\n1996-10-01  282.5\\n1997-01-01  273.9\\n1997-04-01  291.8\\n1997-07-01  281.8\\n1997-10-01  298.6\\n1998-01-01  288.4\\n1998-04-01  294.3\\n1998-07-01  293.8\\n1998-10-01  309.5\\n1999-01-01  296.3\\n1999-04-01  310.0\\n1999-07-01  306.6\\n1999-10-01  328.6\\n2000-01-01  316.9\\n2000-04-01  330.4\\n2000-07-01  327.4\\n2000-10-01  352.2\\n2001-01-01  329.5\\n2001-04-01  342.1\\n2001-07-01  340.5\\n2001-10-01  359.5\\n2002-01-01  337.8\\n2002-04-01  355.0\\n2002-07-01  350.0\\n2002-10-01  367.4\\n2003-01-01  347.3\\n2003-04-01  356.8\\n2003-07-01  354.6\\n2003-10-01  378.1\\n2004-01-01  360.6\\n2004-04-01  375.3\\n2004-07-01  373.2\\n2004-10-01  397.0\\n2005-01-01  372.7\\n2005-04-01  401.1\\n2005-07-01  395.8\\n2005-10-01  416.5\\n2006-01-01  399.6\\n2006-04-01  427.5\\n2006-07-01  421.5\\n2006-10-01  433.7\\n2007-01-01  416.1\\n2007-04-01  431.8\\n2007-07-01  432.7\\n2007-10-01  458.3\\n2008-01-01  432.8\\n2008-04-01  456.7\\n2008-07-01  454.3\\n2008-10-01  457.7\\n2009-01-01  420.8\\n2009-04-01  426.6\\n2009-07-01  429.2\\n2009-10-01  445.5\\n2010-01-01  430.5\\n2010-04-01  454.6\\n2010-07-01  455.8\\n2010-10-01  470.0\\n2011-01-01  449.7\\n2011-04-01  466.6\\n2011-07-01  456.5\\n2011-10-01  474.0\\n2012-01-01  457.6\\n2012-04-01  477.7\\n2012-07-01  474.1\\n2012-10-01  485.6\\n2013-01-01  464.3\\n2013-04-01  487.5\\n2013-07-01  482.2\\n2013-10-01  495.7\\n2014-01-01  479.6\\n2014-04-01  495.2\\n2014-07-01  493.7\\n2014-10-01  512.7\\n2015-01-01  495.9\\n2015-04-01  513.5\\n2015-07-01  505.9\\n2015-10-01  521.1\\n2016-01-01  504.8\\n2016-04-01  534.1\\n2016-07-01  521.5\\n2016-10-01  547.4\\n2017-01-01  530.6\\n2017-04-01  558.4\\n2017-07-01  541.1\\n2017-10-01  562.9\\n2018-01-01  538.6\\n2018-04-01  569.3\\n2018-07-01  560.2\\n2018-10-01  585.2\\n2019-01-01  555.8\\n2019-04-01  583.2\\n2019-07-01  574.4\\n2019-10-01  597.6\\n\\nPlease analyze the provided data, which represents the GDP values over time, and generate predictions for the specified quarters. Your output should be a list of predicted GDP values for each specified quarter.\\n\\nNote: Your predictions should consider the underlying patterns in the data and provide realistic forecasts.\\n\\nYou are tasked with predicting the Danish GDP for the period of 2020Q2.\\n\\nPlease analyze the historical GDP data and generate a prediction for the GDP value for this period.\\n\\nNote: Provide a single predicted GDP value for the specified period.\\n2'}]\n",
      "Predictions for 2020Q3:\n",
      "[{'generated_text': '\\nYou are a time series forecasting model designed to predict the Danish GDP based on historical data. \\nYour task is to forecast the GDP for specified quarters, using the provided GDP training data.\\n\\nThe provided GDP training data includes historical GDP values from 1990 to 2019:\\n      Time  Value\\n1990-01-01  210.2\\n1990-04-01  218.1\\n1990-07-01  209.5\\n1990-10-01  217.8\\n1991-01-01  220.2\\n1991-04-01  226.1\\n1991-07-01  219.6\\n1991-10-01  224.6\\n1992-01-01  228.1\\n1992-04-01  231.1\\n1992-07-01  227.1\\n1992-10-01  236.7\\n1993-01-01  227.8\\n1993-04-01  232.7\\n1993-07-01  227.8\\n1993-10-01  240.2\\n1994-01-01  238.3\\n1994-04-01  252.4\\n1994-07-01  242.8\\n1994-10-01  259.8\\n1995-01-01  254.3\\n1995-04-01  261.5\\n1995-07-01  252.8\\n1995-10-01  267.8\\n1996-01-01  260.8\\n1996-04-01  275.2\\n1996-07-01  269.6\\n1996-10-01  282.5\\n1997-01-01  273.9\\n1997-04-01  291.8\\n1997-07-01  281.8\\n1997-10-01  298.6\\n1998-01-01  288.4\\n1998-04-01  294.3\\n1998-07-01  293.8\\n1998-10-01  309.5\\n1999-01-01  296.3\\n1999-04-01  310.0\\n1999-07-01  306.6\\n1999-10-01  328.6\\n2000-01-01  316.9\\n2000-04-01  330.4\\n2000-07-01  327.4\\n2000-10-01  352.2\\n2001-01-01  329.5\\n2001-04-01  342.1\\n2001-07-01  340.5\\n2001-10-01  359.5\\n2002-01-01  337.8\\n2002-04-01  355.0\\n2002-07-01  350.0\\n2002-10-01  367.4\\n2003-01-01  347.3\\n2003-04-01  356.8\\n2003-07-01  354.6\\n2003-10-01  378.1\\n2004-01-01  360.6\\n2004-04-01  375.3\\n2004-07-01  373.2\\n2004-10-01  397.0\\n2005-01-01  372.7\\n2005-04-01  401.1\\n2005-07-01  395.8\\n2005-10-01  416.5\\n2006-01-01  399.6\\n2006-04-01  427.5\\n2006-07-01  421.5\\n2006-10-01  433.7\\n2007-01-01  416.1\\n2007-04-01  431.8\\n2007-07-01  432.7\\n2007-10-01  458.3\\n2008-01-01  432.8\\n2008-04-01  456.7\\n2008-07-01  454.3\\n2008-10-01  457.7\\n2009-01-01  420.8\\n2009-04-01  426.6\\n2009-07-01  429.2\\n2009-10-01  445.5\\n2010-01-01  430.5\\n2010-04-01  454.6\\n2010-07-01  455.8\\n2010-10-01  470.0\\n2011-01-01  449.7\\n2011-04-01  466.6\\n2011-07-01  456.5\\n2011-10-01  474.0\\n2012-01-01  457.6\\n2012-04-01  477.7\\n2012-07-01  474.1\\n2012-10-01  485.6\\n2013-01-01  464.3\\n2013-04-01  487.5\\n2013-07-01  482.2\\n2013-10-01  495.7\\n2014-01-01  479.6\\n2014-04-01  495.2\\n2014-07-01  493.7\\n2014-10-01  512.7\\n2015-01-01  495.9\\n2015-04-01  513.5\\n2015-07-01  505.9\\n2015-10-01  521.1\\n2016-01-01  504.8\\n2016-04-01  534.1\\n2016-07-01  521.5\\n2016-10-01  547.4\\n2017-01-01  530.6\\n2017-04-01  558.4\\n2017-07-01  541.1\\n2017-10-01  562.9\\n2018-01-01  538.6\\n2018-04-01  569.3\\n2018-07-01  560.2\\n2018-10-01  585.2\\n2019-01-01  555.8\\n2019-04-01  583.2\\n2019-07-01  574.4\\n2019-10-01  597.6\\n\\nPlease analyze the provided data, which represents the GDP values over time, and generate predictions for the specified quarters. Your output should be a list of predicted GDP values for each specified quarter.\\n\\nNote: Your predictions should consider the underlying patterns in the data and provide realistic forecasts.\\n\\nYou are tasked with predicting the Danish GDP for the period of 2020Q3.\\n\\nPlease analyze the historical GDP data and generate a prediction for the GDP value for this period.\\n\\nNote: Provide a single predicted GDP value for the specified period.\\n2'}]\n",
      "Predictions for 2020Q4:\n",
      "[{'generated_text': '\\nYou are a time series forecasting model designed to predict the Danish GDP based on historical data. \\nYour task is to forecast the GDP for specified quarters, using the provided GDP training data.\\n\\nThe provided GDP training data includes historical GDP values from 1990 to 2019:\\n      Time  Value\\n1990-01-01  210.2\\n1990-04-01  218.1\\n1990-07-01  209.5\\n1990-10-01  217.8\\n1991-01-01  220.2\\n1991-04-01  226.1\\n1991-07-01  219.6\\n1991-10-01  224.6\\n1992-01-01  228.1\\n1992-04-01  231.1\\n1992-07-01  227.1\\n1992-10-01  236.7\\n1993-01-01  227.8\\n1993-04-01  232.7\\n1993-07-01  227.8\\n1993-10-01  240.2\\n1994-01-01  238.3\\n1994-04-01  252.4\\n1994-07-01  242.8\\n1994-10-01  259.8\\n1995-01-01  254.3\\n1995-04-01  261.5\\n1995-07-01  252.8\\n1995-10-01  267.8\\n1996-01-01  260.8\\n1996-04-01  275.2\\n1996-07-01  269.6\\n1996-10-01  282.5\\n1997-01-01  273.9\\n1997-04-01  291.8\\n1997-07-01  281.8\\n1997-10-01  298.6\\n1998-01-01  288.4\\n1998-04-01  294.3\\n1998-07-01  293.8\\n1998-10-01  309.5\\n1999-01-01  296.3\\n1999-04-01  310.0\\n1999-07-01  306.6\\n1999-10-01  328.6\\n2000-01-01  316.9\\n2000-04-01  330.4\\n2000-07-01  327.4\\n2000-10-01  352.2\\n2001-01-01  329.5\\n2001-04-01  342.1\\n2001-07-01  340.5\\n2001-10-01  359.5\\n2002-01-01  337.8\\n2002-04-01  355.0\\n2002-07-01  350.0\\n2002-10-01  367.4\\n2003-01-01  347.3\\n2003-04-01  356.8\\n2003-07-01  354.6\\n2003-10-01  378.1\\n2004-01-01  360.6\\n2004-04-01  375.3\\n2004-07-01  373.2\\n2004-10-01  397.0\\n2005-01-01  372.7\\n2005-04-01  401.1\\n2005-07-01  395.8\\n2005-10-01  416.5\\n2006-01-01  399.6\\n2006-04-01  427.5\\n2006-07-01  421.5\\n2006-10-01  433.7\\n2007-01-01  416.1\\n2007-04-01  431.8\\n2007-07-01  432.7\\n2007-10-01  458.3\\n2008-01-01  432.8\\n2008-04-01  456.7\\n2008-07-01  454.3\\n2008-10-01  457.7\\n2009-01-01  420.8\\n2009-04-01  426.6\\n2009-07-01  429.2\\n2009-10-01  445.5\\n2010-01-01  430.5\\n2010-04-01  454.6\\n2010-07-01  455.8\\n2010-10-01  470.0\\n2011-01-01  449.7\\n2011-04-01  466.6\\n2011-07-01  456.5\\n2011-10-01  474.0\\n2012-01-01  457.6\\n2012-04-01  477.7\\n2012-07-01  474.1\\n2012-10-01  485.6\\n2013-01-01  464.3\\n2013-04-01  487.5\\n2013-07-01  482.2\\n2013-10-01  495.7\\n2014-01-01  479.6\\n2014-04-01  495.2\\n2014-07-01  493.7\\n2014-10-01  512.7\\n2015-01-01  495.9\\n2015-04-01  513.5\\n2015-07-01  505.9\\n2015-10-01  521.1\\n2016-01-01  504.8\\n2016-04-01  534.1\\n2016-07-01  521.5\\n2016-10-01  547.4\\n2017-01-01  530.6\\n2017-04-01  558.4\\n2017-07-01  541.1\\n2017-10-01  562.9\\n2018-01-01  538.6\\n2018-04-01  569.3\\n2018-07-01  560.2\\n2018-10-01  585.2\\n2019-01-01  555.8\\n2019-04-01  583.2\\n2019-07-01  574.4\\n2019-10-01  597.6\\n\\nPlease analyze the provided data, which represents the GDP values over time, and generate predictions for the specified quarters. Your output should be a list of predicted GDP values for each specified quarter.\\n\\nNote: Your predictions should consider the underlying patterns in the data and provide realistic forecasts.\\n\\nYou are tasked with predicting the Danish GDP for the period of 2020Q4.\\n\\nPlease analyze the historical GDP data and generate a prediction for the GDP value for this period.\\n\\nNote: Provide a single predicted GDP value for the specified period.\\n2'}]\n",
      "Predictions for 2021Q1:\n",
      "[{'generated_text': '\\nYou are a time series forecasting model designed to predict the Danish GDP based on historical data. \\nYour task is to forecast the GDP for specified quarters, using the provided GDP training data.\\n\\nThe provided GDP training data includes historical GDP values from 1990 to 2019:\\n      Time  Value\\n1990-01-01  210.2\\n1990-04-01  218.1\\n1990-07-01  209.5\\n1990-10-01  217.8\\n1991-01-01  220.2\\n1991-04-01  226.1\\n1991-07-01  219.6\\n1991-10-01  224.6\\n1992-01-01  228.1\\n1992-04-01  231.1\\n1992-07-01  227.1\\n1992-10-01  236.7\\n1993-01-01  227.8\\n1993-04-01  232.7\\n1993-07-01  227.8\\n1993-10-01  240.2\\n1994-01-01  238.3\\n1994-04-01  252.4\\n1994-07-01  242.8\\n1994-10-01  259.8\\n1995-01-01  254.3\\n1995-04-01  261.5\\n1995-07-01  252.8\\n1995-10-01  267.8\\n1996-01-01  260.8\\n1996-04-01  275.2\\n1996-07-01  269.6\\n1996-10-01  282.5\\n1997-01-01  273.9\\n1997-04-01  291.8\\n1997-07-01  281.8\\n1997-10-01  298.6\\n1998-01-01  288.4\\n1998-04-01  294.3\\n1998-07-01  293.8\\n1998-10-01  309.5\\n1999-01-01  296.3\\n1999-04-01  310.0\\n1999-07-01  306.6\\n1999-10-01  328.6\\n2000-01-01  316.9\\n2000-04-01  330.4\\n2000-07-01  327.4\\n2000-10-01  352.2\\n2001-01-01  329.5\\n2001-04-01  342.1\\n2001-07-01  340.5\\n2001-10-01  359.5\\n2002-01-01  337.8\\n2002-04-01  355.0\\n2002-07-01  350.0\\n2002-10-01  367.4\\n2003-01-01  347.3\\n2003-04-01  356.8\\n2003-07-01  354.6\\n2003-10-01  378.1\\n2004-01-01  360.6\\n2004-04-01  375.3\\n2004-07-01  373.2\\n2004-10-01  397.0\\n2005-01-01  372.7\\n2005-04-01  401.1\\n2005-07-01  395.8\\n2005-10-01  416.5\\n2006-01-01  399.6\\n2006-04-01  427.5\\n2006-07-01  421.5\\n2006-10-01  433.7\\n2007-01-01  416.1\\n2007-04-01  431.8\\n2007-07-01  432.7\\n2007-10-01  458.3\\n2008-01-01  432.8\\n2008-04-01  456.7\\n2008-07-01  454.3\\n2008-10-01  457.7\\n2009-01-01  420.8\\n2009-04-01  426.6\\n2009-07-01  429.2\\n2009-10-01  445.5\\n2010-01-01  430.5\\n2010-04-01  454.6\\n2010-07-01  455.8\\n2010-10-01  470.0\\n2011-01-01  449.7\\n2011-04-01  466.6\\n2011-07-01  456.5\\n2011-10-01  474.0\\n2012-01-01  457.6\\n2012-04-01  477.7\\n2012-07-01  474.1\\n2012-10-01  485.6\\n2013-01-01  464.3\\n2013-04-01  487.5\\n2013-07-01  482.2\\n2013-10-01  495.7\\n2014-01-01  479.6\\n2014-04-01  495.2\\n2014-07-01  493.7\\n2014-10-01  512.7\\n2015-01-01  495.9\\n2015-04-01  513.5\\n2015-07-01  505.9\\n2015-10-01  521.1\\n2016-01-01  504.8\\n2016-04-01  534.1\\n2016-07-01  521.5\\n2016-10-01  547.4\\n2017-01-01  530.6\\n2017-04-01  558.4\\n2017-07-01  541.1\\n2017-10-01  562.9\\n2018-01-01  538.6\\n2018-04-01  569.3\\n2018-07-01  560.2\\n2018-10-01  585.2\\n2019-01-01  555.8\\n2019-04-01  583.2\\n2019-07-01  574.4\\n2019-10-01  597.6\\n\\nPlease analyze the provided data, which represents the GDP values over time, and generate predictions for the specified quarters. Your output should be a list of predicted GDP values for each specified quarter.\\n\\nNote: Your predictions should consider the underlying patterns in the data and provide realistic forecasts.\\n\\nYou are tasked with predicting the Danish GDP for the period of 2021Q1.\\n\\nPlease analyze the historical GDP data and generate a prediction for the GDP value for this period.\\n\\nNote: Provide a single predicted GDP value for the specified period.\\n2'}]\n",
      "Predictions for 2021Q2:\n",
      "[{'generated_text': '\\nYou are a time series forecasting model designed to predict the Danish GDP based on historical data. \\nYour task is to forecast the GDP for specified quarters, using the provided GDP training data.\\n\\nThe provided GDP training data includes historical GDP values from 1990 to 2019:\\n      Time  Value\\n1990-01-01  210.2\\n1990-04-01  218.1\\n1990-07-01  209.5\\n1990-10-01  217.8\\n1991-01-01  220.2\\n1991-04-01  226.1\\n1991-07-01  219.6\\n1991-10-01  224.6\\n1992-01-01  228.1\\n1992-04-01  231.1\\n1992-07-01  227.1\\n1992-10-01  236.7\\n1993-01-01  227.8\\n1993-04-01  232.7\\n1993-07-01  227.8\\n1993-10-01  240.2\\n1994-01-01  238.3\\n1994-04-01  252.4\\n1994-07-01  242.8\\n1994-10-01  259.8\\n1995-01-01  254.3\\n1995-04-01  261.5\\n1995-07-01  252.8\\n1995-10-01  267.8\\n1996-01-01  260.8\\n1996-04-01  275.2\\n1996-07-01  269.6\\n1996-10-01  282.5\\n1997-01-01  273.9\\n1997-04-01  291.8\\n1997-07-01  281.8\\n1997-10-01  298.6\\n1998-01-01  288.4\\n1998-04-01  294.3\\n1998-07-01  293.8\\n1998-10-01  309.5\\n1999-01-01  296.3\\n1999-04-01  310.0\\n1999-07-01  306.6\\n1999-10-01  328.6\\n2000-01-01  316.9\\n2000-04-01  330.4\\n2000-07-01  327.4\\n2000-10-01  352.2\\n2001-01-01  329.5\\n2001-04-01  342.1\\n2001-07-01  340.5\\n2001-10-01  359.5\\n2002-01-01  337.8\\n2002-04-01  355.0\\n2002-07-01  350.0\\n2002-10-01  367.4\\n2003-01-01  347.3\\n2003-04-01  356.8\\n2003-07-01  354.6\\n2003-10-01  378.1\\n2004-01-01  360.6\\n2004-04-01  375.3\\n2004-07-01  373.2\\n2004-10-01  397.0\\n2005-01-01  372.7\\n2005-04-01  401.1\\n2005-07-01  395.8\\n2005-10-01  416.5\\n2006-01-01  399.6\\n2006-04-01  427.5\\n2006-07-01  421.5\\n2006-10-01  433.7\\n2007-01-01  416.1\\n2007-04-01  431.8\\n2007-07-01  432.7\\n2007-10-01  458.3\\n2008-01-01  432.8\\n2008-04-01  456.7\\n2008-07-01  454.3\\n2008-10-01  457.7\\n2009-01-01  420.8\\n2009-04-01  426.6\\n2009-07-01  429.2\\n2009-10-01  445.5\\n2010-01-01  430.5\\n2010-04-01  454.6\\n2010-07-01  455.8\\n2010-10-01  470.0\\n2011-01-01  449.7\\n2011-04-01  466.6\\n2011-07-01  456.5\\n2011-10-01  474.0\\n2012-01-01  457.6\\n2012-04-01  477.7\\n2012-07-01  474.1\\n2012-10-01  485.6\\n2013-01-01  464.3\\n2013-04-01  487.5\\n2013-07-01  482.2\\n2013-10-01  495.7\\n2014-01-01  479.6\\n2014-04-01  495.2\\n2014-07-01  493.7\\n2014-10-01  512.7\\n2015-01-01  495.9\\n2015-04-01  513.5\\n2015-07-01  505.9\\n2015-10-01  521.1\\n2016-01-01  504.8\\n2016-04-01  534.1\\n2016-07-01  521.5\\n2016-10-01  547.4\\n2017-01-01  530.6\\n2017-04-01  558.4\\n2017-07-01  541.1\\n2017-10-01  562.9\\n2018-01-01  538.6\\n2018-04-01  569.3\\n2018-07-01  560.2\\n2018-10-01  585.2\\n2019-01-01  555.8\\n2019-04-01  583.2\\n2019-07-01  574.4\\n2019-10-01  597.6\\n\\nPlease analyze the provided data, which represents the GDP values over time, and generate predictions for the specified quarters. Your output should be a list of predicted GDP values for each specified quarter.\\n\\nNote: Your predictions should consider the underlying patterns in the data and provide realistic forecasts.\\n\\nYou are tasked with predicting the Danish GDP for the period of 2021Q2.\\n\\nPlease analyze the historical GDP data and generate a prediction for the GDP value for this period.\\n\\nNote: Provide a single predicted GDP value for the specified period.\\n2'}]\n",
      "Predictions for 2021Q3:\n",
      "[{'generated_text': '\\nYou are a time series forecasting model designed to predict the Danish GDP based on historical data. \\nYour task is to forecast the GDP for specified quarters, using the provided GDP training data.\\n\\nThe provided GDP training data includes historical GDP values from 1990 to 2019:\\n      Time  Value\\n1990-01-01  210.2\\n1990-04-01  218.1\\n1990-07-01  209.5\\n1990-10-01  217.8\\n1991-01-01  220.2\\n1991-04-01  226.1\\n1991-07-01  219.6\\n1991-10-01  224.6\\n1992-01-01  228.1\\n1992-04-01  231.1\\n1992-07-01  227.1\\n1992-10-01  236.7\\n1993-01-01  227.8\\n1993-04-01  232.7\\n1993-07-01  227.8\\n1993-10-01  240.2\\n1994-01-01  238.3\\n1994-04-01  252.4\\n1994-07-01  242.8\\n1994-10-01  259.8\\n1995-01-01  254.3\\n1995-04-01  261.5\\n1995-07-01  252.8\\n1995-10-01  267.8\\n1996-01-01  260.8\\n1996-04-01  275.2\\n1996-07-01  269.6\\n1996-10-01  282.5\\n1997-01-01  273.9\\n1997-04-01  291.8\\n1997-07-01  281.8\\n1997-10-01  298.6\\n1998-01-01  288.4\\n1998-04-01  294.3\\n1998-07-01  293.8\\n1998-10-01  309.5\\n1999-01-01  296.3\\n1999-04-01  310.0\\n1999-07-01  306.6\\n1999-10-01  328.6\\n2000-01-01  316.9\\n2000-04-01  330.4\\n2000-07-01  327.4\\n2000-10-01  352.2\\n2001-01-01  329.5\\n2001-04-01  342.1\\n2001-07-01  340.5\\n2001-10-01  359.5\\n2002-01-01  337.8\\n2002-04-01  355.0\\n2002-07-01  350.0\\n2002-10-01  367.4\\n2003-01-01  347.3\\n2003-04-01  356.8\\n2003-07-01  354.6\\n2003-10-01  378.1\\n2004-01-01  360.6\\n2004-04-01  375.3\\n2004-07-01  373.2\\n2004-10-01  397.0\\n2005-01-01  372.7\\n2005-04-01  401.1\\n2005-07-01  395.8\\n2005-10-01  416.5\\n2006-01-01  399.6\\n2006-04-01  427.5\\n2006-07-01  421.5\\n2006-10-01  433.7\\n2007-01-01  416.1\\n2007-04-01  431.8\\n2007-07-01  432.7\\n2007-10-01  458.3\\n2008-01-01  432.8\\n2008-04-01  456.7\\n2008-07-01  454.3\\n2008-10-01  457.7\\n2009-01-01  420.8\\n2009-04-01  426.6\\n2009-07-01  429.2\\n2009-10-01  445.5\\n2010-01-01  430.5\\n2010-04-01  454.6\\n2010-07-01  455.8\\n2010-10-01  470.0\\n2011-01-01  449.7\\n2011-04-01  466.6\\n2011-07-01  456.5\\n2011-10-01  474.0\\n2012-01-01  457.6\\n2012-04-01  477.7\\n2012-07-01  474.1\\n2012-10-01  485.6\\n2013-01-01  464.3\\n2013-04-01  487.5\\n2013-07-01  482.2\\n2013-10-01  495.7\\n2014-01-01  479.6\\n2014-04-01  495.2\\n2014-07-01  493.7\\n2014-10-01  512.7\\n2015-01-01  495.9\\n2015-04-01  513.5\\n2015-07-01  505.9\\n2015-10-01  521.1\\n2016-01-01  504.8\\n2016-04-01  534.1\\n2016-07-01  521.5\\n2016-10-01  547.4\\n2017-01-01  530.6\\n2017-04-01  558.4\\n2017-07-01  541.1\\n2017-10-01  562.9\\n2018-01-01  538.6\\n2018-04-01  569.3\\n2018-07-01  560.2\\n2018-10-01  585.2\\n2019-01-01  555.8\\n2019-04-01  583.2\\n2019-07-01  574.4\\n2019-10-01  597.6\\n\\nPlease analyze the provided data, which represents the GDP values over time, and generate predictions for the specified quarters. Your output should be a list of predicted GDP values for each specified quarter.\\n\\nNote: Your predictions should consider the underlying patterns in the data and provide realistic forecasts.\\n\\nYou are tasked with predicting the Danish GDP for the period of 2021Q3.\\n\\nPlease analyze the historical GDP data and generate a prediction for the GDP value for this period.\\n\\nNote: Provide a single predicted GDP value for the specified period.\\n2'}]\n",
      "Predictions for 2021Q4:\n",
      "[{'generated_text': '\\nYou are a time series forecasting model designed to predict the Danish GDP based on historical data. \\nYour task is to forecast the GDP for specified quarters, using the provided GDP training data.\\n\\nThe provided GDP training data includes historical GDP values from 1990 to 2019:\\n      Time  Value\\n1990-01-01  210.2\\n1990-04-01  218.1\\n1990-07-01  209.5\\n1990-10-01  217.8\\n1991-01-01  220.2\\n1991-04-01  226.1\\n1991-07-01  219.6\\n1991-10-01  224.6\\n1992-01-01  228.1\\n1992-04-01  231.1\\n1992-07-01  227.1\\n1992-10-01  236.7\\n1993-01-01  227.8\\n1993-04-01  232.7\\n1993-07-01  227.8\\n1993-10-01  240.2\\n1994-01-01  238.3\\n1994-04-01  252.4\\n1994-07-01  242.8\\n1994-10-01  259.8\\n1995-01-01  254.3\\n1995-04-01  261.5\\n1995-07-01  252.8\\n1995-10-01  267.8\\n1996-01-01  260.8\\n1996-04-01  275.2\\n1996-07-01  269.6\\n1996-10-01  282.5\\n1997-01-01  273.9\\n1997-04-01  291.8\\n1997-07-01  281.8\\n1997-10-01  298.6\\n1998-01-01  288.4\\n1998-04-01  294.3\\n1998-07-01  293.8\\n1998-10-01  309.5\\n1999-01-01  296.3\\n1999-04-01  310.0\\n1999-07-01  306.6\\n1999-10-01  328.6\\n2000-01-01  316.9\\n2000-04-01  330.4\\n2000-07-01  327.4\\n2000-10-01  352.2\\n2001-01-01  329.5\\n2001-04-01  342.1\\n2001-07-01  340.5\\n2001-10-01  359.5\\n2002-01-01  337.8\\n2002-04-01  355.0\\n2002-07-01  350.0\\n2002-10-01  367.4\\n2003-01-01  347.3\\n2003-04-01  356.8\\n2003-07-01  354.6\\n2003-10-01  378.1\\n2004-01-01  360.6\\n2004-04-01  375.3\\n2004-07-01  373.2\\n2004-10-01  397.0\\n2005-01-01  372.7\\n2005-04-01  401.1\\n2005-07-01  395.8\\n2005-10-01  416.5\\n2006-01-01  399.6\\n2006-04-01  427.5\\n2006-07-01  421.5\\n2006-10-01  433.7\\n2007-01-01  416.1\\n2007-04-01  431.8\\n2007-07-01  432.7\\n2007-10-01  458.3\\n2008-01-01  432.8\\n2008-04-01  456.7\\n2008-07-01  454.3\\n2008-10-01  457.7\\n2009-01-01  420.8\\n2009-04-01  426.6\\n2009-07-01  429.2\\n2009-10-01  445.5\\n2010-01-01  430.5\\n2010-04-01  454.6\\n2010-07-01  455.8\\n2010-10-01  470.0\\n2011-01-01  449.7\\n2011-04-01  466.6\\n2011-07-01  456.5\\n2011-10-01  474.0\\n2012-01-01  457.6\\n2012-04-01  477.7\\n2012-07-01  474.1\\n2012-10-01  485.6\\n2013-01-01  464.3\\n2013-04-01  487.5\\n2013-07-01  482.2\\n2013-10-01  495.7\\n2014-01-01  479.6\\n2014-04-01  495.2\\n2014-07-01  493.7\\n2014-10-01  512.7\\n2015-01-01  495.9\\n2015-04-01  513.5\\n2015-07-01  505.9\\n2015-10-01  521.1\\n2016-01-01  504.8\\n2016-04-01  534.1\\n2016-07-01  521.5\\n2016-10-01  547.4\\n2017-01-01  530.6\\n2017-04-01  558.4\\n2017-07-01  541.1\\n2017-10-01  562.9\\n2018-01-01  538.6\\n2018-04-01  569.3\\n2018-07-01  560.2\\n2018-10-01  585.2\\n2019-01-01  555.8\\n2019-04-01  583.2\\n2019-07-01  574.4\\n2019-10-01  597.6\\n\\nPlease analyze the provided data, which represents the GDP values over time, and generate predictions for the specified quarters. Your output should be a list of predicted GDP values for each specified quarter.\\n\\nNote: Your predictions should consider the underlying patterns in the data and provide realistic forecasts.\\n\\nYou are tasked with predicting the Danish GDP for the period of 2021Q4.\\n\\nPlease analyze the historical GDP data and generate a prediction for the GDP value for this period.\\n\\nNote: Provide a single predicted GDP value for the specified period.\\n2'}]\n",
      "Predictions for 2022Q1:\n",
      "[{'generated_text': '\\nYou are a time series forecasting model designed to predict the Danish GDP based on historical data. \\nYour task is to forecast the GDP for specified quarters, using the provided GDP training data.\\n\\nThe provided GDP training data includes historical GDP values from 1990 to 2019:\\n      Time  Value\\n1990-01-01  210.2\\n1990-04-01  218.1\\n1990-07-01  209.5\\n1990-10-01  217.8\\n1991-01-01  220.2\\n1991-04-01  226.1\\n1991-07-01  219.6\\n1991-10-01  224.6\\n1992-01-01  228.1\\n1992-04-01  231.1\\n1992-07-01  227.1\\n1992-10-01  236.7\\n1993-01-01  227.8\\n1993-04-01  232.7\\n1993-07-01  227.8\\n1993-10-01  240.2\\n1994-01-01  238.3\\n1994-04-01  252.4\\n1994-07-01  242.8\\n1994-10-01  259.8\\n1995-01-01  254.3\\n1995-04-01  261.5\\n1995-07-01  252.8\\n1995-10-01  267.8\\n1996-01-01  260.8\\n1996-04-01  275.2\\n1996-07-01  269.6\\n1996-10-01  282.5\\n1997-01-01  273.9\\n1997-04-01  291.8\\n1997-07-01  281.8\\n1997-10-01  298.6\\n1998-01-01  288.4\\n1998-04-01  294.3\\n1998-07-01  293.8\\n1998-10-01  309.5\\n1999-01-01  296.3\\n1999-04-01  310.0\\n1999-07-01  306.6\\n1999-10-01  328.6\\n2000-01-01  316.9\\n2000-04-01  330.4\\n2000-07-01  327.4\\n2000-10-01  352.2\\n2001-01-01  329.5\\n2001-04-01  342.1\\n2001-07-01  340.5\\n2001-10-01  359.5\\n2002-01-01  337.8\\n2002-04-01  355.0\\n2002-07-01  350.0\\n2002-10-01  367.4\\n2003-01-01  347.3\\n2003-04-01  356.8\\n2003-07-01  354.6\\n2003-10-01  378.1\\n2004-01-01  360.6\\n2004-04-01  375.3\\n2004-07-01  373.2\\n2004-10-01  397.0\\n2005-01-01  372.7\\n2005-04-01  401.1\\n2005-07-01  395.8\\n2005-10-01  416.5\\n2006-01-01  399.6\\n2006-04-01  427.5\\n2006-07-01  421.5\\n2006-10-01  433.7\\n2007-01-01  416.1\\n2007-04-01  431.8\\n2007-07-01  432.7\\n2007-10-01  458.3\\n2008-01-01  432.8\\n2008-04-01  456.7\\n2008-07-01  454.3\\n2008-10-01  457.7\\n2009-01-01  420.8\\n2009-04-01  426.6\\n2009-07-01  429.2\\n2009-10-01  445.5\\n2010-01-01  430.5\\n2010-04-01  454.6\\n2010-07-01  455.8\\n2010-10-01  470.0\\n2011-01-01  449.7\\n2011-04-01  466.6\\n2011-07-01  456.5\\n2011-10-01  474.0\\n2012-01-01  457.6\\n2012-04-01  477.7\\n2012-07-01  474.1\\n2012-10-01  485.6\\n2013-01-01  464.3\\n2013-04-01  487.5\\n2013-07-01  482.2\\n2013-10-01  495.7\\n2014-01-01  479.6\\n2014-04-01  495.2\\n2014-07-01  493.7\\n2014-10-01  512.7\\n2015-01-01  495.9\\n2015-04-01  513.5\\n2015-07-01  505.9\\n2015-10-01  521.1\\n2016-01-01  504.8\\n2016-04-01  534.1\\n2016-07-01  521.5\\n2016-10-01  547.4\\n2017-01-01  530.6\\n2017-04-01  558.4\\n2017-07-01  541.1\\n2017-10-01  562.9\\n2018-01-01  538.6\\n2018-04-01  569.3\\n2018-07-01  560.2\\n2018-10-01  585.2\\n2019-01-01  555.8\\n2019-04-01  583.2\\n2019-07-01  574.4\\n2019-10-01  597.6\\n\\nPlease analyze the provided data, which represents the GDP values over time, and generate predictions for the specified quarters. Your output should be a list of predicted GDP values for each specified quarter.\\n\\nNote: Your predictions should consider the underlying patterns in the data and provide realistic forecasts.\\n\\nYou are tasked with predicting the Danish GDP for the period of 2022Q1.\\n\\nPlease analyze the historical GDP data and generate a prediction for the GDP value for this period.\\n\\nNote: Provide a single predicted GDP value for the specified period.\\n2'}]\n",
      "Predictions for 2022Q2:\n",
      "[{'generated_text': '\\nYou are a time series forecasting model designed to predict the Danish GDP based on historical data. \\nYour task is to forecast the GDP for specified quarters, using the provided GDP training data.\\n\\nThe provided GDP training data includes historical GDP values from 1990 to 2019:\\n      Time  Value\\n1990-01-01  210.2\\n1990-04-01  218.1\\n1990-07-01  209.5\\n1990-10-01  217.8\\n1991-01-01  220.2\\n1991-04-01  226.1\\n1991-07-01  219.6\\n1991-10-01  224.6\\n1992-01-01  228.1\\n1992-04-01  231.1\\n1992-07-01  227.1\\n1992-10-01  236.7\\n1993-01-01  227.8\\n1993-04-01  232.7\\n1993-07-01  227.8\\n1993-10-01  240.2\\n1994-01-01  238.3\\n1994-04-01  252.4\\n1994-07-01  242.8\\n1994-10-01  259.8\\n1995-01-01  254.3\\n1995-04-01  261.5\\n1995-07-01  252.8\\n1995-10-01  267.8\\n1996-01-01  260.8\\n1996-04-01  275.2\\n1996-07-01  269.6\\n1996-10-01  282.5\\n1997-01-01  273.9\\n1997-04-01  291.8\\n1997-07-01  281.8\\n1997-10-01  298.6\\n1998-01-01  288.4\\n1998-04-01  294.3\\n1998-07-01  293.8\\n1998-10-01  309.5\\n1999-01-01  296.3\\n1999-04-01  310.0\\n1999-07-01  306.6\\n1999-10-01  328.6\\n2000-01-01  316.9\\n2000-04-01  330.4\\n2000-07-01  327.4\\n2000-10-01  352.2\\n2001-01-01  329.5\\n2001-04-01  342.1\\n2001-07-01  340.5\\n2001-10-01  359.5\\n2002-01-01  337.8\\n2002-04-01  355.0\\n2002-07-01  350.0\\n2002-10-01  367.4\\n2003-01-01  347.3\\n2003-04-01  356.8\\n2003-07-01  354.6\\n2003-10-01  378.1\\n2004-01-01  360.6\\n2004-04-01  375.3\\n2004-07-01  373.2\\n2004-10-01  397.0\\n2005-01-01  372.7\\n2005-04-01  401.1\\n2005-07-01  395.8\\n2005-10-01  416.5\\n2006-01-01  399.6\\n2006-04-01  427.5\\n2006-07-01  421.5\\n2006-10-01  433.7\\n2007-01-01  416.1\\n2007-04-01  431.8\\n2007-07-01  432.7\\n2007-10-01  458.3\\n2008-01-01  432.8\\n2008-04-01  456.7\\n2008-07-01  454.3\\n2008-10-01  457.7\\n2009-01-01  420.8\\n2009-04-01  426.6\\n2009-07-01  429.2\\n2009-10-01  445.5\\n2010-01-01  430.5\\n2010-04-01  454.6\\n2010-07-01  455.8\\n2010-10-01  470.0\\n2011-01-01  449.7\\n2011-04-01  466.6\\n2011-07-01  456.5\\n2011-10-01  474.0\\n2012-01-01  457.6\\n2012-04-01  477.7\\n2012-07-01  474.1\\n2012-10-01  485.6\\n2013-01-01  464.3\\n2013-04-01  487.5\\n2013-07-01  482.2\\n2013-10-01  495.7\\n2014-01-01  479.6\\n2014-04-01  495.2\\n2014-07-01  493.7\\n2014-10-01  512.7\\n2015-01-01  495.9\\n2015-04-01  513.5\\n2015-07-01  505.9\\n2015-10-01  521.1\\n2016-01-01  504.8\\n2016-04-01  534.1\\n2016-07-01  521.5\\n2016-10-01  547.4\\n2017-01-01  530.6\\n2017-04-01  558.4\\n2017-07-01  541.1\\n2017-10-01  562.9\\n2018-01-01  538.6\\n2018-04-01  569.3\\n2018-07-01  560.2\\n2018-10-01  585.2\\n2019-01-01  555.8\\n2019-04-01  583.2\\n2019-07-01  574.4\\n2019-10-01  597.6\\n\\nPlease analyze the provided data, which represents the GDP values over time, and generate predictions for the specified quarters. Your output should be a list of predicted GDP values for each specified quarter.\\n\\nNote: Your predictions should consider the underlying patterns in the data and provide realistic forecasts.\\n\\nYou are tasked with predicting the Danish GDP for the period of 2022Q2.\\n\\nPlease analyze the historical GDP data and generate a prediction for the GDP value for this period.\\n\\nNote: Provide a single predicted GDP value for the specified period.\\n2'}]\n",
      "Predictions for 2022Q3:\n",
      "[{'generated_text': '\\nYou are a time series forecasting model designed to predict the Danish GDP based on historical data. \\nYour task is to forecast the GDP for specified quarters, using the provided GDP training data.\\n\\nThe provided GDP training data includes historical GDP values from 1990 to 2019:\\n      Time  Value\\n1990-01-01  210.2\\n1990-04-01  218.1\\n1990-07-01  209.5\\n1990-10-01  217.8\\n1991-01-01  220.2\\n1991-04-01  226.1\\n1991-07-01  219.6\\n1991-10-01  224.6\\n1992-01-01  228.1\\n1992-04-01  231.1\\n1992-07-01  227.1\\n1992-10-01  236.7\\n1993-01-01  227.8\\n1993-04-01  232.7\\n1993-07-01  227.8\\n1993-10-01  240.2\\n1994-01-01  238.3\\n1994-04-01  252.4\\n1994-07-01  242.8\\n1994-10-01  259.8\\n1995-01-01  254.3\\n1995-04-01  261.5\\n1995-07-01  252.8\\n1995-10-01  267.8\\n1996-01-01  260.8\\n1996-04-01  275.2\\n1996-07-01  269.6\\n1996-10-01  282.5\\n1997-01-01  273.9\\n1997-04-01  291.8\\n1997-07-01  281.8\\n1997-10-01  298.6\\n1998-01-01  288.4\\n1998-04-01  294.3\\n1998-07-01  293.8\\n1998-10-01  309.5\\n1999-01-01  296.3\\n1999-04-01  310.0\\n1999-07-01  306.6\\n1999-10-01  328.6\\n2000-01-01  316.9\\n2000-04-01  330.4\\n2000-07-01  327.4\\n2000-10-01  352.2\\n2001-01-01  329.5\\n2001-04-01  342.1\\n2001-07-01  340.5\\n2001-10-01  359.5\\n2002-01-01  337.8\\n2002-04-01  355.0\\n2002-07-01  350.0\\n2002-10-01  367.4\\n2003-01-01  347.3\\n2003-04-01  356.8\\n2003-07-01  354.6\\n2003-10-01  378.1\\n2004-01-01  360.6\\n2004-04-01  375.3\\n2004-07-01  373.2\\n2004-10-01  397.0\\n2005-01-01  372.7\\n2005-04-01  401.1\\n2005-07-01  395.8\\n2005-10-01  416.5\\n2006-01-01  399.6\\n2006-04-01  427.5\\n2006-07-01  421.5\\n2006-10-01  433.7\\n2007-01-01  416.1\\n2007-04-01  431.8\\n2007-07-01  432.7\\n2007-10-01  458.3\\n2008-01-01  432.8\\n2008-04-01  456.7\\n2008-07-01  454.3\\n2008-10-01  457.7\\n2009-01-01  420.8\\n2009-04-01  426.6\\n2009-07-01  429.2\\n2009-10-01  445.5\\n2010-01-01  430.5\\n2010-04-01  454.6\\n2010-07-01  455.8\\n2010-10-01  470.0\\n2011-01-01  449.7\\n2011-04-01  466.6\\n2011-07-01  456.5\\n2011-10-01  474.0\\n2012-01-01  457.6\\n2012-04-01  477.7\\n2012-07-01  474.1\\n2012-10-01  485.6\\n2013-01-01  464.3\\n2013-04-01  487.5\\n2013-07-01  482.2\\n2013-10-01  495.7\\n2014-01-01  479.6\\n2014-04-01  495.2\\n2014-07-01  493.7\\n2014-10-01  512.7\\n2015-01-01  495.9\\n2015-04-01  513.5\\n2015-07-01  505.9\\n2015-10-01  521.1\\n2016-01-01  504.8\\n2016-04-01  534.1\\n2016-07-01  521.5\\n2016-10-01  547.4\\n2017-01-01  530.6\\n2017-04-01  558.4\\n2017-07-01  541.1\\n2017-10-01  562.9\\n2018-01-01  538.6\\n2018-04-01  569.3\\n2018-07-01  560.2\\n2018-10-01  585.2\\n2019-01-01  555.8\\n2019-04-01  583.2\\n2019-07-01  574.4\\n2019-10-01  597.6\\n\\nPlease analyze the provided data, which represents the GDP values over time, and generate predictions for the specified quarters. Your output should be a list of predicted GDP values for each specified quarter.\\n\\nNote: Your predictions should consider the underlying patterns in the data and provide realistic forecasts.\\n\\nYou are tasked with predicting the Danish GDP for the period of 2022Q3.\\n\\nPlease analyze the historical GDP data and generate a prediction for the GDP value for this period.\\n\\nNote: Provide a single predicted GDP value for the specified period.\\n2'}]\n",
      "Predictions for 2022Q4:\n",
      "[{'generated_text': '\\nYou are a time series forecasting model designed to predict the Danish GDP based on historical data. \\nYour task is to forecast the GDP for specified quarters, using the provided GDP training data.\\n\\nThe provided GDP training data includes historical GDP values from 1990 to 2019:\\n      Time  Value\\n1990-01-01  210.2\\n1990-04-01  218.1\\n1990-07-01  209.5\\n1990-10-01  217.8\\n1991-01-01  220.2\\n1991-04-01  226.1\\n1991-07-01  219.6\\n1991-10-01  224.6\\n1992-01-01  228.1\\n1992-04-01  231.1\\n1992-07-01  227.1\\n1992-10-01  236.7\\n1993-01-01  227.8\\n1993-04-01  232.7\\n1993-07-01  227.8\\n1993-10-01  240.2\\n1994-01-01  238.3\\n1994-04-01  252.4\\n1994-07-01  242.8\\n1994-10-01  259.8\\n1995-01-01  254.3\\n1995-04-01  261.5\\n1995-07-01  252.8\\n1995-10-01  267.8\\n1996-01-01  260.8\\n1996-04-01  275.2\\n1996-07-01  269.6\\n1996-10-01  282.5\\n1997-01-01  273.9\\n1997-04-01  291.8\\n1997-07-01  281.8\\n1997-10-01  298.6\\n1998-01-01  288.4\\n1998-04-01  294.3\\n1998-07-01  293.8\\n1998-10-01  309.5\\n1999-01-01  296.3\\n1999-04-01  310.0\\n1999-07-01  306.6\\n1999-10-01  328.6\\n2000-01-01  316.9\\n2000-04-01  330.4\\n2000-07-01  327.4\\n2000-10-01  352.2\\n2001-01-01  329.5\\n2001-04-01  342.1\\n2001-07-01  340.5\\n2001-10-01  359.5\\n2002-01-01  337.8\\n2002-04-01  355.0\\n2002-07-01  350.0\\n2002-10-01  367.4\\n2003-01-01  347.3\\n2003-04-01  356.8\\n2003-07-01  354.6\\n2003-10-01  378.1\\n2004-01-01  360.6\\n2004-04-01  375.3\\n2004-07-01  373.2\\n2004-10-01  397.0\\n2005-01-01  372.7\\n2005-04-01  401.1\\n2005-07-01  395.8\\n2005-10-01  416.5\\n2006-01-01  399.6\\n2006-04-01  427.5\\n2006-07-01  421.5\\n2006-10-01  433.7\\n2007-01-01  416.1\\n2007-04-01  431.8\\n2007-07-01  432.7\\n2007-10-01  458.3\\n2008-01-01  432.8\\n2008-04-01  456.7\\n2008-07-01  454.3\\n2008-10-01  457.7\\n2009-01-01  420.8\\n2009-04-01  426.6\\n2009-07-01  429.2\\n2009-10-01  445.5\\n2010-01-01  430.5\\n2010-04-01  454.6\\n2010-07-01  455.8\\n2010-10-01  470.0\\n2011-01-01  449.7\\n2011-04-01  466.6\\n2011-07-01  456.5\\n2011-10-01  474.0\\n2012-01-01  457.6\\n2012-04-01  477.7\\n2012-07-01  474.1\\n2012-10-01  485.6\\n2013-01-01  464.3\\n2013-04-01  487.5\\n2013-07-01  482.2\\n2013-10-01  495.7\\n2014-01-01  479.6\\n2014-04-01  495.2\\n2014-07-01  493.7\\n2014-10-01  512.7\\n2015-01-01  495.9\\n2015-04-01  513.5\\n2015-07-01  505.9\\n2015-10-01  521.1\\n2016-01-01  504.8\\n2016-04-01  534.1\\n2016-07-01  521.5\\n2016-10-01  547.4\\n2017-01-01  530.6\\n2017-04-01  558.4\\n2017-07-01  541.1\\n2017-10-01  562.9\\n2018-01-01  538.6\\n2018-04-01  569.3\\n2018-07-01  560.2\\n2018-10-01  585.2\\n2019-01-01  555.8\\n2019-04-01  583.2\\n2019-07-01  574.4\\n2019-10-01  597.6\\n\\nPlease analyze the provided data, which represents the GDP values over time, and generate predictions for the specified quarters. Your output should be a list of predicted GDP values for each specified quarter.\\n\\nNote: Your predictions should consider the underlying patterns in the data and provide realistic forecasts.\\n\\nYou are tasked with predicting the Danish GDP for the period of 2022Q4.\\n\\nPlease analyze the historical GDP data and generate a prediction for the GDP value for this period.\\n\\nNote: Provide a single predicted GDP value for the specified period.\\n2'}]\n",
      "Predictions for 2023Q1:\n",
      "[{'generated_text': '\\nYou are a time series forecasting model designed to predict the Danish GDP based on historical data. \\nYour task is to forecast the GDP for specified quarters, using the provided GDP training data.\\n\\nThe provided GDP training data includes historical GDP values from 1990 to 2019:\\n      Time  Value\\n1990-01-01  210.2\\n1990-04-01  218.1\\n1990-07-01  209.5\\n1990-10-01  217.8\\n1991-01-01  220.2\\n1991-04-01  226.1\\n1991-07-01  219.6\\n1991-10-01  224.6\\n1992-01-01  228.1\\n1992-04-01  231.1\\n1992-07-01  227.1\\n1992-10-01  236.7\\n1993-01-01  227.8\\n1993-04-01  232.7\\n1993-07-01  227.8\\n1993-10-01  240.2\\n1994-01-01  238.3\\n1994-04-01  252.4\\n1994-07-01  242.8\\n1994-10-01  259.8\\n1995-01-01  254.3\\n1995-04-01  261.5\\n1995-07-01  252.8\\n1995-10-01  267.8\\n1996-01-01  260.8\\n1996-04-01  275.2\\n1996-07-01  269.6\\n1996-10-01  282.5\\n1997-01-01  273.9\\n1997-04-01  291.8\\n1997-07-01  281.8\\n1997-10-01  298.6\\n1998-01-01  288.4\\n1998-04-01  294.3\\n1998-07-01  293.8\\n1998-10-01  309.5\\n1999-01-01  296.3\\n1999-04-01  310.0\\n1999-07-01  306.6\\n1999-10-01  328.6\\n2000-01-01  316.9\\n2000-04-01  330.4\\n2000-07-01  327.4\\n2000-10-01  352.2\\n2001-01-01  329.5\\n2001-04-01  342.1\\n2001-07-01  340.5\\n2001-10-01  359.5\\n2002-01-01  337.8\\n2002-04-01  355.0\\n2002-07-01  350.0\\n2002-10-01  367.4\\n2003-01-01  347.3\\n2003-04-01  356.8\\n2003-07-01  354.6\\n2003-10-01  378.1\\n2004-01-01  360.6\\n2004-04-01  375.3\\n2004-07-01  373.2\\n2004-10-01  397.0\\n2005-01-01  372.7\\n2005-04-01  401.1\\n2005-07-01  395.8\\n2005-10-01  416.5\\n2006-01-01  399.6\\n2006-04-01  427.5\\n2006-07-01  421.5\\n2006-10-01  433.7\\n2007-01-01  416.1\\n2007-04-01  431.8\\n2007-07-01  432.7\\n2007-10-01  458.3\\n2008-01-01  432.8\\n2008-04-01  456.7\\n2008-07-01  454.3\\n2008-10-01  457.7\\n2009-01-01  420.8\\n2009-04-01  426.6\\n2009-07-01  429.2\\n2009-10-01  445.5\\n2010-01-01  430.5\\n2010-04-01  454.6\\n2010-07-01  455.8\\n2010-10-01  470.0\\n2011-01-01  449.7\\n2011-04-01  466.6\\n2011-07-01  456.5\\n2011-10-01  474.0\\n2012-01-01  457.6\\n2012-04-01  477.7\\n2012-07-01  474.1\\n2012-10-01  485.6\\n2013-01-01  464.3\\n2013-04-01  487.5\\n2013-07-01  482.2\\n2013-10-01  495.7\\n2014-01-01  479.6\\n2014-04-01  495.2\\n2014-07-01  493.7\\n2014-10-01  512.7\\n2015-01-01  495.9\\n2015-04-01  513.5\\n2015-07-01  505.9\\n2015-10-01  521.1\\n2016-01-01  504.8\\n2016-04-01  534.1\\n2016-07-01  521.5\\n2016-10-01  547.4\\n2017-01-01  530.6\\n2017-04-01  558.4\\n2017-07-01  541.1\\n2017-10-01  562.9\\n2018-01-01  538.6\\n2018-04-01  569.3\\n2018-07-01  560.2\\n2018-10-01  585.2\\n2019-01-01  555.8\\n2019-04-01  583.2\\n2019-07-01  574.4\\n2019-10-01  597.6\\n\\nPlease analyze the provided data, which represents the GDP values over time, and generate predictions for the specified quarters. Your output should be a list of predicted GDP values for each specified quarter.\\n\\nNote: Your predictions should consider the underlying patterns in the data and provide realistic forecasts.\\n\\nYou are tasked with predicting the Danish GDP for the period of 2023Q1.\\n\\nPlease analyze the historical GDP data and generate a prediction for the GDP value for this period.\\n\\nNote: Provide a single predicted GDP value for the specified period.\\n2'}]\n",
      "Predictions for 2023Q2:\n",
      "[{'generated_text': '\\nYou are a time series forecasting model designed to predict the Danish GDP based on historical data. \\nYour task is to forecast the GDP for specified quarters, using the provided GDP training data.\\n\\nThe provided GDP training data includes historical GDP values from 1990 to 2019:\\n      Time  Value\\n1990-01-01  210.2\\n1990-04-01  218.1\\n1990-07-01  209.5\\n1990-10-01  217.8\\n1991-01-01  220.2\\n1991-04-01  226.1\\n1991-07-01  219.6\\n1991-10-01  224.6\\n1992-01-01  228.1\\n1992-04-01  231.1\\n1992-07-01  227.1\\n1992-10-01  236.7\\n1993-01-01  227.8\\n1993-04-01  232.7\\n1993-07-01  227.8\\n1993-10-01  240.2\\n1994-01-01  238.3\\n1994-04-01  252.4\\n1994-07-01  242.8\\n1994-10-01  259.8\\n1995-01-01  254.3\\n1995-04-01  261.5\\n1995-07-01  252.8\\n1995-10-01  267.8\\n1996-01-01  260.8\\n1996-04-01  275.2\\n1996-07-01  269.6\\n1996-10-01  282.5\\n1997-01-01  273.9\\n1997-04-01  291.8\\n1997-07-01  281.8\\n1997-10-01  298.6\\n1998-01-01  288.4\\n1998-04-01  294.3\\n1998-07-01  293.8\\n1998-10-01  309.5\\n1999-01-01  296.3\\n1999-04-01  310.0\\n1999-07-01  306.6\\n1999-10-01  328.6\\n2000-01-01  316.9\\n2000-04-01  330.4\\n2000-07-01  327.4\\n2000-10-01  352.2\\n2001-01-01  329.5\\n2001-04-01  342.1\\n2001-07-01  340.5\\n2001-10-01  359.5\\n2002-01-01  337.8\\n2002-04-01  355.0\\n2002-07-01  350.0\\n2002-10-01  367.4\\n2003-01-01  347.3\\n2003-04-01  356.8\\n2003-07-01  354.6\\n2003-10-01  378.1\\n2004-01-01  360.6\\n2004-04-01  375.3\\n2004-07-01  373.2\\n2004-10-01  397.0\\n2005-01-01  372.7\\n2005-04-01  401.1\\n2005-07-01  395.8\\n2005-10-01  416.5\\n2006-01-01  399.6\\n2006-04-01  427.5\\n2006-07-01  421.5\\n2006-10-01  433.7\\n2007-01-01  416.1\\n2007-04-01  431.8\\n2007-07-01  432.7\\n2007-10-01  458.3\\n2008-01-01  432.8\\n2008-04-01  456.7\\n2008-07-01  454.3\\n2008-10-01  457.7\\n2009-01-01  420.8\\n2009-04-01  426.6\\n2009-07-01  429.2\\n2009-10-01  445.5\\n2010-01-01  430.5\\n2010-04-01  454.6\\n2010-07-01  455.8\\n2010-10-01  470.0\\n2011-01-01  449.7\\n2011-04-01  466.6\\n2011-07-01  456.5\\n2011-10-01  474.0\\n2012-01-01  457.6\\n2012-04-01  477.7\\n2012-07-01  474.1\\n2012-10-01  485.6\\n2013-01-01  464.3\\n2013-04-01  487.5\\n2013-07-01  482.2\\n2013-10-01  495.7\\n2014-01-01  479.6\\n2014-04-01  495.2\\n2014-07-01  493.7\\n2014-10-01  512.7\\n2015-01-01  495.9\\n2015-04-01  513.5\\n2015-07-01  505.9\\n2015-10-01  521.1\\n2016-01-01  504.8\\n2016-04-01  534.1\\n2016-07-01  521.5\\n2016-10-01  547.4\\n2017-01-01  530.6\\n2017-04-01  558.4\\n2017-07-01  541.1\\n2017-10-01  562.9\\n2018-01-01  538.6\\n2018-04-01  569.3\\n2018-07-01  560.2\\n2018-10-01  585.2\\n2019-01-01  555.8\\n2019-04-01  583.2\\n2019-07-01  574.4\\n2019-10-01  597.6\\n\\nPlease analyze the provided data, which represents the GDP values over time, and generate predictions for the specified quarters. Your output should be a list of predicted GDP values for each specified quarter.\\n\\nNote: Your predictions should consider the underlying patterns in the data and provide realistic forecasts.\\n\\nYou are tasked with predicting the Danish GDP for the period of 2023Q2.\\n\\nPlease analyze the historical GDP data and generate a prediction for the GDP value for this period.\\n\\nNote: Provide a single predicted GDP value for the specified period.\\n2'}]\n",
      "Predictions for 2023Q3:\n",
      "[{'generated_text': '\\nYou are a time series forecasting model designed to predict the Danish GDP based on historical data. \\nYour task is to forecast the GDP for specified quarters, using the provided GDP training data.\\n\\nThe provided GDP training data includes historical GDP values from 1990 to 2019:\\n      Time  Value\\n1990-01-01  210.2\\n1990-04-01  218.1\\n1990-07-01  209.5\\n1990-10-01  217.8\\n1991-01-01  220.2\\n1991-04-01  226.1\\n1991-07-01  219.6\\n1991-10-01  224.6\\n1992-01-01  228.1\\n1992-04-01  231.1\\n1992-07-01  227.1\\n1992-10-01  236.7\\n1993-01-01  227.8\\n1993-04-01  232.7\\n1993-07-01  227.8\\n1993-10-01  240.2\\n1994-01-01  238.3\\n1994-04-01  252.4\\n1994-07-01  242.8\\n1994-10-01  259.8\\n1995-01-01  254.3\\n1995-04-01  261.5\\n1995-07-01  252.8\\n1995-10-01  267.8\\n1996-01-01  260.8\\n1996-04-01  275.2\\n1996-07-01  269.6\\n1996-10-01  282.5\\n1997-01-01  273.9\\n1997-04-01  291.8\\n1997-07-01  281.8\\n1997-10-01  298.6\\n1998-01-01  288.4\\n1998-04-01  294.3\\n1998-07-01  293.8\\n1998-10-01  309.5\\n1999-01-01  296.3\\n1999-04-01  310.0\\n1999-07-01  306.6\\n1999-10-01  328.6\\n2000-01-01  316.9\\n2000-04-01  330.4\\n2000-07-01  327.4\\n2000-10-01  352.2\\n2001-01-01  329.5\\n2001-04-01  342.1\\n2001-07-01  340.5\\n2001-10-01  359.5\\n2002-01-01  337.8\\n2002-04-01  355.0\\n2002-07-01  350.0\\n2002-10-01  367.4\\n2003-01-01  347.3\\n2003-04-01  356.8\\n2003-07-01  354.6\\n2003-10-01  378.1\\n2004-01-01  360.6\\n2004-04-01  375.3\\n2004-07-01  373.2\\n2004-10-01  397.0\\n2005-01-01  372.7\\n2005-04-01  401.1\\n2005-07-01  395.8\\n2005-10-01  416.5\\n2006-01-01  399.6\\n2006-04-01  427.5\\n2006-07-01  421.5\\n2006-10-01  433.7\\n2007-01-01  416.1\\n2007-04-01  431.8\\n2007-07-01  432.7\\n2007-10-01  458.3\\n2008-01-01  432.8\\n2008-04-01  456.7\\n2008-07-01  454.3\\n2008-10-01  457.7\\n2009-01-01  420.8\\n2009-04-01  426.6\\n2009-07-01  429.2\\n2009-10-01  445.5\\n2010-01-01  430.5\\n2010-04-01  454.6\\n2010-07-01  455.8\\n2010-10-01  470.0\\n2011-01-01  449.7\\n2011-04-01  466.6\\n2011-07-01  456.5\\n2011-10-01  474.0\\n2012-01-01  457.6\\n2012-04-01  477.7\\n2012-07-01  474.1\\n2012-10-01  485.6\\n2013-01-01  464.3\\n2013-04-01  487.5\\n2013-07-01  482.2\\n2013-10-01  495.7\\n2014-01-01  479.6\\n2014-04-01  495.2\\n2014-07-01  493.7\\n2014-10-01  512.7\\n2015-01-01  495.9\\n2015-04-01  513.5\\n2015-07-01  505.9\\n2015-10-01  521.1\\n2016-01-01  504.8\\n2016-04-01  534.1\\n2016-07-01  521.5\\n2016-10-01  547.4\\n2017-01-01  530.6\\n2017-04-01  558.4\\n2017-07-01  541.1\\n2017-10-01  562.9\\n2018-01-01  538.6\\n2018-04-01  569.3\\n2018-07-01  560.2\\n2018-10-01  585.2\\n2019-01-01  555.8\\n2019-04-01  583.2\\n2019-07-01  574.4\\n2019-10-01  597.6\\n\\nPlease analyze the provided data, which represents the GDP values over time, and generate predictions for the specified quarters. Your output should be a list of predicted GDP values for each specified quarter.\\n\\nNote: Your predictions should consider the underlying patterns in the data and provide realistic forecasts.\\n\\nYou are tasked with predicting the Danish GDP for the period of 2023Q3.\\n\\nPlease analyze the historical GDP data and generate a prediction for the GDP value for this period.\\n\\nNote: Provide a single predicted GDP value for the specified period.\\n2'}]\n",
      "Predictions for 2023Q4:\n",
      "[{'generated_text': '\\nYou are a time series forecasting model designed to predict the Danish GDP based on historical data. \\nYour task is to forecast the GDP for specified quarters, using the provided GDP training data.\\n\\nThe provided GDP training data includes historical GDP values from 1990 to 2019:\\n      Time  Value\\n1990-01-01  210.2\\n1990-04-01  218.1\\n1990-07-01  209.5\\n1990-10-01  217.8\\n1991-01-01  220.2\\n1991-04-01  226.1\\n1991-07-01  219.6\\n1991-10-01  224.6\\n1992-01-01  228.1\\n1992-04-01  231.1\\n1992-07-01  227.1\\n1992-10-01  236.7\\n1993-01-01  227.8\\n1993-04-01  232.7\\n1993-07-01  227.8\\n1993-10-01  240.2\\n1994-01-01  238.3\\n1994-04-01  252.4\\n1994-07-01  242.8\\n1994-10-01  259.8\\n1995-01-01  254.3\\n1995-04-01  261.5\\n1995-07-01  252.8\\n1995-10-01  267.8\\n1996-01-01  260.8\\n1996-04-01  275.2\\n1996-07-01  269.6\\n1996-10-01  282.5\\n1997-01-01  273.9\\n1997-04-01  291.8\\n1997-07-01  281.8\\n1997-10-01  298.6\\n1998-01-01  288.4\\n1998-04-01  294.3\\n1998-07-01  293.8\\n1998-10-01  309.5\\n1999-01-01  296.3\\n1999-04-01  310.0\\n1999-07-01  306.6\\n1999-10-01  328.6\\n2000-01-01  316.9\\n2000-04-01  330.4\\n2000-07-01  327.4\\n2000-10-01  352.2\\n2001-01-01  329.5\\n2001-04-01  342.1\\n2001-07-01  340.5\\n2001-10-01  359.5\\n2002-01-01  337.8\\n2002-04-01  355.0\\n2002-07-01  350.0\\n2002-10-01  367.4\\n2003-01-01  347.3\\n2003-04-01  356.8\\n2003-07-01  354.6\\n2003-10-01  378.1\\n2004-01-01  360.6\\n2004-04-01  375.3\\n2004-07-01  373.2\\n2004-10-01  397.0\\n2005-01-01  372.7\\n2005-04-01  401.1\\n2005-07-01  395.8\\n2005-10-01  416.5\\n2006-01-01  399.6\\n2006-04-01  427.5\\n2006-07-01  421.5\\n2006-10-01  433.7\\n2007-01-01  416.1\\n2007-04-01  431.8\\n2007-07-01  432.7\\n2007-10-01  458.3\\n2008-01-01  432.8\\n2008-04-01  456.7\\n2008-07-01  454.3\\n2008-10-01  457.7\\n2009-01-01  420.8\\n2009-04-01  426.6\\n2009-07-01  429.2\\n2009-10-01  445.5\\n2010-01-01  430.5\\n2010-04-01  454.6\\n2010-07-01  455.8\\n2010-10-01  470.0\\n2011-01-01  449.7\\n2011-04-01  466.6\\n2011-07-01  456.5\\n2011-10-01  474.0\\n2012-01-01  457.6\\n2012-04-01  477.7\\n2012-07-01  474.1\\n2012-10-01  485.6\\n2013-01-01  464.3\\n2013-04-01  487.5\\n2013-07-01  482.2\\n2013-10-01  495.7\\n2014-01-01  479.6\\n2014-04-01  495.2\\n2014-07-01  493.7\\n2014-10-01  512.7\\n2015-01-01  495.9\\n2015-04-01  513.5\\n2015-07-01  505.9\\n2015-10-01  521.1\\n2016-01-01  504.8\\n2016-04-01  534.1\\n2016-07-01  521.5\\n2016-10-01  547.4\\n2017-01-01  530.6\\n2017-04-01  558.4\\n2017-07-01  541.1\\n2017-10-01  562.9\\n2018-01-01  538.6\\n2018-04-01  569.3\\n2018-07-01  560.2\\n2018-10-01  585.2\\n2019-01-01  555.8\\n2019-04-01  583.2\\n2019-07-01  574.4\\n2019-10-01  597.6\\n\\nPlease analyze the provided data, which represents the GDP values over time, and generate predictions for the specified quarters. Your output should be a list of predicted GDP values for each specified quarter.\\n\\nNote: Your predictions should consider the underlying patterns in the data and provide realistic forecasts.\\n\\nYou are tasked with predicting the Danish GDP for the period of 2023Q4.\\n\\nPlease analyze the historical GDP data and generate a prediction for the GDP value for this period.\\n\\nNote: Provide a single predicted GDP value for the specified period.\\n2'}]\n"
     ]
    }
   ],
   "source": [
    "# Concatenate the pre-prompt with each period prompt\n",
    "def generate_output(pre_prompt, period_prompt, periods):\n",
    "    output = []\n",
    "    for period in periods:\n",
    "        full_prompt = pre_prompt + period_prompt.format(period)\n",
    "        # Generate predictions for the concatenated prompt \n",
    "        period_output = predictions(full_prompt, max_length=100, num_return_sequences=1)\n",
    "        output.append(period_output)\n",
    "        print(f\"Prediction created for {period}: {period_output} \")\n",
    "    return output\n",
    "\n",
    "# Define the periods you want to predict from gdp_test['Time']\n",
    "periods_to_predict = gdp_test['Time'].dt.to_period('Q').astype(str)\n",
    "\n",
    "# Generate output for each period\n",
    "output = generate_output(pre_prompt, period_prompt, periods_to_predict)\n",
    "\n",
    "# Print the output for each period\n",
    "for period, period_output in zip(periods_to_predict, output):\n",
    "    print(f\"Predictions for {period}:\")\n",
    "    print(period_output)\n"
   ]
  }
 ],
 "metadata": {
  "kernelspec": {
   "display_name": "myenv",
   "language": "python",
   "name": "python3"
  },
  "language_info": {
   "codemirror_mode": {
    "name": "ipython",
    "version": 3
   },
   "file_extension": ".py",
   "mimetype": "text/x-python",
   "name": "python",
   "nbconvert_exporter": "python",
   "pygments_lexer": "ipython3",
   "version": "3.10.13"
  }
 },
 "nbformat": 4,
 "nbformat_minor": 2
}
