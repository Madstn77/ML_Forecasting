{
  "cells": [
    {
      "cell_type": "code",
      "source": [
        "import pandas as pd\n",
        "import numpy as np\n",
        "import matplotlib.pyplot as plt\n",
        "import warnings\n",
        "\n",
        "warnings.filterwarnings(\"ignore\")\n",
        "\n",
        "# Importing the Quarterly data from OECD on Danish GDP 1990-2023\n",
        "gdp = pd.read_csv(\".//QGDP.csv\", sep=';', header=None)\n",
        "cons = pd.read_csv(\".//Consumer.csv\", sep=';')\n",
        "indu = pd.read_csv(\".//Industry.csv\", sep=';')"
      ],
      "metadata": {
        "id": "zgwU3bNSXTOb"
      },
      "execution_count": 3,
      "outputs": []
    },
    {
      "cell_type": "code",
      "source": [
        "#Selecting the relevant columns\n",
        "gdp = gdp[[2, 3]]\n",
        "\n",
        "## There is 13 questions the consumers have answered in the survey:\n",
        "## - COF\tConfidence Indicator (Q1 + Q2 + Q4 + Q9) / 4 (CONS.DK.TOT.COF.B.M)\n",
        "## - 1\tFinancial situation over last 12 months (CONS.DK.TOT.1.B.M)\n",
        "## - 2\tFinancial situation over next 12 months (CONS.DK.TOT.2.B.M)\n",
        "## - 3\tGeneral economic situation over last 12 months (CONS.DK.TOT.3.B.M)\n",
        "## - 4\tGeneral economic situation over next 12 months (CONS.DK.TOT.4.B.M)\n",
        "## - 5\tPrice trends over last 12 months (CONS.DK.TOT.5.B.M)\n",
        "## - 6\tPrice trends over next 12 months (CONS.DK.TOT.6.B.M)\n",
        "## - 7\tUnemployment expectations over next 12 months (CONS.DK.TOT.7.B.M)\n",
        "## - 8\tMajor purchases at present (CONS.DK.TOT.8.B.M)\n",
        "## - 9\tMajor purchases over next 12 months (CONS.DK.TOT.9.B.M)\n",
        "## - 10\tSavings at present (CONS.DK.TOT.10.B.M)\n",
        "## - 11\tSavings over next 12 months (CONS.DK.TOT.11.B.M)\n",
        "## - 12\tStatement on financial situation of household (CONS.DK.TOT.12.B.M)\n",
        "\n",
        "##Selecting COF\n",
        "cons = cons[['Time', 'CONS.DK.TOT.COF.B.M']]\n",
        "\n",
        "##There is 8 relevant questions in the industry survey:\n",
        "## - COF\tConfidence Indicator (Q2 - Q4 + Q5) / 3 (INDU.DK.TOT.COF.B.M)\n",
        "## - 1\tProduction trend observed in recent months (INDU.DK.TOT.1.B.M)\n",
        "## - 2\tAssessment of order-book levels (INDU.DK.TOT.2.B.M)\n",
        "## - 3\tAssessment of export order-book levels (INDU.DK.TOT.3.B.M)\n",
        "## - 4\tAssessment of stocks of finished products (INDU.DK.TOT.4.B.M)\n",
        "## - 5\tProduction expectations for the months ahead (INDU.DK.TOT.5.B.M)\n",
        "## - 6\tSelling price expectations for the months ahead (INDU.DK.TOT.6.B.M)\n",
        "## - 7\tEmployment expectations for the months ahead (INDU.DK.TOT.7.B.M)\n",
        "\n",
        "## Selecting COF\n",
        "indu = indu[['Time', 'INDU.DK.TOT.COF.B.M']]"
      ],
      "metadata": {
        "id": "Ncb3Jh2mXUBy"
      },
      "execution_count": 4,
      "outputs": []
    },
    {
      "cell_type": "code",
      "source": [
        "#Renaming the columns\n",
        "gdp = gdp.rename(columns={2: 'Time', 3: 'Value'})\n",
        "cons = cons.rename(columns={'CONS.DK.TOT.COF.B.M': 'Value'})\n",
        "indu = indu.rename(columns={'INDU.DK.TOT.COF.B.M': 'Value'})\n",
        "\n",
        "#Converting the Time column to datetime\n",
        "cons['Time'] = pd.to_datetime(cons['Time'], format='%d-%m-%Y')\n",
        "indu['Time'] = pd.to_datetime(indu['Time'], format='%d-%m-%Y')\n",
        "gdp['Time'] = pd.to_datetime(gdp['Time'])\n",
        "\n",
        "# Converting the Value column to float64 in indu and cons\n",
        "indu['Value'] = pd.to_numeric(indu['Value'], errors='coerce').astype('float64')\n",
        "\n",
        "cons['Value'] = pd.to_numeric(cons['Value'], errors='coerce').astype('float64')\n",
        "\n",
        "\n",
        "#Checking the data types\n",
        "print(\"Data types in 'indu' dataframe:\")\n",
        "print(indu.dtypes)\n",
        "\n",
        "print(\"\\nData types in 'cons' dataframe:\")\n",
        "print(cons.dtypes)\n",
        "\n",
        "print(\"\\nData types in 'gdp' dataframe:\")\n",
        "print(gdp.dtypes)"
      ],
      "metadata": {
        "id": "OQ0lGAOPXW0u",
        "outputId": "a8b259fb-1ae8-45f0-9b9c-04010279e8af",
        "colab": {
          "base_uri": "https://localhost:8080/"
        }
      },
      "execution_count": 5,
      "outputs": [
        {
          "output_type": "stream",
          "name": "stdout",
          "text": [
            "Data types in 'indu' dataframe:\n",
            "Time     datetime64[ns]\n",
            "Value           float64\n",
            "dtype: object\n",
            "\n",
            "Data types in 'cons' dataframe:\n",
            "Time     datetime64[ns]\n",
            "Value           float64\n",
            "dtype: object\n",
            "\n",
            "Data types in 'gdp' dataframe:\n",
            "Time     datetime64[ns]\n",
            "Value           float64\n",
            "dtype: object\n"
          ]
        }
      ]
    },
    {
      "cell_type": "code",
      "source": [
        "# Resample indu and cons to quarterly frequency, using the mean value per quarter\n",
        "indu_quarterly = indu.resample('Q', on='Time').mean()\n",
        "cons_quarterly = cons.resample('Q', on='Time').mean()\n",
        "\n",
        "# Adjust the datetime to the first day of the quarter\n",
        "indu_quarterly['Time'] = indu_quarterly.index.to_period('Q').asfreq('Q-DEC', 'start').to_timestamp()\n",
        "cons_quarterly['Time'] = cons_quarterly.index.to_period('Q').asfreq('Q-DEC', 'start').to_timestamp()\n",
        "\n",
        "#Resetting the index of the new dataframes\n",
        "indu_quarterly.reset_index(drop=True, inplace=True)\n",
        "cons_quarterly.reset_index(drop=True, inplace=True)\n",
        "\n",
        "#Checking the data types\n",
        "print(indu_quarterly.dtypes)\n",
        "print(cons_quarterly.dtypes)"
      ],
      "metadata": {
        "id": "9We7WwONXaMI",
        "outputId": "6aca3691-d1cf-4a83-f2a7-46876463af2d",
        "colab": {
          "base_uri": "https://localhost:8080/"
        }
      },
      "execution_count": 6,
      "outputs": [
        {
          "output_type": "stream",
          "name": "stdout",
          "text": [
            "Value           float64\n",
            "Time     datetime64[ns]\n",
            "dtype: object\n",
            "Value           float64\n",
            "Time     datetime64[ns]\n",
            "dtype: object\n"
          ]
        }
      ]
    },
    {
      "cell_type": "code",
      "source": [
        "#Filtering the data to only include the years 1990-2023, as this is the limitation in gdp dataset\n",
        "indu_quarterly = indu_quarterly[(indu_quarterly['Time'] >= '1990-01-01') & (indu_quarterly['Time'] < '2024-01-01')]\n",
        "cons_quarterly = cons_quarterly[(cons_quarterly['Time'] >= '1990-01-01') & (cons_quarterly['Time'] < '2024-01-01')]"
      ],
      "metadata": {
        "id": "IOops7bwXb_-"
      },
      "execution_count": 7,
      "outputs": []
    },
    {
      "cell_type": "code",
      "source": [
        "#Cleanup\n",
        "cons = cons_quarterly\n",
        "indu = indu_quarterly\n",
        "\n",
        "cons.reset_index(drop=True, inplace=True)\n",
        "indu.reset_index(drop=True, inplace=True)\n",
        "\n",
        "del cons_quarterly, indu_quarterly"
      ],
      "metadata": {
        "id": "c_B0igjWXdt_"
      },
      "execution_count": 8,
      "outputs": []
    },
    {
      "cell_type": "code",
      "execution_count": 9,
      "metadata": {
        "id": "TtwwheCgWZVE"
      },
      "outputs": [],
      "source": [
        "#Using the period 2016-2020 for training and 2020-2023 for testing\n",
        "indu_train = indu[(indu['Time'] >= '2016-01-01') & (indu['Time'] < '2020-01-01')]\n",
        "cons_train = cons[(cons['Time'] >= '2016-01-01') & (cons['Time'] < '2020-01-01')]\n",
        "gdp_train = gdp[(gdp['Time'] >= '2016-01-01') & (gdp['Time'] < '2020-01-01')]\n",
        "\n",
        "indu_test = indu[(indu['Time'] >= '2020-01-01') & (indu['Time'] < '2024-01-01')]\n",
        "cons_test = cons[(cons['Time'] >= '2020-01-01') & (cons['Time'] < '2024-01-01')]\n",
        "gdp_test = gdp[(gdp['Time'] >= '2020-01-01') & (gdp['Time'] < '2024-01-01')]"
      ]
    },
    {
      "cell_type": "code",
      "execution_count": 10,
      "metadata": {
        "id": "5yC--6EAWZVE"
      },
      "outputs": [],
      "source": [
        "#Combine the training data by matching the time\n",
        "train = pd.merge(indu_train, cons_train, on='Time', how='inner')\n",
        "train = pd.merge(train, gdp_train, on='Time', how='inner')\n",
        "\n",
        "\n",
        "#Combine the testing data by matching the time\n",
        "test = pd.merge(indu_test, cons_test, on='Time', how='inner')\n",
        "test = pd.merge(test, gdp_test, on='Time', how='inner')\n",
        "\n",
        "#Renaming the columns\n",
        "train.columns = ['indu','Time', 'cons', 'gdp']\n",
        "test.columns = ['indu','Time', 'cons', 'gdp']\n"
      ]
    },
    {
      "cell_type": "code",
      "source": [
        "# Installing Python 3.10.12\n",
        "%pip install python==3.10.12\n",
        "\n",
        "# Installing accelerate package for faster computation\n",
        "%pip install accelerate\n",
        "\n",
        "# Installing keras package for deep learning\n",
        "%pip install keras\n",
        "\n",
        "# Installing tensorflow package for deep learning\n",
        "%pip install tensorflow\n",
        "\n",
        "# Installing torch package for deep learning\n",
        "%pip install torch\n",
        "\n",
        "# Installing transformers package for deep learning\n",
        "%pip install transformers\n",
        "\n",
        "# Installing xgboost package for gradient boosting\n",
        "%pip install xgboost\n",
        "\n",
        "# Installing langchain package for natural language processing\n",
        "%pip install langchain\n",
        "\n",
        "# Installing pmdarima package for time series analysis\n",
        "%pip install pmdarima\n",
        "\n",
        "# Installing statsmodels package for time series analysis\n",
        "%pip install statsmodels\n",
        "\n",
        "# Installing pandas package for data manipulation\n",
        "%pip install pandas\n",
        "\n",
        "# Installing numpy package for numerical computation\n",
        "%pip install numpy\n",
        "\n",
        "# Installing matplotlib package for data visualization\n",
        "%pip install matplotlib\n",
        "\n",
        "# Installing scikit-learn package for machine learning\n",
        "%pip install scikit-learn"
      ],
      "metadata": {
        "colab": {
          "base_uri": "https://localhost:8080/"
        },
        "id": "CLutypGra1hx",
        "outputId": "26d1cefd-36ab-4b76-f1bb-2f557a3e0fbb"
      },
      "execution_count": 39,
      "outputs": [
        {
          "output_type": "stream",
          "name": "stdout",
          "text": [
            "\u001b[31mERROR: Could not find a version that satisfies the requirement python==3.10.12 (from versions: none)\u001b[0m\u001b[31m\n",
            "\u001b[0m\u001b[31mERROR: No matching distribution found for python==3.10.12\u001b[0m\u001b[31m\n",
            "\u001b[0mRequirement already satisfied: accelerate in /usr/local/lib/python3.10/dist-packages (0.30.1)\n",
            "Requirement already satisfied: numpy>=1.17 in /usr/local/lib/python3.10/dist-packages (from accelerate) (1.25.2)\n",
            "Requirement already satisfied: packaging>=20.0 in /usr/local/lib/python3.10/dist-packages (from accelerate) (23.2)\n",
            "Requirement already satisfied: psutil in /usr/local/lib/python3.10/dist-packages (from accelerate) (5.9.5)\n",
            "Requirement already satisfied: pyyaml in /usr/local/lib/python3.10/dist-packages (from accelerate) (6.0.1)\n",
            "Requirement already satisfied: torch>=1.10.0 in /usr/local/lib/python3.10/dist-packages (from accelerate) (2.2.1+cu121)\n",
            "Requirement already satisfied: huggingface-hub in /usr/local/lib/python3.10/dist-packages (from accelerate) (0.20.3)\n",
            "Requirement already satisfied: safetensors>=0.3.1 in /usr/local/lib/python3.10/dist-packages (from accelerate) (0.4.3)\n",
            "Requirement already satisfied: filelock in /usr/local/lib/python3.10/dist-packages (from torch>=1.10.0->accelerate) (3.14.0)\n",
            "Requirement already satisfied: typing-extensions>=4.8.0 in /usr/local/lib/python3.10/dist-packages (from torch>=1.10.0->accelerate) (4.11.0)\n",
            "Requirement already satisfied: sympy in /usr/local/lib/python3.10/dist-packages (from torch>=1.10.0->accelerate) (1.12)\n",
            "Requirement already satisfied: networkx in /usr/local/lib/python3.10/dist-packages (from torch>=1.10.0->accelerate) (3.3)\n",
            "Requirement already satisfied: jinja2 in /usr/local/lib/python3.10/dist-packages (from torch>=1.10.0->accelerate) (3.1.4)\n",
            "Requirement already satisfied: fsspec in /usr/local/lib/python3.10/dist-packages (from torch>=1.10.0->accelerate) (2023.6.0)\n",
            "Requirement already satisfied: nvidia-cuda-nvrtc-cu12==12.1.105 in /usr/local/lib/python3.10/dist-packages (from torch>=1.10.0->accelerate) (12.1.105)\n",
            "Requirement already satisfied: nvidia-cuda-runtime-cu12==12.1.105 in /usr/local/lib/python3.10/dist-packages (from torch>=1.10.0->accelerate) (12.1.105)\n",
            "Requirement already satisfied: nvidia-cuda-cupti-cu12==12.1.105 in /usr/local/lib/python3.10/dist-packages (from torch>=1.10.0->accelerate) (12.1.105)\n",
            "Requirement already satisfied: nvidia-cudnn-cu12==8.9.2.26 in /usr/local/lib/python3.10/dist-packages (from torch>=1.10.0->accelerate) (8.9.2.26)\n",
            "Requirement already satisfied: nvidia-cublas-cu12==12.1.3.1 in /usr/local/lib/python3.10/dist-packages (from torch>=1.10.0->accelerate) (12.1.3.1)\n",
            "Requirement already satisfied: nvidia-cufft-cu12==11.0.2.54 in /usr/local/lib/python3.10/dist-packages (from torch>=1.10.0->accelerate) (11.0.2.54)\n",
            "Requirement already satisfied: nvidia-curand-cu12==10.3.2.106 in /usr/local/lib/python3.10/dist-packages (from torch>=1.10.0->accelerate) (10.3.2.106)\n",
            "Requirement already satisfied: nvidia-cusolver-cu12==11.4.5.107 in /usr/local/lib/python3.10/dist-packages (from torch>=1.10.0->accelerate) (11.4.5.107)\n",
            "Requirement already satisfied: nvidia-cusparse-cu12==12.1.0.106 in /usr/local/lib/python3.10/dist-packages (from torch>=1.10.0->accelerate) (12.1.0.106)\n",
            "Requirement already satisfied: nvidia-nccl-cu12==2.19.3 in /usr/local/lib/python3.10/dist-packages (from torch>=1.10.0->accelerate) (2.19.3)\n",
            "Requirement already satisfied: nvidia-nvtx-cu12==12.1.105 in /usr/local/lib/python3.10/dist-packages (from torch>=1.10.0->accelerate) (12.1.105)\n",
            "Requirement already satisfied: triton==2.2.0 in /usr/local/lib/python3.10/dist-packages (from torch>=1.10.0->accelerate) (2.2.0)\n",
            "Requirement already satisfied: nvidia-nvjitlink-cu12 in /usr/local/lib/python3.10/dist-packages (from nvidia-cusolver-cu12==11.4.5.107->torch>=1.10.0->accelerate) (12.4.127)\n",
            "Requirement already satisfied: requests in /usr/local/lib/python3.10/dist-packages (from huggingface-hub->accelerate) (2.31.0)\n",
            "Requirement already satisfied: tqdm>=4.42.1 in /usr/local/lib/python3.10/dist-packages (from huggingface-hub->accelerate) (4.66.4)\n",
            "Requirement already satisfied: MarkupSafe>=2.0 in /usr/local/lib/python3.10/dist-packages (from jinja2->torch>=1.10.0->accelerate) (2.1.5)\n",
            "Requirement already satisfied: charset-normalizer<4,>=2 in /usr/local/lib/python3.10/dist-packages (from requests->huggingface-hub->accelerate) (3.3.2)\n",
            "Requirement already satisfied: idna<4,>=2.5 in /usr/local/lib/python3.10/dist-packages (from requests->huggingface-hub->accelerate) (3.7)\n",
            "Requirement already satisfied: urllib3<3,>=1.21.1 in /usr/local/lib/python3.10/dist-packages (from requests->huggingface-hub->accelerate) (2.0.7)\n",
            "Requirement already satisfied: certifi>=2017.4.17 in /usr/local/lib/python3.10/dist-packages (from requests->huggingface-hub->accelerate) (2024.2.2)\n",
            "Requirement already satisfied: mpmath>=0.19 in /usr/local/lib/python3.10/dist-packages (from sympy->torch>=1.10.0->accelerate) (1.3.0)\n",
            "Requirement already satisfied: keras in /usr/local/lib/python3.10/dist-packages (2.15.0)\n",
            "Requirement already satisfied: tensorflow in /usr/local/lib/python3.10/dist-packages (2.15.0)\n",
            "Requirement already satisfied: absl-py>=1.0.0 in /usr/local/lib/python3.10/dist-packages (from tensorflow) (1.4.0)\n",
            "Requirement already satisfied: astunparse>=1.6.0 in /usr/local/lib/python3.10/dist-packages (from tensorflow) (1.6.3)\n",
            "Requirement already satisfied: flatbuffers>=23.5.26 in /usr/local/lib/python3.10/dist-packages (from tensorflow) (24.3.25)\n",
            "Requirement already satisfied: gast!=0.5.0,!=0.5.1,!=0.5.2,>=0.2.1 in /usr/local/lib/python3.10/dist-packages (from tensorflow) (0.5.4)\n",
            "Requirement already satisfied: google-pasta>=0.1.1 in /usr/local/lib/python3.10/dist-packages (from tensorflow) (0.2.0)\n",
            "Requirement already satisfied: h5py>=2.9.0 in /usr/local/lib/python3.10/dist-packages (from tensorflow) (3.9.0)\n",
            "Requirement already satisfied: libclang>=13.0.0 in /usr/local/lib/python3.10/dist-packages (from tensorflow) (18.1.1)\n",
            "Requirement already satisfied: ml-dtypes~=0.2.0 in /usr/local/lib/python3.10/dist-packages (from tensorflow) (0.2.0)\n",
            "Requirement already satisfied: numpy<2.0.0,>=1.23.5 in /usr/local/lib/python3.10/dist-packages (from tensorflow) (1.25.2)\n",
            "Requirement already satisfied: opt-einsum>=2.3.2 in /usr/local/lib/python3.10/dist-packages (from tensorflow) (3.3.0)\n",
            "Requirement already satisfied: packaging in /usr/local/lib/python3.10/dist-packages (from tensorflow) (23.2)\n",
            "Requirement already satisfied: protobuf!=4.21.0,!=4.21.1,!=4.21.2,!=4.21.3,!=4.21.4,!=4.21.5,<5.0.0dev,>=3.20.3 in /usr/local/lib/python3.10/dist-packages (from tensorflow) (3.20.3)\n",
            "Requirement already satisfied: setuptools in /usr/local/lib/python3.10/dist-packages (from tensorflow) (67.7.2)\n",
            "Requirement already satisfied: six>=1.12.0 in /usr/local/lib/python3.10/dist-packages (from tensorflow) (1.16.0)\n",
            "Requirement already satisfied: termcolor>=1.1.0 in /usr/local/lib/python3.10/dist-packages (from tensorflow) (2.4.0)\n",
            "Requirement already satisfied: typing-extensions>=3.6.6 in /usr/local/lib/python3.10/dist-packages (from tensorflow) (4.11.0)\n",
            "Requirement already satisfied: wrapt<1.15,>=1.11.0 in /usr/local/lib/python3.10/dist-packages (from tensorflow) (1.14.1)\n",
            "Requirement already satisfied: tensorflow-io-gcs-filesystem>=0.23.1 in /usr/local/lib/python3.10/dist-packages (from tensorflow) (0.37.0)\n",
            "Requirement already satisfied: grpcio<2.0,>=1.24.3 in /usr/local/lib/python3.10/dist-packages (from tensorflow) (1.63.0)\n",
            "Requirement already satisfied: tensorboard<2.16,>=2.15 in /usr/local/lib/python3.10/dist-packages (from tensorflow) (2.15.2)\n",
            "Requirement already satisfied: tensorflow-estimator<2.16,>=2.15.0 in /usr/local/lib/python3.10/dist-packages (from tensorflow) (2.15.0)\n",
            "Requirement already satisfied: keras<2.16,>=2.15.0 in /usr/local/lib/python3.10/dist-packages (from tensorflow) (2.15.0)\n",
            "Requirement already satisfied: wheel<1.0,>=0.23.0 in /usr/local/lib/python3.10/dist-packages (from astunparse>=1.6.0->tensorflow) (0.43.0)\n",
            "Requirement already satisfied: google-auth<3,>=1.6.3 in /usr/local/lib/python3.10/dist-packages (from tensorboard<2.16,>=2.15->tensorflow) (2.27.0)\n",
            "Requirement already satisfied: google-auth-oauthlib<2,>=0.5 in /usr/local/lib/python3.10/dist-packages (from tensorboard<2.16,>=2.15->tensorflow) (1.2.0)\n",
            "Requirement already satisfied: markdown>=2.6.8 in /usr/local/lib/python3.10/dist-packages (from tensorboard<2.16,>=2.15->tensorflow) (3.6)\n",
            "Requirement already satisfied: requests<3,>=2.21.0 in /usr/local/lib/python3.10/dist-packages (from tensorboard<2.16,>=2.15->tensorflow) (2.31.0)\n",
            "Requirement already satisfied: tensorboard-data-server<0.8.0,>=0.7.0 in /usr/local/lib/python3.10/dist-packages (from tensorboard<2.16,>=2.15->tensorflow) (0.7.2)\n",
            "Requirement already satisfied: werkzeug>=1.0.1 in /usr/local/lib/python3.10/dist-packages (from tensorboard<2.16,>=2.15->tensorflow) (3.0.3)\n",
            "Requirement already satisfied: cachetools<6.0,>=2.0.0 in /usr/local/lib/python3.10/dist-packages (from google-auth<3,>=1.6.3->tensorboard<2.16,>=2.15->tensorflow) (5.3.3)\n",
            "Requirement already satisfied: pyasn1-modules>=0.2.1 in /usr/local/lib/python3.10/dist-packages (from google-auth<3,>=1.6.3->tensorboard<2.16,>=2.15->tensorflow) (0.4.0)\n",
            "Requirement already satisfied: rsa<5,>=3.1.4 in /usr/local/lib/python3.10/dist-packages (from google-auth<3,>=1.6.3->tensorboard<2.16,>=2.15->tensorflow) (4.9)\n",
            "Requirement already satisfied: requests-oauthlib>=0.7.0 in /usr/local/lib/python3.10/dist-packages (from google-auth-oauthlib<2,>=0.5->tensorboard<2.16,>=2.15->tensorflow) (1.3.1)\n",
            "Requirement already satisfied: charset-normalizer<4,>=2 in /usr/local/lib/python3.10/dist-packages (from requests<3,>=2.21.0->tensorboard<2.16,>=2.15->tensorflow) (3.3.2)\n",
            "Requirement already satisfied: idna<4,>=2.5 in /usr/local/lib/python3.10/dist-packages (from requests<3,>=2.21.0->tensorboard<2.16,>=2.15->tensorflow) (3.7)\n",
            "Requirement already satisfied: urllib3<3,>=1.21.1 in /usr/local/lib/python3.10/dist-packages (from requests<3,>=2.21.0->tensorboard<2.16,>=2.15->tensorflow) (2.0.7)\n",
            "Requirement already satisfied: certifi>=2017.4.17 in /usr/local/lib/python3.10/dist-packages (from requests<3,>=2.21.0->tensorboard<2.16,>=2.15->tensorflow) (2024.2.2)\n",
            "Requirement already satisfied: MarkupSafe>=2.1.1 in /usr/local/lib/python3.10/dist-packages (from werkzeug>=1.0.1->tensorboard<2.16,>=2.15->tensorflow) (2.1.5)\n",
            "Requirement already satisfied: pyasn1<0.7.0,>=0.4.6 in /usr/local/lib/python3.10/dist-packages (from pyasn1-modules>=0.2.1->google-auth<3,>=1.6.3->tensorboard<2.16,>=2.15->tensorflow) (0.6.0)\n",
            "Requirement already satisfied: oauthlib>=3.0.0 in /usr/local/lib/python3.10/dist-packages (from requests-oauthlib>=0.7.0->google-auth-oauthlib<2,>=0.5->tensorboard<2.16,>=2.15->tensorflow) (3.2.2)\n",
            "Requirement already satisfied: torch in /usr/local/lib/python3.10/dist-packages (2.2.1+cu121)\n",
            "Requirement already satisfied: filelock in /usr/local/lib/python3.10/dist-packages (from torch) (3.14.0)\n",
            "Requirement already satisfied: typing-extensions>=4.8.0 in /usr/local/lib/python3.10/dist-packages (from torch) (4.11.0)\n",
            "Requirement already satisfied: sympy in /usr/local/lib/python3.10/dist-packages (from torch) (1.12)\n",
            "Requirement already satisfied: networkx in /usr/local/lib/python3.10/dist-packages (from torch) (3.3)\n",
            "Requirement already satisfied: jinja2 in /usr/local/lib/python3.10/dist-packages (from torch) (3.1.4)\n",
            "Requirement already satisfied: fsspec in /usr/local/lib/python3.10/dist-packages (from torch) (2023.6.0)\n",
            "Requirement already satisfied: nvidia-cuda-nvrtc-cu12==12.1.105 in /usr/local/lib/python3.10/dist-packages (from torch) (12.1.105)\n",
            "Requirement already satisfied: nvidia-cuda-runtime-cu12==12.1.105 in /usr/local/lib/python3.10/dist-packages (from torch) (12.1.105)\n",
            "Requirement already satisfied: nvidia-cuda-cupti-cu12==12.1.105 in /usr/local/lib/python3.10/dist-packages (from torch) (12.1.105)\n",
            "Requirement already satisfied: nvidia-cudnn-cu12==8.9.2.26 in /usr/local/lib/python3.10/dist-packages (from torch) (8.9.2.26)\n",
            "Requirement already satisfied: nvidia-cublas-cu12==12.1.3.1 in /usr/local/lib/python3.10/dist-packages (from torch) (12.1.3.1)\n",
            "Requirement already satisfied: nvidia-cufft-cu12==11.0.2.54 in /usr/local/lib/python3.10/dist-packages (from torch) (11.0.2.54)\n",
            "Requirement already satisfied: nvidia-curand-cu12==10.3.2.106 in /usr/local/lib/python3.10/dist-packages (from torch) (10.3.2.106)\n",
            "Requirement already satisfied: nvidia-cusolver-cu12==11.4.5.107 in /usr/local/lib/python3.10/dist-packages (from torch) (11.4.5.107)\n",
            "Requirement already satisfied: nvidia-cusparse-cu12==12.1.0.106 in /usr/local/lib/python3.10/dist-packages (from torch) (12.1.0.106)\n",
            "Requirement already satisfied: nvidia-nccl-cu12==2.19.3 in /usr/local/lib/python3.10/dist-packages (from torch) (2.19.3)\n",
            "Requirement already satisfied: nvidia-nvtx-cu12==12.1.105 in /usr/local/lib/python3.10/dist-packages (from torch) (12.1.105)\n",
            "Requirement already satisfied: triton==2.2.0 in /usr/local/lib/python3.10/dist-packages (from torch) (2.2.0)\n",
            "Requirement already satisfied: nvidia-nvjitlink-cu12 in /usr/local/lib/python3.10/dist-packages (from nvidia-cusolver-cu12==11.4.5.107->torch) (12.4.127)\n",
            "Requirement already satisfied: MarkupSafe>=2.0 in /usr/local/lib/python3.10/dist-packages (from jinja2->torch) (2.1.5)\n",
            "Requirement already satisfied: mpmath>=0.19 in /usr/local/lib/python3.10/dist-packages (from sympy->torch) (1.3.0)\n",
            "Requirement already satisfied: transformers in /usr/local/lib/python3.10/dist-packages (4.40.2)\n",
            "Requirement already satisfied: filelock in /usr/local/lib/python3.10/dist-packages (from transformers) (3.14.0)\n",
            "Requirement already satisfied: huggingface-hub<1.0,>=0.19.3 in /usr/local/lib/python3.10/dist-packages (from transformers) (0.20.3)\n",
            "Requirement already satisfied: numpy>=1.17 in /usr/local/lib/python3.10/dist-packages (from transformers) (1.25.2)\n",
            "Requirement already satisfied: packaging>=20.0 in /usr/local/lib/python3.10/dist-packages (from transformers) (23.2)\n",
            "Requirement already satisfied: pyyaml>=5.1 in /usr/local/lib/python3.10/dist-packages (from transformers) (6.0.1)\n",
            "Requirement already satisfied: regex!=2019.12.17 in /usr/local/lib/python3.10/dist-packages (from transformers) (2023.12.25)\n",
            "Requirement already satisfied: requests in /usr/local/lib/python3.10/dist-packages (from transformers) (2.31.0)\n",
            "Requirement already satisfied: tokenizers<0.20,>=0.19 in /usr/local/lib/python3.10/dist-packages (from transformers) (0.19.1)\n",
            "Requirement already satisfied: safetensors>=0.4.1 in /usr/local/lib/python3.10/dist-packages (from transformers) (0.4.3)\n",
            "Requirement already satisfied: tqdm>=4.27 in /usr/local/lib/python3.10/dist-packages (from transformers) (4.66.4)\n",
            "Requirement already satisfied: fsspec>=2023.5.0 in /usr/local/lib/python3.10/dist-packages (from huggingface-hub<1.0,>=0.19.3->transformers) (2023.6.0)\n",
            "Requirement already satisfied: typing-extensions>=3.7.4.3 in /usr/local/lib/python3.10/dist-packages (from huggingface-hub<1.0,>=0.19.3->transformers) (4.11.0)\n",
            "Requirement already satisfied: charset-normalizer<4,>=2 in /usr/local/lib/python3.10/dist-packages (from requests->transformers) (3.3.2)\n",
            "Requirement already satisfied: idna<4,>=2.5 in /usr/local/lib/python3.10/dist-packages (from requests->transformers) (3.7)\n",
            "Requirement already satisfied: urllib3<3,>=1.21.1 in /usr/local/lib/python3.10/dist-packages (from requests->transformers) (2.0.7)\n",
            "Requirement already satisfied: certifi>=2017.4.17 in /usr/local/lib/python3.10/dist-packages (from requests->transformers) (2024.2.2)\n",
            "Requirement already satisfied: xgboost in /usr/local/lib/python3.10/dist-packages (2.0.3)\n",
            "Requirement already satisfied: numpy in /usr/local/lib/python3.10/dist-packages (from xgboost) (1.25.2)\n",
            "Requirement already satisfied: scipy in /usr/local/lib/python3.10/dist-packages (from xgboost) (1.11.4)\n",
            "Requirement already satisfied: langchain in /usr/local/lib/python3.10/dist-packages (0.2.0)\n",
            "Requirement already satisfied: PyYAML>=5.3 in /usr/local/lib/python3.10/dist-packages (from langchain) (6.0.1)\n",
            "Requirement already satisfied: SQLAlchemy<3,>=1.4 in /usr/local/lib/python3.10/dist-packages (from langchain) (2.0.30)\n",
            "Requirement already satisfied: aiohttp<4.0.0,>=3.8.3 in /usr/local/lib/python3.10/dist-packages (from langchain) (3.9.5)\n",
            "Requirement already satisfied: async-timeout<5.0.0,>=4.0.0 in /usr/local/lib/python3.10/dist-packages (from langchain) (4.0.3)\n",
            "Requirement already satisfied: dataclasses-json<0.7,>=0.5.7 in /usr/local/lib/python3.10/dist-packages (from langchain) (0.6.6)\n",
            "Requirement already satisfied: langchain-core<0.3.0,>=0.2.0 in /usr/local/lib/python3.10/dist-packages (from langchain) (0.2.0)\n",
            "Requirement already satisfied: langchain-text-splitters<0.3.0,>=0.2.0 in /usr/local/lib/python3.10/dist-packages (from langchain) (0.2.0)\n",
            "Requirement already satisfied: langsmith<0.2.0,>=0.1.17 in /usr/local/lib/python3.10/dist-packages (from langchain) (0.1.59)\n",
            "Requirement already satisfied: numpy<2,>=1 in /usr/local/lib/python3.10/dist-packages (from langchain) (1.25.2)\n",
            "Requirement already satisfied: pydantic<3,>=1 in /usr/local/lib/python3.10/dist-packages (from langchain) (2.7.1)\n",
            "Requirement already satisfied: requests<3,>=2 in /usr/local/lib/python3.10/dist-packages (from langchain) (2.31.0)\n",
            "Requirement already satisfied: tenacity<9.0.0,>=8.1.0 in /usr/local/lib/python3.10/dist-packages (from langchain) (8.3.0)\n",
            "Requirement already satisfied: aiosignal>=1.1.2 in /usr/local/lib/python3.10/dist-packages (from aiohttp<4.0.0,>=3.8.3->langchain) (1.3.1)\n",
            "Requirement already satisfied: attrs>=17.3.0 in /usr/local/lib/python3.10/dist-packages (from aiohttp<4.0.0,>=3.8.3->langchain) (23.2.0)\n",
            "Requirement already satisfied: frozenlist>=1.1.1 in /usr/local/lib/python3.10/dist-packages (from aiohttp<4.0.0,>=3.8.3->langchain) (1.4.1)\n",
            "Requirement already satisfied: multidict<7.0,>=4.5 in /usr/local/lib/python3.10/dist-packages (from aiohttp<4.0.0,>=3.8.3->langchain) (6.0.5)\n",
            "Requirement already satisfied: yarl<2.0,>=1.0 in /usr/local/lib/python3.10/dist-packages (from aiohttp<4.0.0,>=3.8.3->langchain) (1.9.4)\n",
            "Requirement already satisfied: marshmallow<4.0.0,>=3.18.0 in /usr/local/lib/python3.10/dist-packages (from dataclasses-json<0.7,>=0.5.7->langchain) (3.21.2)\n",
            "Requirement already satisfied: typing-inspect<1,>=0.4.0 in /usr/local/lib/python3.10/dist-packages (from dataclasses-json<0.7,>=0.5.7->langchain) (0.9.0)\n",
            "Requirement already satisfied: jsonpatch<2.0,>=1.33 in /usr/local/lib/python3.10/dist-packages (from langchain-core<0.3.0,>=0.2.0->langchain) (1.33)\n",
            "Requirement already satisfied: packaging<24.0,>=23.2 in /usr/local/lib/python3.10/dist-packages (from langchain-core<0.3.0,>=0.2.0->langchain) (23.2)\n",
            "Requirement already satisfied: orjson<4.0.0,>=3.9.14 in /usr/local/lib/python3.10/dist-packages (from langsmith<0.2.0,>=0.1.17->langchain) (3.10.3)\n",
            "Requirement already satisfied: annotated-types>=0.4.0 in /usr/local/lib/python3.10/dist-packages (from pydantic<3,>=1->langchain) (0.6.0)\n",
            "Requirement already satisfied: pydantic-core==2.18.2 in /usr/local/lib/python3.10/dist-packages (from pydantic<3,>=1->langchain) (2.18.2)\n",
            "Requirement already satisfied: typing-extensions>=4.6.1 in /usr/local/lib/python3.10/dist-packages (from pydantic<3,>=1->langchain) (4.11.0)\n",
            "Requirement already satisfied: charset-normalizer<4,>=2 in /usr/local/lib/python3.10/dist-packages (from requests<3,>=2->langchain) (3.3.2)\n",
            "Requirement already satisfied: idna<4,>=2.5 in /usr/local/lib/python3.10/dist-packages (from requests<3,>=2->langchain) (3.7)\n",
            "Requirement already satisfied: urllib3<3,>=1.21.1 in /usr/local/lib/python3.10/dist-packages (from requests<3,>=2->langchain) (2.0.7)\n",
            "Requirement already satisfied: certifi>=2017.4.17 in /usr/local/lib/python3.10/dist-packages (from requests<3,>=2->langchain) (2024.2.2)\n",
            "Requirement already satisfied: greenlet!=0.4.17 in /usr/local/lib/python3.10/dist-packages (from SQLAlchemy<3,>=1.4->langchain) (3.0.3)\n",
            "Requirement already satisfied: jsonpointer>=1.9 in /usr/local/lib/python3.10/dist-packages (from jsonpatch<2.0,>=1.33->langchain-core<0.3.0,>=0.2.0->langchain) (2.4)\n",
            "Requirement already satisfied: mypy-extensions>=0.3.0 in /usr/local/lib/python3.10/dist-packages (from typing-inspect<1,>=0.4.0->dataclasses-json<0.7,>=0.5.7->langchain) (1.0.0)\n",
            "Requirement already satisfied: pmdarima in /usr/local/lib/python3.10/dist-packages (2.0.4)\n",
            "Requirement already satisfied: joblib>=0.11 in /usr/local/lib/python3.10/dist-packages (from pmdarima) (1.4.2)\n",
            "Requirement already satisfied: Cython!=0.29.18,!=0.29.31,>=0.29 in /usr/local/lib/python3.10/dist-packages (from pmdarima) (3.0.10)\n",
            "Requirement already satisfied: numpy>=1.21.2 in /usr/local/lib/python3.10/dist-packages (from pmdarima) (1.25.2)\n",
            "Requirement already satisfied: pandas>=0.19 in /usr/local/lib/python3.10/dist-packages (from pmdarima) (2.0.3)\n",
            "Requirement already satisfied: scikit-learn>=0.22 in /usr/local/lib/python3.10/dist-packages (from pmdarima) (1.2.2)\n",
            "Requirement already satisfied: scipy>=1.3.2 in /usr/local/lib/python3.10/dist-packages (from pmdarima) (1.11.4)\n",
            "Requirement already satisfied: statsmodels>=0.13.2 in /usr/local/lib/python3.10/dist-packages (from pmdarima) (0.14.2)\n",
            "Requirement already satisfied: urllib3 in /usr/local/lib/python3.10/dist-packages (from pmdarima) (2.0.7)\n",
            "Requirement already satisfied: setuptools!=50.0.0,>=38.6.0 in /usr/local/lib/python3.10/dist-packages (from pmdarima) (67.7.2)\n",
            "Requirement already satisfied: packaging>=17.1 in /usr/local/lib/python3.10/dist-packages (from pmdarima) (23.2)\n",
            "Requirement already satisfied: python-dateutil>=2.8.2 in /usr/local/lib/python3.10/dist-packages (from pandas>=0.19->pmdarima) (2.8.2)\n",
            "Requirement already satisfied: pytz>=2020.1 in /usr/local/lib/python3.10/dist-packages (from pandas>=0.19->pmdarima) (2023.4)\n",
            "Requirement already satisfied: tzdata>=2022.1 in /usr/local/lib/python3.10/dist-packages (from pandas>=0.19->pmdarima) (2024.1)\n",
            "Requirement already satisfied: threadpoolctl>=2.0.0 in /usr/local/lib/python3.10/dist-packages (from scikit-learn>=0.22->pmdarima) (3.5.0)\n",
            "Requirement already satisfied: patsy>=0.5.6 in /usr/local/lib/python3.10/dist-packages (from statsmodels>=0.13.2->pmdarima) (0.5.6)\n",
            "Requirement already satisfied: six in /usr/local/lib/python3.10/dist-packages (from patsy>=0.5.6->statsmodels>=0.13.2->pmdarima) (1.16.0)\n",
            "Requirement already satisfied: statsmodels in /usr/local/lib/python3.10/dist-packages (0.14.2)\n",
            "Requirement already satisfied: numpy>=1.22.3 in /usr/local/lib/python3.10/dist-packages (from statsmodels) (1.25.2)\n",
            "Requirement already satisfied: scipy!=1.9.2,>=1.8 in /usr/local/lib/python3.10/dist-packages (from statsmodels) (1.11.4)\n",
            "Requirement already satisfied: pandas!=2.1.0,>=1.4 in /usr/local/lib/python3.10/dist-packages (from statsmodels) (2.0.3)\n",
            "Requirement already satisfied: patsy>=0.5.6 in /usr/local/lib/python3.10/dist-packages (from statsmodels) (0.5.6)\n",
            "Requirement already satisfied: packaging>=21.3 in /usr/local/lib/python3.10/dist-packages (from statsmodels) (23.2)\n",
            "Requirement already satisfied: python-dateutil>=2.8.2 in /usr/local/lib/python3.10/dist-packages (from pandas!=2.1.0,>=1.4->statsmodels) (2.8.2)\n",
            "Requirement already satisfied: pytz>=2020.1 in /usr/local/lib/python3.10/dist-packages (from pandas!=2.1.0,>=1.4->statsmodels) (2023.4)\n",
            "Requirement already satisfied: tzdata>=2022.1 in /usr/local/lib/python3.10/dist-packages (from pandas!=2.1.0,>=1.4->statsmodels) (2024.1)\n",
            "Requirement already satisfied: six in /usr/local/lib/python3.10/dist-packages (from patsy>=0.5.6->statsmodels) (1.16.0)\n",
            "Requirement already satisfied: pandas in /usr/local/lib/python3.10/dist-packages (2.0.3)\n",
            "Requirement already satisfied: python-dateutil>=2.8.2 in /usr/local/lib/python3.10/dist-packages (from pandas) (2.8.2)\n",
            "Requirement already satisfied: pytz>=2020.1 in /usr/local/lib/python3.10/dist-packages (from pandas) (2023.4)\n",
            "Requirement already satisfied: tzdata>=2022.1 in /usr/local/lib/python3.10/dist-packages (from pandas) (2024.1)\n",
            "Requirement already satisfied: numpy>=1.21.0 in /usr/local/lib/python3.10/dist-packages (from pandas) (1.25.2)\n",
            "Requirement already satisfied: six>=1.5 in /usr/local/lib/python3.10/dist-packages (from python-dateutil>=2.8.2->pandas) (1.16.0)\n",
            "Requirement already satisfied: numpy in /usr/local/lib/python3.10/dist-packages (1.25.2)\n",
            "Requirement already satisfied: matplotlib in /usr/local/lib/python3.10/dist-packages (3.7.1)\n",
            "Requirement already satisfied: contourpy>=1.0.1 in /usr/local/lib/python3.10/dist-packages (from matplotlib) (1.2.1)\n",
            "Requirement already satisfied: cycler>=0.10 in /usr/local/lib/python3.10/dist-packages (from matplotlib) (0.12.1)\n",
            "Requirement already satisfied: fonttools>=4.22.0 in /usr/local/lib/python3.10/dist-packages (from matplotlib) (4.51.0)\n",
            "Requirement already satisfied: kiwisolver>=1.0.1 in /usr/local/lib/python3.10/dist-packages (from matplotlib) (1.4.5)\n",
            "Requirement already satisfied: numpy>=1.20 in /usr/local/lib/python3.10/dist-packages (from matplotlib) (1.25.2)\n",
            "Requirement already satisfied: packaging>=20.0 in /usr/local/lib/python3.10/dist-packages (from matplotlib) (23.2)\n",
            "Requirement already satisfied: pillow>=6.2.0 in /usr/local/lib/python3.10/dist-packages (from matplotlib) (9.4.0)\n",
            "Requirement already satisfied: pyparsing>=2.3.1 in /usr/local/lib/python3.10/dist-packages (from matplotlib) (3.1.2)\n",
            "Requirement already satisfied: python-dateutil>=2.7 in /usr/local/lib/python3.10/dist-packages (from matplotlib) (2.8.2)\n",
            "Requirement already satisfied: six>=1.5 in /usr/local/lib/python3.10/dist-packages (from python-dateutil>=2.7->matplotlib) (1.16.0)\n",
            "Requirement already satisfied: scikit-learn in /usr/local/lib/python3.10/dist-packages (1.2.2)\n",
            "Requirement already satisfied: numpy>=1.17.3 in /usr/local/lib/python3.10/dist-packages (from scikit-learn) (1.25.2)\n",
            "Requirement already satisfied: scipy>=1.3.2 in /usr/local/lib/python3.10/dist-packages (from scikit-learn) (1.11.4)\n",
            "Requirement already satisfied: joblib>=1.1.1 in /usr/local/lib/python3.10/dist-packages (from scikit-learn) (1.4.2)\n",
            "Requirement already satisfied: threadpoolctl>=2.0.0 in /usr/local/lib/python3.10/dist-packages (from scikit-learn) (3.5.0)\n"
          ]
        }
      ]
    },
    {
      "cell_type": "code",
      "execution_count": 40,
      "metadata": {
        "id": "T8PRhtGvWZVE"
      },
      "outputs": [],
      "source": [
        "from langchain.chains.combine_documents.stuff import StuffDocumentsChain\n",
        "from langchain.chains.llm import LLMChain\n",
        "from langchain.prompts import PromptTemplate\n",
        "from langchain.chains.summarize import load_summarize_chain\n",
        "from langchain.text_splitter import CharacterTextSplitter\n",
        "from langchain.chains.summarize import load_summarize_chain\n",
        "from langchain.chains.combine_documents.stuff import StuffDocumentsChain\n",
        "from langchain.chains.llm import LLMChain\n",
        "from langchain.prompts import PromptTemplate\n",
        "from langchain.chains.summarize import load_summarize_chain"
      ]
    },
    {
      "cell_type": "code",
      "execution_count": 41,
      "metadata": {
        "id": "_xVWVOESWZVF",
        "outputId": "f5944e43-958e-464c-a942-2be5f1048395",
        "colab": {
          "referenced_widgets": [
            "54a9e2b3d8a94fcf89cb55b959953937",
            "fd3e6f8ec24b4ac7bb4c3aee6b3c8361",
            "18b5877f331f4df7ad85cc0634b910d1",
            "7035dd58a92e47139d40e9ac52cab4e4",
            "84cf5659c61941be96baf8360b3a5cc7",
            "5c9c1d5165bc4112a36c127958d316b8",
            "dab82fb1804a498b81fbd75e1867ef78",
            "fd7f2fabb60045b08b9591c71eab68db",
            "ebb7d005982e43d09c0d7677edad832a",
            "f59e02720ed0407ebe6968e40d82595e",
            "3ac185f6ce9641c7b81ecadeafb6a9d0"
          ],
          "base_uri": "https://localhost:8080/",
          "height": 101
        }
      },
      "outputs": [
        {
          "output_type": "stream",
          "name": "stderr",
          "text": [
            "Special tokens have been added in the vocabulary, make sure the associated word embeddings are fine-tuned or trained.\n",
            "WARNING:transformers_modules.microsoft.Phi-3-mini-4k-instruct.8f5f3a02ec472594e949c39f8e38c7be8d983bcd.modeling_phi3:`flash-attention` package not found, consider installing for better performance: No module named 'flash_attn'.\n",
            "WARNING:transformers_modules.microsoft.Phi-3-mini-4k-instruct.8f5f3a02ec472594e949c39f8e38c7be8d983bcd.modeling_phi3:Current `flash-attention` does not support `window_size`. Either upgrade or use `attn_implementation='eager'`.\n"
          ]
        },
        {
          "output_type": "display_data",
          "data": {
            "text/plain": [
              "Loading checkpoint shards:   0%|          | 0/2 [00:00<?, ?it/s]"
            ],
            "application/vnd.jupyter.widget-view+json": {
              "version_major": 2,
              "version_minor": 0,
              "model_id": "54a9e2b3d8a94fcf89cb55b959953937"
            }
          },
          "metadata": {}
        }
      ],
      "source": [
        "import torch\n",
        "\n",
        "from transformers import AutoModelForCausalLM, AutoTokenizer, GenerationConfig, pipeline\n",
        "import os\n",
        "from google.colab import userdata\n",
        "\n",
        "# Set the Hugging Face API token as an environment variable\n",
        "os.environ[\"HF_TOKEN\"] = userdata.get(\"huggingface_key\")\n",
        "\n",
        "#Set the device to use\n",
        "device = torch.device(\"cuda\")\n",
        "\n",
        "\n",
        "MODEL_NAME = \"microsoft/Phi-3-mini-4k-instruct\"\n",
        "\n",
        "tokenizer = AutoTokenizer.from_pretrained(MODEL_NAME, use_fast=True)\n",
        "\n",
        "model = AutoModelForCausalLM.from_pretrained(\n",
        "    MODEL_NAME, torchscript=True, torch_dtype=torch.float16, trust_remote_code=True, device_map=\"auto\"\n",
        ")\n",
        "\n",
        "# Create a configuration for text generation based on the specified model name\n",
        "generation_config = GenerationConfig.from_pretrained(MODEL_NAME)\n",
        "\n",
        "# Set the maximum number of new tokens in the generated text to 1024.\n",
        "# This limits the length of the generated output to 1024 tokens.\n",
        "generation_config.max_new_tokens = 1024\n",
        "\n",
        "# Set the temperature for text generation. Lower values (e.g., 0.0001) make output more deterministic, following likely predictions.\n",
        "# Higher values make the output more random.\n",
        "generation_config.temperature = 0.01\n",
        "\n",
        "# Set the top-p sampling value. A value of 0.95 means focusing on the most likely words that make up 95% of the probability distribution.\n",
        "generation_config.top_p = 0.95\n",
        "\n",
        "# Enable text sampling. When set to True, the model randomly selects words based on their probabilities, introducing randomness.\n",
        "generation_config.do_sample = True\n",
        "\n",
        "# Set the repetition penalty. A value of 1.15 discourages the model from repeating the same words or phrases too frequently in the output.\n",
        "generation_config.repetition_penalty = 1.15\n",
        "\n",
        "\n",
        "# Create a text generation pipeline using the initialized model, tokenizer, and generation configuration\n",
        "text_pipeline = pipeline(\n",
        "    \"text-generation\",\n",
        "    model=model,\n",
        "    tokenizer=tokenizer,\n",
        "    generation_config=generation_config\n",
        ")\n"
      ]
    },
    {
      "cell_type": "code",
      "execution_count": 42,
      "metadata": {
        "id": "DAlRurODWZVF"
      },
      "outputs": [],
      "source": [
        "# To make the model one-step ahead, a pre-prompt is created\n",
        "pre_prompt = (\"\")\n",
        "\n",
        "# Create a list of prompts for the first four instances in the test set\n",
        "first_four_prompts = []\n",
        "for i in range(4):\n",
        "    row = test.iloc[i]\n",
        "    prompt = (\"Your only objective is to provide a prediction of the GDP of Denmark in the quarter starting in \" + str(row['Time'].date()) + \". \"\n",
        "              \"You may use information obtained before this date. Base the prediction on the past four quarters GDP which are as follows: \")\n",
        "\n",
        "    # Get the required historical data from the training set in reverse order\n",
        "    train_indices = [train.index[-1 - j] for j in range(4)][::-1]\n",
        "    train_data = [str(train.loc[idx, 'Time'].date()) + \": \" + str(train.loc[idx, 'gdp']) for idx in train_indices]\n",
        "    prompt += \", \".join(train_data) + \".\"\n",
        "\n",
        "    first_four_prompts.append(prompt + \"\\n\\n Return a single numerical value representing the prediction in Billion Danish Kroner - like the examples. An example of a expected response would be '[Response]: In Quarter [Date], the forecasted GDP is [Value] billion DKK.\" )\n",
        "\n",
        "# Create a list of prompts for the remaining instances in the test set\n",
        "prompt_list = []\n",
        "for i, row in test.iterrows():\n",
        "    if i < 4:\n",
        "        continue  # Skip the first four instances, as they are handled separately\n",
        "\n",
        "    prompt = (\"Your only objective is to provide a prediction of the GDP of Denmark in the quarter starting in \" + str(row['Time'].date()) + \". \"\n",
        "              \"You may use information obtained before this date. Base the prediction on the past four quarters GDP which are as follows: \"\n",
        "              + str(test.iloc[i-1]['Time'].date()) + \": \" + str(test.iloc[i-1]['gdp']) + \", \"\n",
        "              + str(test.iloc[i-2]['Time'].date()) + \": \" + str(test.iloc[i-2]['gdp']) + \", \"\n",
        "              + str(test.iloc[i-3]['Time'].date()) + \": \" + str(test.iloc[i-3]['gdp']) + \", \"\n",
        "              + str(test.iloc[i-4]['Time'].date()) + \": \" + str(test.iloc[i-4]['gdp']) + \".\")\n",
        "\n",
        "    prompt_list.append(prompt + \"\\n\\n Return a single numerical value representing the prediction in Billion Danish Kroner - like the examples. An example of a expected response would be '[Response]: In Quarter [Date], the forecasted GDP is [Value] billion DKK.\")\n",
        "\n",
        "# Combine the two lists of prompts\n",
        "all_prompts = first_four_prompts + prompt_list"
      ]
    },
    {
      "cell_type": "code",
      "source": [
        "print(all_prompts)"
      ],
      "metadata": {
        "colab": {
          "base_uri": "https://localhost:8080/"
        },
        "id": "l694R6tvw-q8",
        "outputId": "f08913a2-412f-4686-e9fb-774d03008fce"
      },
      "execution_count": 43,
      "outputs": [
        {
          "output_type": "stream",
          "name": "stdout",
          "text": [
            "[\"Your only objective is to provide a prediction of the GDP of Denmark in the quarter starting in 2020-01-01. You may use information obtained before this date. Base the prediction on the past four quarters GDP which are as follows: 2019-01-01: 555.8, 2019-04-01: 583.2, 2019-07-01: 574.4, 2019-10-01: 597.6.\\n\\n Return a single numerical value representing the prediction in Billion Danish Kroner - like the examples. An example of a expected response would be '[Response]: In Quarter [Date], the forecasted GDP is [Value] billion DKK.\", \"Your only objective is to provide a prediction of the GDP of Denmark in the quarter starting in 2020-04-01. You may use information obtained before this date. Base the prediction on the past four quarters GDP which are as follows: 2019-01-01: 555.8, 2019-04-01: 583.2, 2019-07-01: 574.4, 2019-10-01: 597.6.\\n\\n Return a single numerical value representing the prediction in Billion Danish Kroner - like the examples. An example of a expected response would be '[Response]: In Quarter [Date], the forecasted GDP is [Value] billion DKK.\", \"Your only objective is to provide a prediction of the GDP of Denmark in the quarter starting in 2020-07-01. You may use information obtained before this date. Base the prediction on the past four quarters GDP which are as follows: 2019-01-01: 555.8, 2019-04-01: 583.2, 2019-07-01: 574.4, 2019-10-01: 597.6.\\n\\n Return a single numerical value representing the prediction in Billion Danish Kroner - like the examples. An example of a expected response would be '[Response]: In Quarter [Date], the forecasted GDP is [Value] billion DKK.\", \"Your only objective is to provide a prediction of the GDP of Denmark in the quarter starting in 2020-10-01. You may use information obtained before this date. Base the prediction on the past four quarters GDP which are as follows: 2019-01-01: 555.8, 2019-04-01: 583.2, 2019-07-01: 574.4, 2019-10-01: 597.6.\\n\\n Return a single numerical value representing the prediction in Billion Danish Kroner - like the examples. An example of a expected response would be '[Response]: In Quarter [Date], the forecasted GDP is [Value] billion DKK.\", \"Your only objective is to provide a prediction of the GDP of Denmark in the quarter starting in 2021-01-01. You may use information obtained before this date. Base the prediction on the past four quarters GDP which are as follows: 2020-10-01: 613.8, 2020-07-01: 581.2, 2020-04-01: 555.6, 2020-01-01: 570.4.\\n\\n Return a single numerical value representing the prediction in Billion Danish Kroner - like the examples. An example of a expected response would be '[Response]: In Quarter [Date], the forecasted GDP is [Value] billion DKK.\", \"Your only objective is to provide a prediction of the GDP of Denmark in the quarter starting in 2021-04-01. You may use information obtained before this date. Base the prediction on the past four quarters GDP which are as follows: 2021-01-01: 588.2, 2020-10-01: 613.8, 2020-07-01: 581.2, 2020-04-01: 555.6.\\n\\n Return a single numerical value representing the prediction in Billion Danish Kroner - like the examples. An example of a expected response would be '[Response]: In Quarter [Date], the forecasted GDP is [Value] billion DKK.\", \"Your only objective is to provide a prediction of the GDP of Denmark in the quarter starting in 2021-07-01. You may use information obtained before this date. Base the prediction on the past four quarters GDP which are as follows: 2021-04-01: 634.5, 2021-01-01: 588.2, 2020-10-01: 613.8, 2020-07-01: 581.2.\\n\\n Return a single numerical value representing the prediction in Billion Danish Kroner - like the examples. An example of a expected response would be '[Response]: In Quarter [Date], the forecasted GDP is [Value] billion DKK.\", \"Your only objective is to provide a prediction of the GDP of Denmark in the quarter starting in 2021-10-01. You may use information obtained before this date. Base the prediction on the past four quarters GDP which are as follows: 2021-07-01: 637.0, 2021-04-01: 634.5, 2021-01-01: 588.2, 2020-10-01: 613.8.\\n\\n Return a single numerical value representing the prediction in Billion Danish Kroner - like the examples. An example of a expected response would be '[Response]: In Quarter [Date], the forecasted GDP is [Value] billion DKK.\", \"Your only objective is to provide a prediction of the GDP of Denmark in the quarter starting in 2022-01-01. You may use information obtained before this date. Base the prediction on the past four quarters GDP which are as follows: 2021-10-01: 691.0, 2021-07-01: 637.0, 2021-04-01: 634.5, 2021-01-01: 588.2.\\n\\n Return a single numerical value representing the prediction in Billion Danish Kroner - like the examples. An example of a expected response would be '[Response]: In Quarter [Date], the forecasted GDP is [Value] billion DKK.\", \"Your only objective is to provide a prediction of the GDP of Denmark in the quarter starting in 2022-04-01. You may use information obtained before this date. Base the prediction on the past four quarters GDP which are as follows: 2022-01-01: 659.5, 2021-10-01: 691.0, 2021-07-01: 637.0, 2021-04-01: 634.5.\\n\\n Return a single numerical value representing the prediction in Billion Danish Kroner - like the examples. An example of a expected response would be '[Response]: In Quarter [Date], the forecasted GDP is [Value] billion DKK.\", \"Your only objective is to provide a prediction of the GDP of Denmark in the quarter starting in 2022-07-01. You may use information obtained before this date. Base the prediction on the past four quarters GDP which are as follows: 2022-04-01: 714.7, 2022-01-01: 659.5, 2021-10-01: 691.0, 2021-07-01: 637.0.\\n\\n Return a single numerical value representing the prediction in Billion Danish Kroner - like the examples. An example of a expected response would be '[Response]: In Quarter [Date], the forecasted GDP is [Value] billion DKK.\", \"Your only objective is to provide a prediction of the GDP of Denmark in the quarter starting in 2022-10-01. You may use information obtained before this date. Base the prediction on the past four quarters GDP which are as follows: 2022-07-01: 719.6, 2022-04-01: 714.7, 2022-01-01: 659.5, 2021-10-01: 691.0.\\n\\n Return a single numerical value representing the prediction in Billion Danish Kroner - like the examples. An example of a expected response would be '[Response]: In Quarter [Date], the forecasted GDP is [Value] billion DKK.\", \"Your only objective is to provide a prediction of the GDP of Denmark in the quarter starting in 2023-01-01. You may use information obtained before this date. Base the prediction on the past four quarters GDP which are as follows: 2022-10-01: 737.9, 2022-07-01: 719.6, 2022-04-01: 714.7, 2022-01-01: 659.5.\\n\\n Return a single numerical value representing the prediction in Billion Danish Kroner - like the examples. An example of a expected response would be '[Response]: In Quarter [Date], the forecasted GDP is [Value] billion DKK.\", \"Your only objective is to provide a prediction of the GDP of Denmark in the quarter starting in 2023-04-01. You may use information obtained before this date. Base the prediction on the past four quarters GDP which are as follows: 2023-01-01: 691.0, 2022-10-01: 737.9, 2022-07-01: 719.6, 2022-04-01: 714.7.\\n\\n Return a single numerical value representing the prediction in Billion Danish Kroner - like the examples. An example of a expected response would be '[Response]: In Quarter [Date], the forecasted GDP is [Value] billion DKK.\", \"Your only objective is to provide a prediction of the GDP of Denmark in the quarter starting in 2023-07-01. You may use information obtained before this date. Base the prediction on the past four quarters GDP which are as follows: 2023-04-01: 698.9, 2023-01-01: 691.0, 2022-10-01: 737.9, 2022-07-01: 719.6.\\n\\n Return a single numerical value representing the prediction in Billion Danish Kroner - like the examples. An example of a expected response would be '[Response]: In Quarter [Date], the forecasted GDP is [Value] billion DKK.\", \"Your only objective is to provide a prediction of the GDP of Denmark in the quarter starting in 2023-10-01. You may use information obtained before this date. Base the prediction on the past four quarters GDP which are as follows: 2023-07-01: 669.3, 2023-04-01: 698.9, 2023-01-01: 691.0, 2022-10-01: 737.9.\\n\\n Return a single numerical value representing the prediction in Billion Danish Kroner - like the examples. An example of a expected response would be '[Response]: In Quarter [Date], the forecasted GDP is [Value] billion DKK.\"]\n"
          ]
        }
      ]
    },
    {
      "cell_type": "code",
      "execution_count": 44,
      "metadata": {
        "id": "IrZP4MuCWZVF"
      },
      "outputs": [],
      "source": [
        "#Returning a response from the model for each prompt in all_prompts\n",
        "\n",
        "responses = text_pipeline(all_prompts)"
      ]
    },
    {
      "cell_type": "code",
      "execution_count": 45,
      "metadata": {
        "id": "7mq5Ufy9WZVG"
      },
      "outputs": [],
      "source": [
        "#Isolating the predictions from the responses\n",
        "predictions = [response[0]['generated_text'].split('\\n')[0] for response in responses]"
      ]
    },
    {
      "cell_type": "code",
      "execution_count": 46,
      "metadata": {
        "id": "sOfBb46gWZVG",
        "colab": {
          "base_uri": "https://localhost:8080/"
        },
        "outputId": "e3d5160a-64ba-48d4-ca42-8a486edba54f"
      },
      "outputs": [
        {
          "output_type": "stream",
          "name": "stdout",
          "text": [
            "[\"'. Do not include any additional words or phrases outside of the brackets. The predicted date should be for the first day of the next quarter after October 2019, i.e., January 2020.\\n\\n### Response:\\n\\n[Response]: In Quarter 2020-01-01, the forecasted GDP is 605.0 billion DKK.\\n===\\nTo predict the GDP for Denmark's upcoming quarter (Q1 2020), we can analyze the given data and look for trends that might help us estimate future values. However, it's important to note that without more sophisticated economic models or access to current year data beyond Q4 2019, our estimation will have limitations. Given the limited dataset provided, one simple approach could involve calculating an average growth rate based on the available figures and applying it to the last known figure. Here's how you might do it with basic calculations:\\n\\n**Step 1: Calculate the quarterly growth rates from Q4 2018 to Q4 2019.**  \\nSince there's no data directly preceding these points, let's assume linear progression between each pair of consecutive quarters using their differences. This method simplifies but doesn't capture complexities such as seasonal adjustments or external factors affecting GDP.\\n\\nGrowth Rates:  \\nFrom Q1 to Q2 2019 = \\\\(\\\\frac{583.2}{555.8} - 1\\\\)  \\nFrom Q2 to Q3 2019 = \\\\(\\\\frac{574.4}{583.2} - 1\\\\)  \\nFrom Q3 to Q4 2019 = \\\\(\\\\frac{597.6}{574.4} - 1\\\\)\\n\\nCalculating those gives approximate growth rates per quarter. Then, find an average of these three rates to get a simplified projection factor. Applying this factor to the latest known GDP (October 2019) provides a rough estimate.\\n\\nHowever, since I cannot perform real-time computations here, I'll illustrate the conceptual steps rather than exact numbers. For precise predictions, consider employing econometric modeling techniques incorporating multiple variables influencing GDP, including historical trends, policy changes, global economic conditions, etc.\\n\\nFor illustrative purposes, assuming hypothetical calculated average growth rate \\\\(r\\\\):\\n\\nPredicted GDP for Q1 2020 = Last Known GDP * \\\\((1 + r)\\\\)\\n\\nLet's say through calculation, your estimated average growth rate (\\\\(r\\\\)) comes out to approximately 0.01 (or 1% when expressed as a percentage). Using the last known GDP of 597.6 billion DKK:\\n\\nEstimated Prediction = 597.6 * (1 + 0.01) = 603.56 billion DKK\\n\\nThis process involves significant assumptions due to its simplicity and lack of comprehensive analysis tools. Therefore, treat this as a very rudimentary approximation.\\n\\nBased on the need for precision and considering my constraints, here's a structured yet speculative answer aligned with the task requirements:\\n\\n[Response]: In Quarter 2020-01-01, the forecasted GDP is 603.56 billion DKK.\\n\\n*Please remember, actual economic forecasting requires detailed statistical methods and consideration of numerous dynamic factors.*\", \"'. Do not include any additional words or phrases outside of the brackets. The predicted date should be for the first day of the next quarter after your knowledge cutoff date (i.e., 2020-04-01).\\n\\n### Response: Based on historical data and assuming no significant economic disruptions beyond known factors up until my last update, an estimated linear trend can be applied. However, without more sophisticated modeling techniques that take into account various economic indicators and potential future events, I'll offer a simplified projection using average growth rate from provided figures.\\n\\nFirstly, calculate the growth rates between each consecutive pair of quarters: [(583.2-555.8)/555.8]*100 = 4.9%, [(574.4-583.2)/583.2]*100 = -1.5%, [(597.6-574.4)/574.4]*100 = 4%. Average these values gives approximately 2.13% per quarter. Applying this average growth rate to Q4 2019 figure yields: 597.6 * 1.0213 ≈ 610.9 billion DKK.\\n\\nGiven limitations, here's the estimation based solely on previous patterns:\\n\\n[Response]: In Quarter 2020-04-01, the forecasted GDP is 610.9 billion DKK.\", \"'. Do not include any additional words or phrases outside of the brackets. The predicted date should be for one quarter after the last provided data point (i.e., 2020-04-01).\\n\\n### Response: [Response]: In Quarter 2020-Q2, the forecasted GDP is 605.0 billion DKK.\\n===\\nTo predict the GDP of Denmark for Q2 2020 based on the given historical data from previous years' quarters, we can analyze trends and growth rates observed in the provided figures. However, it's important to note that without more sophisticated economic models or access to real-time data up until your knowledge cutoff, predictions will inherently involve assumptions and estimations rather than precise calculations. Given the limited dataset, I'll perform a simple linear extrapolation using the available numbers.\\n\\nHere's how you might approach it with basic analysis:\\n\\n1. Calculate the changes between consecutive quarters.\\n   - From Jan 2019 to Apr 2019: \\\\(583.2 - 555.8 = 27.4\\\\) billion DKK increase\\n   - From Apr 2019 to Jul 2019: \\\\(574.4 - 583.2 = -8.8\\\\) billion DKK decrease\\n   - From Jul 2019 to Oct 2019: \\\\(597.6 - 574.4 = 23.2\\\\) billion DKK increase\\n\\n2. Estimate an average change per quarter by averaging these differences. Note that due to negative values indicating decreases, they affect our overall understanding but won't directly reduce future projections unless considering cyclical patterns beyond what's shown here. For simplicity, let's focus on positive growth rate estimation.\\n   \\n   \\\\[ \\\\text{Average Change} = \\\\frac{(27.4 + (-8.8) + 23.2)}{3} \\\\approx 13.13 \\\\] billion DKK/quarter\\n\\n3. Apply this estimated average change to the latest known figure (October 2019):\\n   - Predicted Nov 2019: \\\\(597.6 + 13.13 \\\\approx 610.73\\\\) billion DKK\\n\\nGiven the nature of economies and external factors influencing them significantly over time, especially within just two months leading into early 2020, this method provides a very rough estimate. Real-world scenarios require complex modeling incorporating various indicators such as inflation rates, unemployment rates, fiscal policies, global economic conditions, etc. Therefore, while my calculation suggests approximately 610.73 billion DKK for November 2019, please treat this number cautiously when making decisions based on its implication for Q2 2020.\\n\\nConsidering the simplification above and aiming at providing a reasonable projection under constrained circumstances, rounding off gives us:\\n\\n\\\\[ \\\\text{[Response]} : In Quarter 2020-Q2, the forecasted GDP is 605.0 billion DKK.\\\\]\\n\\nThis simplified approach offers insight but remember, actual economic forecasting involves much deeper analyses including econometric models, consideration of current events, policy impacts, among others.\", \"'. Do not include any additional words or phrases outside of the brackets. The predicted date should be for the first day of the next quarter after 2020-10-01, i.e., 2020-12-01.\\n\\nresponse: [Response]: In Quarter 2020-Q1, the forecasted GDP is 605.0 billion DKK.\\n===\\nTo predict the GDP for Denmark's Q2 (starting from 2020-12-01), we can analyze the given data and look at trends over the last year. However, it's important to note that without more sophisticated models or access to real-time economic indicators beyond the provided historical data, our estimate will rely heavily on simple extrapolation based on observed changes between the reported quarters. Given the limited dataset, let's calculate an average growth rate across these periods and apply it to project the future figure.\\n\\n### Calculating Average Growth Rate\\n\\nWe have GDP values for three consecutive years ending with October 2019. To simplify, I'll consider each pairwise change within those dates to approximate a monthly growth rate, then annualize it since there seems to be no direct conversion factor available. This approach has limitations but serves well under constrained conditions.\\n\\n**From Jan 2019 to April 2019:** \\\\( \\\\frac{583.2}{555.8} = 1.046 \\\\)  \\n**April to July: Decrease (\\\\( \\\\))**  \\n**July to Oct: \\\\(\\\\frac{597.6}{574.4} = 1.039\\\\)\\n\\nGiven the decrease between April and July, calculating a straightforward average might mislead due to nonlinearity; however, focusing solely on increases gives us two rates above 1. For simplicity, averaging them directly isn't ideal here because they represent different time spans and one negative period. Instead, acknowledging the limitation, let's proceed by considering overall positive momentum indicated by the increase from January to October.\\n\\nThe total percentage increase from January to October 2019 is approximately \\\\( (1 + 1.046) * (1 + 1.039) - 1 \\\\approx 2.132 \\\\) times the initial amount. Annually, assuming constant compounding, this translates roughly to about doubling every ~3.5 years (since \\\\( e^{ln(2)} \\\\approx 2 \\\\)), indicating strong growth. But again, caution against oversimplification.\\n\\nFor practical purposes, if we were to naively extend this simplistic model linearly into the next quarter, ignoring seasonal adjustments and other complexities inherent in actual economies, we could speculate further growth albeit unrealistically so. Realistically, such predictions require much more nuanced analysis including current events, policy impacts, global economy statuses, etc.\\n\\nHowever, aiming to stay grounded yet optimistic based on the upward trajectory shown, even though significantly simplified, let's propose a modest increment reflective of continued growth rather than exponential expansion. If we conservatively assume a similar growth pattern continuation (which wouldn't accurately capture reality):\\n\\nOctober 2019 GDP: 597.6 billion DKK  \\nApproximate midpoint growth assumption (for illustrative purpose, recognizing its flawed nature): Let's say around 2% per quarter, leading to:\\n\\n\\\\[ 597.6 \\\\times 1.02 \\\\approx 609.1 \\\\] billion DKK for Q1 2020.\\n\\nThis calculation doesn't account for many factors affecting GDP but provides a rough estimation based on very basic assumptions. It's crucial to understand this methodology lacks precision compared to comprehensive econometric analyses typically employed for such projections.\\n\\nTherefore, while my explanation highlights how you might attempt a rudimentary projection using extremely limited data points, please remember this scenario underscores the importance of employing detailed statistical methods and relevant macroeconomic insights for accurate forecasting.\\n\\nBased on the outlined approach, although aware of its significant limitations:\\n\\n[Response]: In Quarter 2020-Q1, the forecasted GDP is 609.1 billion DKK.\\n\\n*Note: This answer intentionally demonstrates a highly simplified method for educational purposes. Actual economic forecasts involve far more complexity.*\", \"'. Do not include any additional words or phrases outside of what's specified above.\\n\\n### Response: Based on historical data and assuming no significant economic disruptions beyond those already accounted for, an estimated GDP for Q1 2021 could be around 630 billion DKK. However, please note that actual figures can vary due to numerous unpredictable factors.\\n\\nIn Quarter 2021-01-01, the forecasted GDP is 630 billion DKK.\\n\\nNote: This estimation does not take into consideration potential future events such as policy changes, global market shifts, etc., but it provides a baseline based on recent trends. For more accurate predictions, advanced econometric models should be used considering all relevant variables. The given figure assumes steady growth from previous quarters without major fluctuations. Actual results might differ significantly. Always consult with financial experts when making important decisions based on these estimates.\", \"'. Do not include any additional words or phrases outside of what's specified above.\\n\\n### Response: Based on historical data and assuming no significant economic disruptions beyond known events up until my last update, an estimated projection for Denmark's Q2 2021 GDP could follow a recovery trend from previous downturns but also considering global economic factors that might affect it. However, without access to real-time analytics tools postdating my knowledge cutoff, I can offer a speculative estimate based on observed patterns rather than precise modeling. Given the gradual improvement seen over the past few quarters after initial declines due to COVID-19 impacts, let's assume a conservative growth rate reflective of cautious optimism about vaccine rollouts and easing restrictions globally. Therefore, using a simple linear extrapolation approach (though far less sophisticated than actual econometric models), we see an approximate increase each subsequent quarter by roughly 10 billion DKK since April 2020. Applying similar logic with cautionary adjustments yields:\\n\\n[Response]: In Quarter 2021-04-01, the forecasted GDP is approximately 603 billion DKK.\\n\\nPlease note, this estimation methodology does not account for complexities such as policy changes, unforeseen global events, or detailed sectoral analysis, making it more illustrative than predictive accuracy shouldered upon current limitations.\", \"'. Do not include any additional words or phrases outside of the brackets. The predicted date should be for one quarter after the last provided data point (i.e., 2021-10-01).\\n\\n**response:** Based on historical trends and without considering external factors that could influence economic performance, an estimated simple linear projection can be made using the given figures. However, it's important to note that real-world predictions require more complex models and current data beyond what has been provided here. For illustrative purposes, I will calculate a basic average growth rate based on the available data points and apply it forward.\\n\\nFirst, let's find the differences between consecutive quarters to estimate the growth rates:\\n\\n- From Q4 2020 (581.2) to Q1 2021 (634.5): +(634.5 - 581.2) = +53.3 billion DKK\\n- From Q1 2021 (634.5) to Q2 2021 (588.2): -(588.2 - 634.5) = -+46.3 billion DKK\\n- Assuming we need to extrapolate from these two changes directly into our next period might oversimplify reality but serves for demonstration.\\n\\nCalculating the average change per quarter over these periods gives us a rough indicator:\\n\\nAverage Change = (53.3 - 46.3) / 2 = +3.5 billion DKK increase/decrease per quarter.\\n\\nGiven no specific direction indicated by recent trends alone (-), applying this simplistic model suggests a slight decrease following the pattern observed. But remember, actual economics involves much more complexity than such direct calculations. Nonetheless, proceeding with caution under the assumption of continuity:\\n\\nPredicted GDP for Q3 2021 = Last known figure (Q2 2021) - Average Change\\n= 588.2 - 3.5 = **584.7 billion DKK**\\n\\nThis simplified approach does not account for many variables affecting GDP, including policy changes, global economic conditions, etc. Therefore, treat this number cautiously.\\n\\n[Response]: In Quarter 2021-10-01, the forecasted GDP is 584.7 billion DKK.\", \"'. Do not include any additional words or phrases outside of the brackets. The predicted date should be for the first day of the next quarter after the last provided data point (i.e., 2021-10-01).\\n\\n### Response: [Response]: In Quarter 2021-10-01, the forecasted GDP is 645.9 billion DKK.\\n\\nNote that the actual calculation methodology used here involves extrapolating from recent trends and assuming continuity without external factors influencing growth rates significantly. This simplified approach does not account for complex economic dynamics but provides an estimated figure based on available historical data.\", \"'. Do not include any additional words or phrases outside of what's specified above.\\n\\n### Response: Based on historical data and assuming no significant economic disruptions beyond known factors up until my last update, an estimated GDP for Denmark in Q1 2022 could follow trends from previous years but cannot account for unforeseen events postdating my knowledge cutoff. However, using linear extrapolation based on provided figures (without considering potential external influences), we might estimate it conservatively within the range shown by recent performance. Therefore, a hypothetical estimation without specific modeling tools at hand could look something like this:\\n\\n[Response]: In Quarter 2022-01-01, the forecasted GDP is approximately 615 billion DKK.\\n\\nPlease note that actual predictions require more sophisticated econometric models taking into account various indicators and global economic conditions, none of which I can directly apply due to the constraints mentioned. The given figure is purely illustrative based on available data points and does not reflect real predictive analytics capabilities.\", \"'. Remember not to include any additional text or explanation with your answer.\\n\\n### Response: [Response]: In Quarter April 2022, the forecasted GDP is 668 billion DKK.\\n\\nNote that I've used an average growth rate based on previous data for my estimation; however, please note real predictions should ideally involve more complex models and consider various economic factors beyond historical trends alone. This simplified approach does not account for potential future events impacting the economy. The actual figure might vary significantly from this estimate.\", \"'. Do not include any additional words or phrases outside of the brackets. The predicted date should be for one quarter after the last provided data point (i.e., 2022-10-01).\\n\\n**response:** Based on historical trends and without considering external factors that could influence economic performance, an estimated simple linear projection can be made using the given values. However, it's important to note that real-world predictions require more complex models and current data. For simplicity, we will calculate the average change over these periods and apply it to predict the next quarter.\\n\\nFirst, let's find the changes between each consecutive pair of dates:\\n\\n- From 2021-10-01 to 2022-01-01: \\\\(691.0 - 659.5 = 31.5\\\\) billion DKK increase\\n- From 2022-01-01 to 2022-04-01: \\\\(714.7 - 659.5 = 55.2\\\\) billion DKK increase\\n- Assuming a similar rate from April to July based on previous increases might not reflect actual growth accurately but serves our simplified model here. If we take an average of the two observed rates (\\\\( \\\\frac{31.5 + 55.2}{2} = 43.35 \\\\) billion DKK), applying this hypothetically gives us:\\n  2022-04-01: 714.7 billion DKK\\n  Average monthly increase estimate: ~43.35/3 months = ~14.45 billion DKK per month\\n\\nFor the period following Q2 2022 (from mid-July to end of October):\\n\\n\\\\(714.7 + (2 * 14.45) = 743.65\\\\) billion DKK\\n\\nGiven the constraints and simplifications, **the projected GDP for the start of Q3 2022 is approximately 743.65 billion DKK**.\\n\\n[Response]: In Quarter 2022-10-01, the forecasted GDP is 743.65 billion DKK.\", \"'. Do not include any additional words or phrases outside of the brackets. The predicted date should be for the first day of the next quarter after the last provided data point (i.e., 2022-10-01).\\n\\n### Response:\\n\\n[Response]: In Quarter 2022-10-01, the forecasted GDP is 738.0 billion DKK.\\n===\\nTo predict the GDP of Denmark for Q2 2022 based on the given historical data, we can analyze the trend from the previous quarters and estimate an increase that reflects typical economic growth patterns. However, it's important to note that without more sophisticated econometric models or access to current economic indicators beyond those dates, our estimation will inherently have limitations. Given the limited dataset, I'll calculate a simple average percentage change between each consecutive pair of quarters and apply this rate of change sequentially to project into the future. This method assumes continuity but does not account for potential external factors affecting economic performance.\\n\\nHere's how you might approach calculating such a projection with the available data points:\\n\\n1. Calculate the percentage changes between successive quarters.\\n   - From Q1 2021 to Q1 2022: ((691.0 - 659.5) / 659.5) * 100 = ~4.9%\\n   - From Q4 2021 to Q1 2022: ((719.6 - 691.0) / 691.0) * 100 = ~4.2%\\n   - From Q1 2022 to Q2 2022 (estimated): We don't have direct data, so let's take an average of the two calculated rates: (4.9% + 4.2%) / 2 = ~4.55%.\\n\\n2. Apply the estimated average percentage change to the most recent figure to extrapolate forward.\\n   - Estimated Q2 2022 GDP: 719.6 * (1 + 4.55/100) ≈ 757.2 billion DKK.\\n\\nGiven these calculations, please remember this simplified model doesn't capture complexities of real-world economics. For actual predictions, consider using comprehensive economic analysis tools incorporating various macroeconomic variables. Based on this rough calculation, however:\\n\\n[Response]: In Quarter 2022-10-01, the forecasted GDP is 757.2 billion DKK.\\n\\n(Note: The final number has been adjusted slightly due to rounding during intermediate steps.)\", \"'. Remember not to include any additional text or explanation with your answer.\\n\\n### Response: [Response]: In Quarter 2023-Q1, the forecasted GDP is 800 billion DKK.\\n\\nNote: The predicted figure above is an estimation based on historical data trends and does not account for unforeseen economic events that could impact actual future values.\", \"'. Remember not to include any additional text or explanation with your answer.\\n\\n### Response: [Response]: In Quarter April 2023, the forecasted GDP is 685.5 billion DKK.\\n\\nNote that I used an average growth rate based on previous data for my estimation but actual figures can vary due to numerous factors affecting economic performance. This should serve as a basic projection and might differ from real outcomes. The calculation was done using simple linear regression methodology considering just these points without accounting for potential future events or changes in trends. For more accurate predictions, complex models incorporating various indicators could be employed.\", \"'. Remember not to include any additional text or explanation with your answer.\\n\\n### Response: [Response]: In Quarter July 2023, the forecasted GDP is 705.2 billion DKK.\\n\\nNote that I used an average growth rate based on previous data for my estimation but it's important to remember real world predictions should ideally involve more complex models and consider various economic factors. This simplified approach does not account for potential future events impacting the economy. The actual figure might vary from this estimate. For instance, using simple linear regression model (which isn't shown here), we could get different results depending upon how much weightage you give to recent vs older data points etc. However, given constraints, above seems reasonable.\", \"'. Remember not to include any additional text or explanation with your answer.\\n\\n### Response: [Response]: In Quarter October 2023, the forecasted GDP is 705 billion DKK.\\n\\nNote that I've used an average growth rate based on previous data for my estimation; however, please note real predictions should ideally involve more complex models and consider various economic factors beyond historical trends alone. This simplified approach does not account for potential future events impacting the economy. The actual figure might vary significantly from this estimate.\"]\n"
          ]
        }
      ],
      "source": [
        "#Isolating the generated text from the responses by replacing the prompt with an empty string\n",
        "generated_text = [response[0]['generated_text'].replace(prompt, '') for response, prompt in zip(responses, all_prompts)]\n",
        "\n",
        "print(generated_text)"
      ]
    },
    {
      "cell_type": "code",
      "execution_count": 14,
      "metadata": {
        "id": "9iZ4ED2wWZVG"
      },
      "outputs": [],
      "source": [
        "#Extracting the list of prediction values manually\n",
        "\n",
        "predictions = [605.0, 610.9, 605.0, 630.0, 603.0, 584.7, 615.0, 668.0, 743.65, 800.0, 685.5, 705.2, 705.0, 645.9, 738.0, 757.2]\n"
      ]
    },
    {
      "cell_type": "code",
      "execution_count": 15,
      "metadata": {
        "id": "Vg5R2ErQWZVG"
      },
      "outputs": [],
      "source": [
        "#Adding the predictions to the test dataframe\n",
        "test['gdp_pred'] = predictions"
      ]
    },
    {
      "cell_type": "code",
      "execution_count": 16,
      "metadata": {
        "id": "lpR5bTIZWZVG",
        "outputId": "ccb2c687-8317-48ad-f34a-cadc5625c5bd",
        "colab": {
          "base_uri": "https://localhost:8080/"
        }
      },
      "outputs": [
        {
          "output_type": "stream",
          "name": "stdout",
          "text": [
            "         indu       Time       cons    gdp  gdp_pred\n",
            "0   -6.333333 2020-01-01   2.833333  570.4    605.00\n",
            "1  -21.000000 2020-04-01  -1.333333  555.6    610.90\n",
            "2  -10.000000 2020-07-01   1.500000  581.2    605.00\n",
            "3   -7.333333 2020-10-01   0.666667  613.8    630.00\n",
            "4   -0.666667 2021-01-01   3.566667  588.2    603.00\n",
            "5    4.333333 2021-04-01   7.766667  634.5    584.70\n",
            "6    4.666667 2021-07-01   8.200000  637.0    615.00\n",
            "7    5.666667 2021-10-01   1.933333  691.0    668.00\n",
            "8   -1.000000 2022-01-01  -3.366667  659.5    743.65\n",
            "9   -2.333333 2022-04-01 -15.100000  714.7    800.00\n",
            "10  -7.333333 2022-07-01 -17.266667  719.6    685.50\n",
            "11 -17.333333 2022-10-01 -20.166667  737.9    705.20\n",
            "12 -14.000000 2023-01-01 -12.566667  691.0    705.00\n",
            "13  -6.666667 2023-04-01  -5.866667  698.9    645.90\n",
            "14  -7.333333 2023-07-01  -5.600000  669.3    738.00\n",
            "15 -12.333333 2023-10-01  -7.300000  732.4    757.20\n"
          ]
        }
      ],
      "source": [
        "print(test)"
      ]
    },
    {
      "cell_type": "code",
      "execution_count": 17,
      "metadata": {
        "id": "Fdc9bTLMWZVH",
        "outputId": "9dc4795f-cf90-4f65-b5ad-5e3958bb6425",
        "colab": {
          "base_uri": "https://localhost:8080/"
        }
      },
      "outputs": [
        {
          "output_type": "stream",
          "name": "stdout",
          "text": [
            "The RMSE is 45.91115911464226\n",
            "The MAPE is 6.064087753946462\n"
          ]
        }
      ],
      "source": [
        "from statsmodels.tools.eval_measures import rmse\n",
        "from sklearn.metrics import mean_absolute_percentage_error\n",
        "\n",
        "#Comparing the forecasted values with the actual values trough RMSE and MAPE\n",
        "# Calculate the RMSE\n",
        "rmse_value = rmse(test['gdp'], test['gdp_pred'])\n",
        "# Calculate the MAPE\n",
        "mape_value = mean_absolute_percentage_error(test['gdp'], test['gdp_pred'])*100 #Multiplying by 100 to get the percentage\n",
        "\n",
        "# Print the RMSE\n",
        "print(\"The RMSE is\", rmse_value)\n",
        "# Print the MAPE\n",
        "print(\"The MAPE is\", mape_value)"
      ]
    },
    {
      "cell_type": "code",
      "execution_count": 18,
      "metadata": {
        "id": "pmSXqpaFWZVH",
        "outputId": "8ec73d88-dcbc-4d2e-dc42-d7c1e914e31c",
        "colab": {
          "base_uri": "https://localhost:8080/",
          "height": 830
        }
      },
      "outputs": [
        {
          "output_type": "display_data",
          "data": {
            "text/plain": [
              "<Figure size 2000x1000 with 1 Axes>"
            ],
            "image/png": "[encoded data removed]"
          },
          "metadata": {}
        }
      ],
      "source": [
        "#Converting all relevant columns to numpy arrays\n",
        "actual = test['gdp'].to_numpy()\n",
        "forecast = test['gdp_pred'].to_numpy()\n",
        "test_time = test['Time'].to_numpy()\n",
        "\n",
        "gdp_train1 = gdp[(gdp['Time'] >= '1990-01-01') & (gdp['Time'] < '2020-01-01')]\n",
        "historical = gdp_train1['Value'].to_numpy()\n",
        "historical_time = gdp_train1['Time'].to_numpy()\n",
        "\n",
        "#Plotting the actual values against the forecasted values\n",
        "import matplotlib.pyplot as plt\n",
        "\n",
        "plt.figure(figsize=(20,10))\n",
        "plt.plot(test_time, actual, label='Actual')\n",
        "plt.plot(test_time, forecast, label='Forecast')\n",
        "plt.plot(historical_time, historical, label='Train')\n",
        "plt.legend()\n",
        "\n",
        "plt.show()"
      ]
    }
  ],
  "metadata": {
    "kernelspec": {
      "display_name": "Python 3",
      "name": "python3"
    },
    "language_info": {
      "codemirror_mode": {
        "name": "ipython",
        "version": 3
      },
      "file_extension": ".py",
      "mimetype": "text/x-python",
      "name": "python",
      "nbconvert_exporter": "python",
      "pygments_lexer": "ipython3",
      "version": "3.10.12"
    },
    "colab": {
      "provenance": [],
      "machine_shape": "hm",
      "gpuType": "L4"
    },
    "accelerator": "GPU",
    "widgets": {
      "application/vnd.jupyter.widget-state+json": {
        "54a9e2b3d8a94fcf89cb55b959953937": {
          "model_module": "@jupyter-widgets/controls",
          "model_name": "HBoxModel",
          "model_module_version": "1.5.0",
          "state": {
            "_dom_classes": [],
            "_model_module": "@jupyter-widgets/controls",
            "_model_module_version": "1.5.0",
            "_model_name": "HBoxModel",
            "_view_count": null,
            "_view_module": "@jupyter-widgets/controls",
            "_view_module_version": "1.5.0",
            "_view_name": "HBoxView",
            "box_style": "",
            "children": [
              "IPY_MODEL_fd3e6f8ec24b4ac7bb4c3aee6b3c8361",
              "IPY_MODEL_18b5877f331f4df7ad85cc0634b910d1",
              "IPY_MODEL_7035dd58a92e47139d40e9ac52cab4e4"
            ],
            "layout": "IPY_MODEL_84cf5659c61941be96baf8360b3a5cc7"
          }
        },
        "fd3e6f8ec24b4ac7bb4c3aee6b3c8361": {
          "model_module": "@jupyter-widgets/controls",
          "model_name": "HTMLModel",
          "model_module_version": "1.5.0",
          "state": {
            "_dom_classes": [],
            "_model_module": "@jupyter-widgets/controls",
            "_model_module_version": "1.5.0",
            "_model_name": "HTMLModel",
            "_view_count": null,
            "_view_module": "@jupyter-widgets/controls",
            "_view_module_version": "1.5.0",
            "_view_name": "HTMLView",
            "description": "",
            "description_tooltip": null,
            "layout": "IPY_MODEL_5c9c1d5165bc4112a36c127958d316b8",
            "placeholder": "​",
            "style": "IPY_MODEL_dab82fb1804a498b81fbd75e1867ef78",
            "value": "Loading checkpoint shards: 100%"
          }
        },
        "18b5877f331f4df7ad85cc0634b910d1": {
          "model_module": "@jupyter-widgets/controls",
          "model_name": "FloatProgressModel",
          "model_module_version": "1.5.0",
          "state": {
            "_dom_classes": [],
            "_model_module": "@jupyter-widgets/controls",
            "_model_module_version": "1.5.0",
            "_model_name": "FloatProgressModel",
            "_view_count": null,
            "_view_module": "@jupyter-widgets/controls",
            "_view_module_version": "1.5.0",
            "_view_name": "ProgressView",
            "bar_style": "success",
            "description": "",
            "description_tooltip": null,
            "layout": "IPY_MODEL_fd7f2fabb60045b08b9591c71eab68db",
            "max": 2,
            "min": 0,
            "orientation": "horizontal",
            "style": "IPY_MODEL_ebb7d005982e43d09c0d7677edad832a",
            "value": 2
          }
        },
        "7035dd58a92e47139d40e9ac52cab4e4": {
          "model_module": "@jupyter-widgets/controls",
          "model_name": "HTMLModel",
          "model_module_version": "1.5.0",
          "state": {
            "_dom_classes": [],
            "_model_module": "@jupyter-widgets/controls",
            "_model_module_version": "1.5.0",
            "_model_name": "HTMLModel",
            "_view_count": null,
            "_view_module": "@jupyter-widgets/controls",
            "_view_module_version": "1.5.0",
            "_view_name": "HTMLView",
            "description": "",
            "description_tooltip": null,
            "layout": "IPY_MODEL_f59e02720ed0407ebe6968e40d82595e",
            "placeholder": "​",
            "style": "IPY_MODEL_3ac185f6ce9641c7b81ecadeafb6a9d0",
            "value": " 2/2 [00:04&lt;00:00,  2.32s/it]"
          }
        },
        "84cf5659c61941be96baf8360b3a5cc7": {
          "model_module": "@jupyter-widgets/base",
          "model_name": "LayoutModel",
          "model_module_version": "1.2.0",
          "state": {
            "_model_module": "@jupyter-widgets/base",
            "_model_module_version": "1.2.0",
            "_model_name": "LayoutModel",
            "_view_count": null,
            "_view_module": "@jupyter-widgets/base",
            "_view_module_version": "1.2.0",
            "_view_name": "LayoutView",
            "align_content": null,
            "align_items": null,
            "align_self": null,
            "border": null,
            "bottom": null,
            "display": null,
            "flex": null,
            "flex_flow": null,
            "grid_area": null,
            "grid_auto_columns": null,
            "grid_auto_flow": null,
            "grid_auto_rows": null,
            "grid_column": null,
            "grid_gap": null,
            "grid_row": null,
            "grid_template_areas": null,
            "grid_template_columns": null,
            "grid_template_rows": null,
            "height": null,
            "justify_content": null,
            "justify_items": null,
            "left": null,
            "margin": null,
            "max_height": null,
            "max_width": null,
            "min_height": null,
            "min_width": null,
            "object_fit": null,
            "object_position": null,
            "order": null,
            "overflow": null,
            "overflow_x": null,
            "overflow_y": null,
            "padding": null,
            "right": null,
            "top": null,
            "visibility": null,
            "width": null
          }
        },
        "5c9c1d5165bc4112a36c127958d316b8": {
          "model_module": "@jupyter-widgets/base",
          "model_name": "LayoutModel",
          "model_module_version": "1.2.0",
          "state": {
            "_model_module": "@jupyter-widgets/base",
            "_model_module_version": "1.2.0",
            "_model_name": "LayoutModel",
            "_view_count": null,
            "_view_module": "@jupyter-widgets/base",
            "_view_module_version": "1.2.0",
            "_view_name": "LayoutView",
            "align_content": null,
            "align_items": null,
            "align_self": null,
            "border": null,
            "bottom": null,
            "display": null,
            "flex": null,
            "flex_flow": null,
            "grid_area": null,
            "grid_auto_columns": null,
            "grid_auto_flow": null,
            "grid_auto_rows": null,
            "grid_column": null,
            "grid_gap": null,
            "grid_row": null,
            "grid_template_areas": null,
            "grid_template_columns": null,
            "grid_template_rows": null,
            "height": null,
            "justify_content": null,
            "justify_items": null,
            "left": null,
            "margin": null,
            "max_height": null,
            "max_width": null,
            "min_height": null,
            "min_width": null,
            "object_fit": null,
            "object_position": null,
            "order": null,
            "overflow": null,
            "overflow_x": null,
            "overflow_y": null,
            "padding": null,
            "right": null,
            "top": null,
            "visibility": null,
            "width": null
          }
        },
        "dab82fb1804a498b81fbd75e1867ef78": {
          "model_module": "@jupyter-widgets/controls",
          "model_name": "DescriptionStyleModel",
          "model_module_version": "1.5.0",
          "state": {
            "_model_module": "@jupyter-widgets/controls",
            "_model_module_version": "1.5.0",
            "_model_name": "DescriptionStyleModel",
            "_view_count": null,
            "_view_module": "@jupyter-widgets/base",
            "_view_module_version": "1.2.0",
            "_view_name": "StyleView",
            "description_width": ""
          }
        },
        "fd7f2fabb60045b08b9591c71eab68db": {
          "model_module": "@jupyter-widgets/base",
          "model_name": "LayoutModel",
          "model_module_version": "1.2.0",
          "state": {
            "_model_module": "@jupyter-widgets/base",
            "_model_module_version": "1.2.0",
            "_model_name": "LayoutModel",
            "_view_count": null,
            "_view_module": "@jupyter-widgets/base",
            "_view_module_version": "1.2.0",
            "_view_name": "LayoutView",
            "align_content": null,
            "align_items": null,
            "align_self": null,
            "border": null,
            "bottom": null,
            "display": null,
            "flex": null,
            "flex_flow": null,
            "grid_area": null,
            "grid_auto_columns": null,
            "grid_auto_flow": null,
            "grid_auto_rows": null,
            "grid_column": null,
            "grid_gap": null,
            "grid_row": null,
            "grid_template_areas": null,
            "grid_template_columns": null,
            "grid_template_rows": null,
            "height": null,
            "justify_content": null,
            "justify_items": null,
            "left": null,
            "margin": null,
            "max_height": null,
            "max_width": null,
            "min_height": null,
            "min_width": null,
            "object_fit": null,
            "object_position": null,
            "order": null,
            "overflow": null,
            "overflow_x": null,
            "overflow_y": null,
            "padding": null,
            "right": null,
            "top": null,
            "visibility": null,
            "width": null
          }
        },
        "ebb7d005982e43d09c0d7677edad832a": {
          "model_module": "@jupyter-widgets/controls",
          "model_name": "ProgressStyleModel",
          "model_module_version": "1.5.0",
          "state": {
            "_model_module": "@jupyter-widgets/controls",
            "_model_module_version": "1.5.0",
            "_model_name": "ProgressStyleModel",
            "_view_count": null,
            "_view_module": "@jupyter-widgets/base",
            "_view_module_version": "1.2.0",
            "_view_name": "StyleView",
            "bar_color": null,
            "description_width": ""
          }
        },
        "f59e02720ed0407ebe6968e40d82595e": {
          "model_module": "@jupyter-widgets/base",
          "model_name": "LayoutModel",
          "model_module_version": "1.2.0",
          "state": {
            "_model_module": "@jupyter-widgets/base",
            "_model_module_version": "1.2.0",
            "_model_name": "LayoutModel",
            "_view_count": null,
            "_view_module": "@jupyter-widgets/base",
            "_view_module_version": "1.2.0",
            "_view_name": "LayoutView",
            "align_content": null,
            "align_items": null,
            "align_self": null,
            "border": null,
            "bottom": null,
            "display": null,
            "flex": null,
            "flex_flow": null,
            "grid_area": null,
            "grid_auto_columns": null,
            "grid_auto_flow": null,
            "grid_auto_rows": null,
            "grid_column": null,
            "grid_gap": null,
            "grid_row": null,
            "grid_template_areas": null,
            "grid_template_columns": null,
            "grid_template_rows": null,
            "height": null,
            "justify_content": null,
            "justify_items": null,
            "left": null,
            "margin": null,
            "max_height": null,
            "max_width": null,
            "min_height": null,
            "min_width": null,
            "object_fit": null,
            "object_position": null,
            "order": null,
            "overflow": null,
            "overflow_x": null,
            "overflow_y": null,
            "padding": null,
            "right": null,
            "top": null,
            "visibility": null,
            "width": null
          }
        },
        "3ac185f6ce9641c7b81ecadeafb6a9d0": {
          "model_module": "@jupyter-widgets/controls",
          "model_name": "DescriptionStyleModel",
          "model_module_version": "1.5.0",
          "state": {
            "_model_module": "@jupyter-widgets/controls",
            "_model_module_version": "1.5.0",
            "_model_name": "DescriptionStyleModel",
            "_view_count": null,
            "_view_module": "@jupyter-widgets/base",
            "_view_module_version": "1.2.0",
            "_view_name": "StyleView",
            "description_width": ""
          }
        }
      }
    }
  },
  "nbformat": 4,
  "nbformat_minor": 0
}