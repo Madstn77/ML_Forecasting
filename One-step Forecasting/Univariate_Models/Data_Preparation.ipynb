{
 "cells": [
  {
   "cell_type": "code",
   "execution_count": 1,
   "metadata": {},
   "outputs": [],
   "source": [
    "import pandas as pd\n",
    "import numpy as np\n",
    "import matplotlib.pyplot as plt\n",
    "import warnings\n",
    "\n",
    "warnings.filterwarnings(\"ignore\")\n",
    "\n",
    "# Importing the Quarterly data from OECD on Danish GDP 1990-2023\n",
    "gdp = pd.read_csv(\"..//QGDP.csv\", sep=';', header=None)"
   ]
  },
  {
   "cell_type": "code",
   "execution_count": 2,
   "metadata": {},
   "outputs": [],
   "source": [
    "#Selecting the relevant columns\n",
    "gdp = gdp[[2, 3]]"
   ]
  },
  {
   "cell_type": "markdown",
   "metadata": {},
   "source": [
    "\"A confidence indicator is a statistical indicator based on the results from business surveys interrogating enterprises on their current economic situation and their expectations about future developments. Five separate confidence indicators are produced, for industry, construction, services, retail trade and consumers. Each confidence indicator is calculated as the simple arithmetic average of the (seasonally adjusted) balances of positive and negative answers to specific questions, e.g. regarding economic expectations.\"\n",
    "-Eurostat (https://ec.europa.eu/eurostat/statistics-explained/index.php?title=Glossary:Confidence_indicator)"
   ]
  },
  {
   "cell_type": "code",
   "execution_count": 3,
   "metadata": {},
   "outputs": [
    {
     "name": "stdout",
     "output_type": "stream",
     "text": [
      "Data types in 'indu' dataframe:\n",
      "Time     datetime64[ns]\n",
      "Value           float64\n",
      "dtype: object\n",
      "\n",
      "Data types in 'cons' dataframe:\n",
      "Time     datetime64[ns]\n",
      "Value           float64\n",
      "dtype: object\n",
      "\n",
      "Data types in 'gdp' dataframe:\n",
      "Time     datetime64[ns]\n",
      "Value           float64\n",
      "dtype: object\n"
     ]
    }
   ],
   "source": [
    "#Renaming the columns\n",
    "gdp = gdp.rename(columns={2: 'Time', 3: 'Value'})\n",
    "\n",
    "#Converting the Time column to datetime\n",
    "gdp['Time'] = pd.to_datetime(gdp['Time'])\n",
    "\n",
    "\n",
    "print(\"\\nData types in 'gdp' dataframe:\")\n",
    "print(gdp.dtypes)"
   ]
  }
 ],
 "metadata": {
  "kernelspec": {
   "display_name": "myenv",
   "language": "python",
   "name": "python3"
  },
  "language_info": {
   "codemirror_mode": {
    "name": "ipython",
    "version": 3
   },
   "file_extension": ".py",
   "mimetype": "text/x-python",
   "name": "python",
   "nbconvert_exporter": "python",
   "pygments_lexer": "ipython3",
   "version": "3.10.13"
  }
 },
 "nbformat": 4,
 "nbformat_minor": 2
}
