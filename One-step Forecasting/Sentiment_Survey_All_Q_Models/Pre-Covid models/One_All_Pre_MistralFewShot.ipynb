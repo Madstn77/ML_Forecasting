{
  "cells": [
    {
      "cell_type": "code",
      "source": [
        "import pandas as pd\n",
        "import numpy as np\n",
        "import matplotlib.pyplot as plt\n",
        "import warnings\n",
        "\n",
        "warnings.filterwarnings(\"ignore\")\n",
        "\n",
        "# Importing the Quarterly data from OECD on Danish GDP 1990-2023\n",
        "gdp = pd.read_csv(\".//QGDP.csv\", sep=';', header=None)\n",
        "cons = pd.read_csv(\".//Consumer.csv\", sep=';')\n",
        "indu = pd.read_csv(\".//Industry.csv\", sep=';')"
      ],
      "metadata": {
        "id": "zgwU3bNSXTOb"
      },
      "execution_count": 67,
      "outputs": []
    },
    {
      "cell_type": "code",
      "source": [
        "#Selecting the relevant columns\n",
        "gdp = gdp[[2, 3]]\n",
        "\n",
        "## There is 13 questions the consumers have answered in the survey:\n",
        "## - COF\tConfidence Indicator (Q1 + Q2 + Q4 + Q9) / 4 (CONS.DK.TOT.COF.B.M)\n",
        "## - 1\tFinancial situation over last 12 months (CONS.DK.TOT.1.B.M)\n",
        "## - 2\tFinancial situation over next 12 months (CONS.DK.TOT.2.B.M)\n",
        "## - 3\tGeneral economic situation over last 12 months (CONS.DK.TOT.3.B.M)\n",
        "## - 4\tGeneral economic situation over next 12 months (CONS.DK.TOT.4.B.M)\n",
        "## - 5\tPrice trends over last 12 months (CONS.DK.TOT.5.B.M)\n",
        "## - 6\tPrice trends over next 12 months (CONS.DK.TOT.6.B.M)\n",
        "## - 7\tUnemployment expectations over next 12 months (CONS.DK.TOT.7.B.M)\n",
        "## - 8\tMajor purchases at present (CONS.DK.TOT.8.B.M)\n",
        "## - 9\tMajor purchases over next 12 months (CONS.DK.TOT.9.B.M)\n",
        "## - 10\tSavings at present (CONS.DK.TOT.10.B.M)\n",
        "## - 11\tSavings over next 12 months (CONS.DK.TOT.11.B.M)\n",
        "## - 12\tStatement on financial situation of household (CONS.DK.TOT.12.B.M)\n",
        "\n",
        "##Selecting all questions\n",
        "cons = cons[['Time', 'CONS.DK.TOT.1.B.M', 'CONS.DK.TOT.2.B.M', 'CONS.DK.TOT.3.B.M', 'CONS.DK.TOT.4.B.M', 'CONS.DK.TOT.5.B.M', 'CONS.DK.TOT.6.B.M', 'CONS.DK.TOT.7.B.M', 'CONS.DK.TOT.8.B.M', 'CONS.DK.TOT.9.B.M', 'CONS.DK.TOT.10.B.M', 'CONS.DK.TOT.11.B.M', 'CONS.DK.TOT.12.B.M']]\n",
        "\n",
        "##There is 8 relevant questions in the industry survey:\n",
        "## - COF\tConfidence Indicator (Q2 - Q4 + Q5) / 3 (INDU.DK.TOT.COF.B.M)\n",
        "## - 1\tProduction trend observed in recent months (INDU.DK.TOT.1.B.M)\n",
        "## - 2\tAssessment of order-book levels (INDU.DK.TOT.2.B.M)\n",
        "## - 3\tAssessment of export order-book levels (INDU.DK.TOT.3.B.M)\n",
        "## - 4\tAssessment of stocks of finished products (INDU.DK.TOT.4.B.M)\n",
        "## - 5\tProduction expectations for the months ahead (INDU.DK.TOT.5.B.M)\n",
        "## - 6\tSelling price expectations for the months ahead (INDU.DK.TOT.6.B.M)\n",
        "## - 7\tEmployment expectations for the months ahead (INDU.DK.TOT.7.B.M)\n",
        "\n",
        "## Selecting all questions, except 6, as this is not available for all years\n",
        "indu = indu[['Time', 'INDU.DK.TOT.1.B.M', 'INDU.DK.TOT.2.B.M', 'INDU.DK.TOT.3.B.M', 'INDU.DK.TOT.4.B.M', 'INDU.DK.TOT.5.B.M', 'INDU.DK.TOT.7.B.M']]"
      ],
      "metadata": {
        "id": "Ncb3Jh2mXUBy"
      },
      "execution_count": 68,
      "outputs": []
    },
    {
      "cell_type": "code",
      "source": [
        "# Renaming the columns\n",
        "gdp_columns = {2: 'Time', 3: 'Value'}\n",
        "gdp = gdp.rename(columns=gdp_columns)\n",
        "\n",
        "cons_columns = {\n",
        "    'CONS.DK.TOT.1.B.M': 'cons_Q1', 'CONS.DK.TOT.2.B.M': 'cons_Q2',\n",
        "    'CONS.DK.TOT.3.B.M': 'cons_Q3', 'CONS.DK.TOT.4.B.M': 'cons_Q4',\n",
        "    'CONS.DK.TOT.5.B.M': 'cons_Q5', 'CONS.DK.TOT.6.B.M': 'cons_Q6',\n",
        "    'CONS.DK.TOT.7.B.M': 'cons_Q7', 'CONS.DK.TOT.8.B.M': 'cons_Q8',\n",
        "    'CONS.DK.TOT.9.B.M': 'cons_Q9', 'CONS.DK.TOT.10.B.M': 'cons_Q10',\n",
        "    'CONS.DK.TOT.11.B.M': 'cons_Q11', 'CONS.DK.TOT.12.B.M': 'cons_Q12'\n",
        "}\n",
        "cons = cons.rename(columns=cons_columns)\n",
        "\n",
        "indu_columns = {\n",
        "    'INDU.DK.TOT.1.B.M': 'indu_Q1', 'INDU.DK.TOT.2.B.M': 'indu_Q2',\n",
        "    'INDU.DK.TOT.3.B.M': 'indu_Q3', 'INDU.DK.TOT.4.B.M': 'indu_Q4',\n",
        "    'INDU.DK.TOT.5.B.M': 'indu_Q5', 'INDU.DK.TOT.6.B.M': 'indu_Q6',\n",
        "    'INDU.DK.TOT.7.B.M': 'indu_Q7'\n",
        "}\n",
        "indu = indu.rename(columns=indu_columns)\n",
        "\n",
        "# Converting the Time column to datetime\n",
        "gdp['Time'] = pd.to_datetime(gdp['Time'])\n",
        "cons['Time'] = pd.to_datetime(cons['Time'], format='%d-%m-%Y')\n",
        "indu['Time'] = pd.to_datetime(indu['Time'], format='%d-%m-%Y')\n",
        "\n",
        "# Converting the Value column to float64 in indu and cons\n",
        "for col in indu.columns[1:]:\n",
        "    indu[col] = pd.to_numeric(indu[col], errors='coerce').astype('float64')\n",
        "\n",
        "for col in cons.columns[1:]:\n",
        "    cons[col] = pd.to_numeric(cons[col], errors='coerce').astype('float64')\n",
        "\n",
        "# Checking the data types\n",
        "print(\"Data types in 'indu' dataframe:\")\n",
        "print(indu.dtypes)\n",
        "\n",
        "print(\"\\nData types in 'cons' dataframe:\")\n",
        "print(cons.dtypes)\n",
        "\n",
        "print(\"\\nData types in 'gdp' dataframe:\")\n",
        "print(gdp.dtypes)"
      ],
      "metadata": {
        "id": "OQ0lGAOPXW0u",
        "outputId": "3fd2a946-a722-4a25-a370-54a1cb360616",
        "colab": {
          "base_uri": "https://localhost:8080/"
        }
      },
      "execution_count": 69,
      "outputs": [
        {
          "output_type": "stream",
          "name": "stdout",
          "text": [
            "Data types in 'indu' dataframe:\n",
            "Time       datetime64[ns]\n",
            "indu_Q1           float64\n",
            "indu_Q2           float64\n",
            "indu_Q3           float64\n",
            "indu_Q4           float64\n",
            "indu_Q5           float64\n",
            "indu_Q7           float64\n",
            "dtype: object\n",
            "\n",
            "Data types in 'cons' dataframe:\n",
            "Time        datetime64[ns]\n",
            "cons_Q1            float64\n",
            "cons_Q2            float64\n",
            "cons_Q3            float64\n",
            "cons_Q4            float64\n",
            "cons_Q5            float64\n",
            "cons_Q6            float64\n",
            "cons_Q7            float64\n",
            "cons_Q8            float64\n",
            "cons_Q9            float64\n",
            "cons_Q10           float64\n",
            "cons_Q11           float64\n",
            "cons_Q12           float64\n",
            "dtype: object\n",
            "\n",
            "Data types in 'gdp' dataframe:\n",
            "Time     datetime64[ns]\n",
            "Value           float64\n",
            "dtype: object\n"
          ]
        }
      ]
    },
    {
      "cell_type": "code",
      "source": [
        "# Resample indu and cons to quarterly frequency, using the mean value per quarter\n",
        "indu_quarterly = indu.resample('Q', on='Time').mean()\n",
        "cons_quarterly = cons.resample('Q', on='Time').mean()\n",
        "\n",
        "# Adjust the datetime to the first day of the quarter\n",
        "indu_quarterly['Time'] = indu_quarterly.index.to_period('Q').asfreq('Q-DEC', 'start').to_timestamp()\n",
        "cons_quarterly['Time'] = cons_quarterly.index.to_period('Q').asfreq('Q-DEC', 'start').to_timestamp()\n",
        "\n",
        "#Resetting the index of the new dataframes\n",
        "indu_quarterly.reset_index(drop=True, inplace=True)\n",
        "cons_quarterly.reset_index(drop=True, inplace=True)\n",
        "\n",
        "#Checking the data types\n",
        "print(indu_quarterly.dtypes)\n",
        "print(cons_quarterly.dtypes)"
      ],
      "metadata": {
        "id": "9We7WwONXaMI",
        "outputId": "e2e2c60f-d85d-44b6-d29b-6205f3903c58",
        "colab": {
          "base_uri": "https://localhost:8080/"
        }
      },
      "execution_count": 70,
      "outputs": [
        {
          "output_type": "stream",
          "name": "stdout",
          "text": [
            "indu_Q1           float64\n",
            "indu_Q2           float64\n",
            "indu_Q3           float64\n",
            "indu_Q4           float64\n",
            "indu_Q5           float64\n",
            "indu_Q7           float64\n",
            "Time       datetime64[ns]\n",
            "dtype: object\n",
            "cons_Q1            float64\n",
            "cons_Q2            float64\n",
            "cons_Q3            float64\n",
            "cons_Q4            float64\n",
            "cons_Q5            float64\n",
            "cons_Q6            float64\n",
            "cons_Q7            float64\n",
            "cons_Q8            float64\n",
            "cons_Q9            float64\n",
            "cons_Q10           float64\n",
            "cons_Q11           float64\n",
            "cons_Q12           float64\n",
            "Time        datetime64[ns]\n",
            "dtype: object\n"
          ]
        }
      ]
    },
    {
      "cell_type": "code",
      "source": [
        "#Filtering the data to only include the years 1990-2023, as this is the limitation in gdp dataset\n",
        "indu_quarterly = indu_quarterly[(indu_quarterly['Time'] >= '1990-01-01') & (indu_quarterly['Time'] < '2024-01-01')]\n",
        "cons_quarterly = cons_quarterly[(cons_quarterly['Time'] >= '1990-01-01') & (cons_quarterly['Time'] < '2024-01-01')]"
      ],
      "metadata": {
        "id": "IOops7bwXb_-"
      },
      "execution_count": 71,
      "outputs": []
    },
    {
      "cell_type": "code",
      "source": [
        "#Cleanup\n",
        "cons = cons_quarterly\n",
        "indu = indu_quarterly\n",
        "\n",
        "cons.reset_index(drop=True, inplace=True)\n",
        "indu.reset_index(drop=True, inplace=True)\n",
        "\n",
        "del cons_quarterly, indu_quarterly"
      ],
      "metadata": {
        "id": "c_B0igjWXdt_"
      },
      "execution_count": 72,
      "outputs": []
    },
    {
      "cell_type": "code",
      "execution_count": 73,
      "metadata": {
        "id": "5yC--6EAWZVE"
      },
      "outputs": [],
      "source": [
        "#Combine the training data by matching the time\n",
        "data = pd.merge(indu, cons, on='Time', how='inner')\n",
        "data = pd.merge(data, gdp, on='Time', how='inner')\n",
        "\n",
        "\n",
        "\n",
        "#Renaming indu_Q7 to indu_Q6 for convenience\n",
        "data = data.rename(columns={'indu_Q7':'indu_Q6'})\n",
        "data = data.rename(columns={'Value':'gdp'})\n",
        "\n",
        "#Limiting the data to before 2020\n",
        "data = data[data['Time'] < '2020-01-01']"
      ]
    },
    {
      "cell_type": "code",
      "source": [
        "# Installing Python 3.10.12\n",
        "%pip install python==3.10.12\n",
        "\n",
        "# Installing accelerate package for faster computation\n",
        "%pip install accelerate\n",
        "\n",
        "# Installing keras package for deep learning\n",
        "%pip install keras\n",
        "\n",
        "# Installing tensorflow package for deep learning\n",
        "%pip install tensorflow\n",
        "\n",
        "# Installing torch package for deep learning\n",
        "%pip install torch\n",
        "\n",
        "# Installing transformers package for deep learning\n",
        "%pip install transformers\n",
        "\n",
        "# Installing xgboost package for gradient boosting\n",
        "%pip install xgboost\n",
        "\n",
        "# Installing langchain package for natural language processing\n",
        "%pip install langchain\n",
        "\n",
        "# Installing pmdarima package for time series analysis\n",
        "%pip install pmdarima\n",
        "\n",
        "# Installing statsmodels package for time series analysis\n",
        "%pip install statsmodels\n",
        "\n",
        "# Installing pandas package for data manipulation\n",
        "%pip install pandas\n",
        "\n",
        "# Installing numpy package for numerical computation\n",
        "%pip install numpy\n",
        "\n",
        "# Installing matplotlib package for data visualization\n",
        "%pip install matplotlib\n",
        "\n",
        "# Installing scikit-learn package for machine learning\n",
        "%pip install scikit-learn"
      ],
      "metadata": {
        "colab": {
          "base_uri": "https://localhost:8080/"
        },
        "id": "CLutypGra1hx",
        "outputId": "0de8e96a-61ac-4366-92d4-c453da3d875f"
      },
      "execution_count": 42,
      "outputs": [
        {
          "output_type": "stream",
          "name": "stdout",
          "text": [
            "\u001b[31mERROR: Could not find a version that satisfies the requirement python==3.10.12 (from versions: none)\u001b[0m\u001b[31m\n",
            "\u001b[0m\u001b[31mERROR: No matching distribution found for python==3.10.12\u001b[0m\u001b[31m\n",
            "\u001b[0mRequirement already satisfied: accelerate in /usr/local/lib/python3.10/dist-packages (0.30.1)\n",
            "Requirement already satisfied: numpy>=1.17 in /usr/local/lib/python3.10/dist-packages (from accelerate) (1.25.2)\n",
            "Requirement already satisfied: packaging>=20.0 in /usr/local/lib/python3.10/dist-packages (from accelerate) (23.2)\n",
            "Requirement already satisfied: psutil in /usr/local/lib/python3.10/dist-packages (from accelerate) (5.9.5)\n",
            "Requirement already satisfied: pyyaml in /usr/local/lib/python3.10/dist-packages (from accelerate) (6.0.1)\n",
            "Requirement already satisfied: torch>=1.10.0 in /usr/local/lib/python3.10/dist-packages (from accelerate) (2.2.1+cu121)\n",
            "Requirement already satisfied: huggingface-hub in /usr/local/lib/python3.10/dist-packages (from accelerate) (0.20.3)\n",
            "Requirement already satisfied: safetensors>=0.3.1 in /usr/local/lib/python3.10/dist-packages (from accelerate) (0.4.3)\n",
            "Requirement already satisfied: filelock in /usr/local/lib/python3.10/dist-packages (from torch>=1.10.0->accelerate) (3.14.0)\n",
            "Requirement already satisfied: typing-extensions>=4.8.0 in /usr/local/lib/python3.10/dist-packages (from torch>=1.10.0->accelerate) (4.11.0)\n",
            "Requirement already satisfied: sympy in /usr/local/lib/python3.10/dist-packages (from torch>=1.10.0->accelerate) (1.12)\n",
            "Requirement already satisfied: networkx in /usr/local/lib/python3.10/dist-packages (from torch>=1.10.0->accelerate) (3.3)\n",
            "Requirement already satisfied: jinja2 in /usr/local/lib/python3.10/dist-packages (from torch>=1.10.0->accelerate) (3.1.4)\n",
            "Requirement already satisfied: fsspec in /usr/local/lib/python3.10/dist-packages (from torch>=1.10.0->accelerate) (2023.6.0)\n",
            "Requirement already satisfied: nvidia-cuda-nvrtc-cu12==12.1.105 in /usr/local/lib/python3.10/dist-packages (from torch>=1.10.0->accelerate) (12.1.105)\n",
            "Requirement already satisfied: nvidia-cuda-runtime-cu12==12.1.105 in /usr/local/lib/python3.10/dist-packages (from torch>=1.10.0->accelerate) (12.1.105)\n",
            "Requirement already satisfied: nvidia-cuda-cupti-cu12==12.1.105 in /usr/local/lib/python3.10/dist-packages (from torch>=1.10.0->accelerate) (12.1.105)\n",
            "Requirement already satisfied: nvidia-cudnn-cu12==8.9.2.26 in /usr/local/lib/python3.10/dist-packages (from torch>=1.10.0->accelerate) (8.9.2.26)\n",
            "Requirement already satisfied: nvidia-cublas-cu12==12.1.3.1 in /usr/local/lib/python3.10/dist-packages (from torch>=1.10.0->accelerate) (12.1.3.1)\n",
            "Requirement already satisfied: nvidia-cufft-cu12==11.0.2.54 in /usr/local/lib/python3.10/dist-packages (from torch>=1.10.0->accelerate) (11.0.2.54)\n",
            "Requirement already satisfied: nvidia-curand-cu12==10.3.2.106 in /usr/local/lib/python3.10/dist-packages (from torch>=1.10.0->accelerate) (10.3.2.106)\n",
            "Requirement already satisfied: nvidia-cusolver-cu12==11.4.5.107 in /usr/local/lib/python3.10/dist-packages (from torch>=1.10.0->accelerate) (11.4.5.107)\n",
            "Requirement already satisfied: nvidia-cusparse-cu12==12.1.0.106 in /usr/local/lib/python3.10/dist-packages (from torch>=1.10.0->accelerate) (12.1.0.106)\n",
            "Requirement already satisfied: nvidia-nccl-cu12==2.19.3 in /usr/local/lib/python3.10/dist-packages (from torch>=1.10.0->accelerate) (2.19.3)\n",
            "Requirement already satisfied: nvidia-nvtx-cu12==12.1.105 in /usr/local/lib/python3.10/dist-packages (from torch>=1.10.0->accelerate) (12.1.105)\n",
            "Requirement already satisfied: triton==2.2.0 in /usr/local/lib/python3.10/dist-packages (from torch>=1.10.0->accelerate) (2.2.0)\n",
            "Requirement already satisfied: nvidia-nvjitlink-cu12 in /usr/local/lib/python3.10/dist-packages (from nvidia-cusolver-cu12==11.4.5.107->torch>=1.10.0->accelerate) (12.4.127)\n",
            "Requirement already satisfied: requests in /usr/local/lib/python3.10/dist-packages (from huggingface-hub->accelerate) (2.31.0)\n",
            "Requirement already satisfied: tqdm>=4.42.1 in /usr/local/lib/python3.10/dist-packages (from huggingface-hub->accelerate) (4.66.4)\n",
            "Requirement already satisfied: MarkupSafe>=2.0 in /usr/local/lib/python3.10/dist-packages (from jinja2->torch>=1.10.0->accelerate) (2.1.5)\n",
            "Requirement already satisfied: charset-normalizer<4,>=2 in /usr/local/lib/python3.10/dist-packages (from requests->huggingface-hub->accelerate) (3.3.2)\n",
            "Requirement already satisfied: idna<4,>=2.5 in /usr/local/lib/python3.10/dist-packages (from requests->huggingface-hub->accelerate) (3.7)\n",
            "Requirement already satisfied: urllib3<3,>=1.21.1 in /usr/local/lib/python3.10/dist-packages (from requests->huggingface-hub->accelerate) (2.0.7)\n",
            "Requirement already satisfied: certifi>=2017.4.17 in /usr/local/lib/python3.10/dist-packages (from requests->huggingface-hub->accelerate) (2024.2.2)\n",
            "Requirement already satisfied: mpmath>=0.19 in /usr/local/lib/python3.10/dist-packages (from sympy->torch>=1.10.0->accelerate) (1.3.0)\n",
            "Requirement already satisfied: keras in /usr/local/lib/python3.10/dist-packages (2.15.0)\n",
            "Requirement already satisfied: tensorflow in /usr/local/lib/python3.10/dist-packages (2.15.0)\n",
            "Requirement already satisfied: absl-py>=1.0.0 in /usr/local/lib/python3.10/dist-packages (from tensorflow) (1.4.0)\n",
            "Requirement already satisfied: astunparse>=1.6.0 in /usr/local/lib/python3.10/dist-packages (from tensorflow) (1.6.3)\n",
            "Requirement already satisfied: flatbuffers>=23.5.26 in /usr/local/lib/python3.10/dist-packages (from tensorflow) (24.3.25)\n",
            "Requirement already satisfied: gast!=0.5.0,!=0.5.1,!=0.5.2,>=0.2.1 in /usr/local/lib/python3.10/dist-packages (from tensorflow) (0.5.4)\n",
            "Requirement already satisfied: google-pasta>=0.1.1 in /usr/local/lib/python3.10/dist-packages (from tensorflow) (0.2.0)\n",
            "Requirement already satisfied: h5py>=2.9.0 in /usr/local/lib/python3.10/dist-packages (from tensorflow) (3.9.0)\n",
            "Requirement already satisfied: libclang>=13.0.0 in /usr/local/lib/python3.10/dist-packages (from tensorflow) (18.1.1)\n",
            "Requirement already satisfied: ml-dtypes~=0.2.0 in /usr/local/lib/python3.10/dist-packages (from tensorflow) (0.2.0)\n",
            "Requirement already satisfied: numpy<2.0.0,>=1.23.5 in /usr/local/lib/python3.10/dist-packages (from tensorflow) (1.25.2)\n",
            "Requirement already satisfied: opt-einsum>=2.3.2 in /usr/local/lib/python3.10/dist-packages (from tensorflow) (3.3.0)\n",
            "Requirement already satisfied: packaging in /usr/local/lib/python3.10/dist-packages (from tensorflow) (23.2)\n",
            "Requirement already satisfied: protobuf!=4.21.0,!=4.21.1,!=4.21.2,!=4.21.3,!=4.21.4,!=4.21.5,<5.0.0dev,>=3.20.3 in /usr/local/lib/python3.10/dist-packages (from tensorflow) (3.20.3)\n",
            "Requirement already satisfied: setuptools in /usr/local/lib/python3.10/dist-packages (from tensorflow) (67.7.2)\n",
            "Requirement already satisfied: six>=1.12.0 in /usr/local/lib/python3.10/dist-packages (from tensorflow) (1.16.0)\n",
            "Requirement already satisfied: termcolor>=1.1.0 in /usr/local/lib/python3.10/dist-packages (from tensorflow) (2.4.0)\n",
            "Requirement already satisfied: typing-extensions>=3.6.6 in /usr/local/lib/python3.10/dist-packages (from tensorflow) (4.11.0)\n",
            "Requirement already satisfied: wrapt<1.15,>=1.11.0 in /usr/local/lib/python3.10/dist-packages (from tensorflow) (1.14.1)\n",
            "Requirement already satisfied: tensorflow-io-gcs-filesystem>=0.23.1 in /usr/local/lib/python3.10/dist-packages (from tensorflow) (0.37.0)\n",
            "Requirement already satisfied: grpcio<2.0,>=1.24.3 in /usr/local/lib/python3.10/dist-packages (from tensorflow) (1.63.0)\n",
            "Requirement already satisfied: tensorboard<2.16,>=2.15 in /usr/local/lib/python3.10/dist-packages (from tensorflow) (2.15.2)\n",
            "Requirement already satisfied: tensorflow-estimator<2.16,>=2.15.0 in /usr/local/lib/python3.10/dist-packages (from tensorflow) (2.15.0)\n",
            "Requirement already satisfied: keras<2.16,>=2.15.0 in /usr/local/lib/python3.10/dist-packages (from tensorflow) (2.15.0)\n",
            "Requirement already satisfied: wheel<1.0,>=0.23.0 in /usr/local/lib/python3.10/dist-packages (from astunparse>=1.6.0->tensorflow) (0.43.0)\n",
            "Requirement already satisfied: google-auth<3,>=1.6.3 in /usr/local/lib/python3.10/dist-packages (from tensorboard<2.16,>=2.15->tensorflow) (2.27.0)\n",
            "Requirement already satisfied: google-auth-oauthlib<2,>=0.5 in /usr/local/lib/python3.10/dist-packages (from tensorboard<2.16,>=2.15->tensorflow) (1.2.0)\n",
            "Requirement already satisfied: markdown>=2.6.8 in /usr/local/lib/python3.10/dist-packages (from tensorboard<2.16,>=2.15->tensorflow) (3.6)\n",
            "Requirement already satisfied: requests<3,>=2.21.0 in /usr/local/lib/python3.10/dist-packages (from tensorboard<2.16,>=2.15->tensorflow) (2.31.0)\n",
            "Requirement already satisfied: tensorboard-data-server<0.8.0,>=0.7.0 in /usr/local/lib/python3.10/dist-packages (from tensorboard<2.16,>=2.15->tensorflow) (0.7.2)\n",
            "Requirement already satisfied: werkzeug>=1.0.1 in /usr/local/lib/python3.10/dist-packages (from tensorboard<2.16,>=2.15->tensorflow) (3.0.3)\n",
            "Requirement already satisfied: cachetools<6.0,>=2.0.0 in /usr/local/lib/python3.10/dist-packages (from google-auth<3,>=1.6.3->tensorboard<2.16,>=2.15->tensorflow) (5.3.3)\n",
            "Requirement already satisfied: pyasn1-modules>=0.2.1 in /usr/local/lib/python3.10/dist-packages (from google-auth<3,>=1.6.3->tensorboard<2.16,>=2.15->tensorflow) (0.4.0)\n",
            "Requirement already satisfied: rsa<5,>=3.1.4 in /usr/local/lib/python3.10/dist-packages (from google-auth<3,>=1.6.3->tensorboard<2.16,>=2.15->tensorflow) (4.9)\n",
            "Requirement already satisfied: requests-oauthlib>=0.7.0 in /usr/local/lib/python3.10/dist-packages (from google-auth-oauthlib<2,>=0.5->tensorboard<2.16,>=2.15->tensorflow) (1.3.1)\n",
            "Requirement already satisfied: charset-normalizer<4,>=2 in /usr/local/lib/python3.10/dist-packages (from requests<3,>=2.21.0->tensorboard<2.16,>=2.15->tensorflow) (3.3.2)\n",
            "Requirement already satisfied: idna<4,>=2.5 in /usr/local/lib/python3.10/dist-packages (from requests<3,>=2.21.0->tensorboard<2.16,>=2.15->tensorflow) (3.7)\n",
            "Requirement already satisfied: urllib3<3,>=1.21.1 in /usr/local/lib/python3.10/dist-packages (from requests<3,>=2.21.0->tensorboard<2.16,>=2.15->tensorflow) (2.0.7)\n",
            "Requirement already satisfied: certifi>=2017.4.17 in /usr/local/lib/python3.10/dist-packages (from requests<3,>=2.21.0->tensorboard<2.16,>=2.15->tensorflow) (2024.2.2)\n",
            "Requirement already satisfied: MarkupSafe>=2.1.1 in /usr/local/lib/python3.10/dist-packages (from werkzeug>=1.0.1->tensorboard<2.16,>=2.15->tensorflow) (2.1.5)\n",
            "Requirement already satisfied: pyasn1<0.7.0,>=0.4.6 in /usr/local/lib/python3.10/dist-packages (from pyasn1-modules>=0.2.1->google-auth<3,>=1.6.3->tensorboard<2.16,>=2.15->tensorflow) (0.6.0)\n",
            "Requirement already satisfied: oauthlib>=3.0.0 in /usr/local/lib/python3.10/dist-packages (from requests-oauthlib>=0.7.0->google-auth-oauthlib<2,>=0.5->tensorboard<2.16,>=2.15->tensorflow) (3.2.2)\n",
            "Requirement already satisfied: torch in /usr/local/lib/python3.10/dist-packages (2.2.1+cu121)\n",
            "Requirement already satisfied: filelock in /usr/local/lib/python3.10/dist-packages (from torch) (3.14.0)\n",
            "Requirement already satisfied: typing-extensions>=4.8.0 in /usr/local/lib/python3.10/dist-packages (from torch) (4.11.0)\n",
            "Requirement already satisfied: sympy in /usr/local/lib/python3.10/dist-packages (from torch) (1.12)\n",
            "Requirement already satisfied: networkx in /usr/local/lib/python3.10/dist-packages (from torch) (3.3)\n",
            "Requirement already satisfied: jinja2 in /usr/local/lib/python3.10/dist-packages (from torch) (3.1.4)\n",
            "Requirement already satisfied: fsspec in /usr/local/lib/python3.10/dist-packages (from torch) (2023.6.0)\n",
            "Requirement already satisfied: nvidia-cuda-nvrtc-cu12==12.1.105 in /usr/local/lib/python3.10/dist-packages (from torch) (12.1.105)\n",
            "Requirement already satisfied: nvidia-cuda-runtime-cu12==12.1.105 in /usr/local/lib/python3.10/dist-packages (from torch) (12.1.105)\n",
            "Requirement already satisfied: nvidia-cuda-cupti-cu12==12.1.105 in /usr/local/lib/python3.10/dist-packages (from torch) (12.1.105)\n",
            "Requirement already satisfied: nvidia-cudnn-cu12==8.9.2.26 in /usr/local/lib/python3.10/dist-packages (from torch) (8.9.2.26)\n",
            "Requirement already satisfied: nvidia-cublas-cu12==12.1.3.1 in /usr/local/lib/python3.10/dist-packages (from torch) (12.1.3.1)\n",
            "Requirement already satisfied: nvidia-cufft-cu12==11.0.2.54 in /usr/local/lib/python3.10/dist-packages (from torch) (11.0.2.54)\n",
            "Requirement already satisfied: nvidia-curand-cu12==10.3.2.106 in /usr/local/lib/python3.10/dist-packages (from torch) (10.3.2.106)\n",
            "Requirement already satisfied: nvidia-cusolver-cu12==11.4.5.107 in /usr/local/lib/python3.10/dist-packages (from torch) (11.4.5.107)\n",
            "Requirement already satisfied: nvidia-cusparse-cu12==12.1.0.106 in /usr/local/lib/python3.10/dist-packages (from torch) (12.1.0.106)\n",
            "Requirement already satisfied: nvidia-nccl-cu12==2.19.3 in /usr/local/lib/python3.10/dist-packages (from torch) (2.19.3)\n",
            "Requirement already satisfied: nvidia-nvtx-cu12==12.1.105 in /usr/local/lib/python3.10/dist-packages (from torch) (12.1.105)\n",
            "Requirement already satisfied: triton==2.2.0 in /usr/local/lib/python3.10/dist-packages (from torch) (2.2.0)\n",
            "Requirement already satisfied: nvidia-nvjitlink-cu12 in /usr/local/lib/python3.10/dist-packages (from nvidia-cusolver-cu12==11.4.5.107->torch) (12.4.127)\n",
            "Requirement already satisfied: MarkupSafe>=2.0 in /usr/local/lib/python3.10/dist-packages (from jinja2->torch) (2.1.5)\n",
            "Requirement already satisfied: mpmath>=0.19 in /usr/local/lib/python3.10/dist-packages (from sympy->torch) (1.3.0)\n",
            "Requirement already satisfied: transformers in /usr/local/lib/python3.10/dist-packages (4.40.2)\n",
            "Requirement already satisfied: filelock in /usr/local/lib/python3.10/dist-packages (from transformers) (3.14.0)\n",
            "Requirement already satisfied: huggingface-hub<1.0,>=0.19.3 in /usr/local/lib/python3.10/dist-packages (from transformers) (0.20.3)\n",
            "Requirement already satisfied: numpy>=1.17 in /usr/local/lib/python3.10/dist-packages (from transformers) (1.25.2)\n",
            "Requirement already satisfied: packaging>=20.0 in /usr/local/lib/python3.10/dist-packages (from transformers) (23.2)\n",
            "Requirement already satisfied: pyyaml>=5.1 in /usr/local/lib/python3.10/dist-packages (from transformers) (6.0.1)\n",
            "Requirement already satisfied: regex!=2019.12.17 in /usr/local/lib/python3.10/dist-packages (from transformers) (2023.12.25)\n",
            "Requirement already satisfied: requests in /usr/local/lib/python3.10/dist-packages (from transformers) (2.31.0)\n",
            "Requirement already satisfied: tokenizers<0.20,>=0.19 in /usr/local/lib/python3.10/dist-packages (from transformers) (0.19.1)\n",
            "Requirement already satisfied: safetensors>=0.4.1 in /usr/local/lib/python3.10/dist-packages (from transformers) (0.4.3)\n",
            "Requirement already satisfied: tqdm>=4.27 in /usr/local/lib/python3.10/dist-packages (from transformers) (4.66.4)\n",
            "Requirement already satisfied: fsspec>=2023.5.0 in /usr/local/lib/python3.10/dist-packages (from huggingface-hub<1.0,>=0.19.3->transformers) (2023.6.0)\n",
            "Requirement already satisfied: typing-extensions>=3.7.4.3 in /usr/local/lib/python3.10/dist-packages (from huggingface-hub<1.0,>=0.19.3->transformers) (4.11.0)\n",
            "Requirement already satisfied: charset-normalizer<4,>=2 in /usr/local/lib/python3.10/dist-packages (from requests->transformers) (3.3.2)\n",
            "Requirement already satisfied: idna<4,>=2.5 in /usr/local/lib/python3.10/dist-packages (from requests->transformers) (3.7)\n",
            "Requirement already satisfied: urllib3<3,>=1.21.1 in /usr/local/lib/python3.10/dist-packages (from requests->transformers) (2.0.7)\n",
            "Requirement already satisfied: certifi>=2017.4.17 in /usr/local/lib/python3.10/dist-packages (from requests->transformers) (2024.2.2)\n",
            "Requirement already satisfied: xgboost in /usr/local/lib/python3.10/dist-packages (2.0.3)\n",
            "Requirement already satisfied: numpy in /usr/local/lib/python3.10/dist-packages (from xgboost) (1.25.2)\n",
            "Requirement already satisfied: scipy in /usr/local/lib/python3.10/dist-packages (from xgboost) (1.11.4)\n",
            "Requirement already satisfied: langchain in /usr/local/lib/python3.10/dist-packages (0.2.0)\n",
            "Requirement already satisfied: PyYAML>=5.3 in /usr/local/lib/python3.10/dist-packages (from langchain) (6.0.1)\n",
            "Requirement already satisfied: SQLAlchemy<3,>=1.4 in /usr/local/lib/python3.10/dist-packages (from langchain) (2.0.30)\n",
            "Requirement already satisfied: aiohttp<4.0.0,>=3.8.3 in /usr/local/lib/python3.10/dist-packages (from langchain) (3.9.5)\n",
            "Requirement already satisfied: async-timeout<5.0.0,>=4.0.0 in /usr/local/lib/python3.10/dist-packages (from langchain) (4.0.3)\n",
            "Requirement already satisfied: dataclasses-json<0.7,>=0.5.7 in /usr/local/lib/python3.10/dist-packages (from langchain) (0.6.6)\n",
            "Requirement already satisfied: langchain-core<0.3.0,>=0.2.0 in /usr/local/lib/python3.10/dist-packages (from langchain) (0.2.0)\n",
            "Requirement already satisfied: langchain-text-splitters<0.3.0,>=0.2.0 in /usr/local/lib/python3.10/dist-packages (from langchain) (0.2.0)\n",
            "Requirement already satisfied: langsmith<0.2.0,>=0.1.17 in /usr/local/lib/python3.10/dist-packages (from langchain) (0.1.59)\n",
            "Requirement already satisfied: numpy<2,>=1 in /usr/local/lib/python3.10/dist-packages (from langchain) (1.25.2)\n",
            "Requirement already satisfied: pydantic<3,>=1 in /usr/local/lib/python3.10/dist-packages (from langchain) (2.7.1)\n",
            "Requirement already satisfied: requests<3,>=2 in /usr/local/lib/python3.10/dist-packages (from langchain) (2.31.0)\n",
            "Requirement already satisfied: tenacity<9.0.0,>=8.1.0 in /usr/local/lib/python3.10/dist-packages (from langchain) (8.3.0)\n",
            "Requirement already satisfied: aiosignal>=1.1.2 in /usr/local/lib/python3.10/dist-packages (from aiohttp<4.0.0,>=3.8.3->langchain) (1.3.1)\n",
            "Requirement already satisfied: attrs>=17.3.0 in /usr/local/lib/python3.10/dist-packages (from aiohttp<4.0.0,>=3.8.3->langchain) (23.2.0)\n",
            "Requirement already satisfied: frozenlist>=1.1.1 in /usr/local/lib/python3.10/dist-packages (from aiohttp<4.0.0,>=3.8.3->langchain) (1.4.1)\n",
            "Requirement already satisfied: multidict<7.0,>=4.5 in /usr/local/lib/python3.10/dist-packages (from aiohttp<4.0.0,>=3.8.3->langchain) (6.0.5)\n",
            "Requirement already satisfied: yarl<2.0,>=1.0 in /usr/local/lib/python3.10/dist-packages (from aiohttp<4.0.0,>=3.8.3->langchain) (1.9.4)\n",
            "Requirement already satisfied: marshmallow<4.0.0,>=3.18.0 in /usr/local/lib/python3.10/dist-packages (from dataclasses-json<0.7,>=0.5.7->langchain) (3.21.2)\n",
            "Requirement already satisfied: typing-inspect<1,>=0.4.0 in /usr/local/lib/python3.10/dist-packages (from dataclasses-json<0.7,>=0.5.7->langchain) (0.9.0)\n",
            "Requirement already satisfied: jsonpatch<2.0,>=1.33 in /usr/local/lib/python3.10/dist-packages (from langchain-core<0.3.0,>=0.2.0->langchain) (1.33)\n",
            "Requirement already satisfied: packaging<24.0,>=23.2 in /usr/local/lib/python3.10/dist-packages (from langchain-core<0.3.0,>=0.2.0->langchain) (23.2)\n",
            "Requirement already satisfied: orjson<4.0.0,>=3.9.14 in /usr/local/lib/python3.10/dist-packages (from langsmith<0.2.0,>=0.1.17->langchain) (3.10.3)\n",
            "Requirement already satisfied: annotated-types>=0.4.0 in /usr/local/lib/python3.10/dist-packages (from pydantic<3,>=1->langchain) (0.6.0)\n",
            "Requirement already satisfied: pydantic-core==2.18.2 in /usr/local/lib/python3.10/dist-packages (from pydantic<3,>=1->langchain) (2.18.2)\n",
            "Requirement already satisfied: typing-extensions>=4.6.1 in /usr/local/lib/python3.10/dist-packages (from pydantic<3,>=1->langchain) (4.11.0)\n",
            "Requirement already satisfied: charset-normalizer<4,>=2 in /usr/local/lib/python3.10/dist-packages (from requests<3,>=2->langchain) (3.3.2)\n",
            "Requirement already satisfied: idna<4,>=2.5 in /usr/local/lib/python3.10/dist-packages (from requests<3,>=2->langchain) (3.7)\n",
            "Requirement already satisfied: urllib3<3,>=1.21.1 in /usr/local/lib/python3.10/dist-packages (from requests<3,>=2->langchain) (2.0.7)\n",
            "Requirement already satisfied: certifi>=2017.4.17 in /usr/local/lib/python3.10/dist-packages (from requests<3,>=2->langchain) (2024.2.2)\n",
            "Requirement already satisfied: greenlet!=0.4.17 in /usr/local/lib/python3.10/dist-packages (from SQLAlchemy<3,>=1.4->langchain) (3.0.3)\n",
            "Requirement already satisfied: jsonpointer>=1.9 in /usr/local/lib/python3.10/dist-packages (from jsonpatch<2.0,>=1.33->langchain-core<0.3.0,>=0.2.0->langchain) (2.4)\n",
            "Requirement already satisfied: mypy-extensions>=0.3.0 in /usr/local/lib/python3.10/dist-packages (from typing-inspect<1,>=0.4.0->dataclasses-json<0.7,>=0.5.7->langchain) (1.0.0)\n",
            "Requirement already satisfied: pmdarima in /usr/local/lib/python3.10/dist-packages (2.0.4)\n",
            "Requirement already satisfied: joblib>=0.11 in /usr/local/lib/python3.10/dist-packages (from pmdarima) (1.4.2)\n",
            "Requirement already satisfied: Cython!=0.29.18,!=0.29.31,>=0.29 in /usr/local/lib/python3.10/dist-packages (from pmdarima) (3.0.10)\n",
            "Requirement already satisfied: numpy>=1.21.2 in /usr/local/lib/python3.10/dist-packages (from pmdarima) (1.25.2)\n",
            "Requirement already satisfied: pandas>=0.19 in /usr/local/lib/python3.10/dist-packages (from pmdarima) (2.0.3)\n",
            "Requirement already satisfied: scikit-learn>=0.22 in /usr/local/lib/python3.10/dist-packages (from pmdarima) (1.2.2)\n",
            "Requirement already satisfied: scipy>=1.3.2 in /usr/local/lib/python3.10/dist-packages (from pmdarima) (1.11.4)\n",
            "Requirement already satisfied: statsmodels>=0.13.2 in /usr/local/lib/python3.10/dist-packages (from pmdarima) (0.14.2)\n",
            "Requirement already satisfied: urllib3 in /usr/local/lib/python3.10/dist-packages (from pmdarima) (2.0.7)\n",
            "Requirement already satisfied: setuptools!=50.0.0,>=38.6.0 in /usr/local/lib/python3.10/dist-packages (from pmdarima) (67.7.2)\n",
            "Requirement already satisfied: packaging>=17.1 in /usr/local/lib/python3.10/dist-packages (from pmdarima) (23.2)\n",
            "Requirement already satisfied: python-dateutil>=2.8.2 in /usr/local/lib/python3.10/dist-packages (from pandas>=0.19->pmdarima) (2.8.2)\n",
            "Requirement already satisfied: pytz>=2020.1 in /usr/local/lib/python3.10/dist-packages (from pandas>=0.19->pmdarima) (2023.4)\n",
            "Requirement already satisfied: tzdata>=2022.1 in /usr/local/lib/python3.10/dist-packages (from pandas>=0.19->pmdarima) (2024.1)\n",
            "Requirement already satisfied: threadpoolctl>=2.0.0 in /usr/local/lib/python3.10/dist-packages (from scikit-learn>=0.22->pmdarima) (3.5.0)\n",
            "Requirement already satisfied: patsy>=0.5.6 in /usr/local/lib/python3.10/dist-packages (from statsmodels>=0.13.2->pmdarima) (0.5.6)\n",
            "Requirement already satisfied: six in /usr/local/lib/python3.10/dist-packages (from patsy>=0.5.6->statsmodels>=0.13.2->pmdarima) (1.16.0)\n",
            "Requirement already satisfied: statsmodels in /usr/local/lib/python3.10/dist-packages (0.14.2)\n",
            "Requirement already satisfied: numpy>=1.22.3 in /usr/local/lib/python3.10/dist-packages (from statsmodels) (1.25.2)\n",
            "Requirement already satisfied: scipy!=1.9.2,>=1.8 in /usr/local/lib/python3.10/dist-packages (from statsmodels) (1.11.4)\n",
            "Requirement already satisfied: pandas!=2.1.0,>=1.4 in /usr/local/lib/python3.10/dist-packages (from statsmodels) (2.0.3)\n",
            "Requirement already satisfied: patsy>=0.5.6 in /usr/local/lib/python3.10/dist-packages (from statsmodels) (0.5.6)\n",
            "Requirement already satisfied: packaging>=21.3 in /usr/local/lib/python3.10/dist-packages (from statsmodels) (23.2)\n",
            "Requirement already satisfied: python-dateutil>=2.8.2 in /usr/local/lib/python3.10/dist-packages (from pandas!=2.1.0,>=1.4->statsmodels) (2.8.2)\n",
            "Requirement already satisfied: pytz>=2020.1 in /usr/local/lib/python3.10/dist-packages (from pandas!=2.1.0,>=1.4->statsmodels) (2023.4)\n",
            "Requirement already satisfied: tzdata>=2022.1 in /usr/local/lib/python3.10/dist-packages (from pandas!=2.1.0,>=1.4->statsmodels) (2024.1)\n",
            "Requirement already satisfied: six in /usr/local/lib/python3.10/dist-packages (from patsy>=0.5.6->statsmodels) (1.16.0)\n",
            "Requirement already satisfied: pandas in /usr/local/lib/python3.10/dist-packages (2.0.3)\n",
            "Requirement already satisfied: python-dateutil>=2.8.2 in /usr/local/lib/python3.10/dist-packages (from pandas) (2.8.2)\n",
            "Requirement already satisfied: pytz>=2020.1 in /usr/local/lib/python3.10/dist-packages (from pandas) (2023.4)\n",
            "Requirement already satisfied: tzdata>=2022.1 in /usr/local/lib/python3.10/dist-packages (from pandas) (2024.1)\n",
            "Requirement already satisfied: numpy>=1.21.0 in /usr/local/lib/python3.10/dist-packages (from pandas) (1.25.2)\n",
            "Requirement already satisfied: six>=1.5 in /usr/local/lib/python3.10/dist-packages (from python-dateutil>=2.8.2->pandas) (1.16.0)\n",
            "Requirement already satisfied: numpy in /usr/local/lib/python3.10/dist-packages (1.25.2)\n",
            "Requirement already satisfied: matplotlib in /usr/local/lib/python3.10/dist-packages (3.7.1)\n",
            "Requirement already satisfied: contourpy>=1.0.1 in /usr/local/lib/python3.10/dist-packages (from matplotlib) (1.2.1)\n",
            "Requirement already satisfied: cycler>=0.10 in /usr/local/lib/python3.10/dist-packages (from matplotlib) (0.12.1)\n",
            "Requirement already satisfied: fonttools>=4.22.0 in /usr/local/lib/python3.10/dist-packages (from matplotlib) (4.51.0)\n",
            "Requirement already satisfied: kiwisolver>=1.0.1 in /usr/local/lib/python3.10/dist-packages (from matplotlib) (1.4.5)\n",
            "Requirement already satisfied: numpy>=1.20 in /usr/local/lib/python3.10/dist-packages (from matplotlib) (1.25.2)\n",
            "Requirement already satisfied: packaging>=20.0 in /usr/local/lib/python3.10/dist-packages (from matplotlib) (23.2)\n",
            "Requirement already satisfied: pillow>=6.2.0 in /usr/local/lib/python3.10/dist-packages (from matplotlib) (9.4.0)\n",
            "Requirement already satisfied: pyparsing>=2.3.1 in /usr/local/lib/python3.10/dist-packages (from matplotlib) (3.1.2)\n",
            "Requirement already satisfied: python-dateutil>=2.7 in /usr/local/lib/python3.10/dist-packages (from matplotlib) (2.8.2)\n",
            "Requirement already satisfied: six>=1.5 in /usr/local/lib/python3.10/dist-packages (from python-dateutil>=2.7->matplotlib) (1.16.0)\n",
            "Requirement already satisfied: scikit-learn in /usr/local/lib/python3.10/dist-packages (1.2.2)\n",
            "Requirement already satisfied: numpy>=1.17.3 in /usr/local/lib/python3.10/dist-packages (from scikit-learn) (1.25.2)\n",
            "Requirement already satisfied: scipy>=1.3.2 in /usr/local/lib/python3.10/dist-packages (from scikit-learn) (1.11.4)\n",
            "Requirement already satisfied: joblib>=1.1.1 in /usr/local/lib/python3.10/dist-packages (from scikit-learn) (1.4.2)\n",
            "Requirement already satisfied: threadpoolctl>=2.0.0 in /usr/local/lib/python3.10/dist-packages (from scikit-learn) (3.5.0)\n"
          ]
        }
      ]
    },
    {
      "cell_type": "code",
      "execution_count": 43,
      "metadata": {
        "id": "T8PRhtGvWZVE"
      },
      "outputs": [],
      "source": [
        "from langchain.chains.combine_documents.stuff import StuffDocumentsChain\n",
        "from langchain.chains.llm import LLMChain\n",
        "from langchain.prompts import PromptTemplate\n",
        "from langchain.chains.summarize import load_summarize_chain\n",
        "from langchain.text_splitter import CharacterTextSplitter\n",
        "from langchain.chains.summarize import load_summarize_chain\n",
        "from langchain.chains.combine_documents.stuff import StuffDocumentsChain\n",
        "from langchain.chains.llm import LLMChain\n",
        "from langchain.prompts import PromptTemplate\n",
        "from langchain.chains.summarize import load_summarize_chain"
      ]
    },
    {
      "cell_type": "code",
      "execution_count": 44,
      "metadata": {
        "id": "_xVWVOESWZVF",
        "outputId": "0d8b376d-286c-47ba-e76a-8b674b9f07cf",
        "colab": {
          "referenced_widgets": [
            "6de840ecd5264901acc7b8bf42d511bb",
            "fc1e76be258c4c5f9133255b679e8215",
            "bdbfb0542f5246e589a285225a226f17",
            "627fac54e73c4646b5bfd42453efcd77",
            "72103f0cf0844898aac393fc13b7dada",
            "08bafc6dd3c846aab512f72739ceb598",
            "730871c2198649f898e93ea076cfe693",
            "2ce3d43e2b1a46b59b7f3c03cdb0e4c2",
            "714042c9123940309afc8adaa98ff9fc",
            "35bf96d8b56e4ba7a06d979d483b9ed1",
            "f19b4b84759d4f6a95796f5760b76d2c"
          ],
          "base_uri": "https://localhost:8080/",
          "height": 66
        }
      },
      "outputs": [
        {
          "output_type": "display_data",
          "data": {
            "text/plain": [
              "Loading checkpoint shards:   0%|          | 0/3 [00:00<?, ?it/s]"
            ],
            "application/vnd.jupyter.widget-view+json": {
              "version_major": 2,
              "version_minor": 0,
              "model_id": "6de840ecd5264901acc7b8bf42d511bb"
            }
          },
          "metadata": {}
        },
        {
          "output_type": "stream",
          "name": "stderr",
          "text": [
            "WARNING:root:Some parameters are on the meta device device because they were offloaded to the cpu.\n"
          ]
        }
      ],
      "source": [
        "import torch\n",
        "\n",
        "from transformers import AutoModelForCausalLM, AutoTokenizer, GenerationConfig, pipeline\n",
        "import os\n",
        "from google.colab import userdata\n",
        "\n",
        "# Set the Hugging Face API token as an environment variable\n",
        "os.environ[\"HF_TOKEN\"] = userdata.get(\"huggingface_key\")\n",
        "\n",
        "#Set the device to use\n",
        "device = torch.device(\"cuda\")\n",
        "\n",
        "\n",
        "MODEL_NAME = \"mistralai/Mistral-7B-Instruct-v0.2\"\n",
        "\n",
        "tokenizer = AutoTokenizer.from_pretrained(MODEL_NAME, use_fast=True)\n",
        "\n",
        "model = AutoModelForCausalLM.from_pretrained(\n",
        "    MODEL_NAME, torchscript=True, torch_dtype=torch.float16, trust_remote_code=True, device_map=\"auto\"\n",
        ")\n",
        "\n",
        "# Create a configuration for text generation based on the specified model name\n",
        "generation_config = GenerationConfig.from_pretrained(MODEL_NAME)\n",
        "\n",
        "# Set the maximum number of new tokens in the generated text to 1024.\n",
        "# This limits the length of the generated output to 1024 tokens.\n",
        "generation_config.max_new_tokens = 1024\n",
        "\n",
        "# Set the temperature for text generation. Lower values (e.g., 0.0001) make output more deterministic, following likely predictions.\n",
        "# Higher values make the output more random.\n",
        "generation_config.temperature = 0.01\n",
        "\n",
        "# Set the top-p sampling value. A value of 0.95 means focusing on the most likely words that make up 95% of the probability distribution.\n",
        "generation_config.top_p = 0.95\n",
        "\n",
        "# Enable text sampling. When set to True, the model randomly selects words based on their probabilities, introducing randomness.\n",
        "generation_config.do_sample = True\n",
        "\n",
        "# Set the repetition penalty. A value of 1.15 discourages the model from repeating the same words or phrases too frequently in the output.\n",
        "generation_config.repetition_penalty = 1.15\n",
        "\n",
        "\n",
        "# Create a text generation pipeline using the initialized model, tokenizer, and generation configuration\n",
        "text_pipeline = pipeline(\n",
        "    \"text-generation\",\n",
        "    model=model,\n",
        "    tokenizer=tokenizer,\n",
        "    generation_config=generation_config\n",
        ")\n"
      ]
    },
    {
      "cell_type": "code",
      "execution_count": 74,
      "metadata": {
        "id": "DAlRurODWZVF"
      },
      "outputs": [],
      "source": [
        "#Creating 16 prompts for the model to generate text from based on the last 16 rows in the data\n",
        "\n",
        "prompts = []\n",
        "\n",
        "def get_quarter(date):\n",
        "    return pd.Timestamp(date).to_period('Q')\n",
        "\n",
        "for i in range(16):\n",
        "    prompt = (\"Your task is to provide a GDP forecast for Denmark in the quarter \" + str(get_quarter(data['Time'].iloc[-16+i])) + \" based solely on the following historical data from previous quarters:\"\n",
        "              + str(data.iloc[-20-i]['Time'].date()) + \": GDP; \" + str(data.iloc[-20-i]['gdp']) + \", Consumer Q1; \" + \"{:.2f}\".format(data.iloc[-20-i]['cons_Q1']) + \", Consumer Q2; \" + \"{:.2f}\".format(data.iloc[-20-i]['cons_Q2']) + \", Consumer Q3; \" + \"{:.2f}\".format(data.iloc[-20-i]['cons_Q3']) + \", Consumer Q4; \" + \"{:.2f}\".format(data.iloc[-20-i]['cons_Q4']) + \", Consumer Q5; \" + \"{:.2f}\".format(data.iloc[-20-i]['cons_Q5']) + \", Consumer Q6; \" + \"{:.2f}\".format(data.iloc[-20-i]['cons_Q6']) + \", Consumer Q7; \" + \"{:.2f}\".format(data.iloc[-20-i]['cons_Q7']) + \", Consumer Q8; \" + \"{:.2f}\".format(data.iloc[-20-i]['cons_Q8']) + \", Consumer Q9; \" + \"{:.2f}\".format(data.iloc[-20-i]['cons_Q9']) + \", Consumer Q10; \" + \"{:.2f}\".format(data.iloc[-20-i]['cons_Q10']) + \", Consumer Q11; \" + \"{:.2f}\".format(data.iloc[-20-i]['cons_Q11']) + \", Consumer Q12; \" + \"{:.2f}\".format(data.iloc[-20-i]['cons_Q12']) + \", Industry Q1; \" + \"{:.2f}\".format(data.iloc[-20-i]['indu_Q1']) + \", Industry Q2; \" + \"{:.2f}\".format(data.iloc[-20-i]['indu_Q2']) + \", Industry Q3; \" + \"{:.2f}\".format(data.iloc[-20-i]['indu_Q3']) + \", Industry Q4; \" + \"{:.2f}\".format(data.iloc[-20-i]['indu_Q4']) + \", Industry Q5; \" + \"{:.2f}\".format(data.iloc[-20-i]['indu_Q5']) + \", Industry Q6; \" + \"{:.2f}\".format(data.iloc[-20-i]['indu_Q6']) + \", \\n\\n\"\n",
        "              + str(data.iloc[-19-i]['Time'].date()) + \": GDP; \" + str(data.iloc[-19-i]['gdp']) + \", Consumer Q1; \" + \"{:.2f}\".format(data.iloc[-19-i]['cons_Q1']) + \", Consumer Q2; \" + \"{:.2f}\".format(data.iloc[-19-i]['cons_Q2']) + \", Consumer Q3; \" + \"{:.2f}\".format(data.iloc[-19-i]['cons_Q3']) + \", Consumer Q4; \" + \"{:.2f}\".format(data.iloc[-19-i]['cons_Q4']) + \", Consumer Q5; \" + \"{:.2f}\".format(data.iloc[-19-i]['cons_Q5']) + \", Consumer Q6; \" + \"{:.2f}\".format(data.iloc[-19-i]['cons_Q6']) + \", Consumer Q7; \" + \"{:.2f}\".format(data.iloc[-19-i]['cons_Q7']) + \", Consumer Q8; \" + \"{:.2f}\".format(data.iloc[-19-i]['cons_Q8']) + \", Consumer Q9; \" + \"{:.2f}\".format(data.iloc[-19-i]['cons_Q9']) + \", Consumer Q10; \" + \"{:.2f}\".format(data.iloc[-19-i]['cons_Q10']) + \", Consumer Q11; \" + \"{:.2f}\".format(data.iloc[-19-i]['cons_Q11']) + \", Consumer Q12; \" + \"{:.2f}\".format(data.iloc[-19-i]['cons_Q12']) + \", Industry Q1; \" + \"{:.2f}\".format(data.iloc[-19-i]['indu_Q1']) + \", Industry Q2; \" + \"{:.2f}\".format(data.iloc[-19-i]['indu_Q2']) + \", Industry Q3; \" + \"{:.2f}\".format(data.iloc[-19-i]['indu_Q3']) + \", Industry Q4; \" + \"{:.2f}\".format(data.iloc[-19-i]['indu_Q4']) + \", Industry Q5; \" + \"{:.2f}\".format(data.iloc[-19-i]['indu_Q5']) + \", Industry Q6; \" + \"{:.2f}\".format(data.iloc[-19-i]['indu_Q6']) + \", \\n\\n\"\n",
        "              + str(data.iloc[-18-i]['Time'].date()) + \": GDP; \" + str(data.iloc[-18-i]['gdp']) + \", Consumer Q1; \" + \"{:.2f}\".format(data.iloc[-18-i]['cons_Q1']) + \", Consumer Q2; \" + \"{:.2f}\".format(data.iloc[-18-i]['cons_Q2']) + \", Consumer Q3; \" + \"{:.2f}\".format(data.iloc[-18-i]['cons_Q3']) + \", Consumer Q4; \" + \"{:.2f}\".format(data.iloc[-18-i]['cons_Q4']) + \", Consumer Q5; \" + \"{:.2f}\".format(data.iloc[-18-i]['cons_Q5']) + \", Consumer Q6; \" + \"{:.2f}\".format(data.iloc[-18-i]['cons_Q6']) + \", Consumer Q7; \" + \"{:.2f}\".format(data.iloc[-18-i]['cons_Q7']) + \", Consumer Q8; \" + \"{:.2f}\".format(data.iloc[-18-i]['cons_Q8']) + \", Consumer Q9; \" + \"{:.2f}\".format(data.iloc[-18-i]['cons_Q9']) + \", Consumer Q10; \" + \"{:.2f}\".format(data.iloc[-18-i]['cons_Q10']) + \", Consumer Q11; \" + \"{:.2f}\".format(data.iloc[-18-i]['cons_Q11']) + \", Consumer Q12; \" + \"{:.2f}\".format(data.iloc[-18-i]['cons_Q12']) + \", Industry Q1; \" + \"{:.2f}\".format(data.iloc[-18-i]['indu_Q1']) + \", Industry Q2; \" + \"{:.2f}\".format(data.iloc[-18-i]['indu_Q2']) + \", Industry Q3; \" + \"{:.2f}\".format(data.iloc[-18-i]['indu_Q3']) + \", Industry Q4; \" + \"{:.2f}\".format(data.iloc[-18-i]['indu_Q4']) + \", Industry Q5; \" + \"{:.2f}\".format(data.iloc[-18-i]['indu_Q5']) + \", Industry Q6; \" + \"{:.2f}\".format(data.iloc[-18-i]['indu_Q6']) + \", \\n\\n\"\n",
        "              + str(data.iloc[-17-i]['Time'].date()) + \": GDP; \" + str(data.iloc[-17-i]['gdp']) + \", Consumer Q1; \" + \"{:.2f}\".format(data.iloc[-17-i]['cons_Q1']) + \", Consumer Q2; \" + \"{:.2f}\".format(data.iloc[-17-i]['cons_Q2']) + \", Consumer Q3; \" + \"{:.2f}\".format(data.iloc[-17-i]['cons_Q3']) + \", Consumer Q4; \" + \"{:.2f}\".format(data.iloc[-17-i]['cons_Q4']) + \", Consumer Q5; \" + \"{:.2f}\".format(data.iloc[-17-i]['cons_Q5']) + \", Consumer Q6; \" + \"{:.2f}\".format(data.iloc[-17-i]['cons_Q6']) + \", Consumer Q7; \" + \"{:.2f}\".format(data.iloc[-17-i]['cons_Q7']) + \", Consumer Q8; \" + \"{:.2f}\".format(data.iloc[-17-i]['cons_Q8']) + \", Consumer Q9; \" + \"{:.2f}\".format(data.iloc[-17-i]['cons_Q9']) + \", Consumer Q10; \" + \"{:.2f}\".format(data.iloc[-17-i]['cons_Q10']) + \", Consumer Q11; \" + \"{:.2f}\".format(data.iloc[-17-i]['cons_Q11']) + \", Consumer Q12; \" + \"{:.2f}\".format(data.iloc[-17-i]['cons_Q12']) + \", Industry Q1; \" + \"{:.2f}\".format(data.iloc[-17-i]['indu_Q1']) + \", Industry Q2; \" + \"{:.2f}\".format(data.iloc[-17-i]['indu_Q2']) + \", Industry Q3; \" + \"{:.2f}\".format(data.iloc[-17-i]['indu_Q3']) + \", Industry Q4; \" + \"{:.2f}\".format(data.iloc[-17-i]['indu_Q4']) + \", Industry Q5; \" + \"{:.2f}\".format(data.iloc[-17-i]['indu_Q5']) + \", Industry Q6; \" + \"{:.2f}\".format(data.iloc[-17-i]['indu_Q6'])\n",
        "              )\n",
        "    prompt += \"\\n Please provide your forecast in the following format:\\n\"\n",
        "    prompt += \"In Quarter \" + str(get_quarter(data['Time'].iloc[-16+i])) + \", cons Q1 = \" + \"{:.2f}\".format(data['cons_Q1'].iloc[-16+i]) + \", cons Q2 = \" + \"{:.2f}\".format(data['cons_Q2'].iloc[-16+i]) + \", cons Q3 = \" + \"{:.2f}\".format(data['cons_Q3'].iloc[-16+i]) + \", cons Q4 = \" + \"{:.2f}\".format(data['cons_Q4'].iloc[-16+i]) + \", cons Q5 = \" + \"{:.2f}\".format(data['cons_Q5'].iloc[-16+i]) + \", cons Q6 = \" + \"{:.2f}\".format(data['cons_Q6'].iloc[-16+i]) + \", cons Q7 = \" + \"{:.2f}\".format(data['cons_Q7'].iloc[-16+i]) + \", cons Q8 = \" + \"{:.2f}\".format(data['cons_Q8'].iloc[-16+i]) + \", cons Q9 = \" + \"{:.2f}\".format(data['cons_Q9'].iloc[-16+i]) + \", cons Q10 = \" + \"{:.2f}\".format(data['cons_Q10'].iloc[-16+i]) + \", cons Q11 = \" + \"{:.2f}\".format(data['cons_Q11'].iloc[-16+i]) + \", cons Q12 = \" + \"{:.2f}\".format(data['cons_Q12'].iloc[-16+i]) + \", and indu Q1 = \" + \"{:.2f}\".format(data['indu_Q1'].iloc[-16+i]) + \", indu Q2 = \" + \"{:.2f}\".format(data['indu_Q2'].iloc[-16+i]) + \", indu Q3 = \" + \"{:.2f}\".format(data['indu_Q3'].iloc[-16+i]) + \", indu Q4 = \" + \"{:.2f}\".format(data['indu_Q4'].iloc[-16+i]) + \", indu Q5 = \" + \"{:.2f}\".format(data['indu_Q5'].iloc[-16+i])  + \", indu Q6 = \" + \"{:.2f}\".format(data['indu_Q6'].iloc[-16+i]) + \". GDP is therefore forecasted to be [Prediction] billion DKK.\"\n",
        "    prompt += \"\\n\\nNote: Your prediction should be based solely on the provided historical data and should not make any references to future events or circumstances beyond the timeframe covered by the data. Do not explain the process, only return the completed template.\"\n",
        "    prompts.append(prompt)"
      ]
    },
    {
      "cell_type": "code",
      "source": [
        "print(prompts)"
      ],
      "metadata": {
        "colab": {
          "base_uri": "https://localhost:8080/"
        },
        "id": "l694R6tvw-q8",
        "outputId": "8f60dda6-20b5-4511-95a6-85509a2e77de"
      },
      "execution_count": 75,
      "outputs": [
        {
          "output_type": "stream",
          "name": "stdout",
          "text": [
            "['Your task is to provide a GDP forecast for Denmark in the quarter 2016Q1 based solely on the following historical data from previous quarters:2015-01-01: GDP; 495.9, Consumer Q1; 6.03, Consumer Q2; 14.30, Consumer Q3; 15.33, Consumer Q4; 19.93, Consumer Q5; -17.73, Consumer Q6; 10.70, Consumer Q7; -11.57, Consumer Q8; -2.17, Consumer Q9; -3.07, Consumer Q10; 58.67, Consumer Q11; 26.43, Consumer Q12; 24.00, Industry Q1; -3.67, Industry Q2; -31.00, Industry Q3; -29.00, Industry Q4; 22.67, Industry Q5; 11.00, Industry Q6; 0.67, \\n\\n2015-04-01: GDP; 513.5, Consumer Q1; 5.13, Consumer Q2; 15.13, Consumer Q3; 20.13, Consumer Q4; 23.27, Consumer Q5; -8.43, Consumer Q6; 20.07, Consumer Q7; -15.23, Consumer Q8; -2.67, Consumer Q9; -3.37, Consumer Q10; 59.57, Consumer Q11; 28.07, Consumer Q12; 27.20, Industry Q1; 8.00, Industry Q2; -19.00, Industry Q3; -19.00, Industry Q4; 21.33, Industry Q5; 19.33, Industry Q6; 8.00, \\n\\n2015-07-01: GDP; 505.9, Consumer Q1; 5.80, Consumer Q2; 13.10, Consumer Q3; 15.47, Consumer Q4; 11.40, Consumer Q5; -11.03, Consumer Q6; 15.43, Consumer Q7; -10.80, Consumer Q8; -6.47, Consumer Q9; -3.57, Consumer Q10; 61.27, Consumer Q11; 29.27, Consumer Q12; 27.60, Industry Q1; 11.67, Industry Q2; -18.00, Industry Q3; -20.67, Industry Q4; 21.00, Industry Q5; 17.00, Industry Q6; 5.67, \\n\\n2015-10-01: GDP; 521.1, Consumer Q1; 5.33, Consumer Q2; 12.10, Consumer Q3; 9.80, Consumer Q4; 5.77, Consumer Q5; -13.43, Consumer Q6; 16.27, Consumer Q7; -5.13, Consumer Q8; -8.60, Consumer Q9; -4.77, Consumer Q10; 63.63, Consumer Q11; 27.63, Consumer Q12; 27.13, Industry Q1; 15.00, Industry Q2; -20.67, Industry Q3; -18.67, Industry Q4; 17.00, Industry Q5; 11.33, Industry Q6; -2.67\\n Please provide your forecast in the following format:\\nIn Quarter 2016Q1, cons Q1 = 4.73, cons Q2 = 11.63, cons Q3 = 8.50, cons Q4 = 1.03, cons Q5 = -18.37, cons Q6 = 12.80, cons Q7 = 0.17, cons Q8 = -5.60, cons Q9 = -5.20, cons Q10 = 63.27, cons Q11 = 28.87, cons Q12 = 25.67, and indu Q1 = 10.33, indu Q2 = -22.00, indu Q3 = -23.67, indu Q4 = 12.67, indu Q5 = 18.00, indu Q6 = 2.00. GDP is therefore forecasted to be [Prediction] billion DKK.\\n\\nNote: Your prediction should be based solely on the provided historical data and should not make any references to future events or circumstances beyond the timeframe covered by the data. Do not explain the process, only return the completed template.', 'Your task is to provide a GDP forecast for Denmark in the quarter 2016Q2 based solely on the following historical data from previous quarters:2014-10-01: GDP; 512.7, Consumer Q1; 4.40, Consumer Q2; 13.67, Consumer Q3; 11.50, Consumer Q4; 14.67, Consumer Q5; -5.43, Consumer Q6; 19.13, Consumer Q7; -3.63, Consumer Q8; -10.03, Consumer Q9; -4.47, Consumer Q10; 61.17, Consumer Q11; 26.40, Consumer Q12; 25.57, Industry Q1; 11.67, Industry Q2; -29.00, Industry Q3; -27.67, Industry Q4; 25.33, Industry Q5; -1.00, Industry Q6; -3.00, \\n\\n2015-01-01: GDP; 495.9, Consumer Q1; 6.03, Consumer Q2; 14.30, Consumer Q3; 15.33, Consumer Q4; 19.93, Consumer Q5; -17.73, Consumer Q6; 10.70, Consumer Q7; -11.57, Consumer Q8; -2.17, Consumer Q9; -3.07, Consumer Q10; 58.67, Consumer Q11; 26.43, Consumer Q12; 24.00, Industry Q1; -3.67, Industry Q2; -31.00, Industry Q3; -29.00, Industry Q4; 22.67, Industry Q5; 11.00, Industry Q6; 0.67, \\n\\n2015-04-01: GDP; 513.5, Consumer Q1; 5.13, Consumer Q2; 15.13, Consumer Q3; 20.13, Consumer Q4; 23.27, Consumer Q5; -8.43, Consumer Q6; 20.07, Consumer Q7; -15.23, Consumer Q8; -2.67, Consumer Q9; -3.37, Consumer Q10; 59.57, Consumer Q11; 28.07, Consumer Q12; 27.20, Industry Q1; 8.00, Industry Q2; -19.00, Industry Q3; -19.00, Industry Q4; 21.33, Industry Q5; 19.33, Industry Q6; 8.00, \\n\\n2015-07-01: GDP; 505.9, Consumer Q1; 5.80, Consumer Q2; 13.10, Consumer Q3; 15.47, Consumer Q4; 11.40, Consumer Q5; -11.03, Consumer Q6; 15.43, Consumer Q7; -10.80, Consumer Q8; -6.47, Consumer Q9; -3.57, Consumer Q10; 61.27, Consumer Q11; 29.27, Consumer Q12; 27.60, Industry Q1; 11.67, Industry Q2; -18.00, Industry Q3; -20.67, Industry Q4; 21.00, Industry Q5; 17.00, Industry Q6; 5.67\\n Please provide your forecast in the following format:\\nIn Quarter 2016Q2, cons Q1 = 5.87, cons Q2 = 12.53, cons Q3 = 5.97, cons Q4 = 3.43, cons Q5 = -13.17, cons Q6 = 15.67, cons Q7 = 0.60, cons Q8 = -5.87, cons Q9 = -3.10, cons Q10 = 61.23, cons Q11 = 28.20, cons Q12 = 27.57, and indu Q1 = 17.67, indu Q2 = -18.67, indu Q3 = -20.33, indu Q4 = 11.33, indu Q5 = 16.67, indu Q6 = 2.33. GDP is therefore forecasted to be [Prediction] billion DKK.\\n\\nNote: Your prediction should be based solely on the provided historical data and should not make any references to future events or circumstances beyond the timeframe covered by the data. Do not explain the process, only return the completed template.', 'Your task is to provide a GDP forecast for Denmark in the quarter 2016Q3 based solely on the following historical data from previous quarters:2014-07-01: GDP; 493.7, Consumer Q1; 3.30, Consumer Q2; 14.30, Consumer Q3; 15.37, Consumer Q4; 22.43, Consumer Q5; -3.53, Consumer Q6; 18.67, Consumer Q7; -13.67, Consumer Q8; -6.70, Consumer Q9; -3.73, Consumer Q10; 61.00, Consumer Q11; 24.90, Consumer Q12; 23.50, Industry Q1; 8.33, Industry Q2; -21.33, Industry Q3; -20.67, Industry Q4; 15.67, Industry Q5; 7.67, Industry Q6; 1.33, \\n\\n2014-10-01: GDP; 512.7, Consumer Q1; 4.40, Consumer Q2; 13.67, Consumer Q3; 11.50, Consumer Q4; 14.67, Consumer Q5; -5.43, Consumer Q6; 19.13, Consumer Q7; -3.63, Consumer Q8; -10.03, Consumer Q9; -4.47, Consumer Q10; 61.17, Consumer Q11; 26.40, Consumer Q12; 25.57, Industry Q1; 11.67, Industry Q2; -29.00, Industry Q3; -27.67, Industry Q4; 25.33, Industry Q5; -1.00, Industry Q6; -3.00, \\n\\n2015-01-01: GDP; 495.9, Consumer Q1; 6.03, Consumer Q2; 14.30, Consumer Q3; 15.33, Consumer Q4; 19.93, Consumer Q5; -17.73, Consumer Q6; 10.70, Consumer Q7; -11.57, Consumer Q8; -2.17, Consumer Q9; -3.07, Consumer Q10; 58.67, Consumer Q11; 26.43, Consumer Q12; 24.00, Industry Q1; -3.67, Industry Q2; -31.00, Industry Q3; -29.00, Industry Q4; 22.67, Industry Q5; 11.00, Industry Q6; 0.67, \\n\\n2015-04-01: GDP; 513.5, Consumer Q1; 5.13, Consumer Q2; 15.13, Consumer Q3; 20.13, Consumer Q4; 23.27, Consumer Q5; -8.43, Consumer Q6; 20.07, Consumer Q7; -15.23, Consumer Q8; -2.67, Consumer Q9; -3.37, Consumer Q10; 59.57, Consumer Q11; 28.07, Consumer Q12; 27.20, Industry Q1; 8.00, Industry Q2; -19.00, Industry Q3; -19.00, Industry Q4; 21.33, Industry Q5; 19.33, Industry Q6; 8.00\\n Please provide your forecast in the following format:\\nIn Quarter 2016Q3, cons Q1 = 5.50, cons Q2 = 11.00, cons Q3 = 4.90, cons Q4 = 0.13, cons Q5 = -15.20, cons Q6 = 13.50, cons Q7 = -1.27, cons Q8 = -5.40, cons Q9 = -3.60, cons Q10 = 59.23, cons Q11 = 27.30, cons Q12 = 27.13, and indu Q1 = 14.00, indu Q2 = -20.67, indu Q3 = -22.00, indu Q4 = 9.00, indu Q5 = 12.00, indu Q6 = 2.67. GDP is therefore forecasted to be [Prediction] billion DKK.\\n\\nNote: Your prediction should be based solely on the provided historical data and should not make any references to future events or circumstances beyond the timeframe covered by the data. Do not explain the process, only return the completed template.', 'Your task is to provide a GDP forecast for Denmark in the quarter 2016Q4 based solely on the following historical data from previous quarters:2014-04-01: GDP; 495.2, Consumer Q1; 1.03, Consumer Q2; 11.13, Consumer Q3; 11.70, Consumer Q4; 20.10, Consumer Q5; -1.03, Consumer Q6; 21.50, Consumer Q7; -12.13, Consumer Q8; -6.23, Consumer Q9; -4.93, Consumer Q10; 60.27, Consumer Q11; 28.07, Consumer Q12; 26.17, Industry Q1; 17.67, Industry Q2; -12.33, Industry Q3; -16.33, Industry Q4; 23.33, Industry Q5; 17.00, Industry Q6; 6.33, \\n\\n2014-07-01: GDP; 493.7, Consumer Q1; 3.30, Consumer Q2; 14.30, Consumer Q3; 15.37, Consumer Q4; 22.43, Consumer Q5; -3.53, Consumer Q6; 18.67, Consumer Q7; -13.67, Consumer Q8; -6.70, Consumer Q9; -3.73, Consumer Q10; 61.00, Consumer Q11; 24.90, Consumer Q12; 23.50, Industry Q1; 8.33, Industry Q2; -21.33, Industry Q3; -20.67, Industry Q4; 15.67, Industry Q5; 7.67, Industry Q6; 1.33, \\n\\n2014-10-01: GDP; 512.7, Consumer Q1; 4.40, Consumer Q2; 13.67, Consumer Q3; 11.50, Consumer Q4; 14.67, Consumer Q5; -5.43, Consumer Q6; 19.13, Consumer Q7; -3.63, Consumer Q8; -10.03, Consumer Q9; -4.47, Consumer Q10; 61.17, Consumer Q11; 26.40, Consumer Q12; 25.57, Industry Q1; 11.67, Industry Q2; -29.00, Industry Q3; -27.67, Industry Q4; 25.33, Industry Q5; -1.00, Industry Q6; -3.00, \\n\\n2015-01-01: GDP; 495.9, Consumer Q1; 6.03, Consumer Q2; 14.30, Consumer Q3; 15.33, Consumer Q4; 19.93, Consumer Q5; -17.73, Consumer Q6; 10.70, Consumer Q7; -11.57, Consumer Q8; -2.17, Consumer Q9; -3.07, Consumer Q10; 58.67, Consumer Q11; 26.43, Consumer Q12; 24.00, Industry Q1; -3.67, Industry Q2; -31.00, Industry Q3; -29.00, Industry Q4; 22.67, Industry Q5; 11.00, Industry Q6; 0.67\\n Please provide your forecast in the following format:\\nIn Quarter 2016Q4, cons Q1 = 2.63, cons Q2 = 10.63, cons Q3 = 1.13, cons Q4 = -3.50, cons Q5 = -15.20, cons Q6 = 13.93, cons Q7 = 2.63, cons Q8 = -7.90, cons Q9 = -7.33, cons Q10 = 59.60, cons Q11 = 27.40, cons Q12 = 22.23, and indu Q1 = 4.33, indu Q2 = -23.33, indu Q3 = -24.33, indu Q4 = 9.67, indu Q5 = 7.67, indu Q6 = -4.67. GDP is therefore forecasted to be [Prediction] billion DKK.\\n\\nNote: Your prediction should be based solely on the provided historical data and should not make any references to future events or circumstances beyond the timeframe covered by the data. Do not explain the process, only return the completed template.', 'Your task is to provide a GDP forecast for Denmark in the quarter 2017Q1 based solely on the following historical data from previous quarters:2014-01-01: GDP; 479.6, Consumer Q1; -0.83, Consumer Q2; 10.17, Consumer Q3; 7.90, Consumer Q4; 17.43, Consumer Q5; -2.27, Consumer Q6; 17.37, Consumer Q7; -7.67, Consumer Q8; -8.73, Consumer Q9; -5.90, Consumer Q10; 63.97, Consumer Q11; 25.50, Consumer Q12; 26.10, Industry Q1; -0.33, Industry Q2; -5.33, Industry Q3; -7.33, Industry Q4; 8.67, Industry Q5; 19.00, Industry Q6; 3.33, \\n\\n2014-04-01: GDP; 495.2, Consumer Q1; 1.03, Consumer Q2; 11.13, Consumer Q3; 11.70, Consumer Q4; 20.10, Consumer Q5; -1.03, Consumer Q6; 21.50, Consumer Q7; -12.13, Consumer Q8; -6.23, Consumer Q9; -4.93, Consumer Q10; 60.27, Consumer Q11; 28.07, Consumer Q12; 26.17, Industry Q1; 17.67, Industry Q2; -12.33, Industry Q3; -16.33, Industry Q4; 23.33, Industry Q5; 17.00, Industry Q6; 6.33, \\n\\n2014-07-01: GDP; 493.7, Consumer Q1; 3.30, Consumer Q2; 14.30, Consumer Q3; 15.37, Consumer Q4; 22.43, Consumer Q5; -3.53, Consumer Q6; 18.67, Consumer Q7; -13.67, Consumer Q8; -6.70, Consumer Q9; -3.73, Consumer Q10; 61.00, Consumer Q11; 24.90, Consumer Q12; 23.50, Industry Q1; 8.33, Industry Q2; -21.33, Industry Q3; -20.67, Industry Q4; 15.67, Industry Q5; 7.67, Industry Q6; 1.33, \\n\\n2014-10-01: GDP; 512.7, Consumer Q1; 4.40, Consumer Q2; 13.67, Consumer Q3; 11.50, Consumer Q4; 14.67, Consumer Q5; -5.43, Consumer Q6; 19.13, Consumer Q7; -3.63, Consumer Q8; -10.03, Consumer Q9; -4.47, Consumer Q10; 61.17, Consumer Q11; 26.40, Consumer Q12; 25.57, Industry Q1; 11.67, Industry Q2; -29.00, Industry Q3; -27.67, Industry Q4; 25.33, Industry Q5; -1.00, Industry Q6; -3.00\\n Please provide your forecast in the following format:\\nIn Quarter 2017Q1, cons Q1 = 4.53, cons Q2 = 13.73, cons Q3 = 7.63, cons Q4 = 4.83, cons Q5 = -12.77, cons Q6 = 18.33, cons Q7 = -7.67, cons Q8 = -5.03, cons Q9 = -2.50, cons Q10 = 57.17, cons Q11 = 27.37, cons Q12 = 25.23, and indu Q1 = 17.67, indu Q2 = -16.00, indu Q3 = -17.33, indu Q4 = 10.33, indu Q5 = 22.33, indu Q6 = 13.00. GDP is therefore forecasted to be [Prediction] billion DKK.\\n\\nNote: Your prediction should be based solely on the provided historical data and should not make any references to future events or circumstances beyond the timeframe covered by the data. Do not explain the process, only return the completed template.', 'Your task is to provide a GDP forecast for Denmark in the quarter 2017Q2 based solely on the following historical data from previous quarters:2013-10-01: GDP; 495.7, Consumer Q1; -1.13, Consumer Q2; 9.90, Consumer Q3; 5.93, Consumer Q4; 16.17, Consumer Q5; 4.23, Consumer Q6; 15.37, Consumer Q7; -6.07, Consumer Q8; -11.70, Consumer Q9; -5.20, Consumer Q10; 66.50, Consumer Q11; 23.23, Consumer Q12; 22.93, Industry Q1; 14.33, Industry Q2; -12.67, Industry Q3; -15.33, Industry Q4; 15.33, Industry Q5; 13.33, Industry Q6; 6.00, \\n\\n2014-01-01: GDP; 479.6, Consumer Q1; -0.83, Consumer Q2; 10.17, Consumer Q3; 7.90, Consumer Q4; 17.43, Consumer Q5; -2.27, Consumer Q6; 17.37, Consumer Q7; -7.67, Consumer Q8; -8.73, Consumer Q9; -5.90, Consumer Q10; 63.97, Consumer Q11; 25.50, Consumer Q12; 26.10, Industry Q1; -0.33, Industry Q2; -5.33, Industry Q3; -7.33, Industry Q4; 8.67, Industry Q5; 19.00, Industry Q6; 3.33, \\n\\n2014-04-01: GDP; 495.2, Consumer Q1; 1.03, Consumer Q2; 11.13, Consumer Q3; 11.70, Consumer Q4; 20.10, Consumer Q5; -1.03, Consumer Q6; 21.50, Consumer Q7; -12.13, Consumer Q8; -6.23, Consumer Q9; -4.93, Consumer Q10; 60.27, Consumer Q11; 28.07, Consumer Q12; 26.17, Industry Q1; 17.67, Industry Q2; -12.33, Industry Q3; -16.33, Industry Q4; 23.33, Industry Q5; 17.00, Industry Q6; 6.33, \\n\\n2014-07-01: GDP; 493.7, Consumer Q1; 3.30, Consumer Q2; 14.30, Consumer Q3; 15.37, Consumer Q4; 22.43, Consumer Q5; -3.53, Consumer Q6; 18.67, Consumer Q7; -13.67, Consumer Q8; -6.70, Consumer Q9; -3.73, Consumer Q10; 61.00, Consumer Q11; 24.90, Consumer Q12; 23.50, Industry Q1; 8.33, Industry Q2; -21.33, Industry Q3; -20.67, Industry Q4; 15.67, Industry Q5; 7.67, Industry Q6; 1.33\\n Please provide your forecast in the following format:\\nIn Quarter 2017Q2, cons Q1 = 4.80, cons Q2 = 13.07, cons Q3 = 12.67, cons Q4 = 10.33, cons Q5 = -9.90, cons Q6 = 21.00, cons Q7 = -8.63, cons Q8 = -6.90, cons Q9 = -2.97, cons Q10 = 57.10, cons Q11 = 30.23, cons Q12 = 29.37, and indu Q1 = 23.00, indu Q2 = -9.00, indu Q3 = -12.00, indu Q4 = 8.33, indu Q5 = 18.00, indu Q6 = 18.67. GDP is therefore forecasted to be [Prediction] billion DKK.\\n\\nNote: Your prediction should be based solely on the provided historical data and should not make any references to future events or circumstances beyond the timeframe covered by the data. Do not explain the process, only return the completed template.', 'Your task is to provide a GDP forecast for Denmark in the quarter 2017Q3 based solely on the following historical data from previous quarters:2013-07-01: GDP; 482.2, Consumer Q1; -0.37, Consumer Q2; 10.53, Consumer Q3; 4.73, Consumer Q4; 16.27, Consumer Q5; 6.83, Consumer Q6; 14.13, Consumer Q7; -6.00, Consumer Q8; -7.23, Consumer Q9; -5.87, Consumer Q10; 66.00, Consumer Q11; 28.30, Consumer Q12; 25.80, Industry Q1; 9.67, Industry Q2; -21.00, Industry Q3; -18.00, Industry Q4; 14.33, Industry Q5; 15.67, Industry Q6; 4.33, \\n\\n2013-10-01: GDP; 495.7, Consumer Q1; -1.13, Consumer Q2; 9.90, Consumer Q3; 5.93, Consumer Q4; 16.17, Consumer Q5; 4.23, Consumer Q6; 15.37, Consumer Q7; -6.07, Consumer Q8; -11.70, Consumer Q9; -5.20, Consumer Q10; 66.50, Consumer Q11; 23.23, Consumer Q12; 22.93, Industry Q1; 14.33, Industry Q2; -12.67, Industry Q3; -15.33, Industry Q4; 15.33, Industry Q5; 13.33, Industry Q6; 6.00, \\n\\n2014-01-01: GDP; 479.6, Consumer Q1; -0.83, Consumer Q2; 10.17, Consumer Q3; 7.90, Consumer Q4; 17.43, Consumer Q5; -2.27, Consumer Q6; 17.37, Consumer Q7; -7.67, Consumer Q8; -8.73, Consumer Q9; -5.90, Consumer Q10; 63.97, Consumer Q11; 25.50, Consumer Q12; 26.10, Industry Q1; -0.33, Industry Q2; -5.33, Industry Q3; -7.33, Industry Q4; 8.67, Industry Q5; 19.00, Industry Q6; 3.33, \\n\\n2014-04-01: GDP; 495.2, Consumer Q1; 1.03, Consumer Q2; 11.13, Consumer Q3; 11.70, Consumer Q4; 20.10, Consumer Q5; -1.03, Consumer Q6; 21.50, Consumer Q7; -12.13, Consumer Q8; -6.23, Consumer Q9; -4.93, Consumer Q10; 60.27, Consumer Q11; 28.07, Consumer Q12; 26.17, Industry Q1; 17.67, Industry Q2; -12.33, Industry Q3; -16.33, Industry Q4; 23.33, Industry Q5; 17.00, Industry Q6; 6.33\\n Please provide your forecast in the following format:\\nIn Quarter 2017Q3, cons Q1 = 7.07, cons Q2 = 14.50, cons Q3 = 15.20, cons Q4 = 11.93, cons Q5 = -8.57, cons Q6 = 18.67, cons Q7 = -9.97, cons Q8 = -6.37, cons Q9 = -4.50, cons Q10 = 59.63, cons Q11 = 28.63, cons Q12 = 26.73, and indu Q1 = 21.33, indu Q2 = -7.00, indu Q3 = -10.33, indu Q4 = 6.33, indu Q5 = 19.00, indu Q6 = 19.33. GDP is therefore forecasted to be [Prediction] billion DKK.\\n\\nNote: Your prediction should be based solely on the provided historical data and should not make any references to future events or circumstances beyond the timeframe covered by the data. Do not explain the process, only return the completed template.', 'Your task is to provide a GDP forecast for Denmark in the quarter 2017Q4 based solely on the following historical data from previous quarters:2013-04-01: GDP; 487.5, Consumer Q1; -1.77, Consumer Q2; 9.73, Consumer Q3; -6.33, Consumer Q4; 8.67, Consumer Q5; 7.20, Consumer Q6; 10.07, Consumer Q7; 2.77, Consumer Q8; -13.67, Consumer Q9; -4.90, Consumer Q10; 63.67, Consumer Q11; 23.20, Consumer Q12; 24.13, Industry Q1; 2.00, Industry Q2; -23.00, Industry Q3; -23.00, Industry Q4; 14.33, Industry Q5; 7.67, Industry Q6; 0.00, \\n\\n2013-07-01: GDP; 482.2, Consumer Q1; -0.37, Consumer Q2; 10.53, Consumer Q3; 4.73, Consumer Q4; 16.27, Consumer Q5; 6.83, Consumer Q6; 14.13, Consumer Q7; -6.00, Consumer Q8; -7.23, Consumer Q9; -5.87, Consumer Q10; 66.00, Consumer Q11; 28.30, Consumer Q12; 25.80, Industry Q1; 9.67, Industry Q2; -21.00, Industry Q3; -18.00, Industry Q4; 14.33, Industry Q5; 15.67, Industry Q6; 4.33, \\n\\n2013-10-01: GDP; 495.7, Consumer Q1; -1.13, Consumer Q2; 9.90, Consumer Q3; 5.93, Consumer Q4; 16.17, Consumer Q5; 4.23, Consumer Q6; 15.37, Consumer Q7; -6.07, Consumer Q8; -11.70, Consumer Q9; -5.20, Consumer Q10; 66.50, Consumer Q11; 23.23, Consumer Q12; 22.93, Industry Q1; 14.33, Industry Q2; -12.67, Industry Q3; -15.33, Industry Q4; 15.33, Industry Q5; 13.33, Industry Q6; 6.00, \\n\\n2014-01-01: GDP; 479.6, Consumer Q1; -0.83, Consumer Q2; 10.17, Consumer Q3; 7.90, Consumer Q4; 17.43, Consumer Q5; -2.27, Consumer Q6; 17.37, Consumer Q7; -7.67, Consumer Q8; -8.73, Consumer Q9; -5.90, Consumer Q10; 63.97, Consumer Q11; 25.50, Consumer Q12; 26.10, Industry Q1; -0.33, Industry Q2; -5.33, Industry Q3; -7.33, Industry Q4; 8.67, Industry Q5; 19.00, Industry Q6; 3.33\\n Please provide your forecast in the following format:\\nIn Quarter 2017Q4, cons Q1 = 7.30, cons Q2 = 13.83, cons Q3 = 13.83, cons Q4 = 7.93, cons Q5 = -4.73, cons Q6 = 22.73, cons Q7 = -9.20, cons Q8 = -7.60, cons Q9 = -1.37, cons Q10 = 56.17, cons Q11 = 26.80, cons Q12 = 26.90, and indu Q1 = 23.33, indu Q2 = -8.33, indu Q3 = -10.00, indu Q4 = 7.33, indu Q5 = 17.33, indu Q6 = 9.33. GDP is therefore forecasted to be [Prediction] billion DKK.\\n\\nNote: Your prediction should be based solely on the provided historical data and should not make any references to future events or circumstances beyond the timeframe covered by the data. Do not explain the process, only return the completed template.', 'Your task is to provide a GDP forecast for Denmark in the quarter 2018Q1 based solely on the following historical data from previous quarters:2013-01-01: GDP; 464.3, Consumer Q1; -2.50, Consumer Q2; 8.60, Consumer Q3; -10.90, Consumer Q4; 5.37, Consumer Q5; 12.60, Consumer Q6; 10.77, Consumer Q7; 13.67, Consumer Q8; -11.70, Consumer Q9; -7.60, Consumer Q10; 63.63, Consumer Q11; 21.03, Consumer Q12; 24.13, Industry Q1; -12.67, Industry Q2; -18.00, Industry Q3; -17.00, Industry Q4; -1.33, Industry Q5; 2.33, Industry Q6; -6.33, \\n\\n2013-04-01: GDP; 487.5, Consumer Q1; -1.77, Consumer Q2; 9.73, Consumer Q3; -6.33, Consumer Q4; 8.67, Consumer Q5; 7.20, Consumer Q6; 10.07, Consumer Q7; 2.77, Consumer Q8; -13.67, Consumer Q9; -4.90, Consumer Q10; 63.67, Consumer Q11; 23.20, Consumer Q12; 24.13, Industry Q1; 2.00, Industry Q2; -23.00, Industry Q3; -23.00, Industry Q4; 14.33, Industry Q5; 7.67, Industry Q6; 0.00, \\n\\n2013-07-01: GDP; 482.2, Consumer Q1; -0.37, Consumer Q2; 10.53, Consumer Q3; 4.73, Consumer Q4; 16.27, Consumer Q5; 6.83, Consumer Q6; 14.13, Consumer Q7; -6.00, Consumer Q8; -7.23, Consumer Q9; -5.87, Consumer Q10; 66.00, Consumer Q11; 28.30, Consumer Q12; 25.80, Industry Q1; 9.67, Industry Q2; -21.00, Industry Q3; -18.00, Industry Q4; 14.33, Industry Q5; 15.67, Industry Q6; 4.33, \\n\\n2013-10-01: GDP; 495.7, Consumer Q1; -1.13, Consumer Q2; 9.90, Consumer Q3; 5.93, Consumer Q4; 16.17, Consumer Q5; 4.23, Consumer Q6; 15.37, Consumer Q7; -6.07, Consumer Q8; -11.70, Consumer Q9; -5.20, Consumer Q10; 66.50, Consumer Q11; 23.23, Consumer Q12; 22.93, Industry Q1; 14.33, Industry Q2; -12.67, Industry Q3; -15.33, Industry Q4; 15.33, Industry Q5; 13.33, Industry Q6; 6.00\\n Please provide your forecast in the following format:\\nIn Quarter 2018Q1, cons Q1 = 6.20, cons Q2 = 15.30, cons Q3 = 17.10, cons Q4 = 9.87, cons Q5 = -5.43, cons Q6 = 20.53, cons Q7 = -10.60, cons Q8 = -6.47, cons Q9 = -1.07, cons Q10 = 57.03, cons Q11 = 28.07, cons Q12 = 26.57, and indu Q1 = 15.00, indu Q2 = -11.67, indu Q3 = -12.33, indu Q4 = 7.33, indu Q5 = 16.00, indu Q6 = 7.33. GDP is therefore forecasted to be [Prediction] billion DKK.\\n\\nNote: Your prediction should be based solely on the provided historical data and should not make any references to future events or circumstances beyond the timeframe covered by the data. Do not explain the process, only return the completed template.', 'Your task is to provide a GDP forecast for Denmark in the quarter 2018Q2 based solely on the following historical data from previous quarters:2012-10-01: GDP; 485.6, Consumer Q1; -4.33, Consumer Q2; 8.27, Consumer Q3; -14.53, Consumer Q4; 3.07, Consumer Q5; 26.80, Consumer Q6; 14.20, Consumer Q7; 16.17, Consumer Q8; -11.63, Consumer Q9; -7.20, Consumer Q10; 64.07, Consumer Q11; 23.37, Consumer Q12; 23.97, Industry Q1; 0.33, Industry Q2; -27.33, Industry Q3; -26.33, Industry Q4; 8.00, Industry Q5; -5.33, Industry Q6; -16.33, \\n\\n2013-01-01: GDP; 464.3, Consumer Q1; -2.50, Consumer Q2; 8.60, Consumer Q3; -10.90, Consumer Q4; 5.37, Consumer Q5; 12.60, Consumer Q6; 10.77, Consumer Q7; 13.67, Consumer Q8; -11.70, Consumer Q9; -7.60, Consumer Q10; 63.63, Consumer Q11; 21.03, Consumer Q12; 24.13, Industry Q1; -12.67, Industry Q2; -18.00, Industry Q3; -17.00, Industry Q4; -1.33, Industry Q5; 2.33, Industry Q6; -6.33, \\n\\n2013-04-01: GDP; 487.5, Consumer Q1; -1.77, Consumer Q2; 9.73, Consumer Q3; -6.33, Consumer Q4; 8.67, Consumer Q5; 7.20, Consumer Q6; 10.07, Consumer Q7; 2.77, Consumer Q8; -13.67, Consumer Q9; -4.90, Consumer Q10; 63.67, Consumer Q11; 23.20, Consumer Q12; 24.13, Industry Q1; 2.00, Industry Q2; -23.00, Industry Q3; -23.00, Industry Q4; 14.33, Industry Q5; 7.67, Industry Q6; 0.00, \\n\\n2013-07-01: GDP; 482.2, Consumer Q1; -0.37, Consumer Q2; 10.53, Consumer Q3; 4.73, Consumer Q4; 16.27, Consumer Q5; 6.83, Consumer Q6; 14.13, Consumer Q7; -6.00, Consumer Q8; -7.23, Consumer Q9; -5.87, Consumer Q10; 66.00, Consumer Q11; 28.30, Consumer Q12; 25.80, Industry Q1; 9.67, Industry Q2; -21.00, Industry Q3; -18.00, Industry Q4; 14.33, Industry Q5; 15.67, Industry Q6; 4.33\\n Please provide your forecast in the following format:\\nIn Quarter 2018Q2, cons Q1 = 6.17, cons Q2 = 13.27, cons Q3 = 19.57, cons Q4 = 11.90, cons Q5 = -6.47, cons Q6 = 24.10, cons Q7 = -10.23, cons Q8 = -6.00, cons Q9 = -3.17, cons Q10 = 59.07, cons Q11 = 28.03, cons Q12 = 28.73, and indu Q1 = 23.33, indu Q2 = -8.00, indu Q3 = -11.67, indu Q4 = 6.67, indu Q5 = 25.00, indu Q6 = 16.67. GDP is therefore forecasted to be [Prediction] billion DKK.\\n\\nNote: Your prediction should be based solely on the provided historical data and should not make any references to future events or circumstances beyond the timeframe covered by the data. Do not explain the process, only return the completed template.', 'Your task is to provide a GDP forecast for Denmark in the quarter 2018Q3 based solely on the following historical data from previous quarters:2012-07-01: GDP; 474.1, Consumer Q1; 0.27, Consumer Q2; 7.73, Consumer Q3; -10.60, Consumer Q4; 5.63, Consumer Q5; 27.13, Consumer Q6; 14.57, Consumer Q7; 8.97, Consumer Q8; -6.53, Consumer Q9; -6.33, Consumer Q10; 65.20, Consumer Q11; 25.03, Consumer Q12; 25.00, Industry Q1; 3.00, Industry Q2; -16.00, Industry Q3; -20.67, Industry Q4; 10.00, Industry Q5; 8.67, Industry Q6; -6.00, \\n\\n2012-10-01: GDP; 485.6, Consumer Q1; -4.33, Consumer Q2; 8.27, Consumer Q3; -14.53, Consumer Q4; 3.07, Consumer Q5; 26.80, Consumer Q6; 14.20, Consumer Q7; 16.17, Consumer Q8; -11.63, Consumer Q9; -7.20, Consumer Q10; 64.07, Consumer Q11; 23.37, Consumer Q12; 23.97, Industry Q1; 0.33, Industry Q2; -27.33, Industry Q3; -26.33, Industry Q4; 8.00, Industry Q5; -5.33, Industry Q6; -16.33, \\n\\n2013-01-01: GDP; 464.3, Consumer Q1; -2.50, Consumer Q2; 8.60, Consumer Q3; -10.90, Consumer Q4; 5.37, Consumer Q5; 12.60, Consumer Q6; 10.77, Consumer Q7; 13.67, Consumer Q8; -11.70, Consumer Q9; -7.60, Consumer Q10; 63.63, Consumer Q11; 21.03, Consumer Q12; 24.13, Industry Q1; -12.67, Industry Q2; -18.00, Industry Q3; -17.00, Industry Q4; -1.33, Industry Q5; 2.33, Industry Q6; -6.33, \\n\\n2013-04-01: GDP; 487.5, Consumer Q1; -1.77, Consumer Q2; 9.73, Consumer Q3; -6.33, Consumer Q4; 8.67, Consumer Q5; 7.20, Consumer Q6; 10.07, Consumer Q7; 2.77, Consumer Q8; -13.67, Consumer Q9; -4.90, Consumer Q10; 63.67, Consumer Q11; 23.20, Consumer Q12; 24.13, Industry Q1; 2.00, Industry Q2; -23.00, Industry Q3; -23.00, Industry Q4; 14.33, Industry Q5; 7.67, Industry Q6; 0.00\\n Please provide your forecast in the following format:\\nIn Quarter 2018Q3, cons Q1 = 7.50, cons Q2 = 14.50, cons Q3 = 15.63, cons Q4 = 8.00, cons Q5 = -5.80, cons Q6 = 27.03, cons Q7 = -9.60, cons Q8 = -5.03, cons Q9 = -2.50, cons Q10 = 61.67, cons Q11 = 31.07, cons Q12 = 28.60, and indu Q1 = 25.00, indu Q2 = -9.67, indu Q3 = -11.67, indu Q4 = 5.67, indu Q5 = 22.00, indu Q6 = 6.00. GDP is therefore forecasted to be [Prediction] billion DKK.\\n\\nNote: Your prediction should be based solely on the provided historical data and should not make any references to future events or circumstances beyond the timeframe covered by the data. Do not explain the process, only return the completed template.', 'Your task is to provide a GDP forecast for Denmark in the quarter 2018Q4 based solely on the following historical data from previous quarters:2012-04-01: GDP; 477.7, Consumer Q1; -3.60, Consumer Q2; 7.87, Consumer Q3; -6.97, Consumer Q4; 8.77, Consumer Q5; 27.90, Consumer Q6; 15.80, Consumer Q7; 1.40, Consumer Q8; -10.03, Consumer Q9; -6.63, Consumer Q10; 66.53, Consumer Q11; 23.00, Consumer Q12; 25.90, Industry Q1; 16.33, Industry Q2; -18.00, Industry Q3; -16.00, Industry Q4; 10.67, Industry Q5; 9.00, Industry Q6; 1.00, \\n\\n2012-07-01: GDP; 474.1, Consumer Q1; 0.27, Consumer Q2; 7.73, Consumer Q3; -10.60, Consumer Q4; 5.63, Consumer Q5; 27.13, Consumer Q6; 14.57, Consumer Q7; 8.97, Consumer Q8; -6.53, Consumer Q9; -6.33, Consumer Q10; 65.20, Consumer Q11; 25.03, Consumer Q12; 25.00, Industry Q1; 3.00, Industry Q2; -16.00, Industry Q3; -20.67, Industry Q4; 10.00, Industry Q5; 8.67, Industry Q6; -6.00, \\n\\n2012-10-01: GDP; 485.6, Consumer Q1; -4.33, Consumer Q2; 8.27, Consumer Q3; -14.53, Consumer Q4; 3.07, Consumer Q5; 26.80, Consumer Q6; 14.20, Consumer Q7; 16.17, Consumer Q8; -11.63, Consumer Q9; -7.20, Consumer Q10; 64.07, Consumer Q11; 23.37, Consumer Q12; 23.97, Industry Q1; 0.33, Industry Q2; -27.33, Industry Q3; -26.33, Industry Q4; 8.00, Industry Q5; -5.33, Industry Q6; -16.33, \\n\\n2013-01-01: GDP; 464.3, Consumer Q1; -2.50, Consumer Q2; 8.60, Consumer Q3; -10.90, Consumer Q4; 5.37, Consumer Q5; 12.60, Consumer Q6; 10.77, Consumer Q7; 13.67, Consumer Q8; -11.70, Consumer Q9; -7.60, Consumer Q10; 63.63, Consumer Q11; 21.03, Consumer Q12; 24.13, Industry Q1; -12.67, Industry Q2; -18.00, Industry Q3; -17.00, Industry Q4; -1.33, Industry Q5; 2.33, Industry Q6; -6.33\\n Please provide your forecast in the following format:\\nIn Quarter 2018Q4, cons Q1 = 5.27, cons Q2 = 11.63, cons Q3 = 8.63, cons Q4 = 2.83, cons Q5 = -5.80, cons Q6 = 25.33, cons Q7 = -5.93, cons Q8 = -7.77, cons Q9 = -5.73, cons Q10 = 59.00, cons Q11 = 29.10, cons Q12 = 26.70, and indu Q1 = 17.33, indu Q2 = -18.00, indu Q3 = -19.33, indu Q4 = 13.00, indu Q5 = 16.67, indu Q6 = 3.33. GDP is therefore forecasted to be [Prediction] billion DKK.\\n\\nNote: Your prediction should be based solely on the provided historical data and should not make any references to future events or circumstances beyond the timeframe covered by the data. Do not explain the process, only return the completed template.', 'Your task is to provide a GDP forecast for Denmark in the quarter 2019Q1 based solely on the following historical data from previous quarters:2012-01-01: GDP; 457.6, Consumer Q1; -3.73, Consumer Q2; 8.07, Consumer Q3; -18.40, Consumer Q4; 2.40, Consumer Q5; 27.03, Consumer Q6; 16.80, Consumer Q7; 11.90, Consumer Q8; -8.70, Consumer Q9; -8.40, Consumer Q10; 65.63, Consumer Q11; 23.40, Consumer Q12; 22.70, Industry Q1; 6.67, Industry Q2; -15.00, Industry Q3; -14.33, Industry Q4; 8.33, Industry Q5; 11.67, Industry Q6; 3.00, \\n\\n2012-04-01: GDP; 477.7, Consumer Q1; -3.60, Consumer Q2; 7.87, Consumer Q3; -6.97, Consumer Q4; 8.77, Consumer Q5; 27.90, Consumer Q6; 15.80, Consumer Q7; 1.40, Consumer Q8; -10.03, Consumer Q9; -6.63, Consumer Q10; 66.53, Consumer Q11; 23.00, Consumer Q12; 25.90, Industry Q1; 16.33, Industry Q2; -18.00, Industry Q3; -16.00, Industry Q4; 10.67, Industry Q5; 9.00, Industry Q6; 1.00, \\n\\n2012-07-01: GDP; 474.1, Consumer Q1; 0.27, Consumer Q2; 7.73, Consumer Q3; -10.60, Consumer Q4; 5.63, Consumer Q5; 27.13, Consumer Q6; 14.57, Consumer Q7; 8.97, Consumer Q8; -6.53, Consumer Q9; -6.33, Consumer Q10; 65.20, Consumer Q11; 25.03, Consumer Q12; 25.00, Industry Q1; 3.00, Industry Q2; -16.00, Industry Q3; -20.67, Industry Q4; 10.00, Industry Q5; 8.67, Industry Q6; -6.00, \\n\\n2012-10-01: GDP; 485.6, Consumer Q1; -4.33, Consumer Q2; 8.27, Consumer Q3; -14.53, Consumer Q4; 3.07, Consumer Q5; 26.80, Consumer Q6; 14.20, Consumer Q7; 16.17, Consumer Q8; -11.63, Consumer Q9; -7.20, Consumer Q10; 64.07, Consumer Q11; 23.37, Consumer Q12; 23.97, Industry Q1; 0.33, Industry Q2; -27.33, Industry Q3; -26.33, Industry Q4; 8.00, Industry Q5; -5.33, Industry Q6; -16.33\\n Please provide your forecast in the following format:\\nIn Quarter 2019Q1, cons Q1 = 5.57, cons Q2 = 12.80, cons Q3 = 6.37, cons Q4 = -0.13, cons Q5 = -7.30, cons Q6 = 21.07, cons Q7 = -2.00, cons Q8 = -6.37, cons Q9 = -4.30, cons Q10 = 58.70, cons Q11 = 27.50, cons Q12 = 25.90, and indu Q1 = 10.67, indu Q2 = -17.00, indu Q3 = -14.67, indu Q4 = 16.33, indu Q5 = 20.00, indu Q6 = 15.33. GDP is therefore forecasted to be [Prediction] billion DKK.\\n\\nNote: Your prediction should be based solely on the provided historical data and should not make any references to future events or circumstances beyond the timeframe covered by the data. Do not explain the process, only return the completed template.', 'Your task is to provide a GDP forecast for Denmark in the quarter 2019Q2 based solely on the following historical data from previous quarters:2011-10-01: GDP; 474.0, Consumer Q1; -4.57, Consumer Q2; 4.43, Consumer Q3; -22.03, Consumer Q4; -9.57, Consumer Q5; 20.50, Consumer Q6; 25.50, Consumer Q7; 18.67, Consumer Q8; -11.00, Consumer Q9; -9.13, Consumer Q10; 63.63, Consumer Q11; 20.33, Consumer Q12; 23.63, Industry Q1; 9.33, Industry Q2; -22.00, Industry Q3; -22.33, Industry Q4; 7.33, Industry Q5; 1.33, Industry Q6; -6.67, \\n\\n2012-01-01: GDP; 457.6, Consumer Q1; -3.73, Consumer Q2; 8.07, Consumer Q3; -18.40, Consumer Q4; 2.40, Consumer Q5; 27.03, Consumer Q6; 16.80, Consumer Q7; 11.90, Consumer Q8; -8.70, Consumer Q9; -8.40, Consumer Q10; 65.63, Consumer Q11; 23.40, Consumer Q12; 22.70, Industry Q1; 6.67, Industry Q2; -15.00, Industry Q3; -14.33, Industry Q4; 8.33, Industry Q5; 11.67, Industry Q6; 3.00, \\n\\n2012-04-01: GDP; 477.7, Consumer Q1; -3.60, Consumer Q2; 7.87, Consumer Q3; -6.97, Consumer Q4; 8.77, Consumer Q5; 27.90, Consumer Q6; 15.80, Consumer Q7; 1.40, Consumer Q8; -10.03, Consumer Q9; -6.63, Consumer Q10; 66.53, Consumer Q11; 23.00, Consumer Q12; 25.90, Industry Q1; 16.33, Industry Q2; -18.00, Industry Q3; -16.00, Industry Q4; 10.67, Industry Q5; 9.00, Industry Q6; 1.00, \\n\\n2012-07-01: GDP; 474.1, Consumer Q1; 0.27, Consumer Q2; 7.73, Consumer Q3; -10.60, Consumer Q4; 5.63, Consumer Q5; 27.13, Consumer Q6; 14.57, Consumer Q7; 8.97, Consumer Q8; -6.53, Consumer Q9; -6.33, Consumer Q10; 65.20, Consumer Q11; 25.03, Consumer Q12; 25.00, Industry Q1; 3.00, Industry Q2; -16.00, Industry Q3; -20.67, Industry Q4; 10.00, Industry Q5; 8.67, Industry Q6; -6.00\\n Please provide your forecast in the following format:\\nIn Quarter 2019Q2, cons Q1 = 9.20, cons Q2 = 12.87, cons Q3 = 8.03, cons Q4 = 2.93, cons Q5 = -5.33, cons Q6 = 24.87, cons Q7 = -3.07, cons Q8 = -7.40, cons Q9 = -1.57, cons Q10 = 58.67, cons Q11 = 30.43, cons Q12 = 28.70, and indu Q1 = 9.00, indu Q2 = -10.67, indu Q3 = -9.33, indu Q4 = 12.33, indu Q5 = 13.33, indu Q6 = 10.33. GDP is therefore forecasted to be [Prediction] billion DKK.\\n\\nNote: Your prediction should be based solely on the provided historical data and should not make any references to future events or circumstances beyond the timeframe covered by the data. Do not explain the process, only return the completed template.', 'Your task is to provide a GDP forecast for Denmark in the quarter 2019Q3 based solely on the following historical data from previous quarters:2011-07-01: GDP; 456.5, Consumer Q1; -1.33, Consumer Q2; 8.77, Consumer Q3; -13.67, Consumer Q4; 4.80, Consumer Q5; 17.30, Consumer Q6; 11.30, Consumer Q7; 6.13, Consumer Q8; -9.17, Consumer Q9; -5.93, Consumer Q10; 65.67, Consumer Q11; 27.93, Consumer Q12; 25.23, Industry Q1; 21.00, Industry Q2; -17.67, Industry Q3; -17.33, Industry Q4; 14.67, Industry Q5; 20.33, Industry Q6; 6.33, \\n\\n2011-10-01: GDP; 474.0, Consumer Q1; -4.57, Consumer Q2; 4.43, Consumer Q3; -22.03, Consumer Q4; -9.57, Consumer Q5; 20.50, Consumer Q6; 25.50, Consumer Q7; 18.67, Consumer Q8; -11.00, Consumer Q9; -9.13, Consumer Q10; 63.63, Consumer Q11; 20.33, Consumer Q12; 23.63, Industry Q1; 9.33, Industry Q2; -22.00, Industry Q3; -22.33, Industry Q4; 7.33, Industry Q5; 1.33, Industry Q6; -6.67, \\n\\n2012-01-01: GDP; 457.6, Consumer Q1; -3.73, Consumer Q2; 8.07, Consumer Q3; -18.40, Consumer Q4; 2.40, Consumer Q5; 27.03, Consumer Q6; 16.80, Consumer Q7; 11.90, Consumer Q8; -8.70, Consumer Q9; -8.40, Consumer Q10; 65.63, Consumer Q11; 23.40, Consumer Q12; 22.70, Industry Q1; 6.67, Industry Q2; -15.00, Industry Q3; -14.33, Industry Q4; 8.33, Industry Q5; 11.67, Industry Q6; 3.00, \\n\\n2012-04-01: GDP; 477.7, Consumer Q1; -3.60, Consumer Q2; 7.87, Consumer Q3; -6.97, Consumer Q4; 8.77, Consumer Q5; 27.90, Consumer Q6; 15.80, Consumer Q7; 1.40, Consumer Q8; -10.03, Consumer Q9; -6.63, Consumer Q10; 66.53, Consumer Q11; 23.00, Consumer Q12; 25.90, Industry Q1; 16.33, Industry Q2; -18.00, Industry Q3; -16.00, Industry Q4; 10.67, Industry Q5; 9.00, Industry Q6; 1.00\\n Please provide your forecast in the following format:\\nIn Quarter 2019Q3, cons Q1 = 8.63, cons Q2 = 12.90, cons Q3 = 9.77, cons Q4 = -3.87, cons Q5 = -10.70, cons Q6 = 24.37, cons Q7 = 1.60, cons Q8 = -4.97, cons Q9 = -2.23, cons Q10 = 58.57, cons Q11 = 38.50, cons Q12 = 30.77, and indu Q1 = 5.00, indu Q2 = -16.67, indu Q3 = -18.00, indu Q4 = 14.67, indu Q5 = 11.33, indu Q6 = 7.00. GDP is therefore forecasted to be [Prediction] billion DKK.\\n\\nNote: Your prediction should be based solely on the provided historical data and should not make any references to future events or circumstances beyond the timeframe covered by the data. Do not explain the process, only return the completed template.', 'Your task is to provide a GDP forecast for Denmark in the quarter 2019Q4 based solely on the following historical data from previous quarters:2011-04-01: GDP; 466.6, Consumer Q1; 0.07, Consumer Q2; 11.47, Consumer Q3; -2.27, Consumer Q4; 13.37, Consumer Q5; 17.13, Consumer Q6; 18.53, Consumer Q7; -9.67, Consumer Q8; -9.90, Consumer Q9; -4.17, Consumer Q10; 68.73, Consumer Q11; 24.77, Consumer Q12; 25.27, Industry Q1; 29.33, Industry Q2; -10.00, Industry Q3; -12.67, Industry Q4; 16.00, Industry Q5; 26.67, Industry Q6; 9.67, \\n\\n2011-07-01: GDP; 456.5, Consumer Q1; -1.33, Consumer Q2; 8.77, Consumer Q3; -13.67, Consumer Q4; 4.80, Consumer Q5; 17.30, Consumer Q6; 11.30, Consumer Q7; 6.13, Consumer Q8; -9.17, Consumer Q9; -5.93, Consumer Q10; 65.67, Consumer Q11; 27.93, Consumer Q12; 25.23, Industry Q1; 21.00, Industry Q2; -17.67, Industry Q3; -17.33, Industry Q4; 14.67, Industry Q5; 20.33, Industry Q6; 6.33, \\n\\n2011-10-01: GDP; 474.0, Consumer Q1; -4.57, Consumer Q2; 4.43, Consumer Q3; -22.03, Consumer Q4; -9.57, Consumer Q5; 20.50, Consumer Q6; 25.50, Consumer Q7; 18.67, Consumer Q8; -11.00, Consumer Q9; -9.13, Consumer Q10; 63.63, Consumer Q11; 20.33, Consumer Q12; 23.63, Industry Q1; 9.33, Industry Q2; -22.00, Industry Q3; -22.33, Industry Q4; 7.33, Industry Q5; 1.33, Industry Q6; -6.67, \\n\\n2012-01-01: GDP; 457.6, Consumer Q1; -3.73, Consumer Q2; 8.07, Consumer Q3; -18.40, Consumer Q4; 2.40, Consumer Q5; 27.03, Consumer Q6; 16.80, Consumer Q7; 11.90, Consumer Q8; -8.70, Consumer Q9; -8.40, Consumer Q10; 65.63, Consumer Q11; 23.40, Consumer Q12; 22.70, Industry Q1; 6.67, Industry Q2; -15.00, Industry Q3; -14.33, Industry Q4; 8.33, Industry Q5; 11.67, Industry Q6; 3.00\\n Please provide your forecast in the following format:\\nIn Quarter 2019Q4, cons Q1 = 6.93, cons Q2 = 12.27, cons Q3 = 4.40, cons Q4 = -4.87, cons Q5 = -7.47, cons Q6 = 28.13, cons Q7 = 6.57, cons Q8 = -9.50, cons Q9 = -3.13, cons Q10 = 55.93, cons Q11 = 35.60, cons Q12 = 30.13, and indu Q1 = 1.00, indu Q2 = -22.67, indu Q3 = -21.33, indu Q4 = 13.67, indu Q5 = 6.33, indu Q6 = 1.33. GDP is therefore forecasted to be [Prediction] billion DKK.\\n\\nNote: Your prediction should be based solely on the provided historical data and should not make any references to future events or circumstances beyond the timeframe covered by the data. Do not explain the process, only return the completed template.']\n"
          ]
        }
      ]
    },
    {
      "cell_type": "code",
      "execution_count": 76,
      "metadata": {
        "id": "IrZP4MuCWZVF",
        "colab": {
          "base_uri": "https://localhost:8080/"
        },
        "outputId": "046b5125-0492-4193-e6c5-ee1a45123ad7"
      },
      "outputs": [
        {
          "output_type": "stream",
          "name": "stderr",
          "text": [
            "Setting `pad_token_id` to `eos_token_id`:2 for open-end generation.\n",
            "Setting `pad_token_id` to `eos_token_id`:2 for open-end generation.\n",
            "Setting `pad_token_id` to `eos_token_id`:2 for open-end generation.\n",
            "Setting `pad_token_id` to `eos_token_id`:2 for open-end generation.\n",
            "Setting `pad_token_id` to `eos_token_id`:2 for open-end generation.\n",
            "Setting `pad_token_id` to `eos_token_id`:2 for open-end generation.\n",
            "Setting `pad_token_id` to `eos_token_id`:2 for open-end generation.\n",
            "Setting `pad_token_id` to `eos_token_id`:2 for open-end generation.\n",
            "Setting `pad_token_id` to `eos_token_id`:2 for open-end generation.\n",
            "Setting `pad_token_id` to `eos_token_id`:2 for open-end generation.\n",
            "Setting `pad_token_id` to `eos_token_id`:2 for open-end generation.\n",
            "Setting `pad_token_id` to `eos_token_id`:2 for open-end generation.\n",
            "Setting `pad_token_id` to `eos_token_id`:2 for open-end generation.\n",
            "Setting `pad_token_id` to `eos_token_id`:2 for open-end generation.\n",
            "Setting `pad_token_id` to `eos_token_id`:2 for open-end generation.\n",
            "Setting `pad_token_id` to `eos_token_id`:2 for open-end generation.\n"
          ]
        }
      ],
      "source": [
        "#Returning a response from the model for each prompt in all_prompts\n",
        "\n",
        "responses = text_pipeline(prompts)"
      ]
    },
    {
      "cell_type": "code",
      "execution_count": 77,
      "metadata": {
        "id": "7mq5Ufy9WZVG"
      },
      "outputs": [],
      "source": [
        "#Isolating the predictions from the responses\n",
        "predictions = [response[0]['generated_text'].split('\\n')[0] for response in responses]\n",
        "\n"
      ]
    },
    {
      "cell_type": "code",
      "source": [
        "#Isolating the generated text from the responses by replacing the prompt with an empty string\n",
        "generated_text = [response[0]['generated_text'].replace(prompt, '') for response, prompt in zip(responses,  prompts)]\n",
        "\n",
        "print(generated_text)"
      ],
      "metadata": {
        "colab": {
          "base_uri": "https://localhost:8080/"
        },
        "id": "OjqYHwGyKX54",
        "outputId": "2583c960-4072-4152-e6e4-eb40a68d1a54"
      },
      "execution_count": 79,
      "outputs": [
        {
          "output_type": "stream",
          "name": "stdout",
          "text": [
            "[\"\\n\\nBased on the given historical data, here's my forecast for Denmark's GDP in 2016Q1:\\n\\nIn Quarter 2016Q1, cons Q1 = 4.73, cons Q2 = 11.63, cons Q3 = 8.50, cons Q4 = 1.03, cons Q5 = -18.37, cons Q6 = 12.80, cons Q7 = 0.17, cons Q8 = -5.60, cons Q9 = -5.20, cons Q10 = 63.27, cons Q11 = 28.87, cons Q12 = 25.67, and indu Q1 = 10.33, indu Q2 = -22.00, indu Q3 = -23.67, indu Q4 = 12.67, indu Q5 = 18.00, indu Q6 = 2.00. GDP is therefore forecasted to be 511.1 billion DKK.\", \"\\n\\nBased on the given historical data, here's my forecast for Denmark's GDP in 2016Q2:\\n\\nIn Quarter 2016Q2, cons Q1 = 5.87, cons Q2 = 12.53, cons Q3 = 5.97, cons Q4 = 3.43, cons Q5 = -13.17, cons Q6 = 15.67, cons Q7 = 0.60, cons Q8 = -5.87, cons Q9 = -3.10, cons Q10 = 61.23, cons Q11 = 28.20, cons Q12 = 27.57, and indu Q1 = 17.67, indu Q2 = -18.67, indu Q3 = -20.33, indu Q4 = 11.33, indu Q5 = 16.67, indu Q6 = 2.33. GDP is therefore forecasted to be 511.1 billion DKK.\", \"\\n\\nBased on the given historical data, here's my forecast for Denmark's GDP in 2016Q3:\\n\\nIn Quarter 2016Q3, cons Q1 = 5.50, cons Q2 = 11.00, cons Q3 = 4.90, cons Q4 = 0.13, cons Q5 = -15.20, cons Q6 = 13.50, cons Q7 = -1.27, cons Q8 = -5.40, cons Q9 = -3.60, cons Q10 = 59.23, cons Q11 = 27.30, cons Q12 = 27.13, and indu Q1 = 14.00, indu Q2 = -20.67, indu Q3 = -22.00, indu Q4 = 9.00, indu Q5 = 12.00, indu Q6 = 2.67. GDP is therefore forecasted to be 503.1 billion DKK.\", \"\\n\\nBased on the given historical data, here's my forecast for Denmark's GDP in 2016Q4:\\n\\nIn Quarter 2016Q4, cons Q1 = 2.63, cons Q2 = 10.63, cons Q3 = 1.13, cons Q4 = -3.50, cons Q5 = -15.20, cons Q6 = 13.93, cons Q7 = 2.63, cons Q8 = -7.90, cons Q9 = -7.33, cons Q10 = 59.60, cons Q11 = 27.40, cons Q12 = 22.23, and indu Q1 = 4.33, indu Q2 = -23.33, indu Q3 = -24.33, indu Q4 = 9.67, indu Q5 = 7.67, indu Q6 = -4.67. GDP is therefore forecasted to be 511.1 billion DKK.\", \"\\n\\nBased on the given historical data, here's my forecast for Denmark's GDP in 2017Q1:\\n\\nIn Quarter 2017Q1, cons Q1 = 4.53, cons Q2 = 13.73, cons Q3 = 7.63, cons Q4 = 4.83, cons Q5 = -12.77, cons Q6 = 18.33, cons Q7 = -7.67, cons Q8 = -5.03, cons Q9 = -2.50, cons Q10 = 57.17, cons Q11 = 27.37, cons Q12 = 25.23, and indu Q1 = 17.67, indu Q2 = -16.00, indu Q3 = -17.33, indu Q4 = 10.33, indu Q5 = 22.33, indu Q6 = 13.00.\\nGDP is therefore forecasted to be 531.13 billion DKK.\", \"\\n\\nBased on the given historical data, here's my forecast for Denmark's GDP in 2017Q2:\\n\\nIn Quarter 2017Q2, cons Q1 = 4.80, cons Q2 = 13.07, cons Q3 = 12.67, cons Q4 = 10.33, cons Q5 = -9.90, cons Q6 = 21.00, cons Q7 = -8.63, cons Q8 = -6.90, cons Q9 = -2.97, cons Q10 = 57.10, cons Q11 = 30.23, cons Q12 = 29.37, and indu Q1 = 23.00, indu Q2 = -9.00, indu Q3 = -12.00, indu Q4 = 8.33, indu Q5 = 18.00, indu Q6 = 18.67. GDP is therefore forecasted to be 531.33 billion DKK.\", \"\\n\\nBased on the given historical data, here's my forecast for Denmark's GDP in 2017Q3:\\n\\nIn Quarter 2017Q3, cons Q1 = 7.07, cons Q2 = 14.50, cons Q3 = 15.20, cons Q4 = 11.93, cons Q5 = -8.57, cons Q6 = 18.67, cons Q7 = -9.97, cons Q8 = -6.37, cons Q9 = -4.50, cons Q10 = 59.63, cons Q11 = 28.63, cons Q12 = 26.73, and indu Q1 = 21.33, indu Q2 = -7.00, indu Q3 = -10.33, indu Q4 = 6.33, indu Q5 = 19.00, indu Q6 = 19.33.\\nGDP is therefore forecasted to be 511.13 billion DKK.\", \"\\n\\nBased on the given historical data, here's my forecast for Denmark's GDP in 2017Q4:\\n\\nIn Quarter 2017Q4, cons Q1 = 7.30, cons Q2 = 13.83, cons Q3 = 13.83, cons Q4 = 7.93, cons Q5 = -4.73, cons Q6 = 22.73, cons Q7 = -9.20, cons Q8 = -7.60, cons Q9 = -1.37, cons Q10 = 56.17, cons Q11 = 26.80, cons Q12 = 26.90, and indu Q1 = 23.33, indu Q2 = -8.33, indu Q3 = -10.00, indu Q4 = 7.33, indu Q5 = 17.33, indu Q6 = 9.33. GDP is therefore forecasted to be 581.13 billion DKK.\", \"\\n\\nBased on the given historical data, here's my forecast for Denmark's GDP in 2018Q1:\\n\\nIn Quarter 2018Q1, cons Q1 = 6.20, cons Q2 = 15.30, cons Q3 = 17.10, cons Q4 = 9.87, cons Q5 = -5.43, cons Q6 = 20.53, cons Q7 = -10.60, cons Q8 = -6.47, cons Q9 = -1.07, cons Q10 = 57.03, cons Q11 = 28.07, cons Q12 = 26.57, and indu Q1 = 15.00, indu Q2 = -11.67, indu Q3 = -12.33, indu Q4 = 7.33, indu Q5 = 16.00, indu Q6 = 7.33.\\nGDP is therefore forecasted to be 581.33 billion DKK.\", \"\\n\\nBased on the given historical data, here's my forecast for Denmark's GDP in 2018Q2:\\n\\nIn Quarter 2018Q2, cons Q1 = 6.17, cons Q2 = 13.27, cons Q3 = 19.57, cons Q4 = 11.90, cons Q5 = -6.47, cons Q6 = 24.10, cons Q7 = -10.23, cons Q8 = -6.00, cons Q9 = -3.17, cons Q10 = 59.07, cons Q11 = 28.03, cons Q12 = 28.73, and indu Q1 = 23.33, indu Q2 = -8.00, indu Q3 = -11.67, indu Q4 = 6.67, indu Q5 = 25.00, indu Q6 = 16.67.\\nGDP is therefore forecasted to be 581.33 billion DKK.\", \"\\n\\nBased on the given historical data, here's my forecast for Denmark's GDP in 2018Q3:\\n\\nIn Quarter 2018Q3, cons Q1 = 7.50, cons Q2 = 14.50, cons Q3 = 15.63, cons Q4 = 8.00, cons Q5 = -5.80, cons Q6 = 27.03, cons Q7 = -9.60, cons Q8 = -5.03, cons Q9 = -2.50, cons Q10 = 61.67, cons Q11 = 31.07, cons Q12 = 28.60, and indu Q1 = 25.00, indu Q2 = -9.67, indu Q3 = -11.67, indu Q4 = 5.67, indu Q5 = 22.00, indu Q6 = 6.00. GDP is therefore forecasted to be 538.33 billion DKK.\", \"\\n\\nBased on the given historical data, here's my forecast for Denmark's GDP in 2018Q4:\\n\\nIn Quarter 2018Q4, cons Q1 = 5.27, cons Q2 = 11.63, cons Q3 = 8.63, cons Q4 = 2.83, cons Q5 = -5.80, cons Q6 = 25.33, cons Q7 = -5.93, cons Q8 = -7.77, cons Q9 = -5.73, cons Q10 = 59.00, cons Q11 = 29.10, cons Q12 = 26.70, and indu Q1 = 17.33, indu Q2 = -18.00, indu Q3 = -19.33, indu Q4 = 13.00, indu Q5 = 16.67, indu Q6 = 3.33. GDP is therefore forecasted to be 582.33 billion DKK.\", \"\\n\\nBased on the given historical data, here's my forecast for Denmark's GDP in 2019Q1:\\n\\nIn Quarter 2019Q1, cons Q1 = 5.57, cons Q2 = 12.80, cons Q3 = 6.37, cons Q4 = -0.13, cons Q5 = -7.30, cons Q6 = 21.07, cons Q7 = -2.00, cons Q8 = -6.37, cons Q9 = -4.30, cons Q10 = 58.70, cons Q11 = 27.50, cons Q12 = 25.90, and indu Q1 = 10.67, indu Q2 = -17.00, indu Q3 = -14.67, indu Q4 = 16.33, indu Q5 = 20.00, indu Q6 = 15.33. GDP is therefore forecasted to be 511.3 billion DKK.\", \"\\n\\nBased on the given historical data, here's my forecast for Denmark's GDP in 2019Q2:\\n\\nIn Quarter 2019Q2, cons Q1 = 9.20, cons Q2 = 12.87, cons Q3 = 8.03, cons Q4 = 2.93, cons Q5 = -5.33, cons Q6 = 24.87, cons Q7 = -3.07, cons Q8 = -7.40, cons Q9 = -1.57, cons Q10 = 58.67, cons Q11 = 30.43, cons Q12 = 28.70, and indu Q1 = 9.00, indu Q2 = -10.67, indu Q3 = -9.33, indu Q4 = 12.33, indu Q5 = 13.33, indu Q6 = 10.33.\\nGDP is therefore forecasted to be 583.13 billion DKK.\", \"\\n\\nBased on the given historical data, here's my forecast for Denmark's GDP in 2019Q3:\\n\\nIn Quarter 2019Q3, cons Q1 = 8.63, cons Q2 = 12.90, cons Q3 = 9.77, cons Q4 = -3.87, cons Q5 = -10.70, cons Q6 = 24.37, cons Q7 = 1.60, cons Q8 = -4.97, cons Q9 = -2.23, cons Q10 = 58.57, cons Q11 = 38.50, cons Q12 = 30.77, and indu Q1 = 5.00, indu Q2 = -16.67, indu Q3 = -18.00, indu Q4 = 14.67, indu Q5 = 11.33, indu Q6 = 7.00. GDP is therefore forecasted to be 568.13 billion DKK.\", \"\\n\\nBased on the given historical data, here's my forecast for Denmark's GDP in 2019Q4:\\n\\nIn Quarter 2019Q4, cons Q1 = 6.93, cons Q2 = 12.27, cons Q3 = 4.40, cons Q4 = -4.87, cons Q5 = -7.47, cons Q6 = 28.13, cons Q7 = 6.57, cons Q8 = -9.50, cons Q9 = -3.13, cons Q10 = 55.93, cons Q11 = 35.60, cons Q12 = 30.13, and indu Q1 = 1.00, indu Q2 = -22.67, indu Q3 = -21.33, indu Q4 = 13.67, indu Q5 = 6.33, indu Q6 = 1.33.\\nGDP is therefore forecasted to be 571.13 billion DKK.\"]\n"
          ]
        }
      ]
    },
    {
      "cell_type": "code",
      "execution_count": 80,
      "metadata": {
        "id": "9iZ4ED2wWZVG"
      },
      "outputs": [],
      "source": [
        "#Extracting the list of prediction values manually\n",
        "predictions = [511.1,511.1,503.1,511.1,531.13,531.33,511.13,581.13,581.33,581.33,538.33,582.33,511.3,583.13,568.13,571.13]\n",
        "\n"
      ]
    },
    {
      "cell_type": "code",
      "execution_count": 81,
      "metadata": {
        "id": "lpR5bTIZWZVG"
      },
      "outputs": [],
      "source": [
        "#Adding the predictions to the test dataframe\n",
        "test = data[data['Time'] >= '2016-01-01']\n",
        "train = data[data['Time'] < '2016-01-01']\n",
        "\n",
        "test['gdp_pred'] = predictions"
      ]
    },
    {
      "cell_type": "code",
      "execution_count": 82,
      "metadata": {
        "id": "Fdc9bTLMWZVH",
        "colab": {
          "base_uri": "https://localhost:8080/"
        },
        "outputId": "a416391c-78d4-426f-897f-bf1c8f19bb19"
      },
      "outputs": [
        {
          "output_type": "stream",
          "name": "stdout",
          "text": [
            "The RMSE is 24.19436388397099\n",
            "The MAPE is 3.5887134036159\n"
          ]
        }
      ],
      "source": [
        "from statsmodels.tools.eval_measures import rmse\n",
        "from sklearn.metrics import mean_absolute_percentage_error\n",
        "\n",
        "#Comparing the forecasted values with the actual values trough RMSE and MAPE\n",
        "# Calculate the RMSE\n",
        "rmse_value = rmse(test['gdp'], test['gdp_pred'])\n",
        "# Calculate the MAPE\n",
        "mape_value = mean_absolute_percentage_error(test['gdp'], test['gdp_pred'])*100 #Multiplying by 100 to get the percentage\n",
        "\n",
        "# Print the RMSE\n",
        "print(\"The RMSE is\", rmse_value)\n",
        "# Print the MAPE\n",
        "print(\"The MAPE is\", mape_value)"
      ]
    },
    {
      "cell_type": "code",
      "execution_count": 83,
      "metadata": {
        "id": "pmSXqpaFWZVH",
        "colab": {
          "base_uri": "https://localhost:8080/",
          "height": 830
        },
        "outputId": "3c044c16-c859-4d0b-dad0-60b62aebf29b"
      },
      "outputs": [
        {
          "output_type": "display_data",
          "data": {
            "text/plain": [
              "<Figure size 2000x1000 with 1 Axes>"
            ],
            "image/png": "[encoded data removed]"
          },
          "metadata": {}
        }
      ],
      "source": [
        "#Converting all relevant columns to numpy arrays\n",
        "actual = test['gdp'].to_numpy()\n",
        "forecast = test['gdp_pred'].to_numpy()\n",
        "test_time = test['Time'].to_numpy()\n",
        "\n",
        "gdp_train1 = gdp[(gdp['Time'] >= '1990-01-01') & (gdp['Time'] < '2016-01-01')]\n",
        "historical = gdp_train1['Value'].to_numpy()\n",
        "historical_time = gdp_train1['Time'].to_numpy()\n",
        "\n",
        "#Plotting the actual values against the forecasted values\n",
        "import matplotlib.pyplot as plt\n",
        "\n",
        "plt.figure(figsize=(20,10))\n",
        "plt.plot(test_time, actual, label='Actual')\n",
        "plt.plot(test_time, forecast, label='Forecast')\n",
        "plt.plot(historical_time, historical, label='Train')\n",
        "plt.legend()\n",
        "\n",
        "plt.show()"
      ]
    }
  ],
  "metadata": {
    "kernelspec": {
      "display_name": "Python 3",
      "name": "python3"
    },
    "language_info": {
      "codemirror_mode": {
        "name": "ipython",
        "version": 3
      },
      "file_extension": ".py",
      "mimetype": "text/x-python",
      "name": "python",
      "nbconvert_exporter": "python",
      "pygments_lexer": "ipython3",
      "version": "3.10.12"
    },
    "colab": {
      "provenance": [],
      "machine_shape": "hm",
      "gpuType": "L4"
    },
    "accelerator": "GPU",
    "widgets": {
      "application/vnd.jupyter.widget-state+json": {
        "6de840ecd5264901acc7b8bf42d511bb": {
          "model_module": "@jupyter-widgets/controls",
          "model_name": "HBoxModel",
          "model_module_version": "1.5.0",
          "state": {
            "_dom_classes": [],
            "_model_module": "@jupyter-widgets/controls",
            "_model_module_version": "1.5.0",
            "_model_name": "HBoxModel",
            "_view_count": null,
            "_view_module": "@jupyter-widgets/controls",
            "_view_module_version": "1.5.0",
            "_view_name": "HBoxView",
            "box_style": "",
            "children": [
              "IPY_MODEL_fc1e76be258c4c5f9133255b679e8215",
              "IPY_MODEL_bdbfb0542f5246e589a285225a226f17",
              "IPY_MODEL_627fac54e73c4646b5bfd42453efcd77"
            ],
            "layout": "IPY_MODEL_72103f0cf0844898aac393fc13b7dada"
          }
        },
        "fc1e76be258c4c5f9133255b679e8215": {
          "model_module": "@jupyter-widgets/controls",
          "model_name": "HTMLModel",
          "model_module_version": "1.5.0",
          "state": {
            "_dom_classes": [],
            "_model_module": "@jupyter-widgets/controls",
            "_model_module_version": "1.5.0",
            "_model_name": "HTMLModel",
            "_view_count": null,
            "_view_module": "@jupyter-widgets/controls",
            "_view_module_version": "1.5.0",
            "_view_name": "HTMLView",
            "description": "",
            "description_tooltip": null,
            "layout": "IPY_MODEL_08bafc6dd3c846aab512f72739ceb598",
            "placeholder": "​",
            "style": "IPY_MODEL_730871c2198649f898e93ea076cfe693",
            "value": "Loading checkpoint shards: 100%"
          }
        },
        "bdbfb0542f5246e589a285225a226f17": {
          "model_module": "@jupyter-widgets/controls",
          "model_name": "FloatProgressModel",
          "model_module_version": "1.5.0",
          "state": {
            "_dom_classes": [],
            "_model_module": "@jupyter-widgets/controls",
            "_model_module_version": "1.5.0",
            "_model_name": "FloatProgressModel",
            "_view_count": null,
            "_view_module": "@jupyter-widgets/controls",
            "_view_module_version": "1.5.0",
            "_view_name": "ProgressView",
            "bar_style": "success",
            "description": "",
            "description_tooltip": null,
            "layout": "IPY_MODEL_2ce3d43e2b1a46b59b7f3c03cdb0e4c2",
            "max": 3,
            "min": 0,
            "orientation": "horizontal",
            "style": "IPY_MODEL_714042c9123940309afc8adaa98ff9fc",
            "value": 3
          }
        },
        "627fac54e73c4646b5bfd42453efcd77": {
          "model_module": "@jupyter-widgets/controls",
          "model_name": "HTMLModel",
          "model_module_version": "1.5.0",
          "state": {
            "_dom_classes": [],
            "_model_module": "@jupyter-widgets/controls",
            "_model_module_version": "1.5.0",
            "_model_name": "HTMLModel",
            "_view_count": null,
            "_view_module": "@jupyter-widgets/controls",
            "_view_module_version": "1.5.0",
            "_view_name": "HTMLView",
            "description": "",
            "description_tooltip": null,
            "layout": "IPY_MODEL_35bf96d8b56e4ba7a06d979d483b9ed1",
            "placeholder": "​",
            "style": "IPY_MODEL_f19b4b84759d4f6a95796f5760b76d2c",
            "value": " 3/3 [00:06&lt;00:00,  2.08s/it]"
          }
        },
        "72103f0cf0844898aac393fc13b7dada": {
          "model_module": "@jupyter-widgets/base",
          "model_name": "LayoutModel",
          "model_module_version": "1.2.0",
          "state": {
            "_model_module": "@jupyter-widgets/base",
            "_model_module_version": "1.2.0",
            "_model_name": "LayoutModel",
            "_view_count": null,
            "_view_module": "@jupyter-widgets/base",
            "_view_module_version": "1.2.0",
            "_view_name": "LayoutView",
            "align_content": null,
            "align_items": null,
            "align_self": null,
            "border": null,
            "bottom": null,
            "display": null,
            "flex": null,
            "flex_flow": null,
            "grid_area": null,
            "grid_auto_columns": null,
            "grid_auto_flow": null,
            "grid_auto_rows": null,
            "grid_column": null,
            "grid_gap": null,
            "grid_row": null,
            "grid_template_areas": null,
            "grid_template_columns": null,
            "grid_template_rows": null,
            "height": null,
            "justify_content": null,
            "justify_items": null,
            "left": null,
            "margin": null,
            "max_height": null,
            "max_width": null,
            "min_height": null,
            "min_width": null,
            "object_fit": null,
            "object_position": null,
            "order": null,
            "overflow": null,
            "overflow_x": null,
            "overflow_y": null,
            "padding": null,
            "right": null,
            "top": null,
            "visibility": null,
            "width": null
          }
        },
        "08bafc6dd3c846aab512f72739ceb598": {
          "model_module": "@jupyter-widgets/base",
          "model_name": "LayoutModel",
          "model_module_version": "1.2.0",
          "state": {
            "_model_module": "@jupyter-widgets/base",
            "_model_module_version": "1.2.0",
            "_model_name": "LayoutModel",
            "_view_count": null,
            "_view_module": "@jupyter-widgets/base",
            "_view_module_version": "1.2.0",
            "_view_name": "LayoutView",
            "align_content": null,
            "align_items": null,
            "align_self": null,
            "border": null,
            "bottom": null,
            "display": null,
            "flex": null,
            "flex_flow": null,
            "grid_area": null,
            "grid_auto_columns": null,
            "grid_auto_flow": null,
            "grid_auto_rows": null,
            "grid_column": null,
            "grid_gap": null,
            "grid_row": null,
            "grid_template_areas": null,
            "grid_template_columns": null,
            "grid_template_rows": null,
            "height": null,
            "justify_content": null,
            "justify_items": null,
            "left": null,
            "margin": null,
            "max_height": null,
            "max_width": null,
            "min_height": null,
            "min_width": null,
            "object_fit": null,
            "object_position": null,
            "order": null,
            "overflow": null,
            "overflow_x": null,
            "overflow_y": null,
            "padding": null,
            "right": null,
            "top": null,
            "visibility": null,
            "width": null
          }
        },
        "730871c2198649f898e93ea076cfe693": {
          "model_module": "@jupyter-widgets/controls",
          "model_name": "DescriptionStyleModel",
          "model_module_version": "1.5.0",
          "state": {
            "_model_module": "@jupyter-widgets/controls",
            "_model_module_version": "1.5.0",
            "_model_name": "DescriptionStyleModel",
            "_view_count": null,
            "_view_module": "@jupyter-widgets/base",
            "_view_module_version": "1.2.0",
            "_view_name": "StyleView",
            "description_width": ""
          }
        },
        "2ce3d43e2b1a46b59b7f3c03cdb0e4c2": {
          "model_module": "@jupyter-widgets/base",
          "model_name": "LayoutModel",
          "model_module_version": "1.2.0",
          "state": {
            "_model_module": "@jupyter-widgets/base",
            "_model_module_version": "1.2.0",
            "_model_name": "LayoutModel",
            "_view_count": null,
            "_view_module": "@jupyter-widgets/base",
            "_view_module_version": "1.2.0",
            "_view_name": "LayoutView",
            "align_content": null,
            "align_items": null,
            "align_self": null,
            "border": null,
            "bottom": null,
            "display": null,
            "flex": null,
            "flex_flow": null,
            "grid_area": null,
            "grid_auto_columns": null,
            "grid_auto_flow": null,
            "grid_auto_rows": null,
            "grid_column": null,
            "grid_gap": null,
            "grid_row": null,
            "grid_template_areas": null,
            "grid_template_columns": null,
            "grid_template_rows": null,
            "height": null,
            "justify_content": null,
            "justify_items": null,
            "left": null,
            "margin": null,
            "max_height": null,
            "max_width": null,
            "min_height": null,
            "min_width": null,
            "object_fit": null,
            "object_position": null,
            "order": null,
            "overflow": null,
            "overflow_x": null,
            "overflow_y": null,
            "padding": null,
            "right": null,
            "top": null,
            "visibility": null,
            "width": null
          }
        },
        "714042c9123940309afc8adaa98ff9fc": {
          "model_module": "@jupyter-widgets/controls",
          "model_name": "ProgressStyleModel",
          "model_module_version": "1.5.0",
          "state": {
            "_model_module": "@jupyter-widgets/controls",
            "_model_module_version": "1.5.0",
            "_model_name": "ProgressStyleModel",
            "_view_count": null,
            "_view_module": "@jupyter-widgets/base",
            "_view_module_version": "1.2.0",
            "_view_name": "StyleView",
            "bar_color": null,
            "description_width": ""
          }
        },
        "35bf96d8b56e4ba7a06d979d483b9ed1": {
          "model_module": "@jupyter-widgets/base",
          "model_name": "LayoutModel",
          "model_module_version": "1.2.0",
          "state": {
            "_model_module": "@jupyter-widgets/base",
            "_model_module_version": "1.2.0",
            "_model_name": "LayoutModel",
            "_view_count": null,
            "_view_module": "@jupyter-widgets/base",
            "_view_module_version": "1.2.0",
            "_view_name": "LayoutView",
            "align_content": null,
            "align_items": null,
            "align_self": null,
            "border": null,
            "bottom": null,
            "display": null,
            "flex": null,
            "flex_flow": null,
            "grid_area": null,
            "grid_auto_columns": null,
            "grid_auto_flow": null,
            "grid_auto_rows": null,
            "grid_column": null,
            "grid_gap": null,
            "grid_row": null,
            "grid_template_areas": null,
            "grid_template_columns": null,
            "grid_template_rows": null,
            "height": null,
            "justify_content": null,
            "justify_items": null,
            "left": null,
            "margin": null,
            "max_height": null,
            "max_width": null,
            "min_height": null,
            "min_width": null,
            "object_fit": null,
            "object_position": null,
            "order": null,
            "overflow": null,
            "overflow_x": null,
            "overflow_y": null,
            "padding": null,
            "right": null,
            "top": null,
            "visibility": null,
            "width": null
          }
        },
        "f19b4b84759d4f6a95796f5760b76d2c": {
          "model_module": "@jupyter-widgets/controls",
          "model_name": "DescriptionStyleModel",
          "model_module_version": "1.5.0",
          "state": {
            "_model_module": "@jupyter-widgets/controls",
            "_model_module_version": "1.5.0",
            "_model_name": "DescriptionStyleModel",
            "_view_count": null,
            "_view_module": "@jupyter-widgets/base",
            "_view_module_version": "1.2.0",
            "_view_name": "StyleView",
            "description_width": ""
          }
        }
      }
    }
  },
  "nbformat": 4,
  "nbformat_minor": 0
}